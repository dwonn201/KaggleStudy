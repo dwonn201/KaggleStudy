{
  "nbformat": 4,
  "nbformat_minor": 0,
  "metadata": {
    "colab": {
      "name": "2019_NYC_AirBnB_Dataset.ipynb",
      "provenance": [],
      "collapsed_sections": [],
      "authorship_tag": "ABX9TyOT44Mh8R96YDkTqNhQKk82",
      "include_colab_link": true
    },
    "kernelspec": {
      "name": "python3",
      "display_name": "Python 3"
    },
    "language_info": {
      "name": "python"
    }
  },
  "cells": [
    {
      "cell_type": "markdown",
      "metadata": {
        "id": "view-in-github",
        "colab_type": "text"
      },
      "source": [
        "<a href=\"https://colab.research.google.com/github/dwonn201/KaggleStudy/blob/master/NYC_AirBnB_Dataset/2019_NYC_AirBnB_Dataset.ipynb\" target=\"_parent\"><img src=\"https://colab.research.google.com/assets/colab-badge.svg\" alt=\"Open In Colab\"/></a>"
      ]
    },
    {
      "cell_type": "markdown",
      "source": [
        "# 주제 : 뉴욕에서 집을 내놓으려 할때 적당한 숙박료 구하기\n",
        "----------\n",
        "- 데이터 출처: https://www.kaggle.com/dgomonov/new-york-city-airbnb-open-data\n",
        "\n",
        "## 데이터 소개\n",
        "    - 이번 주제는 Kaggle 내 New York City Airbnb Open Data를 사용합니다.\n",
        "    \n",
        "    - 다음 1개의 csv 파일을 사용합니다.\n",
        "    AB_NYC_2019.csv\n",
        "    \n",
        "    - 각 파일의 컬럼은 아래와 같습니다.\n",
        "    id: 항목의 ID  (listing ID)\n",
        "    name: 항목의 이름 (타이틀) (name of the listing)\n",
        "    host_id: 호스트 ID  (host ID)\n",
        "    host_name: 호스트의 이름  (name of the host)\n",
        "    neighbourhood_group:방이 있는 지역 그룹 (location)\n",
        "    neighbourhood: 방이 있는 지역 (area)\n",
        "    latitude: 방이 위치한 위도 (latitude coordinates)\n",
        "    longitude: 방이 위치한 경도 (longitude coordinates)\n",
        "    room_type: 방의 종류 (listing space type)\n",
        "    price: 가격 (미 달러) (price in dollars)\n",
        "    minimum_nights:최소 숙박 일수 (amount of nights minimum)\n",
        "    number_of_reviews: 리뷰의 개수  (number of reviews)\n",
        "    last_review: 마지막 리뷰 일자 (latest review)\n",
        "    reviews_per_month: 월별 리뷰 개수 (number of reviews per month)\n",
        "    calculated_host_listings_count: 호스트가 올린 방 개수  (amount of listing per host)\n",
        "    availability_365: 365일 중 가능한 일수 (number of days when listing is available for booking)\n",
        "\n",
        "---"
      ],
      "metadata": {
        "id": "AJp1H6Oc2rsb"
      }
    },
    {
      "cell_type": "markdown",
      "source": [
        "## Step 1. 데이터셋 준비하기\n",
        "\n",
        "### 1. Colab Notebook에 Kaggle API 세팅\n"
      ],
      "metadata": {
        "id": "qhadaIOrACa2"
      }
    },
    {
      "cell_type": "code",
      "execution_count": 1,
      "metadata": {
        "id": "lY9ubhLk2dRT"
      },
      "outputs": [],
      "source": [
        "import os\n",
        "\n",
        "# os.environ을 이용하여 Kaggle API Username, Key 세팅\n",
        "os.environ['KAGGLE_USERNAME'] = ''\n",
        "os.environ['KAGGLE_KEY'] = '' \n"
      ]
    },
    {
      "cell_type": "markdown",
      "source": [
        "### 2. 데이터 다운로드 및 압축 해제"
      ],
      "metadata": {
        "id": "h0DwTb1TAW4k"
      }
    },
    {
      "cell_type": "code",
      "source": [
        "# Linux 명령어로 Kaggle API를 이용하여 데이터셋 다운로드 및 압축 해제\n",
        "!rm *.*\n",
        "!kaggle datasets download -d dgomonov/new-york-city-airbnb-open-data\n",
        "!unzip '*.zip'"
      ],
      "metadata": {
        "colab": {
          "base_uri": "https://localhost:8080/"
        },
        "id": "TAStotSMARWN",
        "outputId": "8ff9d5bf-1c47-488b-f253-8a9d1f9347bb"
      },
      "execution_count": 2,
      "outputs": [
        {
          "output_type": "stream",
          "name": "stdout",
          "text": [
            "Downloading new-york-city-airbnb-open-data.zip to /content\n",
            "\r  0% 0.00/2.44M [00:00<?, ?B/s]\n",
            "\r100% 2.44M/2.44M [00:00<00:00, 80.0MB/s]\n",
            "Archive:  new-york-city-airbnb-open-data.zip\n",
            "  inflating: AB_NYC_2019.csv         \n",
            "  inflating: New_York_City_.png      \n"
          ]
        }
      ]
    },
    {
      "cell_type": "markdown",
      "source": [
        "### 3. data 불러오기\n"
      ],
      "metadata": {
        "id": "NWZ4IqqDAsOr"
      }
    },
    {
      "cell_type": "code",
      "source": [
        "import pandas as pd\n",
        "import numpy as np"
      ],
      "metadata": {
        "id": "MPi2QeWIA1IB"
      },
      "execution_count": 3,
      "outputs": []
    },
    {
      "cell_type": "code",
      "source": [
        "data = pd.read_csv(\"AB_NYC_2019.csv\")"
      ],
      "metadata": {
        "id": "UQeqqUCDAl13"
      },
      "execution_count": 4,
      "outputs": []
    },
    {
      "cell_type": "code",
      "source": [
        "print(data.shape)\n",
        "data.head()"
      ],
      "metadata": {
        "colab": {
          "base_uri": "https://localhost:8080/",
          "height": 458
        },
        "id": "4rZCugYeAz2c",
        "outputId": "65b1d305-7889-4633-a17a-8e259bd76958"
      },
      "execution_count": 5,
      "outputs": [
        {
          "output_type": "stream",
          "name": "stdout",
          "text": [
            "(48895, 16)\n"
          ]
        },
        {
          "output_type": "execute_result",
          "data": {
            "text/html": [
              "\n",
              "  <div id=\"df-ec55e8e8-a388-4702-83d4-6824f625ac18\">\n",
              "    <div class=\"colab-df-container\">\n",
              "      <div>\n",
              "<style scoped>\n",
              "    .dataframe tbody tr th:only-of-type {\n",
              "        vertical-align: middle;\n",
              "    }\n",
              "\n",
              "    .dataframe tbody tr th {\n",
              "        vertical-align: top;\n",
              "    }\n",
              "\n",
              "    .dataframe thead th {\n",
              "        text-align: right;\n",
              "    }\n",
              "</style>\n",
              "<table border=\"1\" class=\"dataframe\">\n",
              "  <thead>\n",
              "    <tr style=\"text-align: right;\">\n",
              "      <th></th>\n",
              "      <th>id</th>\n",
              "      <th>name</th>\n",
              "      <th>host_id</th>\n",
              "      <th>host_name</th>\n",
              "      <th>neighbourhood_group</th>\n",
              "      <th>neighbourhood</th>\n",
              "      <th>latitude</th>\n",
              "      <th>longitude</th>\n",
              "      <th>room_type</th>\n",
              "      <th>price</th>\n",
              "      <th>minimum_nights</th>\n",
              "      <th>number_of_reviews</th>\n",
              "      <th>last_review</th>\n",
              "      <th>reviews_per_month</th>\n",
              "      <th>calculated_host_listings_count</th>\n",
              "      <th>availability_365</th>\n",
              "    </tr>\n",
              "  </thead>\n",
              "  <tbody>\n",
              "    <tr>\n",
              "      <th>0</th>\n",
              "      <td>2539</td>\n",
              "      <td>Clean &amp; quiet apt home by the park</td>\n",
              "      <td>2787</td>\n",
              "      <td>John</td>\n",
              "      <td>Brooklyn</td>\n",
              "      <td>Kensington</td>\n",
              "      <td>40.64749</td>\n",
              "      <td>-73.97237</td>\n",
              "      <td>Private room</td>\n",
              "      <td>149</td>\n",
              "      <td>1</td>\n",
              "      <td>9</td>\n",
              "      <td>2018-10-19</td>\n",
              "      <td>0.21</td>\n",
              "      <td>6</td>\n",
              "      <td>365</td>\n",
              "    </tr>\n",
              "    <tr>\n",
              "      <th>1</th>\n",
              "      <td>2595</td>\n",
              "      <td>Skylit Midtown Castle</td>\n",
              "      <td>2845</td>\n",
              "      <td>Jennifer</td>\n",
              "      <td>Manhattan</td>\n",
              "      <td>Midtown</td>\n",
              "      <td>40.75362</td>\n",
              "      <td>-73.98377</td>\n",
              "      <td>Entire home/apt</td>\n",
              "      <td>225</td>\n",
              "      <td>1</td>\n",
              "      <td>45</td>\n",
              "      <td>2019-05-21</td>\n",
              "      <td>0.38</td>\n",
              "      <td>2</td>\n",
              "      <td>355</td>\n",
              "    </tr>\n",
              "    <tr>\n",
              "      <th>2</th>\n",
              "      <td>3647</td>\n",
              "      <td>THE VILLAGE OF HARLEM....NEW YORK !</td>\n",
              "      <td>4632</td>\n",
              "      <td>Elisabeth</td>\n",
              "      <td>Manhattan</td>\n",
              "      <td>Harlem</td>\n",
              "      <td>40.80902</td>\n",
              "      <td>-73.94190</td>\n",
              "      <td>Private room</td>\n",
              "      <td>150</td>\n",
              "      <td>3</td>\n",
              "      <td>0</td>\n",
              "      <td>NaN</td>\n",
              "      <td>NaN</td>\n",
              "      <td>1</td>\n",
              "      <td>365</td>\n",
              "    </tr>\n",
              "    <tr>\n",
              "      <th>3</th>\n",
              "      <td>3831</td>\n",
              "      <td>Cozy Entire Floor of Brownstone</td>\n",
              "      <td>4869</td>\n",
              "      <td>LisaRoxanne</td>\n",
              "      <td>Brooklyn</td>\n",
              "      <td>Clinton Hill</td>\n",
              "      <td>40.68514</td>\n",
              "      <td>-73.95976</td>\n",
              "      <td>Entire home/apt</td>\n",
              "      <td>89</td>\n",
              "      <td>1</td>\n",
              "      <td>270</td>\n",
              "      <td>2019-07-05</td>\n",
              "      <td>4.64</td>\n",
              "      <td>1</td>\n",
              "      <td>194</td>\n",
              "    </tr>\n",
              "    <tr>\n",
              "      <th>4</th>\n",
              "      <td>5022</td>\n",
              "      <td>Entire Apt: Spacious Studio/Loft by central park</td>\n",
              "      <td>7192</td>\n",
              "      <td>Laura</td>\n",
              "      <td>Manhattan</td>\n",
              "      <td>East Harlem</td>\n",
              "      <td>40.79851</td>\n",
              "      <td>-73.94399</td>\n",
              "      <td>Entire home/apt</td>\n",
              "      <td>80</td>\n",
              "      <td>10</td>\n",
              "      <td>9</td>\n",
              "      <td>2018-11-19</td>\n",
              "      <td>0.10</td>\n",
              "      <td>1</td>\n",
              "      <td>0</td>\n",
              "    </tr>\n",
              "  </tbody>\n",
              "</table>\n",
              "</div>\n",
              "      <button class=\"colab-df-convert\" onclick=\"convertToInteractive('df-ec55e8e8-a388-4702-83d4-6824f625ac18')\"\n",
              "              title=\"Convert this dataframe to an interactive table.\"\n",
              "              style=\"display:none;\">\n",
              "        \n",
              "  <svg xmlns=\"http://www.w3.org/2000/svg\" height=\"24px\"viewBox=\"0 0 24 24\"\n",
              "       width=\"24px\">\n",
              "    <path d=\"M0 0h24v24H0V0z\" fill=\"none\"/>\n",
              "    <path d=\"M18.56 5.44l.94 2.06.94-2.06 2.06-.94-2.06-.94-.94-2.06-.94 2.06-2.06.94zm-11 1L8.5 8.5l.94-2.06 2.06-.94-2.06-.94L8.5 2.5l-.94 2.06-2.06.94zm10 10l.94 2.06.94-2.06 2.06-.94-2.06-.94-.94-2.06-.94 2.06-2.06.94z\"/><path d=\"M17.41 7.96l-1.37-1.37c-.4-.4-.92-.59-1.43-.59-.52 0-1.04.2-1.43.59L10.3 9.45l-7.72 7.72c-.78.78-.78 2.05 0 2.83L4 21.41c.39.39.9.59 1.41.59.51 0 1.02-.2 1.41-.59l7.78-7.78 2.81-2.81c.8-.78.8-2.07 0-2.86zM5.41 20L4 18.59l7.72-7.72 1.47 1.35L5.41 20z\"/>\n",
              "  </svg>\n",
              "      </button>\n",
              "      \n",
              "  <style>\n",
              "    .colab-df-container {\n",
              "      display:flex;\n",
              "      flex-wrap:wrap;\n",
              "      gap: 12px;\n",
              "    }\n",
              "\n",
              "    .colab-df-convert {\n",
              "      background-color: #E8F0FE;\n",
              "      border: none;\n",
              "      border-radius: 50%;\n",
              "      cursor: pointer;\n",
              "      display: none;\n",
              "      fill: #1967D2;\n",
              "      height: 32px;\n",
              "      padding: 0 0 0 0;\n",
              "      width: 32px;\n",
              "    }\n",
              "\n",
              "    .colab-df-convert:hover {\n",
              "      background-color: #E2EBFA;\n",
              "      box-shadow: 0px 1px 2px rgba(60, 64, 67, 0.3), 0px 1px 3px 1px rgba(60, 64, 67, 0.15);\n",
              "      fill: #174EA6;\n",
              "    }\n",
              "\n",
              "    [theme=dark] .colab-df-convert {\n",
              "      background-color: #3B4455;\n",
              "      fill: #D2E3FC;\n",
              "    }\n",
              "\n",
              "    [theme=dark] .colab-df-convert:hover {\n",
              "      background-color: #434B5C;\n",
              "      box-shadow: 0px 1px 3px 1px rgba(0, 0, 0, 0.15);\n",
              "      filter: drop-shadow(0px 1px 2px rgba(0, 0, 0, 0.3));\n",
              "      fill: #FFFFFF;\n",
              "    }\n",
              "  </style>\n",
              "\n",
              "      <script>\n",
              "        const buttonEl =\n",
              "          document.querySelector('#df-ec55e8e8-a388-4702-83d4-6824f625ac18 button.colab-df-convert');\n",
              "        buttonEl.style.display =\n",
              "          google.colab.kernel.accessAllowed ? 'block' : 'none';\n",
              "\n",
              "        async function convertToInteractive(key) {\n",
              "          const element = document.querySelector('#df-ec55e8e8-a388-4702-83d4-6824f625ac18');\n",
              "          const dataTable =\n",
              "            await google.colab.kernel.invokeFunction('convertToInteractive',\n",
              "                                                     [key], {});\n",
              "          if (!dataTable) return;\n",
              "\n",
              "          const docLinkHtml = 'Like what you see? Visit the ' +\n",
              "            '<a target=\"_blank\" href=https://colab.research.google.com/notebooks/data_table.ipynb>data table notebook</a>'\n",
              "            + ' to learn more about interactive tables.';\n",
              "          element.innerHTML = '';\n",
              "          dataTable['output_type'] = 'display_data';\n",
              "          await google.colab.output.renderOutput(dataTable, element);\n",
              "          const docLink = document.createElement('div');\n",
              "          docLink.innerHTML = docLinkHtml;\n",
              "          element.appendChild(docLink);\n",
              "        }\n",
              "      </script>\n",
              "    </div>\n",
              "  </div>\n",
              "  "
            ],
            "text/plain": [
              "     id  ... availability_365\n",
              "0  2539  ...              365\n",
              "1  2595  ...              355\n",
              "2  3647  ...              365\n",
              "3  3831  ...              194\n",
              "4  5022  ...                0\n",
              "\n",
              "[5 rows x 16 columns]"
            ]
          },
          "metadata": {},
          "execution_count": 5
        }
      ]
    },
    {
      "cell_type": "code",
      "source": [
        "data.info()"
      ],
      "metadata": {
        "colab": {
          "base_uri": "https://localhost:8080/"
        },
        "id": "q3QxrxOoBKZS",
        "outputId": "3d7847c5-678b-419e-a316-d624dd8a4a5a"
      },
      "execution_count": 6,
      "outputs": [
        {
          "output_type": "stream",
          "name": "stdout",
          "text": [
            "<class 'pandas.core.frame.DataFrame'>\n",
            "RangeIndex: 48895 entries, 0 to 48894\n",
            "Data columns (total 16 columns):\n",
            " #   Column                          Non-Null Count  Dtype  \n",
            "---  ------                          --------------  -----  \n",
            " 0   id                              48895 non-null  int64  \n",
            " 1   name                            48879 non-null  object \n",
            " 2   host_id                         48895 non-null  int64  \n",
            " 3   host_name                       48874 non-null  object \n",
            " 4   neighbourhood_group             48895 non-null  object \n",
            " 5   neighbourhood                   48895 non-null  object \n",
            " 6   latitude                        48895 non-null  float64\n",
            " 7   longitude                       48895 non-null  float64\n",
            " 8   room_type                       48895 non-null  object \n",
            " 9   price                           48895 non-null  int64  \n",
            " 10  minimum_nights                  48895 non-null  int64  \n",
            " 11  number_of_reviews               48895 non-null  int64  \n",
            " 12  last_review                     38843 non-null  object \n",
            " 13  reviews_per_month               38843 non-null  float64\n",
            " 14  calculated_host_listings_count  48895 non-null  int64  \n",
            " 15  availability_365                48895 non-null  int64  \n",
            "dtypes: float64(3), int64(7), object(6)\n",
            "memory usage: 6.0+ MB\n"
          ]
        }
      ]
    },
    {
      "cell_type": "code",
      "source": [
        "data.describe()"
      ],
      "metadata": {
        "colab": {
          "base_uri": "https://localhost:8080/",
          "height": 300
        },
        "id": "IqIT4vk9BMCQ",
        "outputId": "ca777fdb-c559-4900-8a94-e27e0a66e614"
      },
      "execution_count": 7,
      "outputs": [
        {
          "output_type": "execute_result",
          "data": {
            "text/html": [
              "\n",
              "  <div id=\"df-187a1aed-0b98-4bb7-990a-bd8b8598c1d6\">\n",
              "    <div class=\"colab-df-container\">\n",
              "      <div>\n",
              "<style scoped>\n",
              "    .dataframe tbody tr th:only-of-type {\n",
              "        vertical-align: middle;\n",
              "    }\n",
              "\n",
              "    .dataframe tbody tr th {\n",
              "        vertical-align: top;\n",
              "    }\n",
              "\n",
              "    .dataframe thead th {\n",
              "        text-align: right;\n",
              "    }\n",
              "</style>\n",
              "<table border=\"1\" class=\"dataframe\">\n",
              "  <thead>\n",
              "    <tr style=\"text-align: right;\">\n",
              "      <th></th>\n",
              "      <th>id</th>\n",
              "      <th>host_id</th>\n",
              "      <th>latitude</th>\n",
              "      <th>longitude</th>\n",
              "      <th>price</th>\n",
              "      <th>minimum_nights</th>\n",
              "      <th>number_of_reviews</th>\n",
              "      <th>reviews_per_month</th>\n",
              "      <th>calculated_host_listings_count</th>\n",
              "      <th>availability_365</th>\n",
              "    </tr>\n",
              "  </thead>\n",
              "  <tbody>\n",
              "    <tr>\n",
              "      <th>count</th>\n",
              "      <td>4.889500e+04</td>\n",
              "      <td>4.889500e+04</td>\n",
              "      <td>48895.000000</td>\n",
              "      <td>48895.000000</td>\n",
              "      <td>48895.000000</td>\n",
              "      <td>48895.000000</td>\n",
              "      <td>48895.000000</td>\n",
              "      <td>38843.000000</td>\n",
              "      <td>48895.000000</td>\n",
              "      <td>48895.000000</td>\n",
              "    </tr>\n",
              "    <tr>\n",
              "      <th>mean</th>\n",
              "      <td>1.901714e+07</td>\n",
              "      <td>6.762001e+07</td>\n",
              "      <td>40.728949</td>\n",
              "      <td>-73.952170</td>\n",
              "      <td>152.720687</td>\n",
              "      <td>7.029962</td>\n",
              "      <td>23.274466</td>\n",
              "      <td>1.373221</td>\n",
              "      <td>7.143982</td>\n",
              "      <td>112.781327</td>\n",
              "    </tr>\n",
              "    <tr>\n",
              "      <th>std</th>\n",
              "      <td>1.098311e+07</td>\n",
              "      <td>7.861097e+07</td>\n",
              "      <td>0.054530</td>\n",
              "      <td>0.046157</td>\n",
              "      <td>240.154170</td>\n",
              "      <td>20.510550</td>\n",
              "      <td>44.550582</td>\n",
              "      <td>1.680442</td>\n",
              "      <td>32.952519</td>\n",
              "      <td>131.622289</td>\n",
              "    </tr>\n",
              "    <tr>\n",
              "      <th>min</th>\n",
              "      <td>2.539000e+03</td>\n",
              "      <td>2.438000e+03</td>\n",
              "      <td>40.499790</td>\n",
              "      <td>-74.244420</td>\n",
              "      <td>0.000000</td>\n",
              "      <td>1.000000</td>\n",
              "      <td>0.000000</td>\n",
              "      <td>0.010000</td>\n",
              "      <td>1.000000</td>\n",
              "      <td>0.000000</td>\n",
              "    </tr>\n",
              "    <tr>\n",
              "      <th>25%</th>\n",
              "      <td>9.471945e+06</td>\n",
              "      <td>7.822033e+06</td>\n",
              "      <td>40.690100</td>\n",
              "      <td>-73.983070</td>\n",
              "      <td>69.000000</td>\n",
              "      <td>1.000000</td>\n",
              "      <td>1.000000</td>\n",
              "      <td>0.190000</td>\n",
              "      <td>1.000000</td>\n",
              "      <td>0.000000</td>\n",
              "    </tr>\n",
              "    <tr>\n",
              "      <th>50%</th>\n",
              "      <td>1.967728e+07</td>\n",
              "      <td>3.079382e+07</td>\n",
              "      <td>40.723070</td>\n",
              "      <td>-73.955680</td>\n",
              "      <td>106.000000</td>\n",
              "      <td>3.000000</td>\n",
              "      <td>5.000000</td>\n",
              "      <td>0.720000</td>\n",
              "      <td>1.000000</td>\n",
              "      <td>45.000000</td>\n",
              "    </tr>\n",
              "    <tr>\n",
              "      <th>75%</th>\n",
              "      <td>2.915218e+07</td>\n",
              "      <td>1.074344e+08</td>\n",
              "      <td>40.763115</td>\n",
              "      <td>-73.936275</td>\n",
              "      <td>175.000000</td>\n",
              "      <td>5.000000</td>\n",
              "      <td>24.000000</td>\n",
              "      <td>2.020000</td>\n",
              "      <td>2.000000</td>\n",
              "      <td>227.000000</td>\n",
              "    </tr>\n",
              "    <tr>\n",
              "      <th>max</th>\n",
              "      <td>3.648724e+07</td>\n",
              "      <td>2.743213e+08</td>\n",
              "      <td>40.913060</td>\n",
              "      <td>-73.712990</td>\n",
              "      <td>10000.000000</td>\n",
              "      <td>1250.000000</td>\n",
              "      <td>629.000000</td>\n",
              "      <td>58.500000</td>\n",
              "      <td>327.000000</td>\n",
              "      <td>365.000000</td>\n",
              "    </tr>\n",
              "  </tbody>\n",
              "</table>\n",
              "</div>\n",
              "      <button class=\"colab-df-convert\" onclick=\"convertToInteractive('df-187a1aed-0b98-4bb7-990a-bd8b8598c1d6')\"\n",
              "              title=\"Convert this dataframe to an interactive table.\"\n",
              "              style=\"display:none;\">\n",
              "        \n",
              "  <svg xmlns=\"http://www.w3.org/2000/svg\" height=\"24px\"viewBox=\"0 0 24 24\"\n",
              "       width=\"24px\">\n",
              "    <path d=\"M0 0h24v24H0V0z\" fill=\"none\"/>\n",
              "    <path d=\"M18.56 5.44l.94 2.06.94-2.06 2.06-.94-2.06-.94-.94-2.06-.94 2.06-2.06.94zm-11 1L8.5 8.5l.94-2.06 2.06-.94-2.06-.94L8.5 2.5l-.94 2.06-2.06.94zm10 10l.94 2.06.94-2.06 2.06-.94-2.06-.94-.94-2.06-.94 2.06-2.06.94z\"/><path d=\"M17.41 7.96l-1.37-1.37c-.4-.4-.92-.59-1.43-.59-.52 0-1.04.2-1.43.59L10.3 9.45l-7.72 7.72c-.78.78-.78 2.05 0 2.83L4 21.41c.39.39.9.59 1.41.59.51 0 1.02-.2 1.41-.59l7.78-7.78 2.81-2.81c.8-.78.8-2.07 0-2.86zM5.41 20L4 18.59l7.72-7.72 1.47 1.35L5.41 20z\"/>\n",
              "  </svg>\n",
              "      </button>\n",
              "      \n",
              "  <style>\n",
              "    .colab-df-container {\n",
              "      display:flex;\n",
              "      flex-wrap:wrap;\n",
              "      gap: 12px;\n",
              "    }\n",
              "\n",
              "    .colab-df-convert {\n",
              "      background-color: #E8F0FE;\n",
              "      border: none;\n",
              "      border-radius: 50%;\n",
              "      cursor: pointer;\n",
              "      display: none;\n",
              "      fill: #1967D2;\n",
              "      height: 32px;\n",
              "      padding: 0 0 0 0;\n",
              "      width: 32px;\n",
              "    }\n",
              "\n",
              "    .colab-df-convert:hover {\n",
              "      background-color: #E2EBFA;\n",
              "      box-shadow: 0px 1px 2px rgba(60, 64, 67, 0.3), 0px 1px 3px 1px rgba(60, 64, 67, 0.15);\n",
              "      fill: #174EA6;\n",
              "    }\n",
              "\n",
              "    [theme=dark] .colab-df-convert {\n",
              "      background-color: #3B4455;\n",
              "      fill: #D2E3FC;\n",
              "    }\n",
              "\n",
              "    [theme=dark] .colab-df-convert:hover {\n",
              "      background-color: #434B5C;\n",
              "      box-shadow: 0px 1px 3px 1px rgba(0, 0, 0, 0.15);\n",
              "      filter: drop-shadow(0px 1px 2px rgba(0, 0, 0, 0.3));\n",
              "      fill: #FFFFFF;\n",
              "    }\n",
              "  </style>\n",
              "\n",
              "      <script>\n",
              "        const buttonEl =\n",
              "          document.querySelector('#df-187a1aed-0b98-4bb7-990a-bd8b8598c1d6 button.colab-df-convert');\n",
              "        buttonEl.style.display =\n",
              "          google.colab.kernel.accessAllowed ? 'block' : 'none';\n",
              "\n",
              "        async function convertToInteractive(key) {\n",
              "          const element = document.querySelector('#df-187a1aed-0b98-4bb7-990a-bd8b8598c1d6');\n",
              "          const dataTable =\n",
              "            await google.colab.kernel.invokeFunction('convertToInteractive',\n",
              "                                                     [key], {});\n",
              "          if (!dataTable) return;\n",
              "\n",
              "          const docLinkHtml = 'Like what you see? Visit the ' +\n",
              "            '<a target=\"_blank\" href=https://colab.research.google.com/notebooks/data_table.ipynb>data table notebook</a>'\n",
              "            + ' to learn more about interactive tables.';\n",
              "          element.innerHTML = '';\n",
              "          dataTable['output_type'] = 'display_data';\n",
              "          await google.colab.output.renderOutput(dataTable, element);\n",
              "          const docLink = document.createElement('div');\n",
              "          docLink.innerHTML = docLinkHtml;\n",
              "          element.appendChild(docLink);\n",
              "        }\n",
              "      </script>\n",
              "    </div>\n",
              "  </div>\n",
              "  "
            ],
            "text/plain": [
              "                 id  ...  availability_365\n",
              "count  4.889500e+04  ...      48895.000000\n",
              "mean   1.901714e+07  ...        112.781327\n",
              "std    1.098311e+07  ...        131.622289\n",
              "min    2.539000e+03  ...          0.000000\n",
              "25%    9.471945e+06  ...          0.000000\n",
              "50%    1.967728e+07  ...         45.000000\n",
              "75%    2.915218e+07  ...        227.000000\n",
              "max    3.648724e+07  ...        365.000000\n",
              "\n",
              "[8 rows x 10 columns]"
            ]
          },
          "metadata": {},
          "execution_count": 7
        }
      ]
    },
    {
      "cell_type": "code",
      "source": [
        "print(data.shape[0], data['id'].nunique(), data['host_id'].nunique())"
      ],
      "metadata": {
        "colab": {
          "base_uri": "https://localhost:8080/"
        },
        "id": "JPtSMk3VFxRO",
        "outputId": "5aceaad2-e906-412f-bc49-2f211900f1cb"
      },
      "execution_count": 8,
      "outputs": [
        {
          "output_type": "stream",
          "name": "stdout",
          "text": [
            "48895 48895 37457\n"
          ]
        }
      ]
    },
    {
      "cell_type": "code",
      "source": [
        "data.isna().sum()"
      ],
      "metadata": {
        "colab": {
          "base_uri": "https://localhost:8080/"
        },
        "id": "DtMz0SPKA5jU",
        "outputId": "c06b59b9-35c2-4433-e0a7-bbc0bda3dec7"
      },
      "execution_count": 9,
      "outputs": [
        {
          "output_type": "execute_result",
          "data": {
            "text/plain": [
              "id                                    0\n",
              "name                                 16\n",
              "host_id                               0\n",
              "host_name                            21\n",
              "neighbourhood_group                   0\n",
              "neighbourhood                         0\n",
              "latitude                              0\n",
              "longitude                             0\n",
              "room_type                             0\n",
              "price                                 0\n",
              "minimum_nights                        0\n",
              "number_of_reviews                     0\n",
              "last_review                       10052\n",
              "reviews_per_month                 10052\n",
              "calculated_host_listings_count        0\n",
              "availability_365                      0\n",
              "dtype: int64"
            ]
          },
          "metadata": {},
          "execution_count": 9
        }
      ]
    },
    {
      "cell_type": "code",
      "source": [
        "data[data['last_review'].isna()].head()"
      ],
      "metadata": {
        "colab": {
          "base_uri": "https://localhost:8080/",
          "height": 461
        },
        "id": "I-mu0AOqA9NM",
        "outputId": "b624f86b-6b38-409d-986b-a7377aaa5ba7"
      },
      "execution_count": 10,
      "outputs": [
        {
          "output_type": "execute_result",
          "data": {
            "text/html": [
              "\n",
              "  <div id=\"df-3788a8ed-c7ac-4198-80a9-86b066da49c5\">\n",
              "    <div class=\"colab-df-container\">\n",
              "      <div>\n",
              "<style scoped>\n",
              "    .dataframe tbody tr th:only-of-type {\n",
              "        vertical-align: middle;\n",
              "    }\n",
              "\n",
              "    .dataframe tbody tr th {\n",
              "        vertical-align: top;\n",
              "    }\n",
              "\n",
              "    .dataframe thead th {\n",
              "        text-align: right;\n",
              "    }\n",
              "</style>\n",
              "<table border=\"1\" class=\"dataframe\">\n",
              "  <thead>\n",
              "    <tr style=\"text-align: right;\">\n",
              "      <th></th>\n",
              "      <th>id</th>\n",
              "      <th>name</th>\n",
              "      <th>host_id</th>\n",
              "      <th>host_name</th>\n",
              "      <th>neighbourhood_group</th>\n",
              "      <th>neighbourhood</th>\n",
              "      <th>latitude</th>\n",
              "      <th>longitude</th>\n",
              "      <th>room_type</th>\n",
              "      <th>price</th>\n",
              "      <th>minimum_nights</th>\n",
              "      <th>number_of_reviews</th>\n",
              "      <th>last_review</th>\n",
              "      <th>reviews_per_month</th>\n",
              "      <th>calculated_host_listings_count</th>\n",
              "      <th>availability_365</th>\n",
              "    </tr>\n",
              "  </thead>\n",
              "  <tbody>\n",
              "    <tr>\n",
              "      <th>2</th>\n",
              "      <td>3647</td>\n",
              "      <td>THE VILLAGE OF HARLEM....NEW YORK !</td>\n",
              "      <td>4632</td>\n",
              "      <td>Elisabeth</td>\n",
              "      <td>Manhattan</td>\n",
              "      <td>Harlem</td>\n",
              "      <td>40.80902</td>\n",
              "      <td>-73.94190</td>\n",
              "      <td>Private room</td>\n",
              "      <td>150</td>\n",
              "      <td>3</td>\n",
              "      <td>0</td>\n",
              "      <td>NaN</td>\n",
              "      <td>NaN</td>\n",
              "      <td>1</td>\n",
              "      <td>365</td>\n",
              "    </tr>\n",
              "    <tr>\n",
              "      <th>19</th>\n",
              "      <td>7750</td>\n",
              "      <td>Huge 2 BR Upper East  Cental Park</td>\n",
              "      <td>17985</td>\n",
              "      <td>Sing</td>\n",
              "      <td>Manhattan</td>\n",
              "      <td>East Harlem</td>\n",
              "      <td>40.79685</td>\n",
              "      <td>-73.94872</td>\n",
              "      <td>Entire home/apt</td>\n",
              "      <td>190</td>\n",
              "      <td>7</td>\n",
              "      <td>0</td>\n",
              "      <td>NaN</td>\n",
              "      <td>NaN</td>\n",
              "      <td>2</td>\n",
              "      <td>249</td>\n",
              "    </tr>\n",
              "    <tr>\n",
              "      <th>26</th>\n",
              "      <td>8700</td>\n",
              "      <td>Magnifique Suite au N de Manhattan - vue Cloitres</td>\n",
              "      <td>26394</td>\n",
              "      <td>Claude &amp; Sophie</td>\n",
              "      <td>Manhattan</td>\n",
              "      <td>Inwood</td>\n",
              "      <td>40.86754</td>\n",
              "      <td>-73.92639</td>\n",
              "      <td>Private room</td>\n",
              "      <td>80</td>\n",
              "      <td>4</td>\n",
              "      <td>0</td>\n",
              "      <td>NaN</td>\n",
              "      <td>NaN</td>\n",
              "      <td>1</td>\n",
              "      <td>0</td>\n",
              "    </tr>\n",
              "    <tr>\n",
              "      <th>36</th>\n",
              "      <td>11452</td>\n",
              "      <td>Clean and Quiet in Brooklyn</td>\n",
              "      <td>7355</td>\n",
              "      <td>Vt</td>\n",
              "      <td>Brooklyn</td>\n",
              "      <td>Bedford-Stuyvesant</td>\n",
              "      <td>40.68876</td>\n",
              "      <td>-73.94312</td>\n",
              "      <td>Private room</td>\n",
              "      <td>35</td>\n",
              "      <td>60</td>\n",
              "      <td>0</td>\n",
              "      <td>NaN</td>\n",
              "      <td>NaN</td>\n",
              "      <td>1</td>\n",
              "      <td>365</td>\n",
              "    </tr>\n",
              "    <tr>\n",
              "      <th>38</th>\n",
              "      <td>11943</td>\n",
              "      <td>Country space in the city</td>\n",
              "      <td>45445</td>\n",
              "      <td>Harriet</td>\n",
              "      <td>Brooklyn</td>\n",
              "      <td>Flatbush</td>\n",
              "      <td>40.63702</td>\n",
              "      <td>-73.96327</td>\n",
              "      <td>Private room</td>\n",
              "      <td>150</td>\n",
              "      <td>1</td>\n",
              "      <td>0</td>\n",
              "      <td>NaN</td>\n",
              "      <td>NaN</td>\n",
              "      <td>1</td>\n",
              "      <td>365</td>\n",
              "    </tr>\n",
              "  </tbody>\n",
              "</table>\n",
              "</div>\n",
              "      <button class=\"colab-df-convert\" onclick=\"convertToInteractive('df-3788a8ed-c7ac-4198-80a9-86b066da49c5')\"\n",
              "              title=\"Convert this dataframe to an interactive table.\"\n",
              "              style=\"display:none;\">\n",
              "        \n",
              "  <svg xmlns=\"http://www.w3.org/2000/svg\" height=\"24px\"viewBox=\"0 0 24 24\"\n",
              "       width=\"24px\">\n",
              "    <path d=\"M0 0h24v24H0V0z\" fill=\"none\"/>\n",
              "    <path d=\"M18.56 5.44l.94 2.06.94-2.06 2.06-.94-2.06-.94-.94-2.06-.94 2.06-2.06.94zm-11 1L8.5 8.5l.94-2.06 2.06-.94-2.06-.94L8.5 2.5l-.94 2.06-2.06.94zm10 10l.94 2.06.94-2.06 2.06-.94-2.06-.94-.94-2.06-.94 2.06-2.06.94z\"/><path d=\"M17.41 7.96l-1.37-1.37c-.4-.4-.92-.59-1.43-.59-.52 0-1.04.2-1.43.59L10.3 9.45l-7.72 7.72c-.78.78-.78 2.05 0 2.83L4 21.41c.39.39.9.59 1.41.59.51 0 1.02-.2 1.41-.59l7.78-7.78 2.81-2.81c.8-.78.8-2.07 0-2.86zM5.41 20L4 18.59l7.72-7.72 1.47 1.35L5.41 20z\"/>\n",
              "  </svg>\n",
              "      </button>\n",
              "      \n",
              "  <style>\n",
              "    .colab-df-container {\n",
              "      display:flex;\n",
              "      flex-wrap:wrap;\n",
              "      gap: 12px;\n",
              "    }\n",
              "\n",
              "    .colab-df-convert {\n",
              "      background-color: #E8F0FE;\n",
              "      border: none;\n",
              "      border-radius: 50%;\n",
              "      cursor: pointer;\n",
              "      display: none;\n",
              "      fill: #1967D2;\n",
              "      height: 32px;\n",
              "      padding: 0 0 0 0;\n",
              "      width: 32px;\n",
              "    }\n",
              "\n",
              "    .colab-df-convert:hover {\n",
              "      background-color: #E2EBFA;\n",
              "      box-shadow: 0px 1px 2px rgba(60, 64, 67, 0.3), 0px 1px 3px 1px rgba(60, 64, 67, 0.15);\n",
              "      fill: #174EA6;\n",
              "    }\n",
              "\n",
              "    [theme=dark] .colab-df-convert {\n",
              "      background-color: #3B4455;\n",
              "      fill: #D2E3FC;\n",
              "    }\n",
              "\n",
              "    [theme=dark] .colab-df-convert:hover {\n",
              "      background-color: #434B5C;\n",
              "      box-shadow: 0px 1px 3px 1px rgba(0, 0, 0, 0.15);\n",
              "      filter: drop-shadow(0px 1px 2px rgba(0, 0, 0, 0.3));\n",
              "      fill: #FFFFFF;\n",
              "    }\n",
              "  </style>\n",
              "\n",
              "      <script>\n",
              "        const buttonEl =\n",
              "          document.querySelector('#df-3788a8ed-c7ac-4198-80a9-86b066da49c5 button.colab-df-convert');\n",
              "        buttonEl.style.display =\n",
              "          google.colab.kernel.accessAllowed ? 'block' : 'none';\n",
              "\n",
              "        async function convertToInteractive(key) {\n",
              "          const element = document.querySelector('#df-3788a8ed-c7ac-4198-80a9-86b066da49c5');\n",
              "          const dataTable =\n",
              "            await google.colab.kernel.invokeFunction('convertToInteractive',\n",
              "                                                     [key], {});\n",
              "          if (!dataTable) return;\n",
              "\n",
              "          const docLinkHtml = 'Like what you see? Visit the ' +\n",
              "            '<a target=\"_blank\" href=https://colab.research.google.com/notebooks/data_table.ipynb>data table notebook</a>'\n",
              "            + ' to learn more about interactive tables.';\n",
              "          element.innerHTML = '';\n",
              "          dataTable['output_type'] = 'display_data';\n",
              "          await google.colab.output.renderOutput(dataTable, element);\n",
              "          const docLink = document.createElement('div');\n",
              "          docLink.innerHTML = docLinkHtml;\n",
              "          element.appendChild(docLink);\n",
              "        }\n",
              "      </script>\n",
              "    </div>\n",
              "  </div>\n",
              "  "
            ],
            "text/plain": [
              "       id  ... availability_365\n",
              "2    3647  ...              365\n",
              "19   7750  ...              249\n",
              "26   8700  ...                0\n",
              "36  11452  ...              365\n",
              "38  11943  ...              365\n",
              "\n",
              "[5 rows x 16 columns]"
            ]
          },
          "metadata": {},
          "execution_count": 10
        }
      ]
    },
    {
      "cell_type": "markdown",
      "source": [
        "last_review가 null 이면 reviews_per_month도 null 값을 가지고 있는것으로 보임"
      ],
      "metadata": {
        "id": "IBGz38_9F81P"
      }
    },
    {
      "cell_type": "code",
      "source": [
        "((data['last_review'].isna()) & (data['reviews_per_month'].isna())).sum()"
      ],
      "metadata": {
        "colab": {
          "base_uri": "https://localhost:8080/"
        },
        "id": "eZON4I6WF7b6",
        "outputId": "6ac9ce4f-a281-4e2b-a71b-f7e69713b5b0"
      },
      "execution_count": 11,
      "outputs": [
        {
          "output_type": "execute_result",
          "data": {
            "text/plain": [
              "10052"
            ]
          },
          "metadata": {},
          "execution_count": 11
        }
      ]
    },
    {
      "cell_type": "markdown",
      "source": [
        "review가 한번도 달린적이 없다면 'last_review' 와 'reviews_per_month' null 값을 가짐"
      ],
      "metadata": {
        "id": "NKglUXJsJzXl"
      }
    },
    {
      "cell_type": "code",
      "source": [
        "df = data.copy()"
      ],
      "metadata": {
        "id": "Gg3mLhQJLg22"
      },
      "execution_count": 12,
      "outputs": []
    },
    {
      "cell_type": "code",
      "source": [
        "print(df.shape, data.shape)\n",
        "df.head()"
      ],
      "metadata": {
        "colab": {
          "base_uri": "https://localhost:8080/",
          "height": 458
        },
        "id": "LpAWzM3aLkll",
        "outputId": "9ad35261-3e43-45b8-aebe-ce9294bd8907"
      },
      "execution_count": 13,
      "outputs": [
        {
          "output_type": "stream",
          "name": "stdout",
          "text": [
            "(48895, 16) (48895, 16)\n"
          ]
        },
        {
          "output_type": "execute_result",
          "data": {
            "text/html": [
              "\n",
              "  <div id=\"df-f5035a8d-0602-4ae7-ae8b-67b6881fd20e\">\n",
              "    <div class=\"colab-df-container\">\n",
              "      <div>\n",
              "<style scoped>\n",
              "    .dataframe tbody tr th:only-of-type {\n",
              "        vertical-align: middle;\n",
              "    }\n",
              "\n",
              "    .dataframe tbody tr th {\n",
              "        vertical-align: top;\n",
              "    }\n",
              "\n",
              "    .dataframe thead th {\n",
              "        text-align: right;\n",
              "    }\n",
              "</style>\n",
              "<table border=\"1\" class=\"dataframe\">\n",
              "  <thead>\n",
              "    <tr style=\"text-align: right;\">\n",
              "      <th></th>\n",
              "      <th>id</th>\n",
              "      <th>name</th>\n",
              "      <th>host_id</th>\n",
              "      <th>host_name</th>\n",
              "      <th>neighbourhood_group</th>\n",
              "      <th>neighbourhood</th>\n",
              "      <th>latitude</th>\n",
              "      <th>longitude</th>\n",
              "      <th>room_type</th>\n",
              "      <th>price</th>\n",
              "      <th>minimum_nights</th>\n",
              "      <th>number_of_reviews</th>\n",
              "      <th>last_review</th>\n",
              "      <th>reviews_per_month</th>\n",
              "      <th>calculated_host_listings_count</th>\n",
              "      <th>availability_365</th>\n",
              "    </tr>\n",
              "  </thead>\n",
              "  <tbody>\n",
              "    <tr>\n",
              "      <th>0</th>\n",
              "      <td>2539</td>\n",
              "      <td>Clean &amp; quiet apt home by the park</td>\n",
              "      <td>2787</td>\n",
              "      <td>John</td>\n",
              "      <td>Brooklyn</td>\n",
              "      <td>Kensington</td>\n",
              "      <td>40.64749</td>\n",
              "      <td>-73.97237</td>\n",
              "      <td>Private room</td>\n",
              "      <td>149</td>\n",
              "      <td>1</td>\n",
              "      <td>9</td>\n",
              "      <td>2018-10-19</td>\n",
              "      <td>0.21</td>\n",
              "      <td>6</td>\n",
              "      <td>365</td>\n",
              "    </tr>\n",
              "    <tr>\n",
              "      <th>1</th>\n",
              "      <td>2595</td>\n",
              "      <td>Skylit Midtown Castle</td>\n",
              "      <td>2845</td>\n",
              "      <td>Jennifer</td>\n",
              "      <td>Manhattan</td>\n",
              "      <td>Midtown</td>\n",
              "      <td>40.75362</td>\n",
              "      <td>-73.98377</td>\n",
              "      <td>Entire home/apt</td>\n",
              "      <td>225</td>\n",
              "      <td>1</td>\n",
              "      <td>45</td>\n",
              "      <td>2019-05-21</td>\n",
              "      <td>0.38</td>\n",
              "      <td>2</td>\n",
              "      <td>355</td>\n",
              "    </tr>\n",
              "    <tr>\n",
              "      <th>2</th>\n",
              "      <td>3647</td>\n",
              "      <td>THE VILLAGE OF HARLEM....NEW YORK !</td>\n",
              "      <td>4632</td>\n",
              "      <td>Elisabeth</td>\n",
              "      <td>Manhattan</td>\n",
              "      <td>Harlem</td>\n",
              "      <td>40.80902</td>\n",
              "      <td>-73.94190</td>\n",
              "      <td>Private room</td>\n",
              "      <td>150</td>\n",
              "      <td>3</td>\n",
              "      <td>0</td>\n",
              "      <td>NaN</td>\n",
              "      <td>NaN</td>\n",
              "      <td>1</td>\n",
              "      <td>365</td>\n",
              "    </tr>\n",
              "    <tr>\n",
              "      <th>3</th>\n",
              "      <td>3831</td>\n",
              "      <td>Cozy Entire Floor of Brownstone</td>\n",
              "      <td>4869</td>\n",
              "      <td>LisaRoxanne</td>\n",
              "      <td>Brooklyn</td>\n",
              "      <td>Clinton Hill</td>\n",
              "      <td>40.68514</td>\n",
              "      <td>-73.95976</td>\n",
              "      <td>Entire home/apt</td>\n",
              "      <td>89</td>\n",
              "      <td>1</td>\n",
              "      <td>270</td>\n",
              "      <td>2019-07-05</td>\n",
              "      <td>4.64</td>\n",
              "      <td>1</td>\n",
              "      <td>194</td>\n",
              "    </tr>\n",
              "    <tr>\n",
              "      <th>4</th>\n",
              "      <td>5022</td>\n",
              "      <td>Entire Apt: Spacious Studio/Loft by central park</td>\n",
              "      <td>7192</td>\n",
              "      <td>Laura</td>\n",
              "      <td>Manhattan</td>\n",
              "      <td>East Harlem</td>\n",
              "      <td>40.79851</td>\n",
              "      <td>-73.94399</td>\n",
              "      <td>Entire home/apt</td>\n",
              "      <td>80</td>\n",
              "      <td>10</td>\n",
              "      <td>9</td>\n",
              "      <td>2018-11-19</td>\n",
              "      <td>0.10</td>\n",
              "      <td>1</td>\n",
              "      <td>0</td>\n",
              "    </tr>\n",
              "  </tbody>\n",
              "</table>\n",
              "</div>\n",
              "      <button class=\"colab-df-convert\" onclick=\"convertToInteractive('df-f5035a8d-0602-4ae7-ae8b-67b6881fd20e')\"\n",
              "              title=\"Convert this dataframe to an interactive table.\"\n",
              "              style=\"display:none;\">\n",
              "        \n",
              "  <svg xmlns=\"http://www.w3.org/2000/svg\" height=\"24px\"viewBox=\"0 0 24 24\"\n",
              "       width=\"24px\">\n",
              "    <path d=\"M0 0h24v24H0V0z\" fill=\"none\"/>\n",
              "    <path d=\"M18.56 5.44l.94 2.06.94-2.06 2.06-.94-2.06-.94-.94-2.06-.94 2.06-2.06.94zm-11 1L8.5 8.5l.94-2.06 2.06-.94-2.06-.94L8.5 2.5l-.94 2.06-2.06.94zm10 10l.94 2.06.94-2.06 2.06-.94-2.06-.94-.94-2.06-.94 2.06-2.06.94z\"/><path d=\"M17.41 7.96l-1.37-1.37c-.4-.4-.92-.59-1.43-.59-.52 0-1.04.2-1.43.59L10.3 9.45l-7.72 7.72c-.78.78-.78 2.05 0 2.83L4 21.41c.39.39.9.59 1.41.59.51 0 1.02-.2 1.41-.59l7.78-7.78 2.81-2.81c.8-.78.8-2.07 0-2.86zM5.41 20L4 18.59l7.72-7.72 1.47 1.35L5.41 20z\"/>\n",
              "  </svg>\n",
              "      </button>\n",
              "      \n",
              "  <style>\n",
              "    .colab-df-container {\n",
              "      display:flex;\n",
              "      flex-wrap:wrap;\n",
              "      gap: 12px;\n",
              "    }\n",
              "\n",
              "    .colab-df-convert {\n",
              "      background-color: #E8F0FE;\n",
              "      border: none;\n",
              "      border-radius: 50%;\n",
              "      cursor: pointer;\n",
              "      display: none;\n",
              "      fill: #1967D2;\n",
              "      height: 32px;\n",
              "      padding: 0 0 0 0;\n",
              "      width: 32px;\n",
              "    }\n",
              "\n",
              "    .colab-df-convert:hover {\n",
              "      background-color: #E2EBFA;\n",
              "      box-shadow: 0px 1px 2px rgba(60, 64, 67, 0.3), 0px 1px 3px 1px rgba(60, 64, 67, 0.15);\n",
              "      fill: #174EA6;\n",
              "    }\n",
              "\n",
              "    [theme=dark] .colab-df-convert {\n",
              "      background-color: #3B4455;\n",
              "      fill: #D2E3FC;\n",
              "    }\n",
              "\n",
              "    [theme=dark] .colab-df-convert:hover {\n",
              "      background-color: #434B5C;\n",
              "      box-shadow: 0px 1px 3px 1px rgba(0, 0, 0, 0.15);\n",
              "      filter: drop-shadow(0px 1px 2px rgba(0, 0, 0, 0.3));\n",
              "      fill: #FFFFFF;\n",
              "    }\n",
              "  </style>\n",
              "\n",
              "      <script>\n",
              "        const buttonEl =\n",
              "          document.querySelector('#df-f5035a8d-0602-4ae7-ae8b-67b6881fd20e button.colab-df-convert');\n",
              "        buttonEl.style.display =\n",
              "          google.colab.kernel.accessAllowed ? 'block' : 'none';\n",
              "\n",
              "        async function convertToInteractive(key) {\n",
              "          const element = document.querySelector('#df-f5035a8d-0602-4ae7-ae8b-67b6881fd20e');\n",
              "          const dataTable =\n",
              "            await google.colab.kernel.invokeFunction('convertToInteractive',\n",
              "                                                     [key], {});\n",
              "          if (!dataTable) return;\n",
              "\n",
              "          const docLinkHtml = 'Like what you see? Visit the ' +\n",
              "            '<a target=\"_blank\" href=https://colab.research.google.com/notebooks/data_table.ipynb>data table notebook</a>'\n",
              "            + ' to learn more about interactive tables.';\n",
              "          element.innerHTML = '';\n",
              "          dataTable['output_type'] = 'display_data';\n",
              "          await google.colab.output.renderOutput(dataTable, element);\n",
              "          const docLink = document.createElement('div');\n",
              "          docLink.innerHTML = docLinkHtml;\n",
              "          element.appendChild(docLink);\n",
              "        }\n",
              "      </script>\n",
              "    </div>\n",
              "  </div>\n",
              "  "
            ],
            "text/plain": [
              "     id  ... availability_365\n",
              "0  2539  ...              365\n",
              "1  2595  ...              355\n",
              "2  3647  ...              365\n",
              "3  3831  ...              194\n",
              "4  5022  ...                0\n",
              "\n",
              "[5 rows x 16 columns]"
            ]
          },
          "metadata": {},
          "execution_count": 13
        }
      ]
    },
    {
      "cell_type": "markdown",
      "source": [
        "## Step 2. EDA 및 데이터 기초 통계 분석\n"
      ],
      "metadata": {
        "id": "h3_1r4eADhU-"
      }
    },
    {
      "cell_type": "code",
      "source": [
        "import seaborn as sns\n",
        "import matplotlib.pyplot as plt"
      ],
      "metadata": {
        "id": "fSuLaNX6atD3"
      },
      "execution_count": 14,
      "outputs": []
    },
    {
      "cell_type": "code",
      "source": [
        "df.columns"
      ],
      "metadata": {
        "colab": {
          "base_uri": "https://localhost:8080/"
        },
        "id": "7siYP0goLec4",
        "outputId": "b1e365e9-2b39-4c5b-80b8-e2b84d740c2a"
      },
      "execution_count": 15,
      "outputs": [
        {
          "output_type": "execute_result",
          "data": {
            "text/plain": [
              "Index(['id', 'name', 'host_id', 'host_name', 'neighbourhood_group',\n",
              "       'neighbourhood', 'latitude', 'longitude', 'room_type', 'price',\n",
              "       'minimum_nights', 'number_of_reviews', 'last_review',\n",
              "       'reviews_per_month', 'calculated_host_listings_count',\n",
              "       'availability_365'],\n",
              "      dtype='object')"
            ]
          },
          "metadata": {},
          "execution_count": 15
        }
      ]
    },
    {
      "cell_type": "markdown",
      "source": [
        "### 4. 범주형 데이터 분석\n"
      ],
      "metadata": {
        "id": "wwI9HqX7LTsy"
      }
    },
    {
      "cell_type": "code",
      "source": [
        "cat_cols = df[['neighbourhood_group', 'neighbourhood','room_type']]"
      ],
      "metadata": {
        "id": "ZFXCA7fqLUn-"
      },
      "execution_count": 16,
      "outputs": []
    },
    {
      "cell_type": "code",
      "source": [
        "sns.countplot(x = 'neighbourhood_group', data = df)"
      ],
      "metadata": {
        "colab": {
          "base_uri": "https://localhost:8080/",
          "height": 298
        },
        "id": "7kXzTJALaqMz",
        "outputId": "67427162-1171-42b5-8e75-0104eeaf88c9"
      },
      "execution_count": 17,
      "outputs": [
        {
          "output_type": "execute_result",
          "data": {
            "text/plain": [
              "<matplotlib.axes._subplots.AxesSubplot at 0x7f36bb5dbb10>"
            ]
          },
          "metadata": {},
          "execution_count": 17
        },
        {
          "output_type": "display_data",
          "data": {
            "image/png": "[encoded data removed]",
            "text/plain": [
              "<Figure size 432x288 with 1 Axes>"
            ]
          },
          "metadata": {
            "needs_background": "light"
          }
        }
      ]
    },
    {
      "cell_type": "code",
      "source": [
        "plt.figure(figsize = (12,6))\n",
        "sns.countplot(x = 'neighbourhood', data = df)"
      ],
      "metadata": {
        "colab": {
          "base_uri": "https://localhost:8080/",
          "height": 406
        },
        "id": "Tz4A0Ye6bRcd",
        "outputId": "61b98455-1b51-49bb-b226-baa19c7118bb"
      },
      "execution_count": 18,
      "outputs": [
        {
          "output_type": "execute_result",
          "data": {
            "text/plain": [
              "<matplotlib.axes._subplots.AxesSubplot at 0x7f36bb5d1090>"
            ]
          },
          "metadata": {},
          "execution_count": 18
        },
        {
          "output_type": "display_data",
          "data": {
            "image/png": "[encoded data removed]",
            "text/plain": [
              "<Figure size 864x432 with 1 Axes>"
            ]
          },
          "metadata": {
            "needs_background": "light"
          }
        }
      ]
    },
    {
      "cell_type": "code",
      "source": [
        "df['neighbourhood'].value_counts()"
      ],
      "metadata": {
        "colab": {
          "base_uri": "https://localhost:8080/"
        },
        "id": "uJk-VdhFkLMQ",
        "outputId": "45001c4d-7b40-48e8-9a2e-dc1ff283f885"
      },
      "execution_count": 19,
      "outputs": [
        {
          "output_type": "execute_result",
          "data": {
            "text/plain": [
              "Williamsburg          3920\n",
              "Bedford-Stuyvesant    3714\n",
              "Harlem                2658\n",
              "Bushwick              2465\n",
              "Upper West Side       1971\n",
              "                      ... \n",
              "Fort Wadsworth           1\n",
              "Richmondtown             1\n",
              "New Dorp                 1\n",
              "Rossville                1\n",
              "Willowbrook              1\n",
              "Name: neighbourhood, Length: 221, dtype: int64"
            ]
          },
          "metadata": {},
          "execution_count": 19
        }
      ]
    },
    {
      "cell_type": "code",
      "source": [
        "a = df['neighbourhood_group'] +\"_\"+ df['neighbourhood']\n",
        "a.value_counts()[:30]"
      ],
      "metadata": {
        "colab": {
          "base_uri": "https://localhost:8080/"
        },
        "id": "lsMBGzE1kXGj",
        "outputId": "0fbfa728-5872-4090-cfbe-3e41904aac7c"
      },
      "execution_count": 20,
      "outputs": [
        {
          "output_type": "execute_result",
          "data": {
            "text/plain": [
              "Brooklyn_Williamsburg                 3920\n",
              "Brooklyn_Bedford-Stuyvesant           3714\n",
              "Manhattan_Harlem                      2658\n",
              "Brooklyn_Bushwick                     2465\n",
              "Manhattan_Upper West Side             1971\n",
              "Manhattan_Hell's Kitchen              1958\n",
              "Manhattan_East Village                1853\n",
              "Manhattan_Upper East Side             1798\n",
              "Brooklyn_Crown Heights                1564\n",
              "Manhattan_Midtown                     1545\n",
              "Manhattan_East Harlem                 1117\n",
              "Brooklyn_Greenpoint                   1115\n",
              "Manhattan_Chelsea                     1113\n",
              "Manhattan_Lower East Side              911\n",
              "Queens_Astoria                         900\n",
              "Manhattan_Washington Heights           899\n",
              "Manhattan_West Village                 768\n",
              "Manhattan_Financial District           744\n",
              "Brooklyn_Flatbush                      621\n",
              "Brooklyn_Clinton Hill                  572\n",
              "Queens_Long Island City                537\n",
              "Brooklyn_Prospect-Lefferts Gardens     535\n",
              "Brooklyn_Park Slope                    506\n",
              "Brooklyn_East Flatbush                 500\n",
              "Brooklyn_Fort Greene                   489\n",
              "Manhattan_Murray Hill                  485\n",
              "Manhattan_Kips Bay                     470\n",
              "Queens_Flushing                        426\n",
              "Queens_Ridgewood                       423\n",
              "Manhattan_Greenwich Village            392\n",
              "dtype: int64"
            ]
          },
          "metadata": {},
          "execution_count": 20
        }
      ]
    },
    {
      "cell_type": "markdown",
      "source": [
        "상위 30개 지역이 모두 Brooklyn, Manhattan, Queens 지역임\n",
        "\n",
        "neighbourhood_group만 사용하거나 neighbourhood 정제 후 사용"
      ],
      "metadata": {
        "id": "GQzFgdnyk8GM"
      }
    },
    {
      "cell_type": "code",
      "source": [
        "sns.countplot(x = 'room_type', data = df)"
      ],
      "metadata": {
        "colab": {
          "base_uri": "https://localhost:8080/",
          "height": 298
        },
        "id": "9zvAw7lw8_v9",
        "outputId": "f0cf2f55-c1f3-4759-9fe5-e92123ec8204"
      },
      "execution_count": 21,
      "outputs": [
        {
          "output_type": "execute_result",
          "data": {
            "text/plain": [
              "<matplotlib.axes._subplots.AxesSubplot at 0x7f36baa3db90>"
            ]
          },
          "metadata": {},
          "execution_count": 21
        },
        {
          "output_type": "display_data",
          "data": {
            "image/png": "[encoded data removed]",
            "text/plain": [
              "<Figure size 432x288 with 1 Axes>"
            ]
          },
          "metadata": {
            "needs_background": "light"
          }
        }
      ]
    },
    {
      "cell_type": "markdown",
      "source": [
        "### 5. 수치형 데이터 분석"
      ],
      "metadata": {
        "id": "1sEMFFM1LU6m"
      }
    },
    {
      "cell_type": "code",
      "source": [
        "num_cols = df[['price','minimum_nights','number_of_reviews','last_review',\n",
        "            'reviews_per_month','calculated_host_listings_count','availability_365']]"
      ],
      "metadata": {
        "id": "9zd0Tf1uLVNm"
      },
      "execution_count": 22,
      "outputs": []
    },
    {
      "cell_type": "code",
      "source": [
        "plt.hist(x = 'price', bins = 100, data = num_cols)"
      ],
      "metadata": {
        "colab": {
          "base_uri": "https://localhost:8080/",
          "height": 892
        },
        "id": "_aaSoTSkGcsv",
        "outputId": "a49ce676-7336-43a3-c3df-9abe8c2b0dcc"
      },
      "execution_count": 23,
      "outputs": [
        {
          "output_type": "execute_result",
          "data": {
            "text/plain": [
              "(array([2.1877e+04, 1.7233e+04, 5.8670e+03, 1.9300e+03, 7.5300e+02,\n",
              "        3.7600e+02, 2.2300e+02, 1.6200e+02, 1.0100e+02, 7.5000e+01,\n",
              "        7.1000e+01, 2.0000e+01, 2.3000e+01, 1.1000e+01, 8.0000e+00,\n",
              "        2.9000e+01, 5.0000e+00, 1.2000e+01, 4.0000e+00, 5.0000e+00,\n",
              "        2.5000e+01, 2.0000e+00, 3.0000e+00, 2.0000e+00, 1.0000e+00,\n",
              "        1.3000e+01, 3.0000e+00, 1.0000e+00, 2.0000e+00, 5.0000e+00,\n",
              "        8.0000e+00, 0.0000e+00, 2.0000e+00, 0.0000e+00, 0.0000e+00,\n",
              "        2.0000e+00, 2.0000e+00, 2.0000e+00, 1.0000e+00, 1.0000e+00,\n",
              "        3.0000e+00, 2.0000e+00, 2.0000e+00, 0.0000e+00, 0.0000e+00,\n",
              "        2.0000e+00, 0.0000e+00, 0.0000e+00, 0.0000e+00, 0.0000e+00,\n",
              "        6.0000e+00, 1.0000e+00, 1.0000e+00, 0.0000e+00, 0.0000e+00,\n",
              "        0.0000e+00, 0.0000e+00, 0.0000e+00, 0.0000e+00, 0.0000e+00,\n",
              "        2.0000e+00, 0.0000e+00, 0.0000e+00, 0.0000e+00, 1.0000e+00,\n",
              "        3.0000e+00, 0.0000e+00, 0.0000e+00, 1.0000e+00, 0.0000e+00,\n",
              "        0.0000e+00, 0.0000e+00, 0.0000e+00, 0.0000e+00, 0.0000e+00,\n",
              "        2.0000e+00, 0.0000e+00, 1.0000e+00, 0.0000e+00, 0.0000e+00,\n",
              "        1.0000e+00, 0.0000e+00, 0.0000e+00, 0.0000e+00, 0.0000e+00,\n",
              "        1.0000e+00, 0.0000e+00, 0.0000e+00, 0.0000e+00, 0.0000e+00,\n",
              "        0.0000e+00, 0.0000e+00, 0.0000e+00, 0.0000e+00, 0.0000e+00,\n",
              "        0.0000e+00, 0.0000e+00, 0.0000e+00, 0.0000e+00, 6.0000e+00]),\n",
              " array([    0.,   100.,   200.,   300.,   400.,   500.,   600.,   700.,\n",
              "          800.,   900.,  1000.,  1100.,  1200.,  1300.,  1400.,  1500.,\n",
              "         1600.,  1700.,  1800.,  1900.,  2000.,  2100.,  2200.,  2300.,\n",
              "         2400.,  2500.,  2600.,  2700.,  2800.,  2900.,  3000.,  3100.,\n",
              "         3200.,  3300.,  3400.,  3500.,  3600.,  3700.,  3800.,  3900.,\n",
              "         4000.,  4100.,  4200.,  4300.,  4400.,  4500.,  4600.,  4700.,\n",
              "         4800.,  4900.,  5000.,  5100.,  5200.,  5300.,  5400.,  5500.,\n",
              "         5600.,  5700.,  5800.,  5900.,  6000.,  6100.,  6200.,  6300.,\n",
              "         6400.,  6500.,  6600.,  6700.,  6800.,  6900.,  7000.,  7100.,\n",
              "         7200.,  7300.,  7400.,  7500.,  7600.,  7700.,  7800.,  7900.,\n",
              "         8000.,  8100.,  8200.,  8300.,  8400.,  8500.,  8600.,  8700.,\n",
              "         8800.,  8900.,  9000.,  9100.,  9200.,  9300.,  9400.,  9500.,\n",
              "         9600.,  9700.,  9800.,  9900., 10000.]),\n",
              " <a list of 100 Patch objects>)"
            ]
          },
          "metadata": {},
          "execution_count": 23
        },
        {
          "output_type": "display_data",
          "data": {
            "image/png": "[encoded data removed]",
            "text/plain": [
              "<Figure size 432x288 with 1 Axes>"
            ]
          },
          "metadata": {
            "needs_background": "light"
          }
        }
      ]
    },
    {
      "cell_type": "code",
      "source": [
        "plt.hist(x = 'minimum_nights', bins = 100, data = num_cols)"
      ],
      "metadata": {
        "colab": {
          "base_uri": "https://localhost:8080/",
          "height": 1000
        },
        "id": "YhyUzAFLNi34",
        "outputId": "d4056b19-d2db-4359-f62a-5bac8aefb121"
      },
      "execution_count": 24,
      "outputs": [
        {
          "output_type": "execute_result",
          "data": {
            "text/plain": [
              "(array([4.2433e+04, 1.3790e+03, 4.5640e+03, 6.6000e+01, 1.2400e+02,\n",
              "        1.5000e+01, 1.3000e+01, 1.2700e+02, 5.0000e+00, 3.2000e+01,\n",
              "        3.0000e+00, 6.0000e+00, 3.0000e+00, 1.0000e+00, 5.0000e+01,\n",
              "        5.0000e+00, 2.0000e+00, 2.0000e+00, 0.0000e+00, 4.0000e+00,\n",
              "        0.0000e+00, 4.0000e+00, 0.0000e+00, 7.0000e+00, 0.0000e+00,\n",
              "        0.0000e+00, 0.0000e+00, 0.0000e+00, 6.0000e+00, 3.2000e+01,\n",
              "        0.0000e+00, 1.0000e+00, 0.0000e+00, 0.0000e+00, 0.0000e+00,\n",
              "        0.0000e+00, 0.0000e+00, 0.0000e+00, 1.0000e+00, 5.0000e+00,\n",
              "        0.0000e+00, 0.0000e+00, 0.0000e+00, 0.0000e+00, 0.0000e+00,\n",
              "        0.0000e+00, 0.0000e+00, 0.0000e+00, 0.0000e+00, 0.0000e+00,\n",
              "        0.0000e+00, 0.0000e+00, 0.0000e+00, 0.0000e+00, 0.0000e+00,\n",
              "        0.0000e+00, 0.0000e+00, 0.0000e+00, 0.0000e+00, 0.0000e+00,\n",
              "        0.0000e+00, 0.0000e+00, 0.0000e+00, 0.0000e+00, 0.0000e+00,\n",
              "        0.0000e+00, 0.0000e+00, 0.0000e+00, 0.0000e+00, 0.0000e+00,\n",
              "        0.0000e+00, 0.0000e+00, 0.0000e+00, 0.0000e+00, 0.0000e+00,\n",
              "        0.0000e+00, 0.0000e+00, 0.0000e+00, 0.0000e+00, 4.0000e+00,\n",
              "        0.0000e+00, 0.0000e+00, 0.0000e+00, 0.0000e+00, 0.0000e+00,\n",
              "        0.0000e+00, 0.0000e+00, 0.0000e+00, 0.0000e+00, 0.0000e+00,\n",
              "        0.0000e+00, 0.0000e+00, 0.0000e+00, 0.0000e+00, 0.0000e+00,\n",
              "        0.0000e+00, 0.0000e+00, 0.0000e+00, 0.0000e+00, 1.0000e+00]),\n",
              " array([1.00000e+00, 1.34900e+01, 2.59800e+01, 3.84700e+01, 5.09600e+01,\n",
              "        6.34500e+01, 7.59400e+01, 8.84300e+01, 1.00920e+02, 1.13410e+02,\n",
              "        1.25900e+02, 1.38390e+02, 1.50880e+02, 1.63370e+02, 1.75860e+02,\n",
              "        1.88350e+02, 2.00840e+02, 2.13330e+02, 2.25820e+02, 2.38310e+02,\n",
              "        2.50800e+02, 2.63290e+02, 2.75780e+02, 2.88270e+02, 3.00760e+02,\n",
              "        3.13250e+02, 3.25740e+02, 3.38230e+02, 3.50720e+02, 3.63210e+02,\n",
              "        3.75700e+02, 3.88190e+02, 4.00680e+02, 4.13170e+02, 4.25660e+02,\n",
              "        4.38150e+02, 4.50640e+02, 4.63130e+02, 4.75620e+02, 4.88110e+02,\n",
              "        5.00600e+02, 5.13090e+02, 5.25580e+02, 5.38070e+02, 5.50560e+02,\n",
              "        5.63050e+02, 5.75540e+02, 5.88030e+02, 6.00520e+02, 6.13010e+02,\n",
              "        6.25500e+02, 6.37990e+02, 6.50480e+02, 6.62970e+02, 6.75460e+02,\n",
              "        6.87950e+02, 7.00440e+02, 7.12930e+02, 7.25420e+02, 7.37910e+02,\n",
              "        7.50400e+02, 7.62890e+02, 7.75380e+02, 7.87870e+02, 8.00360e+02,\n",
              "        8.12850e+02, 8.25340e+02, 8.37830e+02, 8.50320e+02, 8.62810e+02,\n",
              "        8.75300e+02, 8.87790e+02, 9.00280e+02, 9.12770e+02, 9.25260e+02,\n",
              "        9.37750e+02, 9.50240e+02, 9.62730e+02, 9.75220e+02, 9.87710e+02,\n",
              "        1.00020e+03, 1.01269e+03, 1.02518e+03, 1.03767e+03, 1.05016e+03,\n",
              "        1.06265e+03, 1.07514e+03, 1.08763e+03, 1.10012e+03, 1.11261e+03,\n",
              "        1.12510e+03, 1.13759e+03, 1.15008e+03, 1.16257e+03, 1.17506e+03,\n",
              "        1.18755e+03, 1.20004e+03, 1.21253e+03, 1.22502e+03, 1.23751e+03,\n",
              "        1.25000e+03]),\n",
              " <a list of 100 Patch objects>)"
            ]
          },
          "metadata": {},
          "execution_count": 24
        },
        {
          "output_type": "display_data",
          "data": {
            "image/png": "[encoded data removed]",
            "text/plain": [
              "<Figure size 432x288 with 1 Axes>"
            ]
          },
          "metadata": {
            "needs_background": "light"
          }
        }
      ]
    },
    {
      "cell_type": "code",
      "source": [
        "min_night = num_cols[num_cols['minimum_nights']<40]\n",
        "plt.hist(x = 'minimum_nights', bins = 40, data = min_night)"
      ],
      "metadata": {
        "colab": {
          "base_uri": "https://localhost:8080/",
          "height": 523
        },
        "id": "w-70_ZweNsuj",
        "outputId": "eeb3b94a-3c2d-4750-ead1-aeb64b30d607"
      },
      "execution_count": 25,
      "outputs": [
        {
          "output_type": "execute_result",
          "data": {
            "text/plain": [
              "(array([1.2720e+04, 1.1696e+04, 7.9990e+03, 3.3030e+03, 3.0340e+03,\n",
              "        7.5200e+02, 2.0580e+03, 1.3000e+02, 8.0000e+01, 4.8300e+02,\n",
              "        3.3000e+01, 9.1000e+01, 5.4000e+01, 5.6200e+02, 2.7900e+02,\n",
              "        1.8000e+01, 1.4000e+01, 2.8000e+01, 8.0000e+00, 0.0000e+00,\n",
              "        2.2300e+02, 1.3500e+02, 8.0000e+00, 8.0000e+00, 1.4000e+01,\n",
              "        8.2000e+01, 1.6000e+01, 1.7000e+01, 2.0300e+02, 3.4000e+02,\n",
              "        3.7600e+03, 2.0100e+02, 8.0000e+00, 2.0000e+00, 0.0000e+00,\n",
              "        1.5000e+01, 1.0000e+00, 1.0000e+00, 0.0000e+00, 1.0000e+00]),\n",
              " array([ 1.  ,  1.95,  2.9 ,  3.85,  4.8 ,  5.75,  6.7 ,  7.65,  8.6 ,\n",
              "         9.55, 10.5 , 11.45, 12.4 , 13.35, 14.3 , 15.25, 16.2 , 17.15,\n",
              "        18.1 , 19.05, 20.  , 20.95, 21.9 , 22.85, 23.8 , 24.75, 25.7 ,\n",
              "        26.65, 27.6 , 28.55, 29.5 , 30.45, 31.4 , 32.35, 33.3 , 34.25,\n",
              "        35.2 , 36.15, 37.1 , 38.05, 39.  ]),\n",
              " <a list of 40 Patch objects>)"
            ]
          },
          "metadata": {},
          "execution_count": 25
        },
        {
          "output_type": "display_data",
          "data": {
            "image/png": "[encoded data removed]",
            "text/plain": [
              "<Figure size 432x288 with 1 Axes>"
            ]
          },
          "metadata": {
            "needs_background": "light"
          }
        }
      ]
    },
    {
      "cell_type": "code",
      "source": [
        "min_nigts = pd.DataFrame(num_cols['minimum_nights'].value_counts()).reset_index().rename(columns = {'index':'minimum_nights', 'minimum_nights' : 'cnts'}).sort_values('minimum_nights', ascending=True)\n",
        "tot_min_nigts = sum(min_nigts['cnts'])\n",
        "min_nigts['ratio'] = min_nigts['cnts'] / tot_min_nigts\n",
        "\n",
        "cum_r = []\n",
        "cr = 0\n",
        "\n",
        "for i in min_nigts['ratio']:\n",
        "  cr += i\n",
        "  cum_r.append(cr)\n",
        "\n",
        "min_nigts['cum_ratio'] = cum_r\n",
        "\n",
        "\n",
        "min_nigts.head(30)"
      ],
      "metadata": {
        "colab": {
          "base_uri": "https://localhost:8080/",
          "height": 990
        },
        "id": "M-1dXdihPBxc",
        "outputId": "a0c1be17-037f-484e-9c96-051ceb230812"
      },
      "execution_count": 26,
      "outputs": [
        {
          "output_type": "execute_result",
          "data": {
            "text/html": [
              "\n",
              "  <div id=\"df-766e2cb2-c5b1-43cc-a694-5d244ce7fd58\">\n",
              "    <div class=\"colab-df-container\">\n",
              "      <div>\n",
              "<style scoped>\n",
              "    .dataframe tbody tr th:only-of-type {\n",
              "        vertical-align: middle;\n",
              "    }\n",
              "\n",
              "    .dataframe tbody tr th {\n",
              "        vertical-align: top;\n",
              "    }\n",
              "\n",
              "    .dataframe thead th {\n",
              "        text-align: right;\n",
              "    }\n",
              "</style>\n",
              "<table border=\"1\" class=\"dataframe\">\n",
              "  <thead>\n",
              "    <tr style=\"text-align: right;\">\n",
              "      <th></th>\n",
              "      <th>minimum_nights</th>\n",
              "      <th>cnts</th>\n",
              "      <th>ratio</th>\n",
              "      <th>cum_ratio</th>\n",
              "    </tr>\n",
              "  </thead>\n",
              "  <tbody>\n",
              "    <tr>\n",
              "      <th>0</th>\n",
              "      <td>1</td>\n",
              "      <td>12720</td>\n",
              "      <td>0.260149</td>\n",
              "      <td>0.260149</td>\n",
              "    </tr>\n",
              "    <tr>\n",
              "      <th>1</th>\n",
              "      <td>2</td>\n",
              "      <td>11696</td>\n",
              "      <td>0.239206</td>\n",
              "      <td>0.499356</td>\n",
              "    </tr>\n",
              "    <tr>\n",
              "      <th>2</th>\n",
              "      <td>3</td>\n",
              "      <td>7999</td>\n",
              "      <td>0.163595</td>\n",
              "      <td>0.662951</td>\n",
              "    </tr>\n",
              "    <tr>\n",
              "      <th>4</th>\n",
              "      <td>4</td>\n",
              "      <td>3303</td>\n",
              "      <td>0.067553</td>\n",
              "      <td>0.730504</td>\n",
              "    </tr>\n",
              "    <tr>\n",
              "      <th>5</th>\n",
              "      <td>5</td>\n",
              "      <td>3034</td>\n",
              "      <td>0.062051</td>\n",
              "      <td>0.792555</td>\n",
              "    </tr>\n",
              "    <tr>\n",
              "      <th>7</th>\n",
              "      <td>6</td>\n",
              "      <td>752</td>\n",
              "      <td>0.015380</td>\n",
              "      <td>0.807935</td>\n",
              "    </tr>\n",
              "    <tr>\n",
              "      <th>6</th>\n",
              "      <td>7</td>\n",
              "      <td>2058</td>\n",
              "      <td>0.042090</td>\n",
              "      <td>0.850026</td>\n",
              "    </tr>\n",
              "    <tr>\n",
              "      <th>16</th>\n",
              "      <td>8</td>\n",
              "      <td>130</td>\n",
              "      <td>0.002659</td>\n",
              "      <td>0.852684</td>\n",
              "    </tr>\n",
              "    <tr>\n",
              "      <th>21</th>\n",
              "      <td>9</td>\n",
              "      <td>80</td>\n",
              "      <td>0.001636</td>\n",
              "      <td>0.854320</td>\n",
              "    </tr>\n",
              "    <tr>\n",
              "      <th>9</th>\n",
              "      <td>10</td>\n",
              "      <td>483</td>\n",
              "      <td>0.009878</td>\n",
              "      <td>0.864199</td>\n",
              "    </tr>\n",
              "    <tr>\n",
              "      <th>24</th>\n",
              "      <td>11</td>\n",
              "      <td>33</td>\n",
              "      <td>0.000675</td>\n",
              "      <td>0.864874</td>\n",
              "    </tr>\n",
              "    <tr>\n",
              "      <th>19</th>\n",
              "      <td>12</td>\n",
              "      <td>91</td>\n",
              "      <td>0.001861</td>\n",
              "      <td>0.866735</td>\n",
              "    </tr>\n",
              "    <tr>\n",
              "      <th>22</th>\n",
              "      <td>13</td>\n",
              "      <td>54</td>\n",
              "      <td>0.001104</td>\n",
              "      <td>0.867839</td>\n",
              "    </tr>\n",
              "    <tr>\n",
              "      <th>8</th>\n",
              "      <td>14</td>\n",
              "      <td>562</td>\n",
              "      <td>0.011494</td>\n",
              "      <td>0.879333</td>\n",
              "    </tr>\n",
              "    <tr>\n",
              "      <th>11</th>\n",
              "      <td>15</td>\n",
              "      <td>279</td>\n",
              "      <td>0.005706</td>\n",
              "      <td>0.885039</td>\n",
              "    </tr>\n",
              "    <tr>\n",
              "      <th>29</th>\n",
              "      <td>16</td>\n",
              "      <td>18</td>\n",
              "      <td>0.000368</td>\n",
              "      <td>0.885408</td>\n",
              "    </tr>\n",
              "    <tr>\n",
              "      <th>35</th>\n",
              "      <td>17</td>\n",
              "      <td>14</td>\n",
              "      <td>0.000286</td>\n",
              "      <td>0.885694</td>\n",
              "    </tr>\n",
              "    <tr>\n",
              "      <th>28</th>\n",
              "      <td>18</td>\n",
              "      <td>28</td>\n",
              "      <td>0.000573</td>\n",
              "      <td>0.886266</td>\n",
              "    </tr>\n",
              "    <tr>\n",
              "      <th>39</th>\n",
              "      <td>19</td>\n",
              "      <td>8</td>\n",
              "      <td>0.000164</td>\n",
              "      <td>0.886430</td>\n",
              "    </tr>\n",
              "    <tr>\n",
              "      <th>12</th>\n",
              "      <td>20</td>\n",
              "      <td>223</td>\n",
              "      <td>0.004561</td>\n",
              "      <td>0.890991</td>\n",
              "    </tr>\n",
              "    <tr>\n",
              "      <th>15</th>\n",
              "      <td>21</td>\n",
              "      <td>135</td>\n",
              "      <td>0.002761</td>\n",
              "      <td>0.893752</td>\n",
              "    </tr>\n",
              "    <tr>\n",
              "      <th>41</th>\n",
              "      <td>22</td>\n",
              "      <td>8</td>\n",
              "      <td>0.000164</td>\n",
              "      <td>0.893916</td>\n",
              "    </tr>\n",
              "    <tr>\n",
              "      <th>42</th>\n",
              "      <td>23</td>\n",
              "      <td>8</td>\n",
              "      <td>0.000164</td>\n",
              "      <td>0.894079</td>\n",
              "    </tr>\n",
              "    <tr>\n",
              "      <th>34</th>\n",
              "      <td>24</td>\n",
              "      <td>14</td>\n",
              "      <td>0.000286</td>\n",
              "      <td>0.894365</td>\n",
              "    </tr>\n",
              "    <tr>\n",
              "      <th>20</th>\n",
              "      <td>25</td>\n",
              "      <td>82</td>\n",
              "      <td>0.001677</td>\n",
              "      <td>0.896043</td>\n",
              "    </tr>\n",
              "    <tr>\n",
              "      <th>31</th>\n",
              "      <td>26</td>\n",
              "      <td>16</td>\n",
              "      <td>0.000327</td>\n",
              "      <td>0.896370</td>\n",
              "    </tr>\n",
              "    <tr>\n",
              "      <th>30</th>\n",
              "      <td>27</td>\n",
              "      <td>17</td>\n",
              "      <td>0.000348</td>\n",
              "      <td>0.896717</td>\n",
              "    </tr>\n",
              "    <tr>\n",
              "      <th>13</th>\n",
              "      <td>28</td>\n",
              "      <td>203</td>\n",
              "      <td>0.004152</td>\n",
              "      <td>0.900869</td>\n",
              "    </tr>\n",
              "    <tr>\n",
              "      <th>10</th>\n",
              "      <td>29</td>\n",
              "      <td>340</td>\n",
              "      <td>0.006954</td>\n",
              "      <td>0.907823</td>\n",
              "    </tr>\n",
              "    <tr>\n",
              "      <th>3</th>\n",
              "      <td>30</td>\n",
              "      <td>3760</td>\n",
              "      <td>0.076899</td>\n",
              "      <td>0.984722</td>\n",
              "    </tr>\n",
              "  </tbody>\n",
              "</table>\n",
              "</div>\n",
              "      <button class=\"colab-df-convert\" onclick=\"convertToInteractive('df-766e2cb2-c5b1-43cc-a694-5d244ce7fd58')\"\n",
              "              title=\"Convert this dataframe to an interactive table.\"\n",
              "              style=\"display:none;\">\n",
              "        \n",
              "  <svg xmlns=\"http://www.w3.org/2000/svg\" height=\"24px\"viewBox=\"0 0 24 24\"\n",
              "       width=\"24px\">\n",
              "    <path d=\"M0 0h24v24H0V0z\" fill=\"none\"/>\n",
              "    <path d=\"M18.56 5.44l.94 2.06.94-2.06 2.06-.94-2.06-.94-.94-2.06-.94 2.06-2.06.94zm-11 1L8.5 8.5l.94-2.06 2.06-.94-2.06-.94L8.5 2.5l-.94 2.06-2.06.94zm10 10l.94 2.06.94-2.06 2.06-.94-2.06-.94-.94-2.06-.94 2.06-2.06.94z\"/><path d=\"M17.41 7.96l-1.37-1.37c-.4-.4-.92-.59-1.43-.59-.52 0-1.04.2-1.43.59L10.3 9.45l-7.72 7.72c-.78.78-.78 2.05 0 2.83L4 21.41c.39.39.9.59 1.41.59.51 0 1.02-.2 1.41-.59l7.78-7.78 2.81-2.81c.8-.78.8-2.07 0-2.86zM5.41 20L4 18.59l7.72-7.72 1.47 1.35L5.41 20z\"/>\n",
              "  </svg>\n",
              "      </button>\n",
              "      \n",
              "  <style>\n",
              "    .colab-df-container {\n",
              "      display:flex;\n",
              "      flex-wrap:wrap;\n",
              "      gap: 12px;\n",
              "    }\n",
              "\n",
              "    .colab-df-convert {\n",
              "      background-color: #E8F0FE;\n",
              "      border: none;\n",
              "      border-radius: 50%;\n",
              "      cursor: pointer;\n",
              "      display: none;\n",
              "      fill: #1967D2;\n",
              "      height: 32px;\n",
              "      padding: 0 0 0 0;\n",
              "      width: 32px;\n",
              "    }\n",
              "\n",
              "    .colab-df-convert:hover {\n",
              "      background-color: #E2EBFA;\n",
              "      box-shadow: 0px 1px 2px rgba(60, 64, 67, 0.3), 0px 1px 3px 1px rgba(60, 64, 67, 0.15);\n",
              "      fill: #174EA6;\n",
              "    }\n",
              "\n",
              "    [theme=dark] .colab-df-convert {\n",
              "      background-color: #3B4455;\n",
              "      fill: #D2E3FC;\n",
              "    }\n",
              "\n",
              "    [theme=dark] .colab-df-convert:hover {\n",
              "      background-color: #434B5C;\n",
              "      box-shadow: 0px 1px 3px 1px rgba(0, 0, 0, 0.15);\n",
              "      filter: drop-shadow(0px 1px 2px rgba(0, 0, 0, 0.3));\n",
              "      fill: #FFFFFF;\n",
              "    }\n",
              "  </style>\n",
              "\n",
              "      <script>\n",
              "        const buttonEl =\n",
              "          document.querySelector('#df-766e2cb2-c5b1-43cc-a694-5d244ce7fd58 button.colab-df-convert');\n",
              "        buttonEl.style.display =\n",
              "          google.colab.kernel.accessAllowed ? 'block' : 'none';\n",
              "\n",
              "        async function convertToInteractive(key) {\n",
              "          const element = document.querySelector('#df-766e2cb2-c5b1-43cc-a694-5d244ce7fd58');\n",
              "          const dataTable =\n",
              "            await google.colab.kernel.invokeFunction('convertToInteractive',\n",
              "                                                     [key], {});\n",
              "          if (!dataTable) return;\n",
              "\n",
              "          const docLinkHtml = 'Like what you see? Visit the ' +\n",
              "            '<a target=\"_blank\" href=https://colab.research.google.com/notebooks/data_table.ipynb>data table notebook</a>'\n",
              "            + ' to learn more about interactive tables.';\n",
              "          element.innerHTML = '';\n",
              "          dataTable['output_type'] = 'display_data';\n",
              "          await google.colab.output.renderOutput(dataTable, element);\n",
              "          const docLink = document.createElement('div');\n",
              "          docLink.innerHTML = docLinkHtml;\n",
              "          element.appendChild(docLink);\n",
              "        }\n",
              "      </script>\n",
              "    </div>\n",
              "  </div>\n",
              "  "
            ],
            "text/plain": [
              "    minimum_nights   cnts     ratio  cum_ratio\n",
              "0                1  12720  0.260149   0.260149\n",
              "1                2  11696  0.239206   0.499356\n",
              "2                3   7999  0.163595   0.662951\n",
              "4                4   3303  0.067553   0.730504\n",
              "5                5   3034  0.062051   0.792555\n",
              "7                6    752  0.015380   0.807935\n",
              "6                7   2058  0.042090   0.850026\n",
              "16               8    130  0.002659   0.852684\n",
              "21               9     80  0.001636   0.854320\n",
              "9               10    483  0.009878   0.864199\n",
              "24              11     33  0.000675   0.864874\n",
              "19              12     91  0.001861   0.866735\n",
              "22              13     54  0.001104   0.867839\n",
              "8               14    562  0.011494   0.879333\n",
              "11              15    279  0.005706   0.885039\n",
              "29              16     18  0.000368   0.885408\n",
              "35              17     14  0.000286   0.885694\n",
              "28              18     28  0.000573   0.886266\n",
              "39              19      8  0.000164   0.886430\n",
              "12              20    223  0.004561   0.890991\n",
              "15              21    135  0.002761   0.893752\n",
              "41              22      8  0.000164   0.893916\n",
              "42              23      8  0.000164   0.894079\n",
              "34              24     14  0.000286   0.894365\n",
              "20              25     82  0.001677   0.896043\n",
              "31              26     16  0.000327   0.896370\n",
              "30              27     17  0.000348   0.896717\n",
              "13              28    203  0.004152   0.900869\n",
              "10              29    340  0.006954   0.907823\n",
              "3               30   3760  0.076899   0.984722"
            ]
          },
          "metadata": {},
          "execution_count": 26
        }
      ]
    },
    {
      "cell_type": "markdown",
      "source": [
        "최소 숙박 일수는 1일에 가장 많고, 2일 이하가 50%.   \n",
        "30일 이하가 약 98.5%.\n",
        "즉 한달 넘는 장기 투숙자들은 1.5%에 불과함.  \n",
        "binning을 통한 최소 숙박 일수 grouping 필요할것으로 보임"
      ],
      "metadata": {
        "id": "_C4f2zTDO6x4"
      }
    },
    {
      "cell_type": "code",
      "source": [
        "plt.hist(x = 'reviews_per_month', bins = 100, data = num_cols)"
      ],
      "metadata": {
        "colab": {
          "base_uri": "https://localhost:8080/",
          "height": 1000
        },
        "id": "KRVNnH5YOAZk",
        "outputId": "ccb75717-8991-4492-f88e-69851b152116"
      },
      "execution_count": 27,
      "outputs": [
        {
          "output_type": "execute_result",
          "data": {
            "text/plain": [
              "(array([1.7991e+04, 6.1500e+03, 3.4210e+03, 2.9750e+03, 2.2770e+03,\n",
              "        1.8620e+03, 1.3710e+03, 9.0500e+02, 6.4800e+02, 3.7800e+02,\n",
              "        2.6900e+02, 1.6600e+02, 1.2800e+02, 8.4000e+01, 5.1000e+01,\n",
              "        4.6000e+01, 3.1000e+01, 2.5000e+01, 1.4000e+01, 1.1000e+01,\n",
              "        1.0000e+01, 2.0000e+00, 1.1000e+01, 3.0000e+00, 3.0000e+00,\n",
              "        0.0000e+00, 3.0000e+00, 2.0000e+00, 1.0000e+00, 0.0000e+00,\n",
              "        1.0000e+00, 0.0000e+00, 0.0000e+00, 1.0000e+00, 0.0000e+00,\n",
              "        1.0000e+00, 0.0000e+00, 0.0000e+00, 0.0000e+00, 0.0000e+00,\n",
              "        0.0000e+00, 0.0000e+00, 0.0000e+00, 0.0000e+00, 0.0000e+00,\n",
              "        0.0000e+00, 0.0000e+00, 1.0000e+00, 0.0000e+00, 0.0000e+00,\n",
              "        0.0000e+00, 0.0000e+00, 0.0000e+00, 0.0000e+00, 0.0000e+00,\n",
              "        0.0000e+00, 0.0000e+00, 0.0000e+00, 0.0000e+00, 0.0000e+00,\n",
              "        0.0000e+00, 0.0000e+00, 0.0000e+00, 0.0000e+00, 0.0000e+00,\n",
              "        0.0000e+00, 0.0000e+00, 0.0000e+00, 0.0000e+00, 0.0000e+00,\n",
              "        0.0000e+00, 0.0000e+00, 0.0000e+00, 0.0000e+00, 0.0000e+00,\n",
              "        0.0000e+00, 0.0000e+00, 0.0000e+00, 0.0000e+00, 0.0000e+00,\n",
              "        0.0000e+00, 0.0000e+00, 0.0000e+00, 0.0000e+00, 0.0000e+00,\n",
              "        0.0000e+00, 0.0000e+00, 0.0000e+00, 0.0000e+00, 0.0000e+00,\n",
              "        0.0000e+00, 0.0000e+00, 0.0000e+00, 0.0000e+00, 0.0000e+00,\n",
              "        0.0000e+00, 0.0000e+00, 0.0000e+00, 0.0000e+00, 1.0000e+00]),\n",
              " array([1.00000e-02, 5.94900e-01, 1.17980e+00, 1.76470e+00, 2.34960e+00,\n",
              "        2.93450e+00, 3.51940e+00, 4.10430e+00, 4.68920e+00, 5.27410e+00,\n",
              "        5.85900e+00, 6.44390e+00, 7.02880e+00, 7.61370e+00, 8.19860e+00,\n",
              "        8.78350e+00, 9.36840e+00, 9.95330e+00, 1.05382e+01, 1.11231e+01,\n",
              "        1.17080e+01, 1.22929e+01, 1.28778e+01, 1.34627e+01, 1.40476e+01,\n",
              "        1.46325e+01, 1.52174e+01, 1.58023e+01, 1.63872e+01, 1.69721e+01,\n",
              "        1.75570e+01, 1.81419e+01, 1.87268e+01, 1.93117e+01, 1.98966e+01,\n",
              "        2.04815e+01, 2.10664e+01, 2.16513e+01, 2.22362e+01, 2.28211e+01,\n",
              "        2.34060e+01, 2.39909e+01, 2.45758e+01, 2.51607e+01, 2.57456e+01,\n",
              "        2.63305e+01, 2.69154e+01, 2.75003e+01, 2.80852e+01, 2.86701e+01,\n",
              "        2.92550e+01, 2.98399e+01, 3.04248e+01, 3.10097e+01, 3.15946e+01,\n",
              "        3.21795e+01, 3.27644e+01, 3.33493e+01, 3.39342e+01, 3.45191e+01,\n",
              "        3.51040e+01, 3.56889e+01, 3.62738e+01, 3.68587e+01, 3.74436e+01,\n",
              "        3.80285e+01, 3.86134e+01, 3.91983e+01, 3.97832e+01, 4.03681e+01,\n",
              "        4.09530e+01, 4.15379e+01, 4.21228e+01, 4.27077e+01, 4.32926e+01,\n",
              "        4.38775e+01, 4.44624e+01, 4.50473e+01, 4.56322e+01, 4.62171e+01,\n",
              "        4.68020e+01, 4.73869e+01, 4.79718e+01, 4.85567e+01, 4.91416e+01,\n",
              "        4.97265e+01, 5.03114e+01, 5.08963e+01, 5.14812e+01, 5.20661e+01,\n",
              "        5.26510e+01, 5.32359e+01, 5.38208e+01, 5.44057e+01, 5.49906e+01,\n",
              "        5.55755e+01, 5.61604e+01, 5.67453e+01, 5.73302e+01, 5.79151e+01,\n",
              "        5.85000e+01]),\n",
              " <a list of 100 Patch objects>)"
            ]
          },
          "metadata": {},
          "execution_count": 27
        },
        {
          "output_type": "display_data",
          "data": {
            "image/png": "[encoded data removed]",
            "text/plain": [
              "<Figure size 432x288 with 1 Axes>"
            ]
          },
          "metadata": {
            "needs_background": "light"
          }
        }
      ]
    },
    {
      "cell_type": "code",
      "source": [
        "rpm = pd.DataFrame(num_cols['reviews_per_month'].fillna(0.0).value_counts()).reset_index().rename(columns = {'index':'reviews_per_month', 'reviews_per_month' : 'cnts'}).sort_values('reviews_per_month', ascending=True)\n",
        "tot_rpm = sum(rpm['cnts'])\n",
        "rpm['ratio'] = rpm['cnts'] / tot_rpm\n",
        "cum_r = []\n",
        "cr = 0\n",
        "\n",
        "for i in rpm['ratio']:\n",
        "  cr += i\n",
        "  cum_r.append(cr)\n",
        "\n",
        "rpm['cum_ratio'] = cum_r\n",
        "\n",
        "rpm50 = rpm[rpm['cum_ratio'] >= 0.50]['reviews_per_month'].min()\n",
        "rpm90 = rpm[rpm['cum_ratio'] >= 0.90]['reviews_per_month'].min()\n",
        "rpm95 = rpm[rpm['cum_ratio'] >= 0.95]['reviews_per_month'].min()\n",
        "rpm99 = rpm[rpm['cum_ratio'] >= 0.99]['reviews_per_month'].min()\n",
        "\n",
        "print(rpm50, rpm90, rpm95, rpm99)"
      ],
      "metadata": {
        "colab": {
          "base_uri": "https://localhost:8080/"
        },
        "id": "AF6LNSj8RNKT",
        "outputId": "bc00ae1c-e17a-4c67-a682-ab27d9e8299d"
      },
      "execution_count": 28,
      "outputs": [
        {
          "output_type": "stream",
          "name": "stdout",
          "text": [
            "0.37 3.25 4.31 6.8\n"
          ]
        }
      ]
    },
    {
      "cell_type": "markdown",
      "source": [
        "월별 약 50%가 0.37회 리뷰가 달리며, 상위 10%가 월 평균 3.25회, 상위5%가 4.31회, 상위1%가 6.8회 리뷰가 달림."
      ],
      "metadata": {
        "id": "r1PLg0z7S59D"
      }
    },
    {
      "cell_type": "code",
      "source": [
        "host_list_cnts = pd.DataFrame(num_cols['calculated_host_listings_count'].fillna(0.0).value_counts()).reset_index().rename(columns = {'index':'calculated_host_listings_count', 'calculated_host_listings_count' : 'cnts'}).sort_values('calculated_host_listings_count', ascending=True)\n",
        "tot_host_list_cnts = sum(host_list_cnts['cnts'])\n",
        "host_list_cnts['ratio'] = host_list_cnts['cnts'] / tot_host_list_cnts\n",
        "cum_r = []\n",
        "cr = 0\n",
        "\n",
        "for i in host_list_cnts['ratio']:\n",
        "  cr += i\n",
        "  cum_r.append(cr)\n",
        "\n",
        "host_list_cnts['cum_ratio'] = cum_r\n",
        "\n",
        "host_list_cnts50 = host_list_cnts[host_list_cnts['cum_ratio'] >= 0.50]['calculated_host_listings_count'].min()\n",
        "host_list_cnts90 = host_list_cnts[host_list_cnts['cum_ratio'] >= 0.90]['calculated_host_listings_count'].min()\n",
        "host_list_cnts95 = host_list_cnts[host_list_cnts['cum_ratio'] >= 0.95]['calculated_host_listings_count'].min()\n",
        "host_list_cnts99 = host_list_cnts[host_list_cnts['cum_ratio'] >= 0.99]['calculated_host_listings_count'].min()\n",
        "\n",
        "print(host_list_cnts50, host_list_cnts90, host_list_cnts95, host_list_cnts99)\n",
        "host_list_cnts"
      ],
      "metadata": {
        "colab": {
          "base_uri": "https://localhost:8080/",
          "height": 1000
        },
        "id": "d9Oe4x95TUI2",
        "outputId": "2444232d-b870-425c-863a-6f466c381f52"
      },
      "execution_count": 29,
      "outputs": [
        {
          "output_type": "stream",
          "name": "stdout",
          "text": [
            "1 5 15 232\n"
          ]
        },
        {
          "output_type": "execute_result",
          "data": {
            "text/html": [
              "\n",
              "  <div id=\"df-f3672086-f338-488c-a8e4-55418bec3c14\">\n",
              "    <div class=\"colab-df-container\">\n",
              "      <div>\n",
              "<style scoped>\n",
              "    .dataframe tbody tr th:only-of-type {\n",
              "        vertical-align: middle;\n",
              "    }\n",
              "\n",
              "    .dataframe tbody tr th {\n",
              "        vertical-align: top;\n",
              "    }\n",
              "\n",
              "    .dataframe thead th {\n",
              "        text-align: right;\n",
              "    }\n",
              "</style>\n",
              "<table border=\"1\" class=\"dataframe\">\n",
              "  <thead>\n",
              "    <tr style=\"text-align: right;\">\n",
              "      <th></th>\n",
              "      <th>calculated_host_listings_count</th>\n",
              "      <th>cnts</th>\n",
              "      <th>ratio</th>\n",
              "      <th>cum_ratio</th>\n",
              "    </tr>\n",
              "  </thead>\n",
              "  <tbody>\n",
              "    <tr>\n",
              "      <th>0</th>\n",
              "      <td>1</td>\n",
              "      <td>32303</td>\n",
              "      <td>0.660661</td>\n",
              "      <td>0.660661</td>\n",
              "    </tr>\n",
              "    <tr>\n",
              "      <th>1</th>\n",
              "      <td>2</td>\n",
              "      <td>6658</td>\n",
              "      <td>0.136169</td>\n",
              "      <td>0.796830</td>\n",
              "    </tr>\n",
              "    <tr>\n",
              "      <th>2</th>\n",
              "      <td>3</td>\n",
              "      <td>2853</td>\n",
              "      <td>0.058350</td>\n",
              "      <td>0.855179</td>\n",
              "    </tr>\n",
              "    <tr>\n",
              "      <th>3</th>\n",
              "      <td>4</td>\n",
              "      <td>1440</td>\n",
              "      <td>0.029451</td>\n",
              "      <td>0.884630</td>\n",
              "    </tr>\n",
              "    <tr>\n",
              "      <th>4</th>\n",
              "      <td>5</td>\n",
              "      <td>845</td>\n",
              "      <td>0.017282</td>\n",
              "      <td>0.901912</td>\n",
              "    </tr>\n",
              "    <tr>\n",
              "      <th>5</th>\n",
              "      <td>6</td>\n",
              "      <td>570</td>\n",
              "      <td>0.011658</td>\n",
              "      <td>0.913570</td>\n",
              "    </tr>\n",
              "    <tr>\n",
              "      <th>7</th>\n",
              "      <td>7</td>\n",
              "      <td>399</td>\n",
              "      <td>0.008160</td>\n",
              "      <td>0.921730</td>\n",
              "    </tr>\n",
              "    <tr>\n",
              "      <th>6</th>\n",
              "      <td>8</td>\n",
              "      <td>416</td>\n",
              "      <td>0.008508</td>\n",
              "      <td>0.930238</td>\n",
              "    </tr>\n",
              "    <tr>\n",
              "      <th>9</th>\n",
              "      <td>9</td>\n",
              "      <td>234</td>\n",
              "      <td>0.004786</td>\n",
              "      <td>0.935024</td>\n",
              "    </tr>\n",
              "    <tr>\n",
              "      <th>11</th>\n",
              "      <td>10</td>\n",
              "      <td>210</td>\n",
              "      <td>0.004295</td>\n",
              "      <td>0.939319</td>\n",
              "    </tr>\n",
              "    <tr>\n",
              "      <th>16</th>\n",
              "      <td>11</td>\n",
              "      <td>110</td>\n",
              "      <td>0.002250</td>\n",
              "      <td>0.941569</td>\n",
              "    </tr>\n",
              "    <tr>\n",
              "      <th>13</th>\n",
              "      <td>12</td>\n",
              "      <td>180</td>\n",
              "      <td>0.003681</td>\n",
              "      <td>0.945250</td>\n",
              "    </tr>\n",
              "    <tr>\n",
              "      <th>14</th>\n",
              "      <td>13</td>\n",
              "      <td>130</td>\n",
              "      <td>0.002659</td>\n",
              "      <td>0.947909</td>\n",
              "    </tr>\n",
              "    <tr>\n",
              "      <th>24</th>\n",
              "      <td>14</td>\n",
              "      <td>70</td>\n",
              "      <td>0.001432</td>\n",
              "      <td>0.949340</td>\n",
              "    </tr>\n",
              "    <tr>\n",
              "      <th>23</th>\n",
              "      <td>15</td>\n",
              "      <td>75</td>\n",
              "      <td>0.001534</td>\n",
              "      <td>0.950874</td>\n",
              "    </tr>\n",
              "    <tr>\n",
              "      <th>46</th>\n",
              "      <td>16</td>\n",
              "      <td>16</td>\n",
              "      <td>0.000327</td>\n",
              "      <td>0.951202</td>\n",
              "    </tr>\n",
              "    <tr>\n",
              "      <th>27</th>\n",
              "      <td>17</td>\n",
              "      <td>68</td>\n",
              "      <td>0.001391</td>\n",
              "      <td>0.952592</td>\n",
              "    </tr>\n",
              "    <tr>\n",
              "      <th>31</th>\n",
              "      <td>18</td>\n",
              "      <td>54</td>\n",
              "      <td>0.001104</td>\n",
              "      <td>0.953697</td>\n",
              "    </tr>\n",
              "    <tr>\n",
              "      <th>45</th>\n",
              "      <td>19</td>\n",
              "      <td>19</td>\n",
              "      <td>0.000389</td>\n",
              "      <td>0.954085</td>\n",
              "    </tr>\n",
              "    <tr>\n",
              "      <th>36</th>\n",
              "      <td>20</td>\n",
              "      <td>40</td>\n",
              "      <td>0.000818</td>\n",
              "      <td>0.954903</td>\n",
              "    </tr>\n",
              "    <tr>\n",
              "      <th>44</th>\n",
              "      <td>21</td>\n",
              "      <td>21</td>\n",
              "      <td>0.000429</td>\n",
              "      <td>0.955333</td>\n",
              "    </tr>\n",
              "    <tr>\n",
              "      <th>25</th>\n",
              "      <td>23</td>\n",
              "      <td>69</td>\n",
              "      <td>0.001411</td>\n",
              "      <td>0.956744</td>\n",
              "    </tr>\n",
              "    <tr>\n",
              "      <th>32</th>\n",
              "      <td>25</td>\n",
              "      <td>50</td>\n",
              "      <td>0.001023</td>\n",
              "      <td>0.957767</td>\n",
              "    </tr>\n",
              "    <tr>\n",
              "      <th>43</th>\n",
              "      <td>26</td>\n",
              "      <td>26</td>\n",
              "      <td>0.000532</td>\n",
              "      <td>0.958298</td>\n",
              "    </tr>\n",
              "    <tr>\n",
              "      <th>42</th>\n",
              "      <td>27</td>\n",
              "      <td>27</td>\n",
              "      <td>0.000552</td>\n",
              "      <td>0.958851</td>\n",
              "    </tr>\n",
              "    <tr>\n",
              "      <th>30</th>\n",
              "      <td>28</td>\n",
              "      <td>56</td>\n",
              "      <td>0.001145</td>\n",
              "      <td>0.959996</td>\n",
              "    </tr>\n",
              "    <tr>\n",
              "      <th>41</th>\n",
              "      <td>29</td>\n",
              "      <td>29</td>\n",
              "      <td>0.000593</td>\n",
              "      <td>0.960589</td>\n",
              "    </tr>\n",
              "    <tr>\n",
              "      <th>40</th>\n",
              "      <td>30</td>\n",
              "      <td>30</td>\n",
              "      <td>0.000614</td>\n",
              "      <td>0.961203</td>\n",
              "    </tr>\n",
              "    <tr>\n",
              "      <th>29</th>\n",
              "      <td>31</td>\n",
              "      <td>62</td>\n",
              "      <td>0.001268</td>\n",
              "      <td>0.962471</td>\n",
              "    </tr>\n",
              "    <tr>\n",
              "      <th>39</th>\n",
              "      <td>32</td>\n",
              "      <td>32</td>\n",
              "      <td>0.000654</td>\n",
              "      <td>0.963125</td>\n",
              "    </tr>\n",
              "    <tr>\n",
              "      <th>19</th>\n",
              "      <td>33</td>\n",
              "      <td>99</td>\n",
              "      <td>0.002025</td>\n",
              "      <td>0.965150</td>\n",
              "    </tr>\n",
              "    <tr>\n",
              "      <th>26</th>\n",
              "      <td>34</td>\n",
              "      <td>68</td>\n",
              "      <td>0.001391</td>\n",
              "      <td>0.966541</td>\n",
              "    </tr>\n",
              "    <tr>\n",
              "      <th>38</th>\n",
              "      <td>37</td>\n",
              "      <td>37</td>\n",
              "      <td>0.000757</td>\n",
              "      <td>0.967297</td>\n",
              "    </tr>\n",
              "    <tr>\n",
              "      <th>37</th>\n",
              "      <td>39</td>\n",
              "      <td>39</td>\n",
              "      <td>0.000798</td>\n",
              "      <td>0.968095</td>\n",
              "    </tr>\n",
              "    <tr>\n",
              "      <th>35</th>\n",
              "      <td>43</td>\n",
              "      <td>43</td>\n",
              "      <td>0.000879</td>\n",
              "      <td>0.968974</td>\n",
              "    </tr>\n",
              "    <tr>\n",
              "      <th>34</th>\n",
              "      <td>47</td>\n",
              "      <td>47</td>\n",
              "      <td>0.000961</td>\n",
              "      <td>0.969936</td>\n",
              "    </tr>\n",
              "    <tr>\n",
              "      <th>20</th>\n",
              "      <td>49</td>\n",
              "      <td>98</td>\n",
              "      <td>0.002004</td>\n",
              "      <td>0.971940</td>\n",
              "    </tr>\n",
              "    <tr>\n",
              "      <th>33</th>\n",
              "      <td>50</td>\n",
              "      <td>50</td>\n",
              "      <td>0.001023</td>\n",
              "      <td>0.972962</td>\n",
              "    </tr>\n",
              "    <tr>\n",
              "      <th>17</th>\n",
              "      <td>52</td>\n",
              "      <td>104</td>\n",
              "      <td>0.002127</td>\n",
              "      <td>0.975089</td>\n",
              "    </tr>\n",
              "    <tr>\n",
              "      <th>28</th>\n",
              "      <td>65</td>\n",
              "      <td>65</td>\n",
              "      <td>0.001329</td>\n",
              "      <td>0.976419</td>\n",
              "    </tr>\n",
              "    <tr>\n",
              "      <th>22</th>\n",
              "      <td>87</td>\n",
              "      <td>87</td>\n",
              "      <td>0.001779</td>\n",
              "      <td>0.978198</td>\n",
              "    </tr>\n",
              "    <tr>\n",
              "      <th>21</th>\n",
              "      <td>91</td>\n",
              "      <td>91</td>\n",
              "      <td>0.001861</td>\n",
              "      <td>0.980059</td>\n",
              "    </tr>\n",
              "    <tr>\n",
              "      <th>12</th>\n",
              "      <td>96</td>\n",
              "      <td>192</td>\n",
              "      <td>0.003927</td>\n",
              "      <td>0.983986</td>\n",
              "    </tr>\n",
              "    <tr>\n",
              "      <th>18</th>\n",
              "      <td>103</td>\n",
              "      <td>103</td>\n",
              "      <td>0.002107</td>\n",
              "      <td>0.986093</td>\n",
              "    </tr>\n",
              "    <tr>\n",
              "      <th>15</th>\n",
              "      <td>121</td>\n",
              "      <td>121</td>\n",
              "      <td>0.002475</td>\n",
              "      <td>0.988567</td>\n",
              "    </tr>\n",
              "    <tr>\n",
              "      <th>10</th>\n",
              "      <td>232</td>\n",
              "      <td>232</td>\n",
              "      <td>0.004745</td>\n",
              "      <td>0.993312</td>\n",
              "    </tr>\n",
              "    <tr>\n",
              "      <th>8</th>\n",
              "      <td>327</td>\n",
              "      <td>327</td>\n",
              "      <td>0.006688</td>\n",
              "      <td>1.000000</td>\n",
              "    </tr>\n",
              "  </tbody>\n",
              "</table>\n",
              "</div>\n",
              "      <button class=\"colab-df-convert\" onclick=\"convertToInteractive('df-f3672086-f338-488c-a8e4-55418bec3c14')\"\n",
              "              title=\"Convert this dataframe to an interactive table.\"\n",
              "              style=\"display:none;\">\n",
              "        \n",
              "  <svg xmlns=\"http://www.w3.org/2000/svg\" height=\"24px\"viewBox=\"0 0 24 24\"\n",
              "       width=\"24px\">\n",
              "    <path d=\"M0 0h24v24H0V0z\" fill=\"none\"/>\n",
              "    <path d=\"M18.56 5.44l.94 2.06.94-2.06 2.06-.94-2.06-.94-.94-2.06-.94 2.06-2.06.94zm-11 1L8.5 8.5l.94-2.06 2.06-.94-2.06-.94L8.5 2.5l-.94 2.06-2.06.94zm10 10l.94 2.06.94-2.06 2.06-.94-2.06-.94-.94-2.06-.94 2.06-2.06.94z\"/><path d=\"M17.41 7.96l-1.37-1.37c-.4-.4-.92-.59-1.43-.59-.52 0-1.04.2-1.43.59L10.3 9.45l-7.72 7.72c-.78.78-.78 2.05 0 2.83L4 21.41c.39.39.9.59 1.41.59.51 0 1.02-.2 1.41-.59l7.78-7.78 2.81-2.81c.8-.78.8-2.07 0-2.86zM5.41 20L4 18.59l7.72-7.72 1.47 1.35L5.41 20z\"/>\n",
              "  </svg>\n",
              "      </button>\n",
              "      \n",
              "  <style>\n",
              "    .colab-df-container {\n",
              "      display:flex;\n",
              "      flex-wrap:wrap;\n",
              "      gap: 12px;\n",
              "    }\n",
              "\n",
              "    .colab-df-convert {\n",
              "      background-color: #E8F0FE;\n",
              "      border: none;\n",
              "      border-radius: 50%;\n",
              "      cursor: pointer;\n",
              "      display: none;\n",
              "      fill: #1967D2;\n",
              "      height: 32px;\n",
              "      padding: 0 0 0 0;\n",
              "      width: 32px;\n",
              "    }\n",
              "\n",
              "    .colab-df-convert:hover {\n",
              "      background-color: #E2EBFA;\n",
              "      box-shadow: 0px 1px 2px rgba(60, 64, 67, 0.3), 0px 1px 3px 1px rgba(60, 64, 67, 0.15);\n",
              "      fill: #174EA6;\n",
              "    }\n",
              "\n",
              "    [theme=dark] .colab-df-convert {\n",
              "      background-color: #3B4455;\n",
              "      fill: #D2E3FC;\n",
              "    }\n",
              "\n",
              "    [theme=dark] .colab-df-convert:hover {\n",
              "      background-color: #434B5C;\n",
              "      box-shadow: 0px 1px 3px 1px rgba(0, 0, 0, 0.15);\n",
              "      filter: drop-shadow(0px 1px 2px rgba(0, 0, 0, 0.3));\n",
              "      fill: #FFFFFF;\n",
              "    }\n",
              "  </style>\n",
              "\n",
              "      <script>\n",
              "        const buttonEl =\n",
              "          document.querySelector('#df-f3672086-f338-488c-a8e4-55418bec3c14 button.colab-df-convert');\n",
              "        buttonEl.style.display =\n",
              "          google.colab.kernel.accessAllowed ? 'block' : 'none';\n",
              "\n",
              "        async function convertToInteractive(key) {\n",
              "          const element = document.querySelector('#df-f3672086-f338-488c-a8e4-55418bec3c14');\n",
              "          const dataTable =\n",
              "            await google.colab.kernel.invokeFunction('convertToInteractive',\n",
              "                                                     [key], {});\n",
              "          if (!dataTable) return;\n",
              "\n",
              "          const docLinkHtml = 'Like what you see? Visit the ' +\n",
              "            '<a target=\"_blank\" href=https://colab.research.google.com/notebooks/data_table.ipynb>data table notebook</a>'\n",
              "            + ' to learn more about interactive tables.';\n",
              "          element.innerHTML = '';\n",
              "          dataTable['output_type'] = 'display_data';\n",
              "          await google.colab.output.renderOutput(dataTable, element);\n",
              "          const docLink = document.createElement('div');\n",
              "          docLink.innerHTML = docLinkHtml;\n",
              "          element.appendChild(docLink);\n",
              "        }\n",
              "      </script>\n",
              "    </div>\n",
              "  </div>\n",
              "  "
            ],
            "text/plain": [
              "    calculated_host_listings_count   cnts     ratio  cum_ratio\n",
              "0                                1  32303  0.660661   0.660661\n",
              "1                                2   6658  0.136169   0.796830\n",
              "2                                3   2853  0.058350   0.855179\n",
              "3                                4   1440  0.029451   0.884630\n",
              "4                                5    845  0.017282   0.901912\n",
              "5                                6    570  0.011658   0.913570\n",
              "7                                7    399  0.008160   0.921730\n",
              "6                                8    416  0.008508   0.930238\n",
              "9                                9    234  0.004786   0.935024\n",
              "11                              10    210  0.004295   0.939319\n",
              "16                              11    110  0.002250   0.941569\n",
              "13                              12    180  0.003681   0.945250\n",
              "14                              13    130  0.002659   0.947909\n",
              "24                              14     70  0.001432   0.949340\n",
              "23                              15     75  0.001534   0.950874\n",
              "46                              16     16  0.000327   0.951202\n",
              "27                              17     68  0.001391   0.952592\n",
              "31                              18     54  0.001104   0.953697\n",
              "45                              19     19  0.000389   0.954085\n",
              "36                              20     40  0.000818   0.954903\n",
              "44                              21     21  0.000429   0.955333\n",
              "25                              23     69  0.001411   0.956744\n",
              "32                              25     50  0.001023   0.957767\n",
              "43                              26     26  0.000532   0.958298\n",
              "42                              27     27  0.000552   0.958851\n",
              "30                              28     56  0.001145   0.959996\n",
              "41                              29     29  0.000593   0.960589\n",
              "40                              30     30  0.000614   0.961203\n",
              "29                              31     62  0.001268   0.962471\n",
              "39                              32     32  0.000654   0.963125\n",
              "19                              33     99  0.002025   0.965150\n",
              "26                              34     68  0.001391   0.966541\n",
              "38                              37     37  0.000757   0.967297\n",
              "37                              39     39  0.000798   0.968095\n",
              "35                              43     43  0.000879   0.968974\n",
              "34                              47     47  0.000961   0.969936\n",
              "20                              49     98  0.002004   0.971940\n",
              "33                              50     50  0.001023   0.972962\n",
              "17                              52    104  0.002127   0.975089\n",
              "28                              65     65  0.001329   0.976419\n",
              "22                              87     87  0.001779   0.978198\n",
              "21                              91     91  0.001861   0.980059\n",
              "12                              96    192  0.003927   0.983986\n",
              "18                             103    103  0.002107   0.986093\n",
              "15                             121    121  0.002475   0.988567\n",
              "10                             232    232  0.004745   0.993312\n",
              "8                              327    327  0.006688   1.000000"
            ]
          },
          "metadata": {},
          "execution_count": 29
        }
      ]
    },
    {
      "cell_type": "markdown",
      "source": [
        "전체 66% 호스트가 1인 1개 방을 등록하며, 상위 10%가 5개, 상위 5%가 15개 상위 1%가 232개 방을 등록함"
      ],
      "metadata": {
        "id": "IANCrQDkUAWt"
      }
    },
    {
      "cell_type": "code",
      "source": [
        "avilability = pd.DataFrame(num_cols['availability_365'].fillna(0.0).value_counts()).reset_index().rename(columns = {'index':'availability_365', 'availability_365' : 'cnts'}).sort_values('availability_365', ascending=True)\n",
        "tot_avilability = sum(avilability['cnts'])\n",
        "avilability['ratio'] = avilability['cnts'] / tot_avilability\n",
        "cum_r = []\n",
        "cr = 0\n",
        "\n",
        "for i in avilability['ratio']:\n",
        "  cr += i\n",
        "  cum_r.append(cr)\n",
        "\n",
        "avilability['cum_ratio'] = cum_r\n",
        "\n",
        "avilability50 = avilability[avilability['cum_ratio'] >= 0.50]['availability_365'].min()\n",
        "avilability90 = avilability[avilability['cum_ratio'] >= 0.90]['availability_365'].min()\n",
        "avilability95 = avilability[avilability['cum_ratio'] >= 0.95]['availability_365'].min()\n",
        "avilability99 = avilability[avilability['cum_ratio'] >= 0.99]['availability_365'].min()\n",
        "\n",
        "print(avilability50, avilability90, avilability95, avilability99)\n",
        "avilability.head()"
      ],
      "metadata": {
        "colab": {
          "base_uri": "https://localhost:8080/",
          "height": 224
        },
        "id": "is7R-suwUSyz",
        "outputId": "a2eb77ff-dac6-43e6-898c-79e619172289"
      },
      "execution_count": 30,
      "outputs": [
        {
          "output_type": "stream",
          "name": "stdout",
          "text": [
            "45 337 359 365\n"
          ]
        },
        {
          "output_type": "execute_result",
          "data": {
            "text/html": [
              "\n",
              "  <div id=\"df-622cb0aa-e17f-4fe7-b9e3-bd5bdee3a4fe\">\n",
              "    <div class=\"colab-df-container\">\n",
              "      <div>\n",
              "<style scoped>\n",
              "    .dataframe tbody tr th:only-of-type {\n",
              "        vertical-align: middle;\n",
              "    }\n",
              "\n",
              "    .dataframe tbody tr th {\n",
              "        vertical-align: top;\n",
              "    }\n",
              "\n",
              "    .dataframe thead th {\n",
              "        text-align: right;\n",
              "    }\n",
              "</style>\n",
              "<table border=\"1\" class=\"dataframe\">\n",
              "  <thead>\n",
              "    <tr style=\"text-align: right;\">\n",
              "      <th></th>\n",
              "      <th>availability_365</th>\n",
              "      <th>cnts</th>\n",
              "      <th>ratio</th>\n",
              "      <th>cum_ratio</th>\n",
              "    </tr>\n",
              "  </thead>\n",
              "  <tbody>\n",
              "    <tr>\n",
              "      <th>0</th>\n",
              "      <td>0</td>\n",
              "      <td>17533</td>\n",
              "      <td>0.358585</td>\n",
              "      <td>0.358585</td>\n",
              "    </tr>\n",
              "    <tr>\n",
              "      <th>3</th>\n",
              "      <td>1</td>\n",
              "      <td>408</td>\n",
              "      <td>0.008344</td>\n",
              "      <td>0.366929</td>\n",
              "    </tr>\n",
              "    <tr>\n",
              "      <th>9</th>\n",
              "      <td>2</td>\n",
              "      <td>270</td>\n",
              "      <td>0.005522</td>\n",
              "      <td>0.372451</td>\n",
              "    </tr>\n",
              "    <tr>\n",
              "      <th>6</th>\n",
              "      <td>3</td>\n",
              "      <td>306</td>\n",
              "      <td>0.006258</td>\n",
              "      <td>0.378709</td>\n",
              "    </tr>\n",
              "    <tr>\n",
              "      <th>13</th>\n",
              "      <td>4</td>\n",
              "      <td>233</td>\n",
              "      <td>0.004765</td>\n",
              "      <td>0.383475</td>\n",
              "    </tr>\n",
              "  </tbody>\n",
              "</table>\n",
              "</div>\n",
              "      <button class=\"colab-df-convert\" onclick=\"convertToInteractive('df-622cb0aa-e17f-4fe7-b9e3-bd5bdee3a4fe')\"\n",
              "              title=\"Convert this dataframe to an interactive table.\"\n",
              "              style=\"display:none;\">\n",
              "        \n",
              "  <svg xmlns=\"http://www.w3.org/2000/svg\" height=\"24px\"viewBox=\"0 0 24 24\"\n",
              "       width=\"24px\">\n",
              "    <path d=\"M0 0h24v24H0V0z\" fill=\"none\"/>\n",
              "    <path d=\"M18.56 5.44l.94 2.06.94-2.06 2.06-.94-2.06-.94-.94-2.06-.94 2.06-2.06.94zm-11 1L8.5 8.5l.94-2.06 2.06-.94-2.06-.94L8.5 2.5l-.94 2.06-2.06.94zm10 10l.94 2.06.94-2.06 2.06-.94-2.06-.94-.94-2.06-.94 2.06-2.06.94z\"/><path d=\"M17.41 7.96l-1.37-1.37c-.4-.4-.92-.59-1.43-.59-.52 0-1.04.2-1.43.59L10.3 9.45l-7.72 7.72c-.78.78-.78 2.05 0 2.83L4 21.41c.39.39.9.59 1.41.59.51 0 1.02-.2 1.41-.59l7.78-7.78 2.81-2.81c.8-.78.8-2.07 0-2.86zM5.41 20L4 18.59l7.72-7.72 1.47 1.35L5.41 20z\"/>\n",
              "  </svg>\n",
              "      </button>\n",
              "      \n",
              "  <style>\n",
              "    .colab-df-container {\n",
              "      display:flex;\n",
              "      flex-wrap:wrap;\n",
              "      gap: 12px;\n",
              "    }\n",
              "\n",
              "    .colab-df-convert {\n",
              "      background-color: #E8F0FE;\n",
              "      border: none;\n",
              "      border-radius: 50%;\n",
              "      cursor: pointer;\n",
              "      display: none;\n",
              "      fill: #1967D2;\n",
              "      height: 32px;\n",
              "      padding: 0 0 0 0;\n",
              "      width: 32px;\n",
              "    }\n",
              "\n",
              "    .colab-df-convert:hover {\n",
              "      background-color: #E2EBFA;\n",
              "      box-shadow: 0px 1px 2px rgba(60, 64, 67, 0.3), 0px 1px 3px 1px rgba(60, 64, 67, 0.15);\n",
              "      fill: #174EA6;\n",
              "    }\n",
              "\n",
              "    [theme=dark] .colab-df-convert {\n",
              "      background-color: #3B4455;\n",
              "      fill: #D2E3FC;\n",
              "    }\n",
              "\n",
              "    [theme=dark] .colab-df-convert:hover {\n",
              "      background-color: #434B5C;\n",
              "      box-shadow: 0px 1px 3px 1px rgba(0, 0, 0, 0.15);\n",
              "      filter: drop-shadow(0px 1px 2px rgba(0, 0, 0, 0.3));\n",
              "      fill: #FFFFFF;\n",
              "    }\n",
              "  </style>\n",
              "\n",
              "      <script>\n",
              "        const buttonEl =\n",
              "          document.querySelector('#df-622cb0aa-e17f-4fe7-b9e3-bd5bdee3a4fe button.colab-df-convert');\n",
              "        buttonEl.style.display =\n",
              "          google.colab.kernel.accessAllowed ? 'block' : 'none';\n",
              "\n",
              "        async function convertToInteractive(key) {\n",
              "          const element = document.querySelector('#df-622cb0aa-e17f-4fe7-b9e3-bd5bdee3a4fe');\n",
              "          const dataTable =\n",
              "            await google.colab.kernel.invokeFunction('convertToInteractive',\n",
              "                                                     [key], {});\n",
              "          if (!dataTable) return;\n",
              "\n",
              "          const docLinkHtml = 'Like what you see? Visit the ' +\n",
              "            '<a target=\"_blank\" href=https://colab.research.google.com/notebooks/data_table.ipynb>data table notebook</a>'\n",
              "            + ' to learn more about interactive tables.';\n",
              "          element.innerHTML = '';\n",
              "          dataTable['output_type'] = 'display_data';\n",
              "          await google.colab.output.renderOutput(dataTable, element);\n",
              "          const docLink = document.createElement('div');\n",
              "          docLink.innerHTML = docLinkHtml;\n",
              "          element.appendChild(docLink);\n",
              "        }\n",
              "      </script>\n",
              "    </div>\n",
              "  </div>\n",
              "  "
            ],
            "text/plain": [
              "    availability_365   cnts     ratio  cum_ratio\n",
              "0                  0  17533  0.358585   0.358585\n",
              "3                  1    408  0.008344   0.366929\n",
              "9                  2    270  0.005522   0.372451\n",
              "6                  3    306  0.006258   0.378709\n",
              "13                 4    233  0.004765   0.383475"
            ]
          },
          "metadata": {},
          "execution_count": 30
        }
      ]
    },
    {
      "cell_type": "markdown",
      "source": [
        "1년 365일 중 약 45일 활용 가능 일수의 방이 전체의 50%정도이며, \n",
        "\n",
        "상위 10%가 337일(연간 약 92%)    \n",
        "상위 5%가 359일(연간 약 98%)  \n",
        "상위 1%가 365일(연간 100%)   \n",
        "활용 가능함."
      ],
      "metadata": {
        "id": "G_oVMy4BU0_9"
      }
    },
    {
      "cell_type": "code",
      "source": [
        "num_cols.info()"
      ],
      "metadata": {
        "colab": {
          "base_uri": "https://localhost:8080/"
        },
        "id": "2L9xFqms666O",
        "outputId": "8cd31c32-cee0-43b3-fb92-918d06767bce"
      },
      "execution_count": 31,
      "outputs": [
        {
          "output_type": "stream",
          "name": "stdout",
          "text": [
            "<class 'pandas.core.frame.DataFrame'>\n",
            "RangeIndex: 48895 entries, 0 to 48894\n",
            "Data columns (total 7 columns):\n",
            " #   Column                          Non-Null Count  Dtype  \n",
            "---  ------                          --------------  -----  \n",
            " 0   price                           48895 non-null  int64  \n",
            " 1   minimum_nights                  48895 non-null  int64  \n",
            " 2   number_of_reviews               48895 non-null  int64  \n",
            " 3   last_review                     38843 non-null  object \n",
            " 4   reviews_per_month               38843 non-null  float64\n",
            " 5   calculated_host_listings_count  48895 non-null  int64  \n",
            " 6   availability_365                48895 non-null  int64  \n",
            "dtypes: float64(1), int64(5), object(1)\n",
            "memory usage: 2.6+ MB\n"
          ]
        }
      ]
    },
    {
      "cell_type": "code",
      "source": [
        "df['last_review'] = pd.to_datetime(df['last_review'])\n"
      ],
      "metadata": {
        "id": "K4ct8W2m5l_g"
      },
      "execution_count": 32,
      "outputs": []
    },
    {
      "cell_type": "code",
      "source": [
        "max(df['last_review']), min(df['last_review'])"
      ],
      "metadata": {
        "colab": {
          "base_uri": "https://localhost:8080/"
        },
        "id": "K6WlGz1x7V2M",
        "outputId": "3d30bc4e-5205-4c7e-d308-edbedbe012ac"
      },
      "execution_count": 33,
      "outputs": [
        {
          "output_type": "execute_result",
          "data": {
            "text/plain": [
              "(Timestamp('2019-07-08 00:00:00'), Timestamp('2011-03-28 00:00:00'))"
            ]
          },
          "metadata": {},
          "execution_count": 33
        }
      ]
    },
    {
      "cell_type": "code",
      "source": [
        "# 2019년 dataset이나 정확한 기간은 알 수 없음 (2019년 snapshot)\n",
        "# 때문에 가장 마지막 리뷰일인 2019년 7월 8일 기준으로 가장 마지막 review와 얼마나 차이가 있는지 일수 차이 컬럼 생성\n",
        "# 리뷰가 한건도 없는 경우 -9999로 설정\n",
        "\n",
        "from datetime import datetime\n",
        "date_format = \"%Y-%m-%d\"\n",
        "a = datetime.strptime('2019-07-08', date_format)\n",
        "\n",
        "df['last_review_day_cnts'] = a - df['last_review'] "
      ],
      "metadata": {
        "id": "zRo4dzNl7c1l"
      },
      "execution_count": 34,
      "outputs": []
    },
    {
      "cell_type": "code",
      "source": [
        "df[['last_review','last_review_day_cnts']]"
      ],
      "metadata": {
        "colab": {
          "base_uri": "https://localhost:8080/",
          "height": 423
        },
        "id": "4yJmNAkN9IZu",
        "outputId": "4a89dbb1-6bdd-483a-aeef-08d9dfabb2c0"
      },
      "execution_count": 35,
      "outputs": [
        {
          "output_type": "execute_result",
          "data": {
            "text/html": [
              "\n",
              "  <div id=\"df-da6eb04b-9a1a-41ff-a735-fafa73d4958b\">\n",
              "    <div class=\"colab-df-container\">\n",
              "      <div>\n",
              "<style scoped>\n",
              "    .dataframe tbody tr th:only-of-type {\n",
              "        vertical-align: middle;\n",
              "    }\n",
              "\n",
              "    .dataframe tbody tr th {\n",
              "        vertical-align: top;\n",
              "    }\n",
              "\n",
              "    .dataframe thead th {\n",
              "        text-align: right;\n",
              "    }\n",
              "</style>\n",
              "<table border=\"1\" class=\"dataframe\">\n",
              "  <thead>\n",
              "    <tr style=\"text-align: right;\">\n",
              "      <th></th>\n",
              "      <th>last_review</th>\n",
              "      <th>last_review_day_cnts</th>\n",
              "    </tr>\n",
              "  </thead>\n",
              "  <tbody>\n",
              "    <tr>\n",
              "      <th>0</th>\n",
              "      <td>2018-10-19</td>\n",
              "      <td>262 days</td>\n",
              "    </tr>\n",
              "    <tr>\n",
              "      <th>1</th>\n",
              "      <td>2019-05-21</td>\n",
              "      <td>48 days</td>\n",
              "    </tr>\n",
              "    <tr>\n",
              "      <th>2</th>\n",
              "      <td>NaT</td>\n",
              "      <td>NaT</td>\n",
              "    </tr>\n",
              "    <tr>\n",
              "      <th>3</th>\n",
              "      <td>2019-07-05</td>\n",
              "      <td>3 days</td>\n",
              "    </tr>\n",
              "    <tr>\n",
              "      <th>4</th>\n",
              "      <td>2018-11-19</td>\n",
              "      <td>231 days</td>\n",
              "    </tr>\n",
              "    <tr>\n",
              "      <th>...</th>\n",
              "      <td>...</td>\n",
              "      <td>...</td>\n",
              "    </tr>\n",
              "    <tr>\n",
              "      <th>48890</th>\n",
              "      <td>NaT</td>\n",
              "      <td>NaT</td>\n",
              "    </tr>\n",
              "    <tr>\n",
              "      <th>48891</th>\n",
              "      <td>NaT</td>\n",
              "      <td>NaT</td>\n",
              "    </tr>\n",
              "    <tr>\n",
              "      <th>48892</th>\n",
              "      <td>NaT</td>\n",
              "      <td>NaT</td>\n",
              "    </tr>\n",
              "    <tr>\n",
              "      <th>48893</th>\n",
              "      <td>NaT</td>\n",
              "      <td>NaT</td>\n",
              "    </tr>\n",
              "    <tr>\n",
              "      <th>48894</th>\n",
              "      <td>NaT</td>\n",
              "      <td>NaT</td>\n",
              "    </tr>\n",
              "  </tbody>\n",
              "</table>\n",
              "<p>48895 rows × 2 columns</p>\n",
              "</div>\n",
              "      <button class=\"colab-df-convert\" onclick=\"convertToInteractive('df-da6eb04b-9a1a-41ff-a735-fafa73d4958b')\"\n",
              "              title=\"Convert this dataframe to an interactive table.\"\n",
              "              style=\"display:none;\">\n",
              "        \n",
              "  <svg xmlns=\"http://www.w3.org/2000/svg\" height=\"24px\"viewBox=\"0 0 24 24\"\n",
              "       width=\"24px\">\n",
              "    <path d=\"M0 0h24v24H0V0z\" fill=\"none\"/>\n",
              "    <path d=\"M18.56 5.44l.94 2.06.94-2.06 2.06-.94-2.06-.94-.94-2.06-.94 2.06-2.06.94zm-11 1L8.5 8.5l.94-2.06 2.06-.94-2.06-.94L8.5 2.5l-.94 2.06-2.06.94zm10 10l.94 2.06.94-2.06 2.06-.94-2.06-.94-.94-2.06-.94 2.06-2.06.94z\"/><path d=\"M17.41 7.96l-1.37-1.37c-.4-.4-.92-.59-1.43-.59-.52 0-1.04.2-1.43.59L10.3 9.45l-7.72 7.72c-.78.78-.78 2.05 0 2.83L4 21.41c.39.39.9.59 1.41.59.51 0 1.02-.2 1.41-.59l7.78-7.78 2.81-2.81c.8-.78.8-2.07 0-2.86zM5.41 20L4 18.59l7.72-7.72 1.47 1.35L5.41 20z\"/>\n",
              "  </svg>\n",
              "      </button>\n",
              "      \n",
              "  <style>\n",
              "    .colab-df-container {\n",
              "      display:flex;\n",
              "      flex-wrap:wrap;\n",
              "      gap: 12px;\n",
              "    }\n",
              "\n",
              "    .colab-df-convert {\n",
              "      background-color: #E8F0FE;\n",
              "      border: none;\n",
              "      border-radius: 50%;\n",
              "      cursor: pointer;\n",
              "      display: none;\n",
              "      fill: #1967D2;\n",
              "      height: 32px;\n",
              "      padding: 0 0 0 0;\n",
              "      width: 32px;\n",
              "    }\n",
              "\n",
              "    .colab-df-convert:hover {\n",
              "      background-color: #E2EBFA;\n",
              "      box-shadow: 0px 1px 2px rgba(60, 64, 67, 0.3), 0px 1px 3px 1px rgba(60, 64, 67, 0.15);\n",
              "      fill: #174EA6;\n",
              "    }\n",
              "\n",
              "    [theme=dark] .colab-df-convert {\n",
              "      background-color: #3B4455;\n",
              "      fill: #D2E3FC;\n",
              "    }\n",
              "\n",
              "    [theme=dark] .colab-df-convert:hover {\n",
              "      background-color: #434B5C;\n",
              "      box-shadow: 0px 1px 3px 1px rgba(0, 0, 0, 0.15);\n",
              "      filter: drop-shadow(0px 1px 2px rgba(0, 0, 0, 0.3));\n",
              "      fill: #FFFFFF;\n",
              "    }\n",
              "  </style>\n",
              "\n",
              "      <script>\n",
              "        const buttonEl =\n",
              "          document.querySelector('#df-da6eb04b-9a1a-41ff-a735-fafa73d4958b button.colab-df-convert');\n",
              "        buttonEl.style.display =\n",
              "          google.colab.kernel.accessAllowed ? 'block' : 'none';\n",
              "\n",
              "        async function convertToInteractive(key) {\n",
              "          const element = document.querySelector('#df-da6eb04b-9a1a-41ff-a735-fafa73d4958b');\n",
              "          const dataTable =\n",
              "            await google.colab.kernel.invokeFunction('convertToInteractive',\n",
              "                                                     [key], {});\n",
              "          if (!dataTable) return;\n",
              "\n",
              "          const docLinkHtml = 'Like what you see? Visit the ' +\n",
              "            '<a target=\"_blank\" href=https://colab.research.google.com/notebooks/data_table.ipynb>data table notebook</a>'\n",
              "            + ' to learn more about interactive tables.';\n",
              "          element.innerHTML = '';\n",
              "          dataTable['output_type'] = 'display_data';\n",
              "          await google.colab.output.renderOutput(dataTable, element);\n",
              "          const docLink = document.createElement('div');\n",
              "          docLink.innerHTML = docLinkHtml;\n",
              "          element.appendChild(docLink);\n",
              "        }\n",
              "      </script>\n",
              "    </div>\n",
              "  </div>\n",
              "  "
            ],
            "text/plain": [
              "      last_review last_review_day_cnts\n",
              "0      2018-10-19             262 days\n",
              "1      2019-05-21              48 days\n",
              "2             NaT                  NaT\n",
              "3      2019-07-05               3 days\n",
              "4      2018-11-19             231 days\n",
              "...           ...                  ...\n",
              "48890         NaT                  NaT\n",
              "48891         NaT                  NaT\n",
              "48892         NaT                  NaT\n",
              "48893         NaT                  NaT\n",
              "48894         NaT                  NaT\n",
              "\n",
              "[48895 rows x 2 columns]"
            ]
          },
          "metadata": {},
          "execution_count": 35
        }
      ]
    },
    {
      "cell_type": "code",
      "source": [
        "df.info()"
      ],
      "metadata": {
        "colab": {
          "base_uri": "https://localhost:8080/"
        },
        "id": "DB3yEVnt9q1m",
        "outputId": "b74d4cf9-4449-486f-adfd-7363b0657ac4"
      },
      "execution_count": 36,
      "outputs": [
        {
          "output_type": "stream",
          "name": "stdout",
          "text": [
            "<class 'pandas.core.frame.DataFrame'>\n",
            "RangeIndex: 48895 entries, 0 to 48894\n",
            "Data columns (total 17 columns):\n",
            " #   Column                          Non-Null Count  Dtype          \n",
            "---  ------                          --------------  -----          \n",
            " 0   id                              48895 non-null  int64          \n",
            " 1   name                            48879 non-null  object         \n",
            " 2   host_id                         48895 non-null  int64          \n",
            " 3   host_name                       48874 non-null  object         \n",
            " 4   neighbourhood_group             48895 non-null  object         \n",
            " 5   neighbourhood                   48895 non-null  object         \n",
            " 6   latitude                        48895 non-null  float64        \n",
            " 7   longitude                       48895 non-null  float64        \n",
            " 8   room_type                       48895 non-null  object         \n",
            " 9   price                           48895 non-null  int64          \n",
            " 10  minimum_nights                  48895 non-null  int64          \n",
            " 11  number_of_reviews               48895 non-null  int64          \n",
            " 12  last_review                     38843 non-null  datetime64[ns] \n",
            " 13  reviews_per_month               38843 non-null  float64        \n",
            " 14  calculated_host_listings_count  48895 non-null  int64          \n",
            " 15  availability_365                48895 non-null  int64          \n",
            " 16  last_review_day_cnts            38843 non-null  timedelta64[ns]\n",
            "dtypes: datetime64[ns](1), float64(3), int64(7), object(5), timedelta64[ns](1)\n",
            "memory usage: 6.3+ MB\n"
          ]
        }
      ]
    },
    {
      "cell_type": "code",
      "source": [
        "df['last_review_day_cnts'] = df['last_review_day_cnts'].dt.days"
      ],
      "metadata": {
        "id": "U6moM1Jo-Sc1"
      },
      "execution_count": 37,
      "outputs": []
    },
    {
      "cell_type": "code",
      "source": [
        "df['last_review_day_cnts']"
      ],
      "metadata": {
        "colab": {
          "base_uri": "https://localhost:8080/"
        },
        "id": "33Hu3yVF-lFV",
        "outputId": "81b1a229-1e08-4aca-f38a-9fa578d95e8f"
      },
      "execution_count": 38,
      "outputs": [
        {
          "output_type": "execute_result",
          "data": {
            "text/plain": [
              "0        262.0\n",
              "1         48.0\n",
              "2          NaN\n",
              "3          3.0\n",
              "4        231.0\n",
              "         ...  \n",
              "48890      NaN\n",
              "48891      NaN\n",
              "48892      NaN\n",
              "48893      NaN\n",
              "48894      NaN\n",
              "Name: last_review_day_cnts, Length: 48895, dtype: float64"
            ]
          },
          "metadata": {},
          "execution_count": 38
        }
      ]
    },
    {
      "cell_type": "code",
      "source": [
        "df[['last_review','last_review_day_cnts']]"
      ],
      "metadata": {
        "colab": {
          "base_uri": "https://localhost:8080/",
          "height": 423
        },
        "id": "l6lcpc6I-hqo",
        "outputId": "ae2397d6-f873-4039-e6f1-ee6f8659f292"
      },
      "execution_count": 39,
      "outputs": [
        {
          "output_type": "execute_result",
          "data": {
            "text/html": [
              "\n",
              "  <div id=\"df-e9460dd7-79ce-4025-a94e-06e97690986a\">\n",
              "    <div class=\"colab-df-container\">\n",
              "      <div>\n",
              "<style scoped>\n",
              "    .dataframe tbody tr th:only-of-type {\n",
              "        vertical-align: middle;\n",
              "    }\n",
              "\n",
              "    .dataframe tbody tr th {\n",
              "        vertical-align: top;\n",
              "    }\n",
              "\n",
              "    .dataframe thead th {\n",
              "        text-align: right;\n",
              "    }\n",
              "</style>\n",
              "<table border=\"1\" class=\"dataframe\">\n",
              "  <thead>\n",
              "    <tr style=\"text-align: right;\">\n",
              "      <th></th>\n",
              "      <th>last_review</th>\n",
              "      <th>last_review_day_cnts</th>\n",
              "    </tr>\n",
              "  </thead>\n",
              "  <tbody>\n",
              "    <tr>\n",
              "      <th>0</th>\n",
              "      <td>2018-10-19</td>\n",
              "      <td>262.0</td>\n",
              "    </tr>\n",
              "    <tr>\n",
              "      <th>1</th>\n",
              "      <td>2019-05-21</td>\n",
              "      <td>48.0</td>\n",
              "    </tr>\n",
              "    <tr>\n",
              "      <th>2</th>\n",
              "      <td>NaT</td>\n",
              "      <td>NaN</td>\n",
              "    </tr>\n",
              "    <tr>\n",
              "      <th>3</th>\n",
              "      <td>2019-07-05</td>\n",
              "      <td>3.0</td>\n",
              "    </tr>\n",
              "    <tr>\n",
              "      <th>4</th>\n",
              "      <td>2018-11-19</td>\n",
              "      <td>231.0</td>\n",
              "    </tr>\n",
              "    <tr>\n",
              "      <th>...</th>\n",
              "      <td>...</td>\n",
              "      <td>...</td>\n",
              "    </tr>\n",
              "    <tr>\n",
              "      <th>48890</th>\n",
              "      <td>NaT</td>\n",
              "      <td>NaN</td>\n",
              "    </tr>\n",
              "    <tr>\n",
              "      <th>48891</th>\n",
              "      <td>NaT</td>\n",
              "      <td>NaN</td>\n",
              "    </tr>\n",
              "    <tr>\n",
              "      <th>48892</th>\n",
              "      <td>NaT</td>\n",
              "      <td>NaN</td>\n",
              "    </tr>\n",
              "    <tr>\n",
              "      <th>48893</th>\n",
              "      <td>NaT</td>\n",
              "      <td>NaN</td>\n",
              "    </tr>\n",
              "    <tr>\n",
              "      <th>48894</th>\n",
              "      <td>NaT</td>\n",
              "      <td>NaN</td>\n",
              "    </tr>\n",
              "  </tbody>\n",
              "</table>\n",
              "<p>48895 rows × 2 columns</p>\n",
              "</div>\n",
              "      <button class=\"colab-df-convert\" onclick=\"convertToInteractive('df-e9460dd7-79ce-4025-a94e-06e97690986a')\"\n",
              "              title=\"Convert this dataframe to an interactive table.\"\n",
              "              style=\"display:none;\">\n",
              "        \n",
              "  <svg xmlns=\"http://www.w3.org/2000/svg\" height=\"24px\"viewBox=\"0 0 24 24\"\n",
              "       width=\"24px\">\n",
              "    <path d=\"M0 0h24v24H0V0z\" fill=\"none\"/>\n",
              "    <path d=\"M18.56 5.44l.94 2.06.94-2.06 2.06-.94-2.06-.94-.94-2.06-.94 2.06-2.06.94zm-11 1L8.5 8.5l.94-2.06 2.06-.94-2.06-.94L8.5 2.5l-.94 2.06-2.06.94zm10 10l.94 2.06.94-2.06 2.06-.94-2.06-.94-.94-2.06-.94 2.06-2.06.94z\"/><path d=\"M17.41 7.96l-1.37-1.37c-.4-.4-.92-.59-1.43-.59-.52 0-1.04.2-1.43.59L10.3 9.45l-7.72 7.72c-.78.78-.78 2.05 0 2.83L4 21.41c.39.39.9.59 1.41.59.51 0 1.02-.2 1.41-.59l7.78-7.78 2.81-2.81c.8-.78.8-2.07 0-2.86zM5.41 20L4 18.59l7.72-7.72 1.47 1.35L5.41 20z\"/>\n",
              "  </svg>\n",
              "      </button>\n",
              "      \n",
              "  <style>\n",
              "    .colab-df-container {\n",
              "      display:flex;\n",
              "      flex-wrap:wrap;\n",
              "      gap: 12px;\n",
              "    }\n",
              "\n",
              "    .colab-df-convert {\n",
              "      background-color: #E8F0FE;\n",
              "      border: none;\n",
              "      border-radius: 50%;\n",
              "      cursor: pointer;\n",
              "      display: none;\n",
              "      fill: #1967D2;\n",
              "      height: 32px;\n",
              "      padding: 0 0 0 0;\n",
              "      width: 32px;\n",
              "    }\n",
              "\n",
              "    .colab-df-convert:hover {\n",
              "      background-color: #E2EBFA;\n",
              "      box-shadow: 0px 1px 2px rgba(60, 64, 67, 0.3), 0px 1px 3px 1px rgba(60, 64, 67, 0.15);\n",
              "      fill: #174EA6;\n",
              "    }\n",
              "\n",
              "    [theme=dark] .colab-df-convert {\n",
              "      background-color: #3B4455;\n",
              "      fill: #D2E3FC;\n",
              "    }\n",
              "\n",
              "    [theme=dark] .colab-df-convert:hover {\n",
              "      background-color: #434B5C;\n",
              "      box-shadow: 0px 1px 3px 1px rgba(0, 0, 0, 0.15);\n",
              "      filter: drop-shadow(0px 1px 2px rgba(0, 0, 0, 0.3));\n",
              "      fill: #FFFFFF;\n",
              "    }\n",
              "  </style>\n",
              "\n",
              "      <script>\n",
              "        const buttonEl =\n",
              "          document.querySelector('#df-e9460dd7-79ce-4025-a94e-06e97690986a button.colab-df-convert');\n",
              "        buttonEl.style.display =\n",
              "          google.colab.kernel.accessAllowed ? 'block' : 'none';\n",
              "\n",
              "        async function convertToInteractive(key) {\n",
              "          const element = document.querySelector('#df-e9460dd7-79ce-4025-a94e-06e97690986a');\n",
              "          const dataTable =\n",
              "            await google.colab.kernel.invokeFunction('convertToInteractive',\n",
              "                                                     [key], {});\n",
              "          if (!dataTable) return;\n",
              "\n",
              "          const docLinkHtml = 'Like what you see? Visit the ' +\n",
              "            '<a target=\"_blank\" href=https://colab.research.google.com/notebooks/data_table.ipynb>data table notebook</a>'\n",
              "            + ' to learn more about interactive tables.';\n",
              "          element.innerHTML = '';\n",
              "          dataTable['output_type'] = 'display_data';\n",
              "          await google.colab.output.renderOutput(dataTable, element);\n",
              "          const docLink = document.createElement('div');\n",
              "          docLink.innerHTML = docLinkHtml;\n",
              "          element.appendChild(docLink);\n",
              "        }\n",
              "      </script>\n",
              "    </div>\n",
              "  </div>\n",
              "  "
            ],
            "text/plain": [
              "      last_review  last_review_day_cnts\n",
              "0      2018-10-19                 262.0\n",
              "1      2019-05-21                  48.0\n",
              "2             NaT                   NaN\n",
              "3      2019-07-05                   3.0\n",
              "4      2018-11-19                 231.0\n",
              "...           ...                   ...\n",
              "48890         NaT                   NaN\n",
              "48891         NaT                   NaN\n",
              "48892         NaT                   NaN\n",
              "48893         NaT                   NaN\n",
              "48894         NaT                   NaN\n",
              "\n",
              "[48895 rows x 2 columns]"
            ]
          },
          "metadata": {},
          "execution_count": 39
        }
      ]
    },
    {
      "cell_type": "code",
      "source": [
        "day_cnts = pd.DataFrame(df['last_review_day_cnts'].value_counts()).reset_index().rename(columns = {'index':'last_review_day_cnts', 'last_review_day_cnts' : 'cnts'}).sort_values('last_review_day_cnts', ascending=True)\n",
        "tot_day_cnts = sum(day_cnts['cnts'])\n",
        "day_cnts['ratio'] = day_cnts['cnts'] / tot_day_cnts\n",
        "cum_r = []\n",
        "cr = 0\n",
        "\n",
        "for i in day_cnts['ratio']:\n",
        "  cr += i\n",
        "  cum_r.append(cr)\n",
        "\n",
        "day_cnts['cum_ratio'] = cum_r\n",
        "\n",
        "day_cnts50 = day_cnts[day_cnts['cum_ratio'] >= 0.50]['last_review_day_cnts'].min()\n",
        "day_cnts90 = day_cnts[day_cnts['cum_ratio'] >= 0.90]['last_review_day_cnts'].min()\n",
        "day_cnts95 = day_cnts[day_cnts['cum_ratio'] >= 0.95]['last_review_day_cnts'].min()\n",
        "day_cnts99 = day_cnts[day_cnts['cum_ratio'] >= 0.99]['last_review_day_cnts'].min()\n",
        "\n",
        "print(day_cnts50, day_cnts90, day_cnts95, day_cnts99)\n",
        "day_cnts.head()"
      ],
      "metadata": {
        "colab": {
          "base_uri": "https://localhost:8080/",
          "height": 224
        },
        "id": "4m44OLtp-8B6",
        "outputId": "4b7c9a14-fa12-47b9-fb2a-770e0ff15127"
      },
      "execution_count": 40,
      "outputs": [
        {
          "output_type": "stream",
          "name": "stdout",
          "text": [
            "50.0 995.0 1277.0 1549.0\n"
          ]
        },
        {
          "output_type": "execute_result",
          "data": {
            "text/html": [
              "\n",
              "  <div id=\"df-9c2d60bf-aa53-4639-9b30-940453e8e25a\">\n",
              "    <div class=\"colab-df-container\">\n",
              "      <div>\n",
              "<style scoped>\n",
              "    .dataframe tbody tr th:only-of-type {\n",
              "        vertical-align: middle;\n",
              "    }\n",
              "\n",
              "    .dataframe tbody tr th {\n",
              "        vertical-align: top;\n",
              "    }\n",
              "\n",
              "    .dataframe thead th {\n",
              "        text-align: right;\n",
              "    }\n",
              "</style>\n",
              "<table border=\"1\" class=\"dataframe\">\n",
              "  <thead>\n",
              "    <tr style=\"text-align: right;\">\n",
              "      <th></th>\n",
              "      <th>last_review_day_cnts</th>\n",
              "      <th>cnts</th>\n",
              "      <th>ratio</th>\n",
              "      <th>cum_ratio</th>\n",
              "    </tr>\n",
              "  </thead>\n",
              "  <tbody>\n",
              "    <tr>\n",
              "      <th>65</th>\n",
              "      <td>0.0</td>\n",
              "      <td>89</td>\n",
              "      <td>0.002291</td>\n",
              "      <td>0.002291</td>\n",
              "    </tr>\n",
              "    <tr>\n",
              "      <th>4</th>\n",
              "      <td>1.0</td>\n",
              "      <td>718</td>\n",
              "      <td>0.018485</td>\n",
              "      <td>0.020776</td>\n",
              "    </tr>\n",
              "    <tr>\n",
              "      <th>9</th>\n",
              "      <td>2.0</td>\n",
              "      <td>565</td>\n",
              "      <td>0.014546</td>\n",
              "      <td>0.035322</td>\n",
              "    </tr>\n",
              "    <tr>\n",
              "      <th>8</th>\n",
              "      <td>3.0</td>\n",
              "      <td>580</td>\n",
              "      <td>0.014932</td>\n",
              "      <td>0.050254</td>\n",
              "    </tr>\n",
              "    <tr>\n",
              "      <th>25</th>\n",
              "      <td>4.0</td>\n",
              "      <td>330</td>\n",
              "      <td>0.008496</td>\n",
              "      <td>0.058749</td>\n",
              "    </tr>\n",
              "  </tbody>\n",
              "</table>\n",
              "</div>\n",
              "      <button class=\"colab-df-convert\" onclick=\"convertToInteractive('df-9c2d60bf-aa53-4639-9b30-940453e8e25a')\"\n",
              "              title=\"Convert this dataframe to an interactive table.\"\n",
              "              style=\"display:none;\">\n",
              "        \n",
              "  <svg xmlns=\"http://www.w3.org/2000/svg\" height=\"24px\"viewBox=\"0 0 24 24\"\n",
              "       width=\"24px\">\n",
              "    <path d=\"M0 0h24v24H0V0z\" fill=\"none\"/>\n",
              "    <path d=\"M18.56 5.44l.94 2.06.94-2.06 2.06-.94-2.06-.94-.94-2.06-.94 2.06-2.06.94zm-11 1L8.5 8.5l.94-2.06 2.06-.94-2.06-.94L8.5 2.5l-.94 2.06-2.06.94zm10 10l.94 2.06.94-2.06 2.06-.94-2.06-.94-.94-2.06-.94 2.06-2.06.94z\"/><path d=\"M17.41 7.96l-1.37-1.37c-.4-.4-.92-.59-1.43-.59-.52 0-1.04.2-1.43.59L10.3 9.45l-7.72 7.72c-.78.78-.78 2.05 0 2.83L4 21.41c.39.39.9.59 1.41.59.51 0 1.02-.2 1.41-.59l7.78-7.78 2.81-2.81c.8-.78.8-2.07 0-2.86zM5.41 20L4 18.59l7.72-7.72 1.47 1.35L5.41 20z\"/>\n",
              "  </svg>\n",
              "      </button>\n",
              "      \n",
              "  <style>\n",
              "    .colab-df-container {\n",
              "      display:flex;\n",
              "      flex-wrap:wrap;\n",
              "      gap: 12px;\n",
              "    }\n",
              "\n",
              "    .colab-df-convert {\n",
              "      background-color: #E8F0FE;\n",
              "      border: none;\n",
              "      border-radius: 50%;\n",
              "      cursor: pointer;\n",
              "      display: none;\n",
              "      fill: #1967D2;\n",
              "      height: 32px;\n",
              "      padding: 0 0 0 0;\n",
              "      width: 32px;\n",
              "    }\n",
              "\n",
              "    .colab-df-convert:hover {\n",
              "      background-color: #E2EBFA;\n",
              "      box-shadow: 0px 1px 2px rgba(60, 64, 67, 0.3), 0px 1px 3px 1px rgba(60, 64, 67, 0.15);\n",
              "      fill: #174EA6;\n",
              "    }\n",
              "\n",
              "    [theme=dark] .colab-df-convert {\n",
              "      background-color: #3B4455;\n",
              "      fill: #D2E3FC;\n",
              "    }\n",
              "\n",
              "    [theme=dark] .colab-df-convert:hover {\n",
              "      background-color: #434B5C;\n",
              "      box-shadow: 0px 1px 3px 1px rgba(0, 0, 0, 0.15);\n",
              "      filter: drop-shadow(0px 1px 2px rgba(0, 0, 0, 0.3));\n",
              "      fill: #FFFFFF;\n",
              "    }\n",
              "  </style>\n",
              "\n",
              "      <script>\n",
              "        const buttonEl =\n",
              "          document.querySelector('#df-9c2d60bf-aa53-4639-9b30-940453e8e25a button.colab-df-convert');\n",
              "        buttonEl.style.display =\n",
              "          google.colab.kernel.accessAllowed ? 'block' : 'none';\n",
              "\n",
              "        async function convertToInteractive(key) {\n",
              "          const element = document.querySelector('#df-9c2d60bf-aa53-4639-9b30-940453e8e25a');\n",
              "          const dataTable =\n",
              "            await google.colab.kernel.invokeFunction('convertToInteractive',\n",
              "                                                     [key], {});\n",
              "          if (!dataTable) return;\n",
              "\n",
              "          const docLinkHtml = 'Like what you see? Visit the ' +\n",
              "            '<a target=\"_blank\" href=https://colab.research.google.com/notebooks/data_table.ipynb>data table notebook</a>'\n",
              "            + ' to learn more about interactive tables.';\n",
              "          element.innerHTML = '';\n",
              "          dataTable['output_type'] = 'display_data';\n",
              "          await google.colab.output.renderOutput(dataTable, element);\n",
              "          const docLink = document.createElement('div');\n",
              "          docLink.innerHTML = docLinkHtml;\n",
              "          element.appendChild(docLink);\n",
              "        }\n",
              "      </script>\n",
              "    </div>\n",
              "  </div>\n",
              "  "
            ],
            "text/plain": [
              "    last_review_day_cnts  cnts     ratio  cum_ratio\n",
              "65                   0.0    89  0.002291   0.002291\n",
              "4                    1.0   718  0.018485   0.020776\n",
              "9                    2.0   565  0.014546   0.035322\n",
              "8                    3.0   580  0.014932   0.050254\n",
              "25                   4.0   330  0.008496   0.058749"
            ]
          },
          "metadata": {},
          "execution_count": 40
        }
      ]
    },
    {
      "cell_type": "code",
      "source": [
        "notnull = df[df['last_review_day_cnts'] >= 0]\n",
        "day_cnts = pd.DataFrame(notnull['last_review_day_cnts'].value_counts()).reset_index().rename(columns = {'index':'last_review_day_cnts', 'last_review_day_cnts' : 'cnts'}).sort_values('last_review_day_cnts', ascending=True)\n",
        "tot_day_cnts = sum(day_cnts['cnts'])\n",
        "day_cnts['ratio'] = day_cnts['cnts'] / tot_day_cnts\n",
        "cum_r = []\n",
        "cr = 0\n",
        "\n",
        "for i in day_cnts['ratio']:\n",
        "  cr += i\n",
        "  cum_r.append(cr)\n",
        "\n",
        "day_cnts['cum_ratio'] = cum_r\n",
        "\n",
        "day_cnts50 = day_cnts[day_cnts['cum_ratio'] >= 0.50]['last_review_day_cnts'].min()\n",
        "day_cnts90 = day_cnts[day_cnts['cum_ratio'] >= 0.90]['last_review_day_cnts'].min()\n",
        "day_cnts95 = day_cnts[day_cnts['cum_ratio'] >= 0.95]['last_review_day_cnts'].min()\n",
        "day_cnts99 = day_cnts[day_cnts['cum_ratio'] >= 0.99]['last_review_day_cnts'].min()\n",
        "\n",
        "print(day_cnts50, day_cnts90, day_cnts95, day_cnts99)\n",
        "day_cnts"
      ],
      "metadata": {
        "colab": {
          "base_uri": "https://localhost:8080/",
          "height": 442
        },
        "id": "jeb-yG4o_8Ig",
        "outputId": "3a022fc8-ea7b-42fe-c138-36805749a31d"
      },
      "execution_count": 41,
      "outputs": [
        {
          "output_type": "stream",
          "name": "stdout",
          "text": [
            "50.0 995.0 1277.0 1549.0\n"
          ]
        },
        {
          "output_type": "execute_result",
          "data": {
            "text/html": [
              "\n",
              "  <div id=\"df-8e49c64d-a8de-4306-9580-d3ca33df82f7\">\n",
              "    <div class=\"colab-df-container\">\n",
              "      <div>\n",
              "<style scoped>\n",
              "    .dataframe tbody tr th:only-of-type {\n",
              "        vertical-align: middle;\n",
              "    }\n",
              "\n",
              "    .dataframe tbody tr th {\n",
              "        vertical-align: top;\n",
              "    }\n",
              "\n",
              "    .dataframe thead th {\n",
              "        text-align: right;\n",
              "    }\n",
              "</style>\n",
              "<table border=\"1\" class=\"dataframe\">\n",
              "  <thead>\n",
              "    <tr style=\"text-align: right;\">\n",
              "      <th></th>\n",
              "      <th>last_review_day_cnts</th>\n",
              "      <th>cnts</th>\n",
              "      <th>ratio</th>\n",
              "      <th>cum_ratio</th>\n",
              "    </tr>\n",
              "  </thead>\n",
              "  <tbody>\n",
              "    <tr>\n",
              "      <th>65</th>\n",
              "      <td>0.0</td>\n",
              "      <td>89</td>\n",
              "      <td>0.002291</td>\n",
              "      <td>0.002291</td>\n",
              "    </tr>\n",
              "    <tr>\n",
              "      <th>4</th>\n",
              "      <td>1.0</td>\n",
              "      <td>718</td>\n",
              "      <td>0.018485</td>\n",
              "      <td>0.020776</td>\n",
              "    </tr>\n",
              "    <tr>\n",
              "      <th>9</th>\n",
              "      <td>2.0</td>\n",
              "      <td>565</td>\n",
              "      <td>0.014546</td>\n",
              "      <td>0.035322</td>\n",
              "    </tr>\n",
              "    <tr>\n",
              "      <th>8</th>\n",
              "      <td>3.0</td>\n",
              "      <td>580</td>\n",
              "      <td>0.014932</td>\n",
              "      <td>0.050254</td>\n",
              "    </tr>\n",
              "    <tr>\n",
              "      <th>25</th>\n",
              "      <td>4.0</td>\n",
              "      <td>330</td>\n",
              "      <td>0.008496</td>\n",
              "      <td>0.058749</td>\n",
              "    </tr>\n",
              "    <tr>\n",
              "      <th>...</th>\n",
              "      <td>...</td>\n",
              "      <td>...</td>\n",
              "      <td>...</td>\n",
              "      <td>...</td>\n",
              "    </tr>\n",
              "    <tr>\n",
              "      <th>1594</th>\n",
              "      <td>2849.0</td>\n",
              "      <td>1</td>\n",
              "      <td>0.000026</td>\n",
              "      <td>0.999897</td>\n",
              "    </tr>\n",
              "    <tr>\n",
              "      <th>1576</th>\n",
              "      <td>2850.0</td>\n",
              "      <td>1</td>\n",
              "      <td>0.000026</td>\n",
              "      <td>0.999923</td>\n",
              "    </tr>\n",
              "    <tr>\n",
              "      <th>1702</th>\n",
              "      <td>2979.0</td>\n",
              "      <td>1</td>\n",
              "      <td>0.000026</td>\n",
              "      <td>0.999949</td>\n",
              "    </tr>\n",
              "    <tr>\n",
              "      <th>1534</th>\n",
              "      <td>2996.0</td>\n",
              "      <td>1</td>\n",
              "      <td>0.000026</td>\n",
              "      <td>0.999974</td>\n",
              "    </tr>\n",
              "    <tr>\n",
              "      <th>1695</th>\n",
              "      <td>3024.0</td>\n",
              "      <td>1</td>\n",
              "      <td>0.000026</td>\n",
              "      <td>1.000000</td>\n",
              "    </tr>\n",
              "  </tbody>\n",
              "</table>\n",
              "<p>1764 rows × 4 columns</p>\n",
              "</div>\n",
              "      <button class=\"colab-df-convert\" onclick=\"convertToInteractive('df-8e49c64d-a8de-4306-9580-d3ca33df82f7')\"\n",
              "              title=\"Convert this dataframe to an interactive table.\"\n",
              "              style=\"display:none;\">\n",
              "        \n",
              "  <svg xmlns=\"http://www.w3.org/2000/svg\" height=\"24px\"viewBox=\"0 0 24 24\"\n",
              "       width=\"24px\">\n",
              "    <path d=\"M0 0h24v24H0V0z\" fill=\"none\"/>\n",
              "    <path d=\"M18.56 5.44l.94 2.06.94-2.06 2.06-.94-2.06-.94-.94-2.06-.94 2.06-2.06.94zm-11 1L8.5 8.5l.94-2.06 2.06-.94-2.06-.94L8.5 2.5l-.94 2.06-2.06.94zm10 10l.94 2.06.94-2.06 2.06-.94-2.06-.94-.94-2.06-.94 2.06-2.06.94z\"/><path d=\"M17.41 7.96l-1.37-1.37c-.4-.4-.92-.59-1.43-.59-.52 0-1.04.2-1.43.59L10.3 9.45l-7.72 7.72c-.78.78-.78 2.05 0 2.83L4 21.41c.39.39.9.59 1.41.59.51 0 1.02-.2 1.41-.59l7.78-7.78 2.81-2.81c.8-.78.8-2.07 0-2.86zM5.41 20L4 18.59l7.72-7.72 1.47 1.35L5.41 20z\"/>\n",
              "  </svg>\n",
              "      </button>\n",
              "      \n",
              "  <style>\n",
              "    .colab-df-container {\n",
              "      display:flex;\n",
              "      flex-wrap:wrap;\n",
              "      gap: 12px;\n",
              "    }\n",
              "\n",
              "    .colab-df-convert {\n",
              "      background-color: #E8F0FE;\n",
              "      border: none;\n",
              "      border-radius: 50%;\n",
              "      cursor: pointer;\n",
              "      display: none;\n",
              "      fill: #1967D2;\n",
              "      height: 32px;\n",
              "      padding: 0 0 0 0;\n",
              "      width: 32px;\n",
              "    }\n",
              "\n",
              "    .colab-df-convert:hover {\n",
              "      background-color: #E2EBFA;\n",
              "      box-shadow: 0px 1px 2px rgba(60, 64, 67, 0.3), 0px 1px 3px 1px rgba(60, 64, 67, 0.15);\n",
              "      fill: #174EA6;\n",
              "    }\n",
              "\n",
              "    [theme=dark] .colab-df-convert {\n",
              "      background-color: #3B4455;\n",
              "      fill: #D2E3FC;\n",
              "    }\n",
              "\n",
              "    [theme=dark] .colab-df-convert:hover {\n",
              "      background-color: #434B5C;\n",
              "      box-shadow: 0px 1px 3px 1px rgba(0, 0, 0, 0.15);\n",
              "      filter: drop-shadow(0px 1px 2px rgba(0, 0, 0, 0.3));\n",
              "      fill: #FFFFFF;\n",
              "    }\n",
              "  </style>\n",
              "\n",
              "      <script>\n",
              "        const buttonEl =\n",
              "          document.querySelector('#df-8e49c64d-a8de-4306-9580-d3ca33df82f7 button.colab-df-convert');\n",
              "        buttonEl.style.display =\n",
              "          google.colab.kernel.accessAllowed ? 'block' : 'none';\n",
              "\n",
              "        async function convertToInteractive(key) {\n",
              "          const element = document.querySelector('#df-8e49c64d-a8de-4306-9580-d3ca33df82f7');\n",
              "          const dataTable =\n",
              "            await google.colab.kernel.invokeFunction('convertToInteractive',\n",
              "                                                     [key], {});\n",
              "          if (!dataTable) return;\n",
              "\n",
              "          const docLinkHtml = 'Like what you see? Visit the ' +\n",
              "            '<a target=\"_blank\" href=https://colab.research.google.com/notebooks/data_table.ipynb>data table notebook</a>'\n",
              "            + ' to learn more about interactive tables.';\n",
              "          element.innerHTML = '';\n",
              "          dataTable['output_type'] = 'display_data';\n",
              "          await google.colab.output.renderOutput(dataTable, element);\n",
              "          const docLink = document.createElement('div');\n",
              "          docLink.innerHTML = docLinkHtml;\n",
              "          element.appendChild(docLink);\n",
              "        }\n",
              "      </script>\n",
              "    </div>\n",
              "  </div>\n",
              "  "
            ],
            "text/plain": [
              "      last_review_day_cnts  cnts     ratio  cum_ratio\n",
              "65                     0.0    89  0.002291   0.002291\n",
              "4                      1.0   718  0.018485   0.020776\n",
              "9                      2.0   565  0.014546   0.035322\n",
              "8                      3.0   580  0.014932   0.050254\n",
              "25                     4.0   330  0.008496   0.058749\n",
              "...                    ...   ...       ...        ...\n",
              "1594                2849.0     1  0.000026   0.999897\n",
              "1576                2850.0     1  0.000026   0.999923\n",
              "1702                2979.0     1  0.000026   0.999949\n",
              "1534                2996.0     1  0.000026   0.999974\n",
              "1695                3024.0     1  0.000026   1.000000\n",
              "\n",
              "[1764 rows x 4 columns]"
            ]
          },
          "metadata": {},
          "execution_count": 41
        }
      ]
    },
    {
      "cell_type": "markdown",
      "source": [
        "### 6. 범주형 데이터와 Price간 관계 분석"
      ],
      "metadata": {
        "id": "Dw9NqmQG8XWJ"
      }
    },
    {
      "cell_type": "code",
      "source": [
        "sns.boxplot(x = 'neighbourhood_group', y = 'price', data = df)"
      ],
      "metadata": {
        "colab": {
          "base_uri": "https://localhost:8080/",
          "height": 298
        },
        "id": "YwHoPmkq9lzs",
        "outputId": "42410338-6831-4af3-c7a1-3cb85aff4aa1"
      },
      "execution_count": 42,
      "outputs": [
        {
          "output_type": "execute_result",
          "data": {
            "text/plain": [
              "<matplotlib.axes._subplots.AxesSubplot at 0x7f36ba5b6450>"
            ]
          },
          "metadata": {},
          "execution_count": 42
        },
        {
          "output_type": "display_data",
          "data": {
            "image/png": "[encoded data removed]",
            "text/plain": [
              "<Figure size 432x288 with 1 Axes>"
            ]
          },
          "metadata": {
            "needs_background": "light"
          }
        }
      ]
    },
    {
      "cell_type": "code",
      "source": [
        "sns.boxplot(x = 'neighbourhood', y = 'price', data = df)"
      ],
      "metadata": {
        "colab": {
          "base_uri": "https://localhost:8080/",
          "height": 297
        },
        "id": "8crB3sHg9thr",
        "outputId": "e9706e0f-a4ca-4682-bc60-df6351774ced"
      },
      "execution_count": 43,
      "outputs": [
        {
          "output_type": "execute_result",
          "data": {
            "text/plain": [
              "<matplotlib.axes._subplots.AxesSubplot at 0x7f36ba5b4750>"
            ]
          },
          "metadata": {},
          "execution_count": 43
        },
        {
          "output_type": "display_data",
          "data": {
            "image/png": "[encoded data removed]",
            "text/plain": [
              "<Figure size 432x288 with 1 Axes>"
            ]
          },
          "metadata": {
            "needs_background": "light"
          }
        }
      ]
    },
    {
      "cell_type": "code",
      "source": [
        "sns.boxplot(x = 'room_type', y = 'price', data = df)"
      ],
      "metadata": {
        "colab": {
          "base_uri": "https://localhost:8080/",
          "height": 298
        },
        "id": "WRtrEMQE9tfK",
        "outputId": "528c5e3a-ad7d-41f0-c394-d5c37fa906c6"
      },
      "execution_count": 44,
      "outputs": [
        {
          "output_type": "execute_result",
          "data": {
            "text/plain": [
              "<matplotlib.axes._subplots.AxesSubplot at 0x7f36b8cd5950>"
            ]
          },
          "metadata": {},
          "execution_count": 44
        },
        {
          "output_type": "display_data",
          "data": {
            "image/png": "[encoded data removed]",
            "text/plain": [
              "<Figure size 432x288 with 1 Axes>"
            ]
          },
          "metadata": {
            "needs_background": "light"
          }
        }
      ]
    },
    {
      "cell_type": "markdown",
      "source": [
        "### 7. 수치형 데이터와 Price 간 관계 분석"
      ],
      "metadata": {
        "id": "meWJw3aU91dQ"
      }
    },
    {
      "cell_type": "code",
      "source": [
        "sns.jointplot(x='minimum_nights', y='price', data = df, kind = 'scatter')"
      ],
      "metadata": {
        "colab": {
          "base_uri": "https://localhost:8080/",
          "height": 460
        },
        "id": "LaMg9nkL973h",
        "outputId": "df89b143-09c3-4a7c-e2fc-a26c183a6a60"
      },
      "execution_count": 45,
      "outputs": [
        {
          "output_type": "execute_result",
          "data": {
            "text/plain": [
              "<seaborn.axisgrid.JointGrid at 0x7f36b8db6390>"
            ]
          },
          "metadata": {},
          "execution_count": 45
        },
        {
          "output_type": "display_data",
          "data": {
            "image/png": "[encoded data removed]",
            "text/plain": [
              "<Figure size 432x432 with 3 Axes>"
            ]
          },
          "metadata": {
            "needs_background": "light"
          }
        }
      ]
    },
    {
      "cell_type": "code",
      "source": [
        "sns.jointplot(x='number_of_reviews', y='price', data = df, kind = 'scatter')"
      ],
      "metadata": {
        "colab": {
          "base_uri": "https://localhost:8080/",
          "height": 460
        },
        "id": "23rlpfbb97vG",
        "outputId": "a48d3637-2960-4e4b-f02a-a49b802b4aae"
      },
      "execution_count": 46,
      "outputs": [
        {
          "output_type": "execute_result",
          "data": {
            "text/plain": [
              "<seaborn.axisgrid.JointGrid at 0x7f36b268d310>"
            ]
          },
          "metadata": {},
          "execution_count": 46
        },
        {
          "output_type": "display_data",
          "data": {
            "image/png": "[encoded data removed]",
            "text/plain": [
              "<Figure size 432x432 with 3 Axes>"
            ]
          },
          "metadata": {
            "needs_background": "light"
          }
        }
      ]
    },
    {
      "cell_type": "code",
      "source": [
        "plt.figure(figsize=(12,10))\n",
        "sns.lineplot(x='last_review', y ='price', data = df)"
      ],
      "metadata": {
        "colab": {
          "base_uri": "https://localhost:8080/",
          "height": 624
        },
        "id": "5JLzrsIj97hR",
        "outputId": "743a8c90-f208-469b-dc2a-34258766b9c4"
      },
      "execution_count": 47,
      "outputs": [
        {
          "output_type": "execute_result",
          "data": {
            "text/plain": [
              "<matplotlib.axes._subplots.AxesSubplot at 0x7f36b339cbd0>"
            ]
          },
          "metadata": {},
          "execution_count": 47
        },
        {
          "output_type": "display_data",
          "data": {
            "image/png": "[encoded data removed]",
            "text/plain": [
              "<Figure size 864x720 with 1 Axes>"
            ]
          },
          "metadata": {
            "needs_background": "light"
          }
        }
      ]
    },
    {
      "cell_type": "code",
      "source": [
        "sns.jointplot(x='reviews_per_month', y='price', data = df, kind = 'scatter')"
      ],
      "metadata": {
        "colab": {
          "base_uri": "https://localhost:8080/",
          "height": 460
        },
        "id": "VxFkatU_32Wz",
        "outputId": "1364ea76-b719-4af8-e150-98a001830e86"
      },
      "execution_count": 48,
      "outputs": [
        {
          "output_type": "execute_result",
          "data": {
            "text/plain": [
              "<seaborn.axisgrid.JointGrid at 0x7f36b0a136d0>"
            ]
          },
          "metadata": {},
          "execution_count": 48
        },
        {
          "output_type": "display_data",
          "data": {
            "image/png": "[encoded data removed]",
            "text/plain": [
              "<Figure size 432x432 with 3 Axes>"
            ]
          },
          "metadata": {
            "needs_background": "light"
          }
        }
      ]
    },
    {
      "cell_type": "code",
      "source": [
        "sns.jointplot(x='calculated_host_listings_count', y='price', data = df, kind = 'scatter')"
      ],
      "metadata": {
        "colab": {
          "base_uri": "https://localhost:8080/",
          "height": 460
        },
        "id": "h-1R0Su05LTT",
        "outputId": "ade5ec8d-0c3e-4f87-f941-1be4003dea47"
      },
      "execution_count": 49,
      "outputs": [
        {
          "output_type": "execute_result",
          "data": {
            "text/plain": [
              "<seaborn.axisgrid.JointGrid at 0x7f36af84de90>"
            ]
          },
          "metadata": {},
          "execution_count": 49
        },
        {
          "output_type": "display_data",
          "data": {
            "image/png": "[encoded data removed]",
            "text/plain": [
              "<Figure size 432x432 with 3 Axes>"
            ]
          },
          "metadata": {
            "needs_background": "light"
          }
        }
      ]
    },
    {
      "cell_type": "code",
      "source": [
        "sns.jointplot(x='availability_365', y='price', data = df, kind = 'hex')"
      ],
      "metadata": {
        "colab": {
          "base_uri": "https://localhost:8080/",
          "height": 460
        },
        "id": "6oZHad9U5OGz",
        "outputId": "e5f00395-1a1e-4796-f0bc-70a14c7b77fc"
      },
      "execution_count": 50,
      "outputs": [
        {
          "output_type": "execute_result",
          "data": {
            "text/plain": [
              "<seaborn.axisgrid.JointGrid at 0x7f36aa43a110>"
            ]
          },
          "metadata": {},
          "execution_count": 50
        },
        {
          "output_type": "display_data",
          "data": {
            "image/png": "[encoded data removed]",
            "text/plain": [
              "<Figure size 432x432 with 3 Axes>"
            ]
          },
          "metadata": {
            "needs_background": "light"
          }
        }
      ]
    },
    {
      "cell_type": "code",
      "source": [
        "# corr \n",
        "sns.heatmap(df.corr(), annot=True, cmap ='YlOrRd')"
      ],
      "metadata": {
        "colab": {
          "base_uri": "https://localhost:8080/",
          "height": 430
        },
        "id": "InTxV7e_4c7q",
        "outputId": "c69408af-9748-41ca-9301-30ff0af84623"
      },
      "execution_count": 51,
      "outputs": [
        {
          "output_type": "execute_result",
          "data": {
            "text/plain": [
              "<matplotlib.axes._subplots.AxesSubplot at 0x7f36a9c77210>"
            ]
          },
          "metadata": {},
          "execution_count": 51
        },
        {
          "output_type": "display_data",
          "data": {
            "image/png": "[encoded data removed]",
            "text/plain": [
              "<Figure size 432x288 with 2 Axes>"
            ]
          },
          "metadata": {
            "needs_background": "light"
          }
        }
      ]
    },
    {
      "cell_type": "markdown",
      "source": [
        "### 6. 불필요한 데이터 데이터프레임에서 제거하기\n"
      ],
      "metadata": {
        "id": "LdxeuCWuDkVG"
      }
    },
    {
      "cell_type": "code",
      "source": [
        "df.columns"
      ],
      "metadata": {
        "colab": {
          "base_uri": "https://localhost:8080/"
        },
        "id": "QfTnIRh4BoNL",
        "outputId": "f32863c1-3e12-4c4d-f2c9-f8eafbdb869f"
      },
      "execution_count": 52,
      "outputs": [
        {
          "output_type": "execute_result",
          "data": {
            "text/plain": [
              "Index(['id', 'name', 'host_id', 'host_name', 'neighbourhood_group',\n",
              "       'neighbourhood', 'latitude', 'longitude', 'room_type', 'price',\n",
              "       'minimum_nights', 'number_of_reviews', 'last_review',\n",
              "       'reviews_per_month', 'calculated_host_listings_count',\n",
              "       'availability_365', 'last_review_day_cnts'],\n",
              "      dtype='object')"
            ]
          },
          "metadata": {},
          "execution_count": 52
        }
      ]
    },
    {
      "cell_type": "code",
      "source": [
        "# 불필요컬럼 제거\n",
        "unneccessary_columns = [\n",
        "                        'id',                                 #  항목의 ID  (listing ID)\n",
        "                        'name',                               #  항목의 이름 (타이틀) (name of the listing)\n",
        "                        #'host_id',                            #  호스트 ID  (host ID)\n",
        "                        'host_name',                          #  호스트의 이름  (name of the host)\n",
        "                        #'neighbourhood_group',                #  방이 있는 지역 그룹 (location)\n",
        "                        #'neighbourhood',                      #  방이 있는 지역 (area)\n",
        "                        'latitude',                           #  방이 위치한 위도 (latitude coordinates)\n",
        "                        'longitude',                          #  방이 위치한 경도 (longitude coordinates)\n",
        "                        #'room_type',                          #  방의 종류 (listing space type)\n",
        "                        #'price',                              #  가격 (미 달러) (price in dollars)\n",
        "                        #'minimum_nights',                     #  최소 숙박 일수 (amount of nights minimum)\n",
        "                        #'number_of_reviews',                  #  리뷰의 개수  (number of reviews)\n",
        "                        #'last_review',                        #  마지막 리뷰 일자 (latest review)\n",
        "                        #'reviews_per_month',                  #  월별 리뷰 개수 (number of reviews per month)\n",
        "                        #'calculated_host_listings_count',     #  호스트가 올린 방 개수  (amount of listing per host)\n",
        "                        #'availability_365',                   #  365일 중 가능한 일수 (number of days when listing is available for booking)\n",
        "                        #'last_review_day_cnts'                #  마지막 리뷰로부터 일수\n",
        "                        ]"
      ],
      "metadata": {
        "id": "YDPgMjQ3Ka6Z"
      },
      "execution_count": 53,
      "outputs": []
    },
    {
      "cell_type": "code",
      "source": [
        "n_df = df.drop(unneccessary_columns, axis =1)"
      ],
      "metadata": {
        "id": "UNeWAGYrMiYr"
      },
      "execution_count": 54,
      "outputs": []
    },
    {
      "cell_type": "code",
      "source": [
        "## 17개 컬럼에서 11개로 변경\n",
        "print(df.shape, n_df.shape)"
      ],
      "metadata": {
        "colab": {
          "base_uri": "https://localhost:8080/"
        },
        "id": "IeDB5UlVMoHT",
        "outputId": "a60854a6-1255-4312-f46d-fddbc27bc4ec"
      },
      "execution_count": 55,
      "outputs": [
        {
          "output_type": "stream",
          "name": "stdout",
          "text": [
            "(48895, 17) (48895, 12)\n"
          ]
        }
      ]
    },
    {
      "cell_type": "markdown",
      "source": [
        "### 7. 수치형 데이터 클리닝"
      ],
      "metadata": {
        "id": "z9gXbXOVELrL"
      }
    },
    {
      "cell_type": "code",
      "source": [
        "n_df.describe()"
      ],
      "metadata": {
        "colab": {
          "base_uri": "https://localhost:8080/",
          "height": 300
        },
        "id": "U7doMW6rQAd9",
        "outputId": "60d0de3a-d4ae-4608-f77e-cdba11f8ebe2"
      },
      "execution_count": 56,
      "outputs": [
        {
          "output_type": "execute_result",
          "data": {
            "text/html": [
              "\n",
              "  <div id=\"df-1dad4e04-2cac-475f-8c0c-09a3f39c4691\">\n",
              "    <div class=\"colab-df-container\">\n",
              "      <div>\n",
              "<style scoped>\n",
              "    .dataframe tbody tr th:only-of-type {\n",
              "        vertical-align: middle;\n",
              "    }\n",
              "\n",
              "    .dataframe tbody tr th {\n",
              "        vertical-align: top;\n",
              "    }\n",
              "\n",
              "    .dataframe thead th {\n",
              "        text-align: right;\n",
              "    }\n",
              "</style>\n",
              "<table border=\"1\" class=\"dataframe\">\n",
              "  <thead>\n",
              "    <tr style=\"text-align: right;\">\n",
              "      <th></th>\n",
              "      <th>host_id</th>\n",
              "      <th>price</th>\n",
              "      <th>minimum_nights</th>\n",
              "      <th>number_of_reviews</th>\n",
              "      <th>reviews_per_month</th>\n",
              "      <th>calculated_host_listings_count</th>\n",
              "      <th>availability_365</th>\n",
              "      <th>last_review_day_cnts</th>\n",
              "    </tr>\n",
              "  </thead>\n",
              "  <tbody>\n",
              "    <tr>\n",
              "      <th>count</th>\n",
              "      <td>4.889500e+04</td>\n",
              "      <td>48895.000000</td>\n",
              "      <td>48895.000000</td>\n",
              "      <td>48895.000000</td>\n",
              "      <td>38843.000000</td>\n",
              "      <td>48895.000000</td>\n",
              "      <td>48895.000000</td>\n",
              "      <td>38843.000000</td>\n",
              "    </tr>\n",
              "    <tr>\n",
              "      <th>mean</th>\n",
              "      <td>6.762001e+07</td>\n",
              "      <td>152.720687</td>\n",
              "      <td>7.029962</td>\n",
              "      <td>23.274466</td>\n",
              "      <td>1.373221</td>\n",
              "      <td>7.143982</td>\n",
              "      <td>112.781327</td>\n",
              "      <td>276.925418</td>\n",
              "    </tr>\n",
              "    <tr>\n",
              "      <th>std</th>\n",
              "      <td>7.861097e+07</td>\n",
              "      <td>240.154170</td>\n",
              "      <td>20.510550</td>\n",
              "      <td>44.550582</td>\n",
              "      <td>1.680442</td>\n",
              "      <td>32.952519</td>\n",
              "      <td>131.622289</td>\n",
              "      <td>413.916984</td>\n",
              "    </tr>\n",
              "    <tr>\n",
              "      <th>min</th>\n",
              "      <td>2.438000e+03</td>\n",
              "      <td>0.000000</td>\n",
              "      <td>1.000000</td>\n",
              "      <td>0.000000</td>\n",
              "      <td>0.010000</td>\n",
              "      <td>1.000000</td>\n",
              "      <td>0.000000</td>\n",
              "      <td>0.000000</td>\n",
              "    </tr>\n",
              "    <tr>\n",
              "      <th>25%</th>\n",
              "      <td>7.822033e+06</td>\n",
              "      <td>69.000000</td>\n",
              "      <td>1.000000</td>\n",
              "      <td>1.000000</td>\n",
              "      <td>0.190000</td>\n",
              "      <td>1.000000</td>\n",
              "      <td>0.000000</td>\n",
              "      <td>15.000000</td>\n",
              "    </tr>\n",
              "    <tr>\n",
              "      <th>50%</th>\n",
              "      <td>3.079382e+07</td>\n",
              "      <td>106.000000</td>\n",
              "      <td>3.000000</td>\n",
              "      <td>5.000000</td>\n",
              "      <td>0.720000</td>\n",
              "      <td>1.000000</td>\n",
              "      <td>45.000000</td>\n",
              "      <td>50.000000</td>\n",
              "    </tr>\n",
              "    <tr>\n",
              "      <th>75%</th>\n",
              "      <td>1.074344e+08</td>\n",
              "      <td>175.000000</td>\n",
              "      <td>5.000000</td>\n",
              "      <td>24.000000</td>\n",
              "      <td>2.020000</td>\n",
              "      <td>2.000000</td>\n",
              "      <td>227.000000</td>\n",
              "      <td>365.000000</td>\n",
              "    </tr>\n",
              "    <tr>\n",
              "      <th>max</th>\n",
              "      <td>2.743213e+08</td>\n",
              "      <td>10000.000000</td>\n",
              "      <td>1250.000000</td>\n",
              "      <td>629.000000</td>\n",
              "      <td>58.500000</td>\n",
              "      <td>327.000000</td>\n",
              "      <td>365.000000</td>\n",
              "      <td>3024.000000</td>\n",
              "    </tr>\n",
              "  </tbody>\n",
              "</table>\n",
              "</div>\n",
              "      <button class=\"colab-df-convert\" onclick=\"convertToInteractive('df-1dad4e04-2cac-475f-8c0c-09a3f39c4691')\"\n",
              "              title=\"Convert this dataframe to an interactive table.\"\n",
              "              style=\"display:none;\">\n",
              "        \n",
              "  <svg xmlns=\"http://www.w3.org/2000/svg\" height=\"24px\"viewBox=\"0 0 24 24\"\n",
              "       width=\"24px\">\n",
              "    <path d=\"M0 0h24v24H0V0z\" fill=\"none\"/>\n",
              "    <path d=\"M18.56 5.44l.94 2.06.94-2.06 2.06-.94-2.06-.94-.94-2.06-.94 2.06-2.06.94zm-11 1L8.5 8.5l.94-2.06 2.06-.94-2.06-.94L8.5 2.5l-.94 2.06-2.06.94zm10 10l.94 2.06.94-2.06 2.06-.94-2.06-.94-.94-2.06-.94 2.06-2.06.94z\"/><path d=\"M17.41 7.96l-1.37-1.37c-.4-.4-.92-.59-1.43-.59-.52 0-1.04.2-1.43.59L10.3 9.45l-7.72 7.72c-.78.78-.78 2.05 0 2.83L4 21.41c.39.39.9.59 1.41.59.51 0 1.02-.2 1.41-.59l7.78-7.78 2.81-2.81c.8-.78.8-2.07 0-2.86zM5.41 20L4 18.59l7.72-7.72 1.47 1.35L5.41 20z\"/>\n",
              "  </svg>\n",
              "      </button>\n",
              "      \n",
              "  <style>\n",
              "    .colab-df-container {\n",
              "      display:flex;\n",
              "      flex-wrap:wrap;\n",
              "      gap: 12px;\n",
              "    }\n",
              "\n",
              "    .colab-df-convert {\n",
              "      background-color: #E8F0FE;\n",
              "      border: none;\n",
              "      border-radius: 50%;\n",
              "      cursor: pointer;\n",
              "      display: none;\n",
              "      fill: #1967D2;\n",
              "      height: 32px;\n",
              "      padding: 0 0 0 0;\n",
              "      width: 32px;\n",
              "    }\n",
              "\n",
              "    .colab-df-convert:hover {\n",
              "      background-color: #E2EBFA;\n",
              "      box-shadow: 0px 1px 2px rgba(60, 64, 67, 0.3), 0px 1px 3px 1px rgba(60, 64, 67, 0.15);\n",
              "      fill: #174EA6;\n",
              "    }\n",
              "\n",
              "    [theme=dark] .colab-df-convert {\n",
              "      background-color: #3B4455;\n",
              "      fill: #D2E3FC;\n",
              "    }\n",
              "\n",
              "    [theme=dark] .colab-df-convert:hover {\n",
              "      background-color: #434B5C;\n",
              "      box-shadow: 0px 1px 3px 1px rgba(0, 0, 0, 0.15);\n",
              "      filter: drop-shadow(0px 1px 2px rgba(0, 0, 0, 0.3));\n",
              "      fill: #FFFFFF;\n",
              "    }\n",
              "  </style>\n",
              "\n",
              "      <script>\n",
              "        const buttonEl =\n",
              "          document.querySelector('#df-1dad4e04-2cac-475f-8c0c-09a3f39c4691 button.colab-df-convert');\n",
              "        buttonEl.style.display =\n",
              "          google.colab.kernel.accessAllowed ? 'block' : 'none';\n",
              "\n",
              "        async function convertToInteractive(key) {\n",
              "          const element = document.querySelector('#df-1dad4e04-2cac-475f-8c0c-09a3f39c4691');\n",
              "          const dataTable =\n",
              "            await google.colab.kernel.invokeFunction('convertToInteractive',\n",
              "                                                     [key], {});\n",
              "          if (!dataTable) return;\n",
              "\n",
              "          const docLinkHtml = 'Like what you see? Visit the ' +\n",
              "            '<a target=\"_blank\" href=https://colab.research.google.com/notebooks/data_table.ipynb>data table notebook</a>'\n",
              "            + ' to learn more about interactive tables.';\n",
              "          element.innerHTML = '';\n",
              "          dataTable['output_type'] = 'display_data';\n",
              "          await google.colab.output.renderOutput(dataTable, element);\n",
              "          const docLink = document.createElement('div');\n",
              "          docLink.innerHTML = docLinkHtml;\n",
              "          element.appendChild(docLink);\n",
              "        }\n",
              "      </script>\n",
              "    </div>\n",
              "  </div>\n",
              "  "
            ],
            "text/plain": [
              "            host_id         price  ...  availability_365  last_review_day_cnts\n",
              "count  4.889500e+04  48895.000000  ...      48895.000000          38843.000000\n",
              "mean   6.762001e+07    152.720687  ...        112.781327            276.925418\n",
              "std    7.861097e+07    240.154170  ...        131.622289            413.916984\n",
              "min    2.438000e+03      0.000000  ...          0.000000              0.000000\n",
              "25%    7.822033e+06     69.000000  ...          0.000000             15.000000\n",
              "50%    3.079382e+07    106.000000  ...         45.000000             50.000000\n",
              "75%    1.074344e+08    175.000000  ...        227.000000            365.000000\n",
              "max    2.743213e+08  10000.000000  ...        365.000000           3024.000000\n",
              "\n",
              "[8 rows x 8 columns]"
            ]
          },
          "metadata": {},
          "execution_count": 56
        }
      ]
    },
    {
      "cell_type": "markdown",
      "source": [
        "**1) price**\n",
        "\n",
        "price가 0인 값들이 존재. Airbnb는 돈을 받고 집을 빌려주는 곳인데 가격이 0일 수 없음\n",
        "\n",
        "또한 가장 높은 price가 10,000달러 인데 검색결과 가장 비싼 곳이 1박에 2000달러 정도로 나타남. \n",
        "\n",
        "따라서 1박 10,000달러는 잘못된 정보인것으로 보임. \n",
        "\n",
        "\n",
        "[뉴욕시티 airbnb 검색](https://www.airbnb.co.kr/s/New-York--New-York--United-States/homes?adults=2&place_id=ChIJOwg_06VPwokRYv534QaPC8g&checkin=2022-03-01&checkout=2022-03-10&tab_id=home_tab&refinement_paths%5B%5D=%2Fhomes&query=New%20York%2C%20New%20York%2C%20United%20States&flexible_trip_lengths%5B%5D=weekend_trip&date_picker_type=calendar&source=structured_search_input_header&search_type=user_map_move&price_min=932&ne_lat=40.797051985077054&ne_lng=-73.87944416951626&sw_lat=40.70381060255718&sw_lng=-74.05505375813931&zoom=13&search_by_map=true&federated_search_session_id=d7ebb60b-5cb1-4c80-8e94-18d3b56eadcf&pagination_search=true&items_offset=80&section_offset=2)\n"
      ],
      "metadata": {
        "id": "PgB9Bz-HQH3d"
      }
    },
    {
      "cell_type": "code",
      "source": [
        "min(n_df[n_df['price'] > 0]['price'])"
      ],
      "metadata": {
        "colab": {
          "base_uri": "https://localhost:8080/"
        },
        "id": "1Z-tWUi6RmAG",
        "outputId": "41b8e908-5812-49bd-df9d-b0ed27c0942b"
      },
      "execution_count": 57,
      "outputs": [
        {
          "output_type": "execute_result",
          "data": {
            "text/plain": [
              "10"
            ]
          },
          "metadata": {},
          "execution_count": 57
        }
      ]
    },
    {
      "cell_type": "code",
      "source": [
        "print(n_df[n_df['price'] > 0]['price'].quantile(0.99))"
      ],
      "metadata": {
        "colab": {
          "base_uri": "https://localhost:8080/"
        },
        "id": "FMloFz7kSNN-",
        "outputId": "9fe1b5b1-627d-4af9-a614-67e9a4d17584"
      },
      "execution_count": 58,
      "outputs": [
        {
          "output_type": "stream",
          "name": "stdout",
          "text": [
            "799.0\n"
          ]
        }
      ]
    },
    {
      "cell_type": "code",
      "source": [
        "n_df[n_df['price'] > 799]['price']"
      ],
      "metadata": {
        "colab": {
          "base_uri": "https://localhost:8080/"
        },
        "id": "pjnt6bg4Udl5",
        "outputId": "3aa39b49-6299-4727-d7b4-80f0e5e57144"
      },
      "execution_count": 59,
      "outputs": [
        {
          "output_type": "execute_result",
          "data": {
            "text/plain": [
              "85        800\n",
              "496      2000\n",
              "662       850\n",
              "762      1300\n",
              "780       800\n",
              "         ... \n",
              "48304    2999\n",
              "48305    1999\n",
              "48523    1369\n",
              "48535    1749\n",
              "48839     800\n",
              "Name: price, Length: 474, dtype: int64"
            ]
          },
          "metadata": {},
          "execution_count": 59
        }
      ]
    },
    {
      "cell_type": "code",
      "source": [
        "474/48895*100"
      ],
      "metadata": {
        "colab": {
          "base_uri": "https://localhost:8080/"
        },
        "id": "K1lpq6QXSzTV",
        "outputId": "258bab65-8a2e-4e2f-b6b0-7d6bc100174d"
      },
      "execution_count": 60,
      "outputs": [
        {
          "output_type": "execute_result",
          "data": {
            "text/plain": [
              "0.9694242765108907"
            ]
          },
          "metadata": {},
          "execution_count": 60
        }
      ]
    },
    {
      "cell_type": "code",
      "source": [
        "# 0을 제외하고 가장 낮은 가격이 10불이므로 0은 10불로 대체\n",
        "# price 상위 1%의 가격은 799달러이고, 전체의 약 0.97%에 불과함으로, 800달러 이상은 모두 800달러로 묶음\n",
        "\n",
        "def new_price(x):\n",
        "  if x == 0:\n",
        "    return 10\n",
        "  elif x > 799.0:\n",
        "    return 800.00\n",
        "  else:\n",
        "    return x\n",
        "\n",
        "\n",
        "n_df['price_n'] = n_df['price'].apply(new_price)\n"
      ],
      "metadata": {
        "id": "qLWEul56R9XM"
      },
      "execution_count": 61,
      "outputs": []
    },
    {
      "cell_type": "code",
      "source": [
        "n_df[['price','price_n']].describe()"
      ],
      "metadata": {
        "colab": {
          "base_uri": "https://localhost:8080/",
          "height": 300
        },
        "id": "ByD-JzUdT-Ji",
        "outputId": "da0d2095-0a7a-4a91-d1f4-1f36033222fd"
      },
      "execution_count": 62,
      "outputs": [
        {
          "output_type": "execute_result",
          "data": {
            "text/html": [
              "\n",
              "  <div id=\"df-9bf230c7-3dce-443f-bd6d-149516c57c46\">\n",
              "    <div class=\"colab-df-container\">\n",
              "      <div>\n",
              "<style scoped>\n",
              "    .dataframe tbody tr th:only-of-type {\n",
              "        vertical-align: middle;\n",
              "    }\n",
              "\n",
              "    .dataframe tbody tr th {\n",
              "        vertical-align: top;\n",
              "    }\n",
              "\n",
              "    .dataframe thead th {\n",
              "        text-align: right;\n",
              "    }\n",
              "</style>\n",
              "<table border=\"1\" class=\"dataframe\">\n",
              "  <thead>\n",
              "    <tr style=\"text-align: right;\">\n",
              "      <th></th>\n",
              "      <th>price</th>\n",
              "      <th>price_n</th>\n",
              "    </tr>\n",
              "  </thead>\n",
              "  <tbody>\n",
              "    <tr>\n",
              "      <th>count</th>\n",
              "      <td>48895.000000</td>\n",
              "      <td>48895.000000</td>\n",
              "    </tr>\n",
              "    <tr>\n",
              "      <th>mean</th>\n",
              "      <td>152.720687</td>\n",
              "      <td>143.968177</td>\n",
              "    </tr>\n",
              "    <tr>\n",
              "      <th>std</th>\n",
              "      <td>240.154170</td>\n",
              "      <td>121.984612</td>\n",
              "    </tr>\n",
              "    <tr>\n",
              "      <th>min</th>\n",
              "      <td>0.000000</td>\n",
              "      <td>10.000000</td>\n",
              "    </tr>\n",
              "    <tr>\n",
              "      <th>25%</th>\n",
              "      <td>69.000000</td>\n",
              "      <td>69.000000</td>\n",
              "    </tr>\n",
              "    <tr>\n",
              "      <th>50%</th>\n",
              "      <td>106.000000</td>\n",
              "      <td>106.000000</td>\n",
              "    </tr>\n",
              "    <tr>\n",
              "      <th>75%</th>\n",
              "      <td>175.000000</td>\n",
              "      <td>175.000000</td>\n",
              "    </tr>\n",
              "    <tr>\n",
              "      <th>max</th>\n",
              "      <td>10000.000000</td>\n",
              "      <td>800.000000</td>\n",
              "    </tr>\n",
              "  </tbody>\n",
              "</table>\n",
              "</div>\n",
              "      <button class=\"colab-df-convert\" onclick=\"convertToInteractive('df-9bf230c7-3dce-443f-bd6d-149516c57c46')\"\n",
              "              title=\"Convert this dataframe to an interactive table.\"\n",
              "              style=\"display:none;\">\n",
              "        \n",
              "  <svg xmlns=\"http://www.w3.org/2000/svg\" height=\"24px\"viewBox=\"0 0 24 24\"\n",
              "       width=\"24px\">\n",
              "    <path d=\"M0 0h24v24H0V0z\" fill=\"none\"/>\n",
              "    <path d=\"M18.56 5.44l.94 2.06.94-2.06 2.06-.94-2.06-.94-.94-2.06-.94 2.06-2.06.94zm-11 1L8.5 8.5l.94-2.06 2.06-.94-2.06-.94L8.5 2.5l-.94 2.06-2.06.94zm10 10l.94 2.06.94-2.06 2.06-.94-2.06-.94-.94-2.06-.94 2.06-2.06.94z\"/><path d=\"M17.41 7.96l-1.37-1.37c-.4-.4-.92-.59-1.43-.59-.52 0-1.04.2-1.43.59L10.3 9.45l-7.72 7.72c-.78.78-.78 2.05 0 2.83L4 21.41c.39.39.9.59 1.41.59.51 0 1.02-.2 1.41-.59l7.78-7.78 2.81-2.81c.8-.78.8-2.07 0-2.86zM5.41 20L4 18.59l7.72-7.72 1.47 1.35L5.41 20z\"/>\n",
              "  </svg>\n",
              "      </button>\n",
              "      \n",
              "  <style>\n",
              "    .colab-df-container {\n",
              "      display:flex;\n",
              "      flex-wrap:wrap;\n",
              "      gap: 12px;\n",
              "    }\n",
              "\n",
              "    .colab-df-convert {\n",
              "      background-color: #E8F0FE;\n",
              "      border: none;\n",
              "      border-radius: 50%;\n",
              "      cursor: pointer;\n",
              "      display: none;\n",
              "      fill: #1967D2;\n",
              "      height: 32px;\n",
              "      padding: 0 0 0 0;\n",
              "      width: 32px;\n",
              "    }\n",
              "\n",
              "    .colab-df-convert:hover {\n",
              "      background-color: #E2EBFA;\n",
              "      box-shadow: 0px 1px 2px rgba(60, 64, 67, 0.3), 0px 1px 3px 1px rgba(60, 64, 67, 0.15);\n",
              "      fill: #174EA6;\n",
              "    }\n",
              "\n",
              "    [theme=dark] .colab-df-convert {\n",
              "      background-color: #3B4455;\n",
              "      fill: #D2E3FC;\n",
              "    }\n",
              "\n",
              "    [theme=dark] .colab-df-convert:hover {\n",
              "      background-color: #434B5C;\n",
              "      box-shadow: 0px 1px 3px 1px rgba(0, 0, 0, 0.15);\n",
              "      filter: drop-shadow(0px 1px 2px rgba(0, 0, 0, 0.3));\n",
              "      fill: #FFFFFF;\n",
              "    }\n",
              "  </style>\n",
              "\n",
              "      <script>\n",
              "        const buttonEl =\n",
              "          document.querySelector('#df-9bf230c7-3dce-443f-bd6d-149516c57c46 button.colab-df-convert');\n",
              "        buttonEl.style.display =\n",
              "          google.colab.kernel.accessAllowed ? 'block' : 'none';\n",
              "\n",
              "        async function convertToInteractive(key) {\n",
              "          const element = document.querySelector('#df-9bf230c7-3dce-443f-bd6d-149516c57c46');\n",
              "          const dataTable =\n",
              "            await google.colab.kernel.invokeFunction('convertToInteractive',\n",
              "                                                     [key], {});\n",
              "          if (!dataTable) return;\n",
              "\n",
              "          const docLinkHtml = 'Like what you see? Visit the ' +\n",
              "            '<a target=\"_blank\" href=https://colab.research.google.com/notebooks/data_table.ipynb>data table notebook</a>'\n",
              "            + ' to learn more about interactive tables.';\n",
              "          element.innerHTML = '';\n",
              "          dataTable['output_type'] = 'display_data';\n",
              "          await google.colab.output.renderOutput(dataTable, element);\n",
              "          const docLink = document.createElement('div');\n",
              "          docLink.innerHTML = docLinkHtml;\n",
              "          element.appendChild(docLink);\n",
              "        }\n",
              "      </script>\n",
              "    </div>\n",
              "  </div>\n",
              "  "
            ],
            "text/plain": [
              "              price       price_n\n",
              "count  48895.000000  48895.000000\n",
              "mean     152.720687    143.968177\n",
              "std      240.154170    121.984612\n",
              "min        0.000000     10.000000\n",
              "25%       69.000000     69.000000\n",
              "50%      106.000000    106.000000\n",
              "75%      175.000000    175.000000\n",
              "max    10000.000000    800.000000"
            ]
          },
          "metadata": {},
          "execution_count": 62
        }
      ]
    },
    {
      "cell_type": "markdown",
      "source": [
        "**2) minimum_nights**\n",
        "\n",
        "최소 숙박 일수 최댓값이 1250일인데 365일로 나눠봤을때 약 3.4년으로 계산됨.\n",
        "\n",
        "보정 필요"
      ],
      "metadata": {
        "id": "X7aEWVUcc4_R"
      }
    },
    {
      "cell_type": "code",
      "source": [
        "print(n_df['minimum_nights'].quantile(0.90))\n",
        "print(n_df['minimum_nights'].quantile(0.95))\n",
        "print(n_df['minimum_nights'].quantile(0.99))\n",
        "print(n_df['minimum_nights'].quantile(0.995))\n",
        "print(n_df['minimum_nights'].quantile(0.999))"
      ],
      "metadata": {
        "colab": {
          "base_uri": "https://localhost:8080/"
        },
        "id": "6wZIYpT1dgRc",
        "outputId": "c0eed0cc-538c-4b89-a4e3-9c892423cc43"
      },
      "execution_count": 63,
      "outputs": [
        {
          "output_type": "stream",
          "name": "stdout",
          "text": [
            "28.0\n",
            "30.0\n",
            "45.0\n",
            "90.0\n",
            "354.63600000004226\n"
          ]
        }
      ]
    },
    {
      "cell_type": "code",
      "source": [
        "print(len(n_df[n_df['minimum_nights'] >= n_df['minimum_nights'].quantile(0.90)]))\n",
        "print(len(n_df[n_df['minimum_nights'] >= n_df['minimum_nights'].quantile(0.95)]))\n",
        "print(len(n_df[n_df['minimum_nights'] >= n_df['minimum_nights'].quantile(0.99)]))\n",
        "print(len(n_df[n_df['minimum_nights'] >= n_df['minimum_nights'].quantile(0.995)]))\n",
        "print(len(n_df[n_df['minimum_nights'] >= n_df['minimum_nights'].quantile(0.999)]))"
      ],
      "metadata": {
        "colab": {
          "base_uri": "https://localhost:8080/"
        },
        "id": "UTACZ1RneASL",
        "outputId": "34f086e8-0a2a-43f1-efc4-0b906f7692e2"
      },
      "execution_count": 64,
      "outputs": [
        {
          "output_type": "stream",
          "name": "stdout",
          "text": [
            "5050\n",
            "4507\n",
            "501\n",
            "301\n",
            "49\n"
          ]
        }
      ]
    },
    {
      "cell_type": "code",
      "source": [
        "print(5050/48895*100)\n",
        "print(4507/48895*100)\n",
        "print(501/48895*100)\n",
        "print(301/48895*100)\n",
        "print(49/48895*100)"
      ],
      "metadata": {
        "colab": {
          "base_uri": "https://localhost:8080/"
        },
        "id": "ENrb6hQ7ehXS",
        "outputId": "435fc865-f68e-473b-cce9-fe9318818070"
      },
      "execution_count": 65,
      "outputs": [
        {
          "output_type": "stream",
          "name": "stdout",
          "text": [
            "10.328254422742612\n",
            "9.217711422435832\n",
            "1.0246446466918908\n",
            "0.6156048675733715\n",
            "0.10021474588403723\n"
          ]
        }
      ]
    },
    {
      "cell_type": "markdown",
      "source": [
        "최소 숙박 일수 상위 5%가 30일이며, 전체의 약 9%에 해당됨.\n",
        "\n",
        "30일 이상은 30일로 보정\n",
        "\n",
        "\n",
        "\n"
      ],
      "metadata": {
        "id": "hrc_Swvzd3my"
      }
    },
    {
      "cell_type": "code",
      "source": [
        "n_df['minimum_nights_n'] = n_df['minimum_nights'].apply(lambda x : x if x < 30 else 30)"
      ],
      "metadata": {
        "id": "fDILzpjtc3W1"
      },
      "execution_count": 66,
      "outputs": []
    },
    {
      "cell_type": "code",
      "source": [
        "n_df[['minimum_nights','minimum_nights_n']].describe()"
      ],
      "metadata": {
        "colab": {
          "base_uri": "https://localhost:8080/",
          "height": 300
        },
        "id": "VzoUzAAliIPb",
        "outputId": "39b9fa7e-490e-40c4-9463-882aac3f94a0"
      },
      "execution_count": 67,
      "outputs": [
        {
          "output_type": "execute_result",
          "data": {
            "text/html": [
              "\n",
              "  <div id=\"df-65ea406a-ab7e-4e23-bbdf-2a929cf924de\">\n",
              "    <div class=\"colab-df-container\">\n",
              "      <div>\n",
              "<style scoped>\n",
              "    .dataframe tbody tr th:only-of-type {\n",
              "        vertical-align: middle;\n",
              "    }\n",
              "\n",
              "    .dataframe tbody tr th {\n",
              "        vertical-align: top;\n",
              "    }\n",
              "\n",
              "    .dataframe thead th {\n",
              "        text-align: right;\n",
              "    }\n",
              "</style>\n",
              "<table border=\"1\" class=\"dataframe\">\n",
              "  <thead>\n",
              "    <tr style=\"text-align: right;\">\n",
              "      <th></th>\n",
              "      <th>minimum_nights</th>\n",
              "      <th>minimum_nights_n</th>\n",
              "    </tr>\n",
              "  </thead>\n",
              "  <tbody>\n",
              "    <tr>\n",
              "      <th>count</th>\n",
              "      <td>48895.000000</td>\n",
              "      <td>48895.000000</td>\n",
              "    </tr>\n",
              "    <tr>\n",
              "      <th>mean</th>\n",
              "      <td>7.029962</td>\n",
              "      <td>5.952776</td>\n",
              "    </tr>\n",
              "    <tr>\n",
              "      <th>std</th>\n",
              "      <td>20.510550</td>\n",
              "      <td>8.674476</td>\n",
              "    </tr>\n",
              "    <tr>\n",
              "      <th>min</th>\n",
              "      <td>1.000000</td>\n",
              "      <td>1.000000</td>\n",
              "    </tr>\n",
              "    <tr>\n",
              "      <th>25%</th>\n",
              "      <td>1.000000</td>\n",
              "      <td>1.000000</td>\n",
              "    </tr>\n",
              "    <tr>\n",
              "      <th>50%</th>\n",
              "      <td>3.000000</td>\n",
              "      <td>3.000000</td>\n",
              "    </tr>\n",
              "    <tr>\n",
              "      <th>75%</th>\n",
              "      <td>5.000000</td>\n",
              "      <td>5.000000</td>\n",
              "    </tr>\n",
              "    <tr>\n",
              "      <th>max</th>\n",
              "      <td>1250.000000</td>\n",
              "      <td>30.000000</td>\n",
              "    </tr>\n",
              "  </tbody>\n",
              "</table>\n",
              "</div>\n",
              "      <button class=\"colab-df-convert\" onclick=\"convertToInteractive('df-65ea406a-ab7e-4e23-bbdf-2a929cf924de')\"\n",
              "              title=\"Convert this dataframe to an interactive table.\"\n",
              "              style=\"display:none;\">\n",
              "        \n",
              "  <svg xmlns=\"http://www.w3.org/2000/svg\" height=\"24px\"viewBox=\"0 0 24 24\"\n",
              "       width=\"24px\">\n",
              "    <path d=\"M0 0h24v24H0V0z\" fill=\"none\"/>\n",
              "    <path d=\"M18.56 5.44l.94 2.06.94-2.06 2.06-.94-2.06-.94-.94-2.06-.94 2.06-2.06.94zm-11 1L8.5 8.5l.94-2.06 2.06-.94-2.06-.94L8.5 2.5l-.94 2.06-2.06.94zm10 10l.94 2.06.94-2.06 2.06-.94-2.06-.94-.94-2.06-.94 2.06-2.06.94z\"/><path d=\"M17.41 7.96l-1.37-1.37c-.4-.4-.92-.59-1.43-.59-.52 0-1.04.2-1.43.59L10.3 9.45l-7.72 7.72c-.78.78-.78 2.05 0 2.83L4 21.41c.39.39.9.59 1.41.59.51 0 1.02-.2 1.41-.59l7.78-7.78 2.81-2.81c.8-.78.8-2.07 0-2.86zM5.41 20L4 18.59l7.72-7.72 1.47 1.35L5.41 20z\"/>\n",
              "  </svg>\n",
              "      </button>\n",
              "      \n",
              "  <style>\n",
              "    .colab-df-container {\n",
              "      display:flex;\n",
              "      flex-wrap:wrap;\n",
              "      gap: 12px;\n",
              "    }\n",
              "\n",
              "    .colab-df-convert {\n",
              "      background-color: #E8F0FE;\n",
              "      border: none;\n",
              "      border-radius: 50%;\n",
              "      cursor: pointer;\n",
              "      display: none;\n",
              "      fill: #1967D2;\n",
              "      height: 32px;\n",
              "      padding: 0 0 0 0;\n",
              "      width: 32px;\n",
              "    }\n",
              "\n",
              "    .colab-df-convert:hover {\n",
              "      background-color: #E2EBFA;\n",
              "      box-shadow: 0px 1px 2px rgba(60, 64, 67, 0.3), 0px 1px 3px 1px rgba(60, 64, 67, 0.15);\n",
              "      fill: #174EA6;\n",
              "    }\n",
              "\n",
              "    [theme=dark] .colab-df-convert {\n",
              "      background-color: #3B4455;\n",
              "      fill: #D2E3FC;\n",
              "    }\n",
              "\n",
              "    [theme=dark] .colab-df-convert:hover {\n",
              "      background-color: #434B5C;\n",
              "      box-shadow: 0px 1px 3px 1px rgba(0, 0, 0, 0.15);\n",
              "      filter: drop-shadow(0px 1px 2px rgba(0, 0, 0, 0.3));\n",
              "      fill: #FFFFFF;\n",
              "    }\n",
              "  </style>\n",
              "\n",
              "      <script>\n",
              "        const buttonEl =\n",
              "          document.querySelector('#df-65ea406a-ab7e-4e23-bbdf-2a929cf924de button.colab-df-convert');\n",
              "        buttonEl.style.display =\n",
              "          google.colab.kernel.accessAllowed ? 'block' : 'none';\n",
              "\n",
              "        async function convertToInteractive(key) {\n",
              "          const element = document.querySelector('#df-65ea406a-ab7e-4e23-bbdf-2a929cf924de');\n",
              "          const dataTable =\n",
              "            await google.colab.kernel.invokeFunction('convertToInteractive',\n",
              "                                                     [key], {});\n",
              "          if (!dataTable) return;\n",
              "\n",
              "          const docLinkHtml = 'Like what you see? Visit the ' +\n",
              "            '<a target=\"_blank\" href=https://colab.research.google.com/notebooks/data_table.ipynb>data table notebook</a>'\n",
              "            + ' to learn more about interactive tables.';\n",
              "          element.innerHTML = '';\n",
              "          dataTable['output_type'] = 'display_data';\n",
              "          await google.colab.output.renderOutput(dataTable, element);\n",
              "          const docLink = document.createElement('div');\n",
              "          docLink.innerHTML = docLinkHtml;\n",
              "          element.appendChild(docLink);\n",
              "        }\n",
              "      </script>\n",
              "    </div>\n",
              "  </div>\n",
              "  "
            ],
            "text/plain": [
              "       minimum_nights  minimum_nights_n\n",
              "count    48895.000000      48895.000000\n",
              "mean         7.029962          5.952776\n",
              "std         20.510550          8.674476\n",
              "min          1.000000          1.000000\n",
              "25%          1.000000          1.000000\n",
              "50%          3.000000          3.000000\n",
              "75%          5.000000          5.000000\n",
              "max       1250.000000         30.000000"
            ]
          },
          "metadata": {},
          "execution_count": 67
        }
      ]
    },
    {
      "cell_type": "markdown",
      "source": [
        "**3) availability_365**\n",
        "\n",
        "1년중 몇일이나 가능한지를 의미하는데 25%가 0일로 나타남"
      ],
      "metadata": {
        "id": "Ow_xmwThiitC"
      }
    },
    {
      "cell_type": "code",
      "source": [
        "n_df['availability_365'].describe()"
      ],
      "metadata": {
        "colab": {
          "base_uri": "https://localhost:8080/"
        },
        "id": "GfQ5nWT8iXcv",
        "outputId": "f1f9451a-decd-4e4b-ce44-d59e11ef53a3"
      },
      "execution_count": 68,
      "outputs": [
        {
          "output_type": "execute_result",
          "data": {
            "text/plain": [
              "count    48895.000000\n",
              "mean       112.781327\n",
              "std        131.622289\n",
              "min          0.000000\n",
              "25%          0.000000\n",
              "50%         45.000000\n",
              "75%        227.000000\n",
              "max        365.000000\n",
              "Name: availability_365, dtype: float64"
            ]
          },
          "metadata": {},
          "execution_count": 68
        }
      ]
    },
    {
      "cell_type": "code",
      "source": [
        "n_df['availabe_yn'] = n_df['availability_365'].apply(lambda x: 'n' if x == 0 else 'y')"
      ],
      "metadata": {
        "id": "eDVQli-Yxzr5"
      },
      "execution_count": 69,
      "outputs": []
    },
    {
      "cell_type": "code",
      "source": [
        "n_df[['availability_365', 'availabe_yn']]"
      ],
      "metadata": {
        "colab": {
          "base_uri": "https://localhost:8080/",
          "height": 423
        },
        "id": "7ZddX_ULyCbo",
        "outputId": "a5489451-501e-4610-f106-4c3779beaefc"
      },
      "execution_count": 70,
      "outputs": [
        {
          "output_type": "execute_result",
          "data": {
            "text/html": [
              "\n",
              "  <div id=\"df-35951fcf-8fcc-469d-a64f-18ab50ba6a9e\">\n",
              "    <div class=\"colab-df-container\">\n",
              "      <div>\n",
              "<style scoped>\n",
              "    .dataframe tbody tr th:only-of-type {\n",
              "        vertical-align: middle;\n",
              "    }\n",
              "\n",
              "    .dataframe tbody tr th {\n",
              "        vertical-align: top;\n",
              "    }\n",
              "\n",
              "    .dataframe thead th {\n",
              "        text-align: right;\n",
              "    }\n",
              "</style>\n",
              "<table border=\"1\" class=\"dataframe\">\n",
              "  <thead>\n",
              "    <tr style=\"text-align: right;\">\n",
              "      <th></th>\n",
              "      <th>availability_365</th>\n",
              "      <th>availabe_yn</th>\n",
              "    </tr>\n",
              "  </thead>\n",
              "  <tbody>\n",
              "    <tr>\n",
              "      <th>0</th>\n",
              "      <td>365</td>\n",
              "      <td>y</td>\n",
              "    </tr>\n",
              "    <tr>\n",
              "      <th>1</th>\n",
              "      <td>355</td>\n",
              "      <td>y</td>\n",
              "    </tr>\n",
              "    <tr>\n",
              "      <th>2</th>\n",
              "      <td>365</td>\n",
              "      <td>y</td>\n",
              "    </tr>\n",
              "    <tr>\n",
              "      <th>3</th>\n",
              "      <td>194</td>\n",
              "      <td>y</td>\n",
              "    </tr>\n",
              "    <tr>\n",
              "      <th>4</th>\n",
              "      <td>0</td>\n",
              "      <td>n</td>\n",
              "    </tr>\n",
              "    <tr>\n",
              "      <th>...</th>\n",
              "      <td>...</td>\n",
              "      <td>...</td>\n",
              "    </tr>\n",
              "    <tr>\n",
              "      <th>48890</th>\n",
              "      <td>9</td>\n",
              "      <td>y</td>\n",
              "    </tr>\n",
              "    <tr>\n",
              "      <th>48891</th>\n",
              "      <td>36</td>\n",
              "      <td>y</td>\n",
              "    </tr>\n",
              "    <tr>\n",
              "      <th>48892</th>\n",
              "      <td>27</td>\n",
              "      <td>y</td>\n",
              "    </tr>\n",
              "    <tr>\n",
              "      <th>48893</th>\n",
              "      <td>2</td>\n",
              "      <td>y</td>\n",
              "    </tr>\n",
              "    <tr>\n",
              "      <th>48894</th>\n",
              "      <td>23</td>\n",
              "      <td>y</td>\n",
              "    </tr>\n",
              "  </tbody>\n",
              "</table>\n",
              "<p>48895 rows × 2 columns</p>\n",
              "</div>\n",
              "      <button class=\"colab-df-convert\" onclick=\"convertToInteractive('df-35951fcf-8fcc-469d-a64f-18ab50ba6a9e')\"\n",
              "              title=\"Convert this dataframe to an interactive table.\"\n",
              "              style=\"display:none;\">\n",
              "        \n",
              "  <svg xmlns=\"http://www.w3.org/2000/svg\" height=\"24px\"viewBox=\"0 0 24 24\"\n",
              "       width=\"24px\">\n",
              "    <path d=\"M0 0h24v24H0V0z\" fill=\"none\"/>\n",
              "    <path d=\"M18.56 5.44l.94 2.06.94-2.06 2.06-.94-2.06-.94-.94-2.06-.94 2.06-2.06.94zm-11 1L8.5 8.5l.94-2.06 2.06-.94-2.06-.94L8.5 2.5l-.94 2.06-2.06.94zm10 10l.94 2.06.94-2.06 2.06-.94-2.06-.94-.94-2.06-.94 2.06-2.06.94z\"/><path d=\"M17.41 7.96l-1.37-1.37c-.4-.4-.92-.59-1.43-.59-.52 0-1.04.2-1.43.59L10.3 9.45l-7.72 7.72c-.78.78-.78 2.05 0 2.83L4 21.41c.39.39.9.59 1.41.59.51 0 1.02-.2 1.41-.59l7.78-7.78 2.81-2.81c.8-.78.8-2.07 0-2.86zM5.41 20L4 18.59l7.72-7.72 1.47 1.35L5.41 20z\"/>\n",
              "  </svg>\n",
              "      </button>\n",
              "      \n",
              "  <style>\n",
              "    .colab-df-container {\n",
              "      display:flex;\n",
              "      flex-wrap:wrap;\n",
              "      gap: 12px;\n",
              "    }\n",
              "\n",
              "    .colab-df-convert {\n",
              "      background-color: #E8F0FE;\n",
              "      border: none;\n",
              "      border-radius: 50%;\n",
              "      cursor: pointer;\n",
              "      display: none;\n",
              "      fill: #1967D2;\n",
              "      height: 32px;\n",
              "      padding: 0 0 0 0;\n",
              "      width: 32px;\n",
              "    }\n",
              "\n",
              "    .colab-df-convert:hover {\n",
              "      background-color: #E2EBFA;\n",
              "      box-shadow: 0px 1px 2px rgba(60, 64, 67, 0.3), 0px 1px 3px 1px rgba(60, 64, 67, 0.15);\n",
              "      fill: #174EA6;\n",
              "    }\n",
              "\n",
              "    [theme=dark] .colab-df-convert {\n",
              "      background-color: #3B4455;\n",
              "      fill: #D2E3FC;\n",
              "    }\n",
              "\n",
              "    [theme=dark] .colab-df-convert:hover {\n",
              "      background-color: #434B5C;\n",
              "      box-shadow: 0px 1px 3px 1px rgba(0, 0, 0, 0.15);\n",
              "      filter: drop-shadow(0px 1px 2px rgba(0, 0, 0, 0.3));\n",
              "      fill: #FFFFFF;\n",
              "    }\n",
              "  </style>\n",
              "\n",
              "      <script>\n",
              "        const buttonEl =\n",
              "          document.querySelector('#df-35951fcf-8fcc-469d-a64f-18ab50ba6a9e button.colab-df-convert');\n",
              "        buttonEl.style.display =\n",
              "          google.colab.kernel.accessAllowed ? 'block' : 'none';\n",
              "\n",
              "        async function convertToInteractive(key) {\n",
              "          const element = document.querySelector('#df-35951fcf-8fcc-469d-a64f-18ab50ba6a9e');\n",
              "          const dataTable =\n",
              "            await google.colab.kernel.invokeFunction('convertToInteractive',\n",
              "                                                     [key], {});\n",
              "          if (!dataTable) return;\n",
              "\n",
              "          const docLinkHtml = 'Like what you see? Visit the ' +\n",
              "            '<a target=\"_blank\" href=https://colab.research.google.com/notebooks/data_table.ipynb>data table notebook</a>'\n",
              "            + ' to learn more about interactive tables.';\n",
              "          element.innerHTML = '';\n",
              "          dataTable['output_type'] = 'display_data';\n",
              "          await google.colab.output.renderOutput(dataTable, element);\n",
              "          const docLink = document.createElement('div');\n",
              "          docLink.innerHTML = docLinkHtml;\n",
              "          element.appendChild(docLink);\n",
              "        }\n",
              "      </script>\n",
              "    </div>\n",
              "  </div>\n",
              "  "
            ],
            "text/plain": [
              "       availability_365 availabe_yn\n",
              "0                   365           y\n",
              "1                   355           y\n",
              "2                   365           y\n",
              "3                   194           y\n",
              "4                     0           n\n",
              "...                 ...         ...\n",
              "48890                 9           y\n",
              "48891                36           y\n",
              "48892                27           y\n",
              "48893                 2           y\n",
              "48894                23           y\n",
              "\n",
              "[48895 rows x 2 columns]"
            ]
          },
          "metadata": {},
          "execution_count": 70
        }
      ]
    },
    {
      "cell_type": "markdown",
      "source": [
        "1) 결측값"
      ],
      "metadata": {
        "id": "AxbTAoVtPr3y"
      }
    },
    {
      "cell_type": "code",
      "source": [
        "n_df.isna().sum()"
      ],
      "metadata": {
        "id": "gzEjdp9nEMRu",
        "colab": {
          "base_uri": "https://localhost:8080/"
        },
        "outputId": "2e07eed6-4bf7-48f1-e846-c9c3f275fcc3"
      },
      "execution_count": 71,
      "outputs": [
        {
          "output_type": "execute_result",
          "data": {
            "text/plain": [
              "host_id                               0\n",
              "neighbourhood_group                   0\n",
              "neighbourhood                         0\n",
              "room_type                             0\n",
              "price                                 0\n",
              "minimum_nights                        0\n",
              "number_of_reviews                     0\n",
              "last_review                       10052\n",
              "reviews_per_month                 10052\n",
              "calculated_host_listings_count        0\n",
              "availability_365                      0\n",
              "last_review_day_cnts              10052\n",
              "price_n                               0\n",
              "minimum_nights_n                      0\n",
              "availabe_yn                           0\n",
              "dtype: int64"
            ]
          },
          "metadata": {},
          "execution_count": 71
        }
      ]
    },
    {
      "cell_type": "markdown",
      "source": [
        "reviews_per_month가 null 인경우는 review가 한개도 없는 경우이므로 0.  \n",
        "last_review_day_cnts가 null 인 경우는 reivew 가 한개도 없는 경우이므로 -9999\n"
      ],
      "metadata": {
        "id": "NP2uTeorpSox"
      }
    },
    {
      "cell_type": "code",
      "source": [
        "n_df['reviews_per_month'] = n_df['reviews_per_month'].fillna(0)\n",
        "n_df['last_review_day_cnts'] = n_df['last_review_day_cnts'].fillna(-9999)"
      ],
      "metadata": {
        "id": "vdz26pJ9Pyvw"
      },
      "execution_count": 72,
      "outputs": []
    },
    {
      "cell_type": "markdown",
      "source": [
        "review 여부가 중요할 수 있으므로 review여부 변수 생성"
      ],
      "metadata": {
        "id": "PQRQvTFlp-bS"
      }
    },
    {
      "cell_type": "code",
      "source": [
        "n_df['reviews_yn'] = n_df['last_review'].isna().apply(lambda x: 'n' if x is True else 'y')"
      ],
      "metadata": {
        "id": "znluezEuqF9r"
      },
      "execution_count": 73,
      "outputs": []
    },
    {
      "cell_type": "code",
      "source": [
        "n_df[['last_review','reviews_yn']]"
      ],
      "metadata": {
        "colab": {
          "base_uri": "https://localhost:8080/",
          "height": 423
        },
        "id": "SxwDjvsOqjiP",
        "outputId": "7ffa5e88-54c2-4697-820f-8c2a14641af2"
      },
      "execution_count": 74,
      "outputs": [
        {
          "output_type": "execute_result",
          "data": {
            "text/html": [
              "\n",
              "  <div id=\"df-34af9f3a-6cc7-4138-ae8c-f8af77fccd56\">\n",
              "    <div class=\"colab-df-container\">\n",
              "      <div>\n",
              "<style scoped>\n",
              "    .dataframe tbody tr th:only-of-type {\n",
              "        vertical-align: middle;\n",
              "    }\n",
              "\n",
              "    .dataframe tbody tr th {\n",
              "        vertical-align: top;\n",
              "    }\n",
              "\n",
              "    .dataframe thead th {\n",
              "        text-align: right;\n",
              "    }\n",
              "</style>\n",
              "<table border=\"1\" class=\"dataframe\">\n",
              "  <thead>\n",
              "    <tr style=\"text-align: right;\">\n",
              "      <th></th>\n",
              "      <th>last_review</th>\n",
              "      <th>reviews_yn</th>\n",
              "    </tr>\n",
              "  </thead>\n",
              "  <tbody>\n",
              "    <tr>\n",
              "      <th>0</th>\n",
              "      <td>2018-10-19</td>\n",
              "      <td>y</td>\n",
              "    </tr>\n",
              "    <tr>\n",
              "      <th>1</th>\n",
              "      <td>2019-05-21</td>\n",
              "      <td>y</td>\n",
              "    </tr>\n",
              "    <tr>\n",
              "      <th>2</th>\n",
              "      <td>NaT</td>\n",
              "      <td>n</td>\n",
              "    </tr>\n",
              "    <tr>\n",
              "      <th>3</th>\n",
              "      <td>2019-07-05</td>\n",
              "      <td>y</td>\n",
              "    </tr>\n",
              "    <tr>\n",
              "      <th>4</th>\n",
              "      <td>2018-11-19</td>\n",
              "      <td>y</td>\n",
              "    </tr>\n",
              "    <tr>\n",
              "      <th>...</th>\n",
              "      <td>...</td>\n",
              "      <td>...</td>\n",
              "    </tr>\n",
              "    <tr>\n",
              "      <th>48890</th>\n",
              "      <td>NaT</td>\n",
              "      <td>n</td>\n",
              "    </tr>\n",
              "    <tr>\n",
              "      <th>48891</th>\n",
              "      <td>NaT</td>\n",
              "      <td>n</td>\n",
              "    </tr>\n",
              "    <tr>\n",
              "      <th>48892</th>\n",
              "      <td>NaT</td>\n",
              "      <td>n</td>\n",
              "    </tr>\n",
              "    <tr>\n",
              "      <th>48893</th>\n",
              "      <td>NaT</td>\n",
              "      <td>n</td>\n",
              "    </tr>\n",
              "    <tr>\n",
              "      <th>48894</th>\n",
              "      <td>NaT</td>\n",
              "      <td>n</td>\n",
              "    </tr>\n",
              "  </tbody>\n",
              "</table>\n",
              "<p>48895 rows × 2 columns</p>\n",
              "</div>\n",
              "      <button class=\"colab-df-convert\" onclick=\"convertToInteractive('df-34af9f3a-6cc7-4138-ae8c-f8af77fccd56')\"\n",
              "              title=\"Convert this dataframe to an interactive table.\"\n",
              "              style=\"display:none;\">\n",
              "        \n",
              "  <svg xmlns=\"http://www.w3.org/2000/svg\" height=\"24px\"viewBox=\"0 0 24 24\"\n",
              "       width=\"24px\">\n",
              "    <path d=\"M0 0h24v24H0V0z\" fill=\"none\"/>\n",
              "    <path d=\"M18.56 5.44l.94 2.06.94-2.06 2.06-.94-2.06-.94-.94-2.06-.94 2.06-2.06.94zm-11 1L8.5 8.5l.94-2.06 2.06-.94-2.06-.94L8.5 2.5l-.94 2.06-2.06.94zm10 10l.94 2.06.94-2.06 2.06-.94-2.06-.94-.94-2.06-.94 2.06-2.06.94z\"/><path d=\"M17.41 7.96l-1.37-1.37c-.4-.4-.92-.59-1.43-.59-.52 0-1.04.2-1.43.59L10.3 9.45l-7.72 7.72c-.78.78-.78 2.05 0 2.83L4 21.41c.39.39.9.59 1.41.59.51 0 1.02-.2 1.41-.59l7.78-7.78 2.81-2.81c.8-.78.8-2.07 0-2.86zM5.41 20L4 18.59l7.72-7.72 1.47 1.35L5.41 20z\"/>\n",
              "  </svg>\n",
              "      </button>\n",
              "      \n",
              "  <style>\n",
              "    .colab-df-container {\n",
              "      display:flex;\n",
              "      flex-wrap:wrap;\n",
              "      gap: 12px;\n",
              "    }\n",
              "\n",
              "    .colab-df-convert {\n",
              "      background-color: #E8F0FE;\n",
              "      border: none;\n",
              "      border-radius: 50%;\n",
              "      cursor: pointer;\n",
              "      display: none;\n",
              "      fill: #1967D2;\n",
              "      height: 32px;\n",
              "      padding: 0 0 0 0;\n",
              "      width: 32px;\n",
              "    }\n",
              "\n",
              "    .colab-df-convert:hover {\n",
              "      background-color: #E2EBFA;\n",
              "      box-shadow: 0px 1px 2px rgba(60, 64, 67, 0.3), 0px 1px 3px 1px rgba(60, 64, 67, 0.15);\n",
              "      fill: #174EA6;\n",
              "    }\n",
              "\n",
              "    [theme=dark] .colab-df-convert {\n",
              "      background-color: #3B4455;\n",
              "      fill: #D2E3FC;\n",
              "    }\n",
              "\n",
              "    [theme=dark] .colab-df-convert:hover {\n",
              "      background-color: #434B5C;\n",
              "      box-shadow: 0px 1px 3px 1px rgba(0, 0, 0, 0.15);\n",
              "      filter: drop-shadow(0px 1px 2px rgba(0, 0, 0, 0.3));\n",
              "      fill: #FFFFFF;\n",
              "    }\n",
              "  </style>\n",
              "\n",
              "      <script>\n",
              "        const buttonEl =\n",
              "          document.querySelector('#df-34af9f3a-6cc7-4138-ae8c-f8af77fccd56 button.colab-df-convert');\n",
              "        buttonEl.style.display =\n",
              "          google.colab.kernel.accessAllowed ? 'block' : 'none';\n",
              "\n",
              "        async function convertToInteractive(key) {\n",
              "          const element = document.querySelector('#df-34af9f3a-6cc7-4138-ae8c-f8af77fccd56');\n",
              "          const dataTable =\n",
              "            await google.colab.kernel.invokeFunction('convertToInteractive',\n",
              "                                                     [key], {});\n",
              "          if (!dataTable) return;\n",
              "\n",
              "          const docLinkHtml = 'Like what you see? Visit the ' +\n",
              "            '<a target=\"_blank\" href=https://colab.research.google.com/notebooks/data_table.ipynb>data table notebook</a>'\n",
              "            + ' to learn more about interactive tables.';\n",
              "          element.innerHTML = '';\n",
              "          dataTable['output_type'] = 'display_data';\n",
              "          await google.colab.output.renderOutput(dataTable, element);\n",
              "          const docLink = document.createElement('div');\n",
              "          docLink.innerHTML = docLinkHtml;\n",
              "          element.appendChild(docLink);\n",
              "        }\n",
              "      </script>\n",
              "    </div>\n",
              "  </div>\n",
              "  "
            ],
            "text/plain": [
              "      last_review reviews_yn\n",
              "0      2018-10-19          y\n",
              "1      2019-05-21          y\n",
              "2             NaT          n\n",
              "3      2019-07-05          y\n",
              "4      2018-11-19          y\n",
              "...           ...        ...\n",
              "48890         NaT          n\n",
              "48891         NaT          n\n",
              "48892         NaT          n\n",
              "48893         NaT          n\n",
              "48894         NaT          n\n",
              "\n",
              "[48895 rows x 2 columns]"
            ]
          },
          "metadata": {},
          "execution_count": 74
        }
      ]
    },
    {
      "cell_type": "code",
      "source": [
        "n_df.isna().sum()"
      ],
      "metadata": {
        "colab": {
          "base_uri": "https://localhost:8080/"
        },
        "id": "kOW_xM3ZqvxN",
        "outputId": "9a2817ec-cbbf-4bd3-a109-91c9f33e2dc6"
      },
      "execution_count": 75,
      "outputs": [
        {
          "output_type": "execute_result",
          "data": {
            "text/plain": [
              "host_id                               0\n",
              "neighbourhood_group                   0\n",
              "neighbourhood                         0\n",
              "room_type                             0\n",
              "price                                 0\n",
              "minimum_nights                        0\n",
              "number_of_reviews                     0\n",
              "last_review                       10052\n",
              "reviews_per_month                     0\n",
              "calculated_host_listings_count        0\n",
              "availability_365                      0\n",
              "last_review_day_cnts                  0\n",
              "price_n                               0\n",
              "minimum_nights_n                      0\n",
              "availabe_yn                           0\n",
              "reviews_yn                            0\n",
              "dtype: int64"
            ]
          },
          "metadata": {},
          "execution_count": 75
        }
      ]
    },
    {
      "cell_type": "markdown",
      "source": [
        "last_review 변수는 더이상 사용하지 않을것이므로 제거"
      ],
      "metadata": {
        "id": "WWyvqdP6q7at"
      }
    },
    {
      "cell_type": "code",
      "source": [
        "df_v2 = n_df.drop(['last_review'], axis = 1)\n",
        "\n",
        "print(n_df.shape, df_v2.shape)\n",
        "df_v2.head()"
      ],
      "metadata": {
        "colab": {
          "base_uri": "https://localhost:8080/",
          "height": 375
        },
        "id": "gBmBHXXeq7Bq",
        "outputId": "4b44b0dd-7d6d-4fd5-d2af-aa553022b304"
      },
      "execution_count": 76,
      "outputs": [
        {
          "output_type": "stream",
          "name": "stdout",
          "text": [
            "(48895, 16) (48895, 15)\n"
          ]
        },
        {
          "output_type": "execute_result",
          "data": {
            "text/html": [
              "\n",
              "  <div id=\"df-472dc6a2-1c5c-4cb1-9d23-7d0128351aae\">\n",
              "    <div class=\"colab-df-container\">\n",
              "      <div>\n",
              "<style scoped>\n",
              "    .dataframe tbody tr th:only-of-type {\n",
              "        vertical-align: middle;\n",
              "    }\n",
              "\n",
              "    .dataframe tbody tr th {\n",
              "        vertical-align: top;\n",
              "    }\n",
              "\n",
              "    .dataframe thead th {\n",
              "        text-align: right;\n",
              "    }\n",
              "</style>\n",
              "<table border=\"1\" class=\"dataframe\">\n",
              "  <thead>\n",
              "    <tr style=\"text-align: right;\">\n",
              "      <th></th>\n",
              "      <th>host_id</th>\n",
              "      <th>neighbourhood_group</th>\n",
              "      <th>neighbourhood</th>\n",
              "      <th>room_type</th>\n",
              "      <th>price</th>\n",
              "      <th>minimum_nights</th>\n",
              "      <th>number_of_reviews</th>\n",
              "      <th>reviews_per_month</th>\n",
              "      <th>calculated_host_listings_count</th>\n",
              "      <th>availability_365</th>\n",
              "      <th>last_review_day_cnts</th>\n",
              "      <th>price_n</th>\n",
              "      <th>minimum_nights_n</th>\n",
              "      <th>availabe_yn</th>\n",
              "      <th>reviews_yn</th>\n",
              "    </tr>\n",
              "  </thead>\n",
              "  <tbody>\n",
              "    <tr>\n",
              "      <th>0</th>\n",
              "      <td>2787</td>\n",
              "      <td>Brooklyn</td>\n",
              "      <td>Kensington</td>\n",
              "      <td>Private room</td>\n",
              "      <td>149</td>\n",
              "      <td>1</td>\n",
              "      <td>9</td>\n",
              "      <td>0.21</td>\n",
              "      <td>6</td>\n",
              "      <td>365</td>\n",
              "      <td>262.0</td>\n",
              "      <td>149.0</td>\n",
              "      <td>1</td>\n",
              "      <td>y</td>\n",
              "      <td>y</td>\n",
              "    </tr>\n",
              "    <tr>\n",
              "      <th>1</th>\n",
              "      <td>2845</td>\n",
              "      <td>Manhattan</td>\n",
              "      <td>Midtown</td>\n",
              "      <td>Entire home/apt</td>\n",
              "      <td>225</td>\n",
              "      <td>1</td>\n",
              "      <td>45</td>\n",
              "      <td>0.38</td>\n",
              "      <td>2</td>\n",
              "      <td>355</td>\n",
              "      <td>48.0</td>\n",
              "      <td>225.0</td>\n",
              "      <td>1</td>\n",
              "      <td>y</td>\n",
              "      <td>y</td>\n",
              "    </tr>\n",
              "    <tr>\n",
              "      <th>2</th>\n",
              "      <td>4632</td>\n",
              "      <td>Manhattan</td>\n",
              "      <td>Harlem</td>\n",
              "      <td>Private room</td>\n",
              "      <td>150</td>\n",
              "      <td>3</td>\n",
              "      <td>0</td>\n",
              "      <td>0.00</td>\n",
              "      <td>1</td>\n",
              "      <td>365</td>\n",
              "      <td>-9999.0</td>\n",
              "      <td>150.0</td>\n",
              "      <td>3</td>\n",
              "      <td>y</td>\n",
              "      <td>n</td>\n",
              "    </tr>\n",
              "    <tr>\n",
              "      <th>3</th>\n",
              "      <td>4869</td>\n",
              "      <td>Brooklyn</td>\n",
              "      <td>Clinton Hill</td>\n",
              "      <td>Entire home/apt</td>\n",
              "      <td>89</td>\n",
              "      <td>1</td>\n",
              "      <td>270</td>\n",
              "      <td>4.64</td>\n",
              "      <td>1</td>\n",
              "      <td>194</td>\n",
              "      <td>3.0</td>\n",
              "      <td>89.0</td>\n",
              "      <td>1</td>\n",
              "      <td>y</td>\n",
              "      <td>y</td>\n",
              "    </tr>\n",
              "    <tr>\n",
              "      <th>4</th>\n",
              "      <td>7192</td>\n",
              "      <td>Manhattan</td>\n",
              "      <td>East Harlem</td>\n",
              "      <td>Entire home/apt</td>\n",
              "      <td>80</td>\n",
              "      <td>10</td>\n",
              "      <td>9</td>\n",
              "      <td>0.10</td>\n",
              "      <td>1</td>\n",
              "      <td>0</td>\n",
              "      <td>231.0</td>\n",
              "      <td>80.0</td>\n",
              "      <td>10</td>\n",
              "      <td>n</td>\n",
              "      <td>y</td>\n",
              "    </tr>\n",
              "  </tbody>\n",
              "</table>\n",
              "</div>\n",
              "      <button class=\"colab-df-convert\" onclick=\"convertToInteractive('df-472dc6a2-1c5c-4cb1-9d23-7d0128351aae')\"\n",
              "              title=\"Convert this dataframe to an interactive table.\"\n",
              "              style=\"display:none;\">\n",
              "        \n",
              "  <svg xmlns=\"http://www.w3.org/2000/svg\" height=\"24px\"viewBox=\"0 0 24 24\"\n",
              "       width=\"24px\">\n",
              "    <path d=\"M0 0h24v24H0V0z\" fill=\"none\"/>\n",
              "    <path d=\"M18.56 5.44l.94 2.06.94-2.06 2.06-.94-2.06-.94-.94-2.06-.94 2.06-2.06.94zm-11 1L8.5 8.5l.94-2.06 2.06-.94-2.06-.94L8.5 2.5l-.94 2.06-2.06.94zm10 10l.94 2.06.94-2.06 2.06-.94-2.06-.94-.94-2.06-.94 2.06-2.06.94z\"/><path d=\"M17.41 7.96l-1.37-1.37c-.4-.4-.92-.59-1.43-.59-.52 0-1.04.2-1.43.59L10.3 9.45l-7.72 7.72c-.78.78-.78 2.05 0 2.83L4 21.41c.39.39.9.59 1.41.59.51 0 1.02-.2 1.41-.59l7.78-7.78 2.81-2.81c.8-.78.8-2.07 0-2.86zM5.41 20L4 18.59l7.72-7.72 1.47 1.35L5.41 20z\"/>\n",
              "  </svg>\n",
              "      </button>\n",
              "      \n",
              "  <style>\n",
              "    .colab-df-container {\n",
              "      display:flex;\n",
              "      flex-wrap:wrap;\n",
              "      gap: 12px;\n",
              "    }\n",
              "\n",
              "    .colab-df-convert {\n",
              "      background-color: #E8F0FE;\n",
              "      border: none;\n",
              "      border-radius: 50%;\n",
              "      cursor: pointer;\n",
              "      display: none;\n",
              "      fill: #1967D2;\n",
              "      height: 32px;\n",
              "      padding: 0 0 0 0;\n",
              "      width: 32px;\n",
              "    }\n",
              "\n",
              "    .colab-df-convert:hover {\n",
              "      background-color: #E2EBFA;\n",
              "      box-shadow: 0px 1px 2px rgba(60, 64, 67, 0.3), 0px 1px 3px 1px rgba(60, 64, 67, 0.15);\n",
              "      fill: #174EA6;\n",
              "    }\n",
              "\n",
              "    [theme=dark] .colab-df-convert {\n",
              "      background-color: #3B4455;\n",
              "      fill: #D2E3FC;\n",
              "    }\n",
              "\n",
              "    [theme=dark] .colab-df-convert:hover {\n",
              "      background-color: #434B5C;\n",
              "      box-shadow: 0px 1px 3px 1px rgba(0, 0, 0, 0.15);\n",
              "      filter: drop-shadow(0px 1px 2px rgba(0, 0, 0, 0.3));\n",
              "      fill: #FFFFFF;\n",
              "    }\n",
              "  </style>\n",
              "\n",
              "      <script>\n",
              "        const buttonEl =\n",
              "          document.querySelector('#df-472dc6a2-1c5c-4cb1-9d23-7d0128351aae button.colab-df-convert');\n",
              "        buttonEl.style.display =\n",
              "          google.colab.kernel.accessAllowed ? 'block' : 'none';\n",
              "\n",
              "        async function convertToInteractive(key) {\n",
              "          const element = document.querySelector('#df-472dc6a2-1c5c-4cb1-9d23-7d0128351aae');\n",
              "          const dataTable =\n",
              "            await google.colab.kernel.invokeFunction('convertToInteractive',\n",
              "                                                     [key], {});\n",
              "          if (!dataTable) return;\n",
              "\n",
              "          const docLinkHtml = 'Like what you see? Visit the ' +\n",
              "            '<a target=\"_blank\" href=https://colab.research.google.com/notebooks/data_table.ipynb>data table notebook</a>'\n",
              "            + ' to learn more about interactive tables.';\n",
              "          element.innerHTML = '';\n",
              "          dataTable['output_type'] = 'display_data';\n",
              "          await google.colab.output.renderOutput(dataTable, element);\n",
              "          const docLink = document.createElement('div');\n",
              "          docLink.innerHTML = docLinkHtml;\n",
              "          element.appendChild(docLink);\n",
              "        }\n",
              "      </script>\n",
              "    </div>\n",
              "  </div>\n",
              "  "
            ],
            "text/plain": [
              "   host_id neighbourhood_group  ... availabe_yn reviews_yn\n",
              "0     2787            Brooklyn  ...           y          y\n",
              "1     2845           Manhattan  ...           y          y\n",
              "2     4632           Manhattan  ...           y          n\n",
              "3     4869            Brooklyn  ...           y          y\n",
              "4     7192           Manhattan  ...           n          y\n",
              "\n",
              "[5 rows x 15 columns]"
            ]
          },
          "metadata": {},
          "execution_count": 76
        }
      ]
    },
    {
      "cell_type": "markdown",
      "source": [
        "### 8. 범주형 데이터 클리닝\n",
        "\n",
        "앞선 EDA를 통해 확인했을때, neighbourhood를 제외하고는 다 잘 분류가 되어있는것으로 보임.\n",
        "\n",
        "neighbourhood_group 이 있어 neighbourhood를 제거해도 되지만, 같은 group안에서 가격 차이가 존재할 수 있으므로, 상위 n개만 남기고 나머지는 하나로 묶는 방식으로 진행\n"
      ],
      "metadata": {
        "id": "NBXbP4PbEMrq"
      }
    },
    {
      "cell_type": "code",
      "source": [
        "# neighbourhood 의 경우 너무 많은 지역으로 분류가 되어있어 상위 n개만 살리고 나머지는 grouping\n",
        "\n",
        "neighbour = df_v2['neighbourhood'].value_counts()\n",
        "plt.plot(range(len(neighbour)), neighbour)"
      ],
      "metadata": {
        "id": "XBy09JHwEOPX",
        "colab": {
          "base_uri": "https://localhost:8080/",
          "height": 283
        },
        "outputId": "4766dc18-30fc-417f-f93d-4fe533ec36b8"
      },
      "execution_count": 77,
      "outputs": [
        {
          "output_type": "execute_result",
          "data": {
            "text/plain": [
              "[<matplotlib.lines.Line2D at 0x7f36a53f0490>]"
            ]
          },
          "metadata": {},
          "execution_count": 77
        },
        {
          "output_type": "display_data",
          "data": {
            "image/png": "[encoded data removed]",
            "text/plain": [
              "<Figure size 432x288 with 1 Axes>"
            ]
          },
          "metadata": {
            "needs_background": "light"
          }
        }
      ]
    },
    {
      "cell_type": "markdown",
      "source": [
        "상위 50개 이후로는 큰 변화가 없어보이므로 상위 50개를 제외한 나머지 지역은 기타지역으로 grouping"
      ],
      "metadata": {
        "id": "S-NuOa46OldI"
      }
    },
    {
      "cell_type": "code",
      "source": [
        "df_v2['neighbourhood_gr'] = df_v2['neighbourhood'].apply(lambda x: x if str(x) not in neighbour[50:] else 'others')"
      ],
      "metadata": {
        "id": "fG0_1lMZOi0d"
      },
      "execution_count": 78,
      "outputs": []
    },
    {
      "cell_type": "code",
      "source": [
        "df_v2['neighbourhood_gr'].value_counts()"
      ],
      "metadata": {
        "colab": {
          "base_uri": "https://localhost:8080/"
        },
        "id": "3YQaoL_1PAGW",
        "outputId": "afbd1f5f-6a0f-43ae-f4b0-b3fc467c8b61"
      },
      "execution_count": 79,
      "outputs": [
        {
          "output_type": "execute_result",
          "data": {
            "text/plain": [
              "others                       6248\n",
              "Williamsburg                 3920\n",
              "Bedford-Stuyvesant           3714\n",
              "Harlem                       2658\n",
              "Bushwick                     2465\n",
              "Upper West Side              1971\n",
              "Hell's Kitchen               1958\n",
              "East Village                 1853\n",
              "Upper East Side              1798\n",
              "Crown Heights                1564\n",
              "Midtown                      1545\n",
              "East Harlem                  1117\n",
              "Greenpoint                   1115\n",
              "Chelsea                      1113\n",
              "Lower East Side               911\n",
              "Astoria                       900\n",
              "Washington Heights            899\n",
              "West Village                  768\n",
              "Financial District            744\n",
              "Flatbush                      621\n",
              "Clinton Hill                  572\n",
              "Long Island City              537\n",
              "Prospect-Lefferts Gardens     535\n",
              "Park Slope                    506\n",
              "East Flatbush                 500\n",
              "Fort Greene                   489\n",
              "Murray Hill                   485\n",
              "Kips Bay                      470\n",
              "Flushing                      426\n",
              "Ridgewood                     423\n",
              "Greenwich Village             392\n",
              "Sunset Park                   390\n",
              "Chinatown                     368\n",
              "Sunnyside                     363\n",
              "SoHo                          358\n",
              "Prospect Heights              357\n",
              "Morningside Heights           346\n",
              "Gramercy                      338\n",
              "Ditmars Steinway              309\n",
              "Theater District              288\n",
              "South Slope                   284\n",
              "Nolita                        253\n",
              "Inwood                        252\n",
              "Gowanus                       247\n",
              "Elmhurst                      237\n",
              "Woodside                      235\n",
              "Carroll Gardens               233\n",
              "Jamaica                       231\n",
              "East New York                 218\n",
              "Jackson Heights               186\n",
              "East Elmhurst                 185\n",
              "Name: neighbourhood_gr, dtype: int64"
            ]
          },
          "metadata": {},
          "execution_count": 79
        }
      ]
    },
    {
      "cell_type": "markdown",
      "source": [
        "### 9. 데이터 전처리"
      ],
      "metadata": {
        "id": "0KRPTyXMrY5d"
      }
    },
    {
      "cell_type": "code",
      "source": [
        "df_v2.columns"
      ],
      "metadata": {
        "colab": {
          "base_uri": "https://localhost:8080/"
        },
        "id": "kQW93dR4qGf5",
        "outputId": "dcd49cb6-cb93-4b10-f9e4-a99c23bb1228"
      },
      "execution_count": 80,
      "outputs": [
        {
          "output_type": "execute_result",
          "data": {
            "text/plain": [
              "Index(['host_id', 'neighbourhood_group', 'neighbourhood', 'room_type', 'price',\n",
              "       'minimum_nights', 'number_of_reviews', 'reviews_per_month',\n",
              "       'calculated_host_listings_count', 'availability_365',\n",
              "       'last_review_day_cnts', 'price_n', 'minimum_nights_n', 'availabe_yn',\n",
              "       'reviews_yn', 'neighbourhood_gr'],\n",
              "      dtype='object')"
            ]
          },
          "metadata": {},
          "execution_count": 80
        }
      ]
    },
    {
      "cell_type": "markdown",
      "source": [
        "범주형 데이터 더미화"
      ],
      "metadata": {
        "id": "rWSxohMzrlCN"
      }
    },
    {
      "cell_type": "code",
      "source": [
        "cat_cols = df_v2[[ 'neighbourhood_group','neighbourhood_gr', 'room_type', 'availabe_yn', 'reviews_yn']]"
      ],
      "metadata": {
        "id": "XRMRnKgOPDAD"
      },
      "execution_count": 81,
      "outputs": []
    },
    {
      "cell_type": "code",
      "source": [
        "x_dum = pd.get_dummies(cat_cols)"
      ],
      "metadata": {
        "id": "8DkjjTxm1j4y"
      },
      "execution_count": 82,
      "outputs": []
    },
    {
      "cell_type": "markdown",
      "source": [
        "**수치형 데이터 표준화**"
      ],
      "metadata": {
        "id": "kfFT_-hW1q7a"
      }
    },
    {
      "cell_type": "code",
      "source": [
        "from sklearn.preprocessing import StandardScaler"
      ],
      "metadata": {
        "id": "ZL_te-Pk1p2y"
      },
      "execution_count": 83,
      "outputs": []
    },
    {
      "cell_type": "code",
      "source": [
        "scaler = StandardScaler()\n",
        "num_cols = df_v2[['host_id', 'minimum_nights_n', 'number_of_reviews', 'last_review_day_cnts', 'reviews_per_month', 'calculated_host_listings_count', 'availability_365']]\n",
        "\n",
        "scaler.fit(num_cols)\n",
        "x_scaled = scaler.transform(num_cols)\n",
        "x_scaled = pd.DataFrame(x_scaled, columns = num_cols.columns, index = num_cols.index)\n"
      ],
      "metadata": {
        "id": "6bflJvzR1zk2"
      },
      "execution_count": 84,
      "outputs": []
    },
    {
      "cell_type": "code",
      "source": [
        "X = pd.concat([x_dum, x_scaled], axis = 1)\n",
        "y = df_v2['price_n']"
      ],
      "metadata": {
        "id": "stiIC0XH3NcL"
      },
      "execution_count": 85,
      "outputs": []
    },
    {
      "cell_type": "markdown",
      "source": [
        "### 10. train test split"
      ],
      "metadata": {
        "id": "cZwcK3aA60zB"
      }
    },
    {
      "cell_type": "code",
      "source": [
        "from sklearn.model_selection import train_test_split"
      ],
      "metadata": {
        "id": "5Pj51tHD63KY"
      },
      "execution_count": 86,
      "outputs": []
    },
    {
      "cell_type": "code",
      "source": [
        "X_train, X_test, y_train, y_test = train_test_split(X, y, test_size = 0.33, random_state = 1234)"
      ],
      "metadata": {
        "id": "m18E84Z16-kM"
      },
      "execution_count": 87,
      "outputs": []
    },
    {
      "cell_type": "code",
      "source": [
        "print(X_train.shape, y_train.shape, X_test.shape, y_test.shape)"
      ],
      "metadata": {
        "colab": {
          "base_uri": "https://localhost:8080/"
        },
        "id": "057jPUtn7Jca",
        "outputId": "df232b1b-c538-41dc-ecb6-3bfca6529360"
      },
      "execution_count": 88,
      "outputs": [
        {
          "output_type": "stream",
          "name": "stdout",
          "text": [
            "(32759, 70) (32759,) (16136, 70) (16136,)\n"
          ]
        }
      ]
    },
    {
      "cell_type": "markdown",
      "source": [
        "### 11. Modeling"
      ],
      "metadata": {
        "id": "gEny1o5q7SWC"
      }
    },
    {
      "cell_type": "code",
      "source": [
        "from sklearn.ensemble import RandomForestRegressor\n",
        "from xgboost import XGBRegressor\n",
        "from lightgbm import LGBMRegressor"
      ],
      "metadata": {
        "id": "KkXV1pbg7PmT"
      },
      "execution_count": 90,
      "outputs": []
    },
    {
      "cell_type": "code",
      "source": [
        "rf_reg = RandomForestRegressor(random_state = 1234)\n",
        "xgb_reg = XGBRegressor(random_state = 1234)\n",
        "lgbm_reg = LGBMRegressor(random_state = 1234)"
      ],
      "metadata": {
        "id": "buvm1mRB72xY"
      },
      "execution_count": 91,
      "outputs": []
    },
    {
      "cell_type": "code",
      "source": [
        "rf_reg.fit(X_train, y_train)\n",
        "xgb_reg.fit(X_train, y_train)\n",
        "lgbm_reg.fit(X_train, y_train)"
      ],
      "metadata": {
        "colab": {
          "base_uri": "https://localhost:8080/"
        },
        "id": "0bj8GvBO8LbZ",
        "outputId": "05893d1d-ed47-488a-bad9-3f9b4b521063"
      },
      "execution_count": 92,
      "outputs": [
        {
          "output_type": "stream",
          "name": "stdout",
          "text": [
            "[11:02:14] WARNING: /workspace/src/objective/regression_obj.cu:152: reg:linear is now deprecated in favor of reg:squarederror.\n"
          ]
        },
        {
          "output_type": "execute_result",
          "data": {
            "text/plain": [
              "LGBMRegressor(random_state=1234)"
            ]
          },
          "metadata": {},
          "execution_count": 92
        }
      ]
    },
    {
      "cell_type": "markdown",
      "source": [
        "### 12. Model 학습 결과 평가"
      ],
      "metadata": {
        "id": "nALkG0mv9xuQ"
      }
    },
    {
      "cell_type": "code",
      "source": [
        "from sklearn.metrics import mean_absolute_error, mean_squared_error\n",
        "from math import sqrt"
      ],
      "metadata": {
        "id": "ADq7jql78XhT"
      },
      "execution_count": 93,
      "outputs": []
    },
    {
      "cell_type": "code",
      "source": [
        "Xs = [X_train, X_test]\n",
        "ys = [y_train, y_test]\n",
        "\n",
        "for i in range(2):\n",
        "  x = Xs[i]\n",
        "  y = ys[i]\n",
        "\n",
        "  rf_pred = rf_reg.predict(x)\n",
        "  xgb_pred = xgb_reg.predict(x)\n",
        "  lgbm_pred = lgbm_reg.predict(x)\n",
        "\n",
        "  print(\"  RF MAE is {:.6f} and   RF RMSE is {:.6f}\".format(mean_absolute_error(y,rf_pred), sqrt(mean_squared_error(y,rf_pred))))\n",
        "  print(\" XGB MAE is {:.6f} and  XGB RMSE is {:.6f}\".format(mean_absolute_error(y,xgb_pred), sqrt(mean_squared_error(y,xgb_pred))))\n",
        "  print(\"LGBM MAE is {:.6f} and LGBM RMSE is {:.6f}\".format(mean_absolute_error(y,lgbm_pred), sqrt(mean_squared_error(y,lgbm_pred))))\n",
        "  print(\" \")"
      ],
      "metadata": {
        "colab": {
          "base_uri": "https://localhost:8080/"
        },
        "id": "jV5CG4PlCcMB",
        "outputId": "9403cee1-72e8-40a4-f9c6-b29b28581dfd"
      },
      "execution_count": 109,
      "outputs": [
        {
          "output_type": "stream",
          "name": "stdout",
          "text": [
            "  RF MAE is 20.094235 and   RF RMSE is 35.747933\n",
            " XGB MAE is 53.881808 and  XGB RMSE is 94.462213\n",
            "LGBM MAE is 49.001241 and LGBM RMSE is 85.328431\n",
            " \n",
            "  RF MAE is 53.286152 and   RF RMSE is 93.017144\n",
            " XGB MAE is 54.414220 and  XGB RMSE is 94.320004\n",
            "LGBM MAE is 51.649941 and LGBM RMSE is 90.454534\n",
            " \n"
          ]
        }
      ]
    },
    {
      "cell_type": "code",
      "source": [
        "def eval(x, y):\n",
        "  rf_pred = rf_reg.predict(x)\n",
        "  xgb_pred = xgb_reg.predict(x)\n",
        "  lgbm_pred = lgbm_reg.predict(x)\n",
        "\n",
        "  print(\"  RF MAE is {:.6f} and   RF RMSE is {:.6f}\".format(mean_absolute_error(y,rf_pred), sqrt(mean_squared_error(y,rf_pred))))\n",
        "  print(\" XGB MAE is {:.6f} and  XGB RMSE is {:.6f}\".format(mean_absolute_error(y,xgb_pred), sqrt(mean_squared_error(y,xgb_pred))))\n",
        "  print(\"LGBM MAE is {:.6f} and LGBM RMSE is {:.6f}\".format(mean_absolute_error(y,lgbm_pred), sqrt(mean_squared_error(y,lgbm_pred))))"
      ],
      "metadata": {
        "id": "-QbHrGN399N_"
      },
      "execution_count": 104,
      "outputs": []
    },
    {
      "cell_type": "code",
      "source": [
        "# train set이 얼마나 잘 학습됐는지 확인\n",
        "\n",
        "eval(X_train, y_train)"
      ],
      "metadata": {
        "colab": {
          "base_uri": "https://localhost:8080/"
        },
        "id": "fZ4IBTKK_a9-",
        "outputId": "ccf81e97-3cf6-4508-d78b-bf8b3e72721a"
      },
      "execution_count": 105,
      "outputs": [
        {
          "output_type": "stream",
          "name": "stdout",
          "text": [
            "  RF MAE is 20.094235 and   RF RMSE is 35.747933\n",
            " XGB MAE is 53.881808 and  XGB RMSE is 94.462213\n",
            "LGBM MAE is 49.001241 and LGBM RMSE is 85.328431\n"
          ]
        }
      ]
    },
    {
      "cell_type": "code",
      "source": [
        "# test set으로 확인\n",
        "\n",
        "eval(X_test, y_test)"
      ],
      "metadata": {
        "colab": {
          "base_uri": "https://localhost:8080/"
        },
        "id": "YvwDOxwT_lPM",
        "outputId": "ead18ca2-6fe5-4848-b2b0-2e8925a370dd"
      },
      "execution_count": 106,
      "outputs": [
        {
          "output_type": "stream",
          "name": "stdout",
          "text": [
            "  RF MAE is 53.286152 and   RF RMSE is 93.017144\n",
            " XGB MAE is 54.414220 and  XGB RMSE is 94.320004\n",
            "LGBM MAE is 51.649941 and LGBM RMSE is 90.454534\n"
          ]
        }
      ]
    },
    {
      "cell_type": "markdown",
      "source": [
        "train set으로 모형을 학습하고 다시 train set으로 평가했을때, RF 모형이 가장 좋은 성능을 냈지만, \n",
        "\n",
        "test set으로 모형을 평가했을 경우 LGBM 모형이 가장 높은 성능을 보임. "
      ],
      "metadata": {
        "id": "_XKVhRVE_56n"
      }
    },
    {
      "cell_type": "markdown",
      "source": [
        "### 13. Model 학습 결과 분석"
      ],
      "metadata": {
        "id": "AhGCG96rAPGs"
      }
    },
    {
      "cell_type": "markdown",
      "source": [
        "1) 모형 변수 중요도"
      ],
      "metadata": {
        "id": "6IYm6jv3CF8-"
      }
    },
    {
      "cell_type": "code",
      "source": [
        "from lightgbm import plot_importance\n",
        "\n",
        "fig, ax = plt.subplots(figsize=(10, 12))\n",
        "plot_importance(lgbm_reg, ax=ax)"
      ],
      "metadata": {
        "colab": {
          "base_uri": "https://localhost:8080/",
          "height": 748
        },
        "id": "TGzeiyT0_zJb",
        "outputId": "27732a28-68c9-4124-fcaf-eb58e621b7b1"
      },
      "execution_count": 100,
      "outputs": [
        {
          "output_type": "execute_result",
          "data": {
            "text/plain": [
              "<matplotlib.axes._subplots.AxesSubplot at 0x7f369a374a10>"
            ]
          },
          "metadata": {},
          "execution_count": 100
        },
        {
          "output_type": "display_data",
          "data": {
            "image/png": "[encoded data removed]",
            "text/plain": [
              "<Figure size 720x864 with 1 Axes>"
            ]
          },
          "metadata": {
            "needs_background": "light"
          }
        }
      ]
    },
    {
      "cell_type": "markdown",
      "source": [
        "변수중요도를 봤을때, host_id가 가장 중요한 변수로 나왔고, availability_365, minimum_nights_n, calculated_host_listings_count, last_review_day_cnts, reviews_per_month, number of reviews 순으로 중요한 변수로 나타남.\n",
        "\n",
        "여기까지 봤을때 지역이 중요한 영향을 끼칠것으로 생각됐으나,  \n",
        "가격에 중요한 영향을 미치는건 아무래도 host가 아닐까 싶음.  \n",
        "\n",
        "\n",
        "* host가 집을 얼마나 자주 렌트하는지(사실상 전업 임대업자인지)(availability_365, calculated_host_listings_count),   \n",
        "* 소비자가 이용하기 쉬운지(minimum_nights_n),  \n",
        "* 리뷰 관리는 하는지(last_review_day_cnts, reviews_per_month, number of reviews)  \n",
        "\n",
        "에 따라 가격 결정에 중요한 영향을 끼치는것 같음.\n",
        "\n"
      ],
      "metadata": {
        "id": "pgYbjC4wHRaG"
      }
    },
    {
      "cell_type": "markdown",
      "source": [
        "2) 실제 값과 추측값의 관계"
      ],
      "metadata": {
        "id": "HImxHDQ4CJhR"
      }
    },
    {
      "cell_type": "code",
      "source": [
        "plt.scatter(x = y_test, y = lgbm_pred, alpha = 0.1)\n",
        "plt.plot([0,800],[0,700], 'r-')"
      ],
      "metadata": {
        "colab": {
          "base_uri": "https://localhost:8080/",
          "height": 283
        },
        "id": "31ZRzT88AY9r",
        "outputId": "8d1d60c8-adb0-4a35-8bd2-dcbd7ce5f3e4"
      },
      "execution_count": 113,
      "outputs": [
        {
          "output_type": "execute_result",
          "data": {
            "text/plain": [
              "[<matplotlib.lines.Line2D at 0x7f3697f05b50>]"
            ]
          },
          "metadata": {},
          "execution_count": 113
        },
        {
          "output_type": "display_data",
          "data": {
            "image/png": "[encoded data removed]",
            "text/plain": [
              "<Figure size 432x288 with 1 Axes>"
            ]
          },
          "metadata": {
            "needs_background": "light"
          }
        }
      ]
    },
    {
      "cell_type": "code",
      "source": [
        "sns.regplot(x = y_test, y = lgbm_pred, line_kws={\"color\": \"red\"})"
      ],
      "metadata": {
        "colab": {
          "base_uri": "https://localhost:8080/",
          "height": 298
        },
        "id": "uDnXYIRgDKED",
        "outputId": "bb39242d-2cce-4d08-f7bd-5e200ae42c2e"
      },
      "execution_count": 114,
      "outputs": [
        {
          "output_type": "execute_result",
          "data": {
            "text/plain": [
              "<matplotlib.axes._subplots.AxesSubplot at 0x7f3697eb9f10>"
            ]
          },
          "metadata": {},
          "execution_count": 114
        },
        {
          "output_type": "display_data",
          "data": {
            "image/png": "[encoded data removed]",
            "text/plain": [
              "<Figure size 432x288 with 1 Axes>"
            ]
          },
          "metadata": {
            "needs_background": "light"
          }
        }
      ]
    },
    {
      "cell_type": "markdown",
      "source": [
        "graph로 봤을때 price가 500이 넘어가면 under estimate 하는 경향이 있는것으로 보임.\n",
        "\n",
        "가격이 많아 질수록 가격대에서 한줄로 분포가 되어있는것을 볼 수 있는데 (ex. price_n 500, 600, 700), 범주형 변수들이 많이 작용해서 그런것으로 보임."
      ],
      "metadata": {
        "id": "QeetFpB5Gy3c"
      }
    },
    {
      "cell_type": "code",
      "source": [
        "## 히스토그램으로 확인\n",
        "\n",
        "error = (lgbm_pred - y_test) / y_test\n",
        "sns.histplot(error)\n",
        "plt.grid()"
      ],
      "metadata": {
        "colab": {
          "base_uri": "https://localhost:8080/",
          "height": 280
        },
        "id": "uDXyYNljDdPu",
        "outputId": "109c7a94-6aae-4e3a-fe80-3b244451ea87"
      },
      "execution_count": 115,
      "outputs": [
        {
          "output_type": "display_data",
          "data": {
            "image/png": "[encoded data removed]",
            "text/plain": [
              "<Figure size 432x288 with 1 Axes>"
            ]
          },
          "metadata": {
            "needs_background": "light"
          }
        }
      ]
    },
    {
      "cell_type": "code",
      "source": [
        "error2 = lgbm_pred - y_test\n",
        "sns.histplot(error2)\n",
        "plt.grid()"
      ],
      "metadata": {
        "colab": {
          "base_uri": "https://localhost:8080/",
          "height": 280
        },
        "id": "-0mYu2kXFdQ3",
        "outputId": "3658355c-3ada-4fca-f7c1-6290599bc5c7"
      },
      "execution_count": 116,
      "outputs": [
        {
          "output_type": "display_data",
          "data": {
            "image/png": "[encoded data removed]",
            "text/plain": [
              "<Figure size 432x288 with 1 Axes>"
            ]
          },
          "metadata": {
            "needs_background": "light"
          }
        }
      ]
    },
    {
      "cell_type": "markdown",
      "source": [
        "에러 분포로도 under estimate을 더 많이 하는것으로 볼 수 있음"
      ],
      "metadata": {
        "id": "OUGaVT6hJLot"
      }
    },
    {
      "cell_type": "markdown",
      "source": [
        "### 추후 과제 및 결론 \n",
        "\n",
        "좀 더 심화 분석을 하게된다면,\n",
        "1. name 변수에 특이한 단어를 포함하고 있는 경우가 있음. ex) central park, harlem, trendy 등  \n",
        "이러한 변수를 분석 해보면 더 정확한 가격을 예측할 수 있을것으로 생각됨.\n",
        "2. 위도 경도와 neighbor, neighbor_group을 엮어서 보다 정확한 지역 변수를 만들면 도움이 될것같음.\n",
        "3. Hyperparameter tunning을 통해 최적의 parameter를 찾게 된다면 더 정확한 숙박료를 예측 할 수 있을것으로 보임\n",
        "\n",
        "결론 : Airbnb 데이터를 사용하여 숙박료 모델링을 진행했는데, 정확한 가격 예측에는 약간 어려움이 존재했음. 그래도 더 정확한 예측을 할 수 있을 것 같은 여지는 남아있는것 같음."
      ],
      "metadata": {
        "id": "b52u97vqJQMq"
      }
    },
    {
      "cell_type": "code",
      "source": [
        ""
      ],
      "metadata": {
        "id": "i2VPTs-tGtGA"
      },
      "execution_count": null,
      "outputs": []
    }
  ]
}