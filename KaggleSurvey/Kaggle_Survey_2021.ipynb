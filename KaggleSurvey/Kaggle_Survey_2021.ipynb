{
  "nbformat": 4,
  "nbformat_minor": 0,
  "metadata": {
    "colab": {
      "name": "Kaggle Survey 2021.ipynb",
      "provenance": [],
      "collapsed_sections": [],
      "authorship_tag": "ABX9TyP+so6KxMhs9yAjJfBxMeem",
      "include_colab_link": true
    },
    "kernelspec": {
      "name": "python3",
      "display_name": "Python 3"
    },
    "language_info": {
      "name": "python"
    }
  },
  "cells": [
    {
      "cell_type": "markdown",
      "metadata": {
        "id": "view-in-github",
        "colab_type": "text"
      },
      "source": [
        "<a href=\"https://colab.research.google.com/github/doo52oh/KaggleStudy/blob/master/KaggleSurvey/Kaggle_Survey_2021.ipynb\" target=\"_parent\"><img src=\"https://colab.research.google.com/assets/colab-badge.svg\" alt=\"Open In Colab\"/></a>"
      ]
    },
    {
      "cell_type": "code",
      "metadata": {
        "id": "S7ciUz3UNDL1"
      },
      "source": [
        "import os\n",
        "import pandas as pd\n",
        "import numpy as np\n",
        "\n",
        "import seaborn as sns\n",
        "import matplotlib.pyplot as plt\n",
        "%matplotlib inline\n",
        "\n",
        "pd.set_option('display.max_columns', 100)\n",
        "\n",
        "import warnings\n",
        "warnings.filterwarnings(\"ignore\")"
      ],
      "execution_count": 1,
      "outputs": []
    },
    {
      "cell_type": "code",
      "metadata": {
        "id": "qFYQh_bcyMBM"
      },
      "source": [
        "# https://www.kaggle.com/corazzon/how-to-use-pandas-filter-in-survey-eda"
      ],
      "execution_count": 2,
      "outputs": []
    },
    {
      "cell_type": "code",
      "metadata": {
        "id": "bHJAvyT1NNoT"
      },
      "source": [
        "os.environ['KAGGLE_USERNAME'] = ''\n",
        "os.environ['KAGGLE_KEY'] = ''"
      ],
      "execution_count": 3,
      "outputs": []
    },
    {
      "cell_type": "code",
      "metadata": {
        "colab": {
          "base_uri": "https://localhost:8080/"
        },
        "id": "Zj9EkmxyNQFJ",
        "outputId": "36721cba-b435-48bc-cb4a-af933ded5c10"
      },
      "source": [
        "!rm *.*\n",
        "!kaggle competitions download -c kaggle-survey-2021\n",
        "!unzip '*.zip'"
      ],
      "execution_count": 4,
      "outputs": [
        {
          "output_type": "stream",
          "name": "stdout",
          "text": [
            "rm: cannot remove '*.*': No such file or directory\n",
            "Warning: Looks like you're using an outdated API Version, please consider updating (server 1.5.12 / client 1.5.4)\n",
            "Downloading kaggle_survey_2021_answer_choices.pdf to /content\n",
            "  0% 0.00/158k [00:00<?, ?B/s]\n",
            "100% 158k/158k [00:00<00:00, 24.6MB/s]\n",
            "Downloading kaggle_survey_2021_methodology.pdf to /content\n",
            "  0% 0.00/55.2k [00:00<?, ?B/s]\n",
            "100% 55.2k/55.2k [00:00<00:00, 52.3MB/s]\n",
            "Downloading kaggle_survey_2021_responses.csv.zip to /content\n",
            "  0% 0.00/2.86M [00:00<?, ?B/s]\n",
            "100% 2.86M/2.86M [00:00<00:00, 46.3MB/s]\n",
            "Archive:  kaggle_survey_2021_responses.csv.zip\n",
            "  inflating: kaggle_survey_2021_responses.csv  \n"
          ]
        }
      ]
    },
    {
      "cell_type": "code",
      "metadata": {
        "id": "FUAu1sIYNW2O"
      },
      "source": [
        "# Load Data\n",
        "\n",
        "survey = pd.read_csv('kaggle_survey_2021_responses.csv')"
      ],
      "execution_count": 5,
      "outputs": []
    },
    {
      "cell_type": "code",
      "metadata": {
        "colab": {
          "base_uri": "https://localhost:8080/",
          "height": 613
        },
        "id": "Ne0KEY8CQ6f_",
        "outputId": "995a6855-48fc-4c24-fc56-110d07675b8e"
      },
      "source": [
        "print(survey.shape)\n",
        "survey.head()"
      ],
      "execution_count": 6,
      "outputs": [
        {
          "output_type": "stream",
          "name": "stdout",
          "text": [
            "(25974, 369)\n"
          ]
        },
        {
          "output_type": "execute_result",
          "data": {
            "text/html": [
              "<div>\n",
              "<style scoped>\n",
              "    .dataframe tbody tr th:only-of-type {\n",
              "        vertical-align: middle;\n",
              "    }\n",
              "\n",
              "    .dataframe tbody tr th {\n",
              "        vertical-align: top;\n",
              "    }\n",
              "\n",
              "    .dataframe thead th {\n",
              "        text-align: right;\n",
              "    }\n",
              "</style>\n",
              "<table border=\"1\" class=\"dataframe\">\n",
              "  <thead>\n",
              "    <tr style=\"text-align: right;\">\n",
              "      <th></th>\n",
              "      <th>Time from Start to Finish (seconds)</th>\n",
              "      <th>Q1</th>\n",
              "      <th>Q2</th>\n",
              "      <th>Q3</th>\n",
              "      <th>Q4</th>\n",
              "      <th>Q5</th>\n",
              "      <th>Q6</th>\n",
              "      <th>Q7_Part_1</th>\n",
              "      <th>Q7_Part_2</th>\n",
              "      <th>Q7_Part_3</th>\n",
              "      <th>Q7_Part_4</th>\n",
              "      <th>Q7_Part_5</th>\n",
              "      <th>Q7_Part_6</th>\n",
              "      <th>Q7_Part_7</th>\n",
              "      <th>Q7_Part_8</th>\n",
              "      <th>Q7_Part_9</th>\n",
              "      <th>Q7_Part_10</th>\n",
              "      <th>Q7_Part_11</th>\n",
              "      <th>Q7_Part_12</th>\n",
              "      <th>Q7_OTHER</th>\n",
              "      <th>Q8</th>\n",
              "      <th>Q9_Part_1</th>\n",
              "      <th>Q9_Part_2</th>\n",
              "      <th>Q9_Part_3</th>\n",
              "      <th>Q9_Part_4</th>\n",
              "      <th>Q9_Part_5</th>\n",
              "      <th>Q9_Part_6</th>\n",
              "      <th>Q9_Part_7</th>\n",
              "      <th>Q9_Part_8</th>\n",
              "      <th>Q9_Part_9</th>\n",
              "      <th>Q9_Part_10</th>\n",
              "      <th>Q9_Part_11</th>\n",
              "      <th>Q9_Part_12</th>\n",
              "      <th>Q9_OTHER</th>\n",
              "      <th>Q10_Part_1</th>\n",
              "      <th>Q10_Part_2</th>\n",
              "      <th>Q10_Part_3</th>\n",
              "      <th>Q10_Part_4</th>\n",
              "      <th>Q10_Part_5</th>\n",
              "      <th>Q10_Part_6</th>\n",
              "      <th>Q10_Part_7</th>\n",
              "      <th>Q10_Part_8</th>\n",
              "      <th>Q10_Part_9</th>\n",
              "      <th>Q10_Part_10</th>\n",
              "      <th>Q10_Part_11</th>\n",
              "      <th>Q10_Part_12</th>\n",
              "      <th>Q10_Part_13</th>\n",
              "      <th>Q10_Part_14</th>\n",
              "      <th>Q10_Part_15</th>\n",
              "      <th>Q10_Part_16</th>\n",
              "      <th>...</th>\n",
              "      <th>Q32_B_Part_17</th>\n",
              "      <th>Q32_B_Part_18</th>\n",
              "      <th>Q32_B_Part_19</th>\n",
              "      <th>Q32_B_Part_20</th>\n",
              "      <th>Q32_B_OTHER</th>\n",
              "      <th>Q34_B_Part_1</th>\n",
              "      <th>Q34_B_Part_2</th>\n",
              "      <th>Q34_B_Part_3</th>\n",
              "      <th>Q34_B_Part_4</th>\n",
              "      <th>Q34_B_Part_5</th>\n",
              "      <th>Q34_B_Part_6</th>\n",
              "      <th>Q34_B_Part_7</th>\n",
              "      <th>Q34_B_Part_8</th>\n",
              "      <th>Q34_B_Part_9</th>\n",
              "      <th>Q34_B_Part_10</th>\n",
              "      <th>Q34_B_Part_11</th>\n",
              "      <th>Q34_B_Part_12</th>\n",
              "      <th>Q34_B_Part_13</th>\n",
              "      <th>Q34_B_Part_14</th>\n",
              "      <th>Q34_B_Part_15</th>\n",
              "      <th>Q34_B_Part_16</th>\n",
              "      <th>Q34_B_OTHER</th>\n",
              "      <th>Q36_B_Part_1</th>\n",
              "      <th>Q36_B_Part_2</th>\n",
              "      <th>Q36_B_Part_3</th>\n",
              "      <th>Q36_B_Part_4</th>\n",
              "      <th>Q36_B_Part_5</th>\n",
              "      <th>Q36_B_Part_6</th>\n",
              "      <th>Q36_B_Part_7</th>\n",
              "      <th>Q36_B_OTHER</th>\n",
              "      <th>Q37_B_Part_1</th>\n",
              "      <th>Q37_B_Part_2</th>\n",
              "      <th>Q37_B_Part_3</th>\n",
              "      <th>Q37_B_Part_4</th>\n",
              "      <th>Q37_B_Part_5</th>\n",
              "      <th>Q37_B_Part_6</th>\n",
              "      <th>Q37_B_Part_7</th>\n",
              "      <th>Q37_B_OTHER</th>\n",
              "      <th>Q38_B_Part_1</th>\n",
              "      <th>Q38_B_Part_2</th>\n",
              "      <th>Q38_B_Part_3</th>\n",
              "      <th>Q38_B_Part_4</th>\n",
              "      <th>Q38_B_Part_5</th>\n",
              "      <th>Q38_B_Part_6</th>\n",
              "      <th>Q38_B_Part_7</th>\n",
              "      <th>Q38_B_Part_8</th>\n",
              "      <th>Q38_B_Part_9</th>\n",
              "      <th>Q38_B_Part_10</th>\n",
              "      <th>Q38_B_Part_11</th>\n",
              "      <th>Q38_B_OTHER</th>\n",
              "    </tr>\n",
              "  </thead>\n",
              "  <tbody>\n",
              "    <tr>\n",
              "      <th>0</th>\n",
              "      <td>Duration (in seconds)</td>\n",
              "      <td>What is your age (# years)?</td>\n",
              "      <td>What is your gender? - Selected Choice</td>\n",
              "      <td>In which country do you currently reside?</td>\n",
              "      <td>What is the highest level of formal education ...</td>\n",
              "      <td>Select the title most similar to your current ...</td>\n",
              "      <td>For how many years have you been writing code ...</td>\n",
              "      <td>What programming languages do you use on a reg...</td>\n",
              "      <td>What programming languages do you use on a reg...</td>\n",
              "      <td>What programming languages do you use on a reg...</td>\n",
              "      <td>What programming languages do you use on a reg...</td>\n",
              "      <td>What programming languages do you use on a reg...</td>\n",
              "      <td>What programming languages do you use on a reg...</td>\n",
              "      <td>What programming languages do you use on a reg...</td>\n",
              "      <td>What programming languages do you use on a reg...</td>\n",
              "      <td>What programming languages do you use on a reg...</td>\n",
              "      <td>What programming languages do you use on a reg...</td>\n",
              "      <td>What programming languages do you use on a reg...</td>\n",
              "      <td>What programming languages do you use on a reg...</td>\n",
              "      <td>What programming languages do you use on a reg...</td>\n",
              "      <td>What programming language would you recommend ...</td>\n",
              "      <td>Which of the following integrated development ...</td>\n",
              "      <td>Which of the following integrated development ...</td>\n",
              "      <td>Which of the following integrated development ...</td>\n",
              "      <td>Which of the following integrated development ...</td>\n",
              "      <td>Which of the following integrated development ...</td>\n",
              "      <td>Which of the following integrated development ...</td>\n",
              "      <td>Which of the following integrated development ...</td>\n",
              "      <td>Which of the following integrated development ...</td>\n",
              "      <td>Which of the following integrated development ...</td>\n",
              "      <td>Which of the following integrated development ...</td>\n",
              "      <td>Which of the following integrated development ...</td>\n",
              "      <td>Which of the following integrated development ...</td>\n",
              "      <td>Which of the following integrated development ...</td>\n",
              "      <td>Which of the following hosted notebook product...</td>\n",
              "      <td>Which of the following hosted notebook product...</td>\n",
              "      <td>Which of the following hosted notebook product...</td>\n",
              "      <td>Which of the following hosted notebook product...</td>\n",
              "      <td>Which of the following hosted notebook product...</td>\n",
              "      <td>Which of the following hosted notebook product...</td>\n",
              "      <td>Which of the following hosted notebook product...</td>\n",
              "      <td>Which of the following hosted notebook product...</td>\n",
              "      <td>Which of the following hosted notebook product...</td>\n",
              "      <td>Which of the following hosted notebook product...</td>\n",
              "      <td>Which of the following hosted notebook product...</td>\n",
              "      <td>Which of the following hosted notebook product...</td>\n",
              "      <td>Which of the following hosted notebook product...</td>\n",
              "      <td>Which of the following hosted notebook product...</td>\n",
              "      <td>Which of the following hosted notebook product...</td>\n",
              "      <td>Which of the following hosted notebook product...</td>\n",
              "      <td>...</td>\n",
              "      <td>Which of the following big data products (rela...</td>\n",
              "      <td>Which of the following big data products (rela...</td>\n",
              "      <td>Which of the following big data products (rela...</td>\n",
              "      <td>Which of the following big data products (rela...</td>\n",
              "      <td>Which of the following big data products (rela...</td>\n",
              "      <td>Which of the following business intelligence t...</td>\n",
              "      <td>Which of the following business intelligence t...</td>\n",
              "      <td>Which of the following business intelligence t...</td>\n",
              "      <td>Which of the following business intelligence t...</td>\n",
              "      <td>Which of the following business intelligence t...</td>\n",
              "      <td>Which of the following business intelligence t...</td>\n",
              "      <td>Which of the following business intelligence t...</td>\n",
              "      <td>Which of the following business intelligence t...</td>\n",
              "      <td>Which of the following business intelligence t...</td>\n",
              "      <td>Which of the following business intelligence t...</td>\n",
              "      <td>Which of the following business intelligence t...</td>\n",
              "      <td>Which of the following business intelligence t...</td>\n",
              "      <td>Which of the following business intelligence t...</td>\n",
              "      <td>Which of the following business intelligence t...</td>\n",
              "      <td>Which of the following business intelligence t...</td>\n",
              "      <td>Which of the following business intelligence t...</td>\n",
              "      <td>Which of the following business intelligence t...</td>\n",
              "      <td>Which categories of automated machine learning...</td>\n",
              "      <td>Which categories of automated machine learning...</td>\n",
              "      <td>Which categories of automated machine learning...</td>\n",
              "      <td>Which categories of automated machine learning...</td>\n",
              "      <td>Which categories of automated machine learning...</td>\n",
              "      <td>Which categories of automated machine learning...</td>\n",
              "      <td>Which categories of automated machine learning...</td>\n",
              "      <td>Which categories of automated machine learning...</td>\n",
              "      <td>Which specific automated machine learning tool...</td>\n",
              "      <td>Which specific automated machine learning tool...</td>\n",
              "      <td>Which specific automated machine learning tool...</td>\n",
              "      <td>Which specific automated machine learning tool...</td>\n",
              "      <td>Which specific automated machine learning tool...</td>\n",
              "      <td>Which specific automated machine learning tool...</td>\n",
              "      <td>Which specific automated machine learning tool...</td>\n",
              "      <td>Which specific automated machine learning tool...</td>\n",
              "      <td>In the next 2 years, do you hope to become mor...</td>\n",
              "      <td>In the next 2 years, do you hope to become mor...</td>\n",
              "      <td>In the next 2 years, do you hope to become mor...</td>\n",
              "      <td>In the next 2 years, do you hope to become mor...</td>\n",
              "      <td>In the next 2 years, do you hope to become mor...</td>\n",
              "      <td>In the next 2 years, do you hope to become mor...</td>\n",
              "      <td>In the next 2 years, do you hope to become mor...</td>\n",
              "      <td>In the next 2 years, do you hope to become mor...</td>\n",
              "      <td>In the next 2 years, do you hope to become mor...</td>\n",
              "      <td>In the next 2 years, do you hope to become mor...</td>\n",
              "      <td>In the next 2 years, do you hope to become mor...</td>\n",
              "      <td>In the next 2 years, do you hope to become mor...</td>\n",
              "    </tr>\n",
              "    <tr>\n",
              "      <th>1</th>\n",
              "      <td>910</td>\n",
              "      <td>50-54</td>\n",
              "      <td>Man</td>\n",
              "      <td>India</td>\n",
              "      <td>Bachelor’s degree</td>\n",
              "      <td>Other</td>\n",
              "      <td>5-10 years</td>\n",
              "      <td>Python</td>\n",
              "      <td>R</td>\n",
              "      <td>NaN</td>\n",
              "      <td>NaN</td>\n",
              "      <td>NaN</td>\n",
              "      <td>NaN</td>\n",
              "      <td>NaN</td>\n",
              "      <td>NaN</td>\n",
              "      <td>NaN</td>\n",
              "      <td>NaN</td>\n",
              "      <td>NaN</td>\n",
              "      <td>NaN</td>\n",
              "      <td>NaN</td>\n",
              "      <td>Python</td>\n",
              "      <td>NaN</td>\n",
              "      <td>NaN</td>\n",
              "      <td>NaN</td>\n",
              "      <td>NaN</td>\n",
              "      <td>NaN</td>\n",
              "      <td>NaN</td>\n",
              "      <td>NaN</td>\n",
              "      <td>NaN</td>\n",
              "      <td>Vim / Emacs</td>\n",
              "      <td>NaN</td>\n",
              "      <td>NaN</td>\n",
              "      <td>NaN</td>\n",
              "      <td>NaN</td>\n",
              "      <td>NaN</td>\n",
              "      <td>Colab Notebooks</td>\n",
              "      <td>NaN</td>\n",
              "      <td>NaN</td>\n",
              "      <td>NaN</td>\n",
              "      <td>NaN</td>\n",
              "      <td>NaN</td>\n",
              "      <td>NaN</td>\n",
              "      <td>NaN</td>\n",
              "      <td>NaN</td>\n",
              "      <td>NaN</td>\n",
              "      <td>NaN</td>\n",
              "      <td>NaN</td>\n",
              "      <td>NaN</td>\n",
              "      <td>NaN</td>\n",
              "      <td>NaN</td>\n",
              "      <td>...</td>\n",
              "      <td>NaN</td>\n",
              "      <td>NaN</td>\n",
              "      <td>NaN</td>\n",
              "      <td>NaN</td>\n",
              "      <td>NaN</td>\n",
              "      <td>NaN</td>\n",
              "      <td>NaN</td>\n",
              "      <td>NaN</td>\n",
              "      <td>NaN</td>\n",
              "      <td>NaN</td>\n",
              "      <td>NaN</td>\n",
              "      <td>NaN</td>\n",
              "      <td>NaN</td>\n",
              "      <td>NaN</td>\n",
              "      <td>NaN</td>\n",
              "      <td>NaN</td>\n",
              "      <td>NaN</td>\n",
              "      <td>NaN</td>\n",
              "      <td>NaN</td>\n",
              "      <td>NaN</td>\n",
              "      <td>NaN</td>\n",
              "      <td>NaN</td>\n",
              "      <td>NaN</td>\n",
              "      <td>NaN</td>\n",
              "      <td>NaN</td>\n",
              "      <td>NaN</td>\n",
              "      <td>NaN</td>\n",
              "      <td>NaN</td>\n",
              "      <td>NaN</td>\n",
              "      <td>NaN</td>\n",
              "      <td>NaN</td>\n",
              "      <td>NaN</td>\n",
              "      <td>NaN</td>\n",
              "      <td>NaN</td>\n",
              "      <td>NaN</td>\n",
              "      <td>NaN</td>\n",
              "      <td>NaN</td>\n",
              "      <td>NaN</td>\n",
              "      <td>NaN</td>\n",
              "      <td>NaN</td>\n",
              "      <td>NaN</td>\n",
              "      <td>NaN</td>\n",
              "      <td>NaN</td>\n",
              "      <td>NaN</td>\n",
              "      <td>NaN</td>\n",
              "      <td>NaN</td>\n",
              "      <td>NaN</td>\n",
              "      <td>NaN</td>\n",
              "      <td>NaN</td>\n",
              "      <td>NaN</td>\n",
              "    </tr>\n",
              "    <tr>\n",
              "      <th>2</th>\n",
              "      <td>784</td>\n",
              "      <td>50-54</td>\n",
              "      <td>Man</td>\n",
              "      <td>Indonesia</td>\n",
              "      <td>Master’s degree</td>\n",
              "      <td>Program/Project Manager</td>\n",
              "      <td>20+ years</td>\n",
              "      <td>NaN</td>\n",
              "      <td>NaN</td>\n",
              "      <td>SQL</td>\n",
              "      <td>C</td>\n",
              "      <td>C++</td>\n",
              "      <td>Java</td>\n",
              "      <td>NaN</td>\n",
              "      <td>NaN</td>\n",
              "      <td>NaN</td>\n",
              "      <td>NaN</td>\n",
              "      <td>NaN</td>\n",
              "      <td>NaN</td>\n",
              "      <td>NaN</td>\n",
              "      <td>Python</td>\n",
              "      <td>NaN</td>\n",
              "      <td>NaN</td>\n",
              "      <td>NaN</td>\n",
              "      <td>NaN</td>\n",
              "      <td>NaN</td>\n",
              "      <td>NaN</td>\n",
              "      <td>Notepad++</td>\n",
              "      <td>NaN</td>\n",
              "      <td>NaN</td>\n",
              "      <td>NaN</td>\n",
              "      <td>Jupyter Notebook</td>\n",
              "      <td>NaN</td>\n",
              "      <td>NaN</td>\n",
              "      <td>Kaggle Notebooks</td>\n",
              "      <td>Colab Notebooks</td>\n",
              "      <td>NaN</td>\n",
              "      <td>NaN</td>\n",
              "      <td>NaN</td>\n",
              "      <td>NaN</td>\n",
              "      <td>NaN</td>\n",
              "      <td>NaN</td>\n",
              "      <td>NaN</td>\n",
              "      <td>NaN</td>\n",
              "      <td>NaN</td>\n",
              "      <td>NaN</td>\n",
              "      <td>NaN</td>\n",
              "      <td>NaN</td>\n",
              "      <td>NaN</td>\n",
              "      <td>NaN</td>\n",
              "      <td>...</td>\n",
              "      <td>NaN</td>\n",
              "      <td>NaN</td>\n",
              "      <td>NaN</td>\n",
              "      <td>NaN</td>\n",
              "      <td>NaN</td>\n",
              "      <td>NaN</td>\n",
              "      <td>NaN</td>\n",
              "      <td>Google Data Studio</td>\n",
              "      <td>NaN</td>\n",
              "      <td>NaN</td>\n",
              "      <td>NaN</td>\n",
              "      <td>NaN</td>\n",
              "      <td>Qlik</td>\n",
              "      <td>NaN</td>\n",
              "      <td>NaN</td>\n",
              "      <td>NaN</td>\n",
              "      <td>NaN</td>\n",
              "      <td>NaN</td>\n",
              "      <td>NaN</td>\n",
              "      <td>NaN</td>\n",
              "      <td>NaN</td>\n",
              "      <td>NaN</td>\n",
              "      <td>NaN</td>\n",
              "      <td>NaN</td>\n",
              "      <td>Automated model selection (e.g. auto-sklearn, ...</td>\n",
              "      <td>NaN</td>\n",
              "      <td>NaN</td>\n",
              "      <td>NaN</td>\n",
              "      <td>NaN</td>\n",
              "      <td>NaN</td>\n",
              "      <td>Google Cloud AutoML</td>\n",
              "      <td>NaN</td>\n",
              "      <td>NaN</td>\n",
              "      <td>NaN</td>\n",
              "      <td>NaN</td>\n",
              "      <td>NaN</td>\n",
              "      <td>NaN</td>\n",
              "      <td>NaN</td>\n",
              "      <td>NaN</td>\n",
              "      <td>NaN</td>\n",
              "      <td>NaN</td>\n",
              "      <td>NaN</td>\n",
              "      <td>NaN</td>\n",
              "      <td>NaN</td>\n",
              "      <td>NaN</td>\n",
              "      <td>NaN</td>\n",
              "      <td>NaN</td>\n",
              "      <td>NaN</td>\n",
              "      <td>None</td>\n",
              "      <td>NaN</td>\n",
              "    </tr>\n",
              "    <tr>\n",
              "      <th>3</th>\n",
              "      <td>924</td>\n",
              "      <td>22-24</td>\n",
              "      <td>Man</td>\n",
              "      <td>Pakistan</td>\n",
              "      <td>Master’s degree</td>\n",
              "      <td>Software Engineer</td>\n",
              "      <td>1-3 years</td>\n",
              "      <td>Python</td>\n",
              "      <td>NaN</td>\n",
              "      <td>NaN</td>\n",
              "      <td>NaN</td>\n",
              "      <td>C++</td>\n",
              "      <td>Java</td>\n",
              "      <td>NaN</td>\n",
              "      <td>NaN</td>\n",
              "      <td>NaN</td>\n",
              "      <td>NaN</td>\n",
              "      <td>NaN</td>\n",
              "      <td>NaN</td>\n",
              "      <td>NaN</td>\n",
              "      <td>Python</td>\n",
              "      <td>NaN</td>\n",
              "      <td>NaN</td>\n",
              "      <td>NaN</td>\n",
              "      <td>NaN</td>\n",
              "      <td>PyCharm</td>\n",
              "      <td>NaN</td>\n",
              "      <td>NaN</td>\n",
              "      <td>NaN</td>\n",
              "      <td>NaN</td>\n",
              "      <td>NaN</td>\n",
              "      <td>Jupyter Notebook</td>\n",
              "      <td>NaN</td>\n",
              "      <td>Other</td>\n",
              "      <td>Kaggle Notebooks</td>\n",
              "      <td>NaN</td>\n",
              "      <td>NaN</td>\n",
              "      <td>NaN</td>\n",
              "      <td>NaN</td>\n",
              "      <td>NaN</td>\n",
              "      <td>NaN</td>\n",
              "      <td>NaN</td>\n",
              "      <td>NaN</td>\n",
              "      <td>NaN</td>\n",
              "      <td>NaN</td>\n",
              "      <td>NaN</td>\n",
              "      <td>NaN</td>\n",
              "      <td>NaN</td>\n",
              "      <td>NaN</td>\n",
              "      <td>NaN</td>\n",
              "      <td>...</td>\n",
              "      <td>NaN</td>\n",
              "      <td>NaN</td>\n",
              "      <td>NaN</td>\n",
              "      <td>NaN</td>\n",
              "      <td>NaN</td>\n",
              "      <td>Microsoft Power BI</td>\n",
              "      <td>NaN</td>\n",
              "      <td>NaN</td>\n",
              "      <td>NaN</td>\n",
              "      <td>Tableau</td>\n",
              "      <td>NaN</td>\n",
              "      <td>NaN</td>\n",
              "      <td>NaN</td>\n",
              "      <td>NaN</td>\n",
              "      <td>NaN</td>\n",
              "      <td>NaN</td>\n",
              "      <td>NaN</td>\n",
              "      <td>NaN</td>\n",
              "      <td>NaN</td>\n",
              "      <td>NaN</td>\n",
              "      <td>NaN</td>\n",
              "      <td>NaN</td>\n",
              "      <td>NaN</td>\n",
              "      <td>NaN</td>\n",
              "      <td>Automated model selection (e.g. auto-sklearn, ...</td>\n",
              "      <td>NaN</td>\n",
              "      <td>NaN</td>\n",
              "      <td>NaN</td>\n",
              "      <td>NaN</td>\n",
              "      <td>NaN</td>\n",
              "      <td>NaN</td>\n",
              "      <td>NaN</td>\n",
              "      <td>NaN</td>\n",
              "      <td>DataRobot AutoML</td>\n",
              "      <td>NaN</td>\n",
              "      <td>NaN</td>\n",
              "      <td>NaN</td>\n",
              "      <td>NaN</td>\n",
              "      <td>NaN</td>\n",
              "      <td>NaN</td>\n",
              "      <td>NaN</td>\n",
              "      <td>NaN</td>\n",
              "      <td>TensorBoard</td>\n",
              "      <td>NaN</td>\n",
              "      <td>NaN</td>\n",
              "      <td>NaN</td>\n",
              "      <td>NaN</td>\n",
              "      <td>NaN</td>\n",
              "      <td>NaN</td>\n",
              "      <td>NaN</td>\n",
              "    </tr>\n",
              "    <tr>\n",
              "      <th>4</th>\n",
              "      <td>575</td>\n",
              "      <td>45-49</td>\n",
              "      <td>Man</td>\n",
              "      <td>Mexico</td>\n",
              "      <td>Doctoral degree</td>\n",
              "      <td>Research Scientist</td>\n",
              "      <td>20+ years</td>\n",
              "      <td>Python</td>\n",
              "      <td>NaN</td>\n",
              "      <td>NaN</td>\n",
              "      <td>NaN</td>\n",
              "      <td>NaN</td>\n",
              "      <td>NaN</td>\n",
              "      <td>NaN</td>\n",
              "      <td>NaN</td>\n",
              "      <td>NaN</td>\n",
              "      <td>NaN</td>\n",
              "      <td>NaN</td>\n",
              "      <td>NaN</td>\n",
              "      <td>NaN</td>\n",
              "      <td>Python</td>\n",
              "      <td>NaN</td>\n",
              "      <td>NaN</td>\n",
              "      <td>NaN</td>\n",
              "      <td>NaN</td>\n",
              "      <td>NaN</td>\n",
              "      <td>Spyder</td>\n",
              "      <td>NaN</td>\n",
              "      <td>NaN</td>\n",
              "      <td>NaN</td>\n",
              "      <td>NaN</td>\n",
              "      <td>Jupyter Notebook</td>\n",
              "      <td>NaN</td>\n",
              "      <td>NaN</td>\n",
              "      <td>NaN</td>\n",
              "      <td>Colab Notebooks</td>\n",
              "      <td>NaN</td>\n",
              "      <td>NaN</td>\n",
              "      <td>NaN</td>\n",
              "      <td>NaN</td>\n",
              "      <td>NaN</td>\n",
              "      <td>NaN</td>\n",
              "      <td>NaN</td>\n",
              "      <td>NaN</td>\n",
              "      <td>NaN</td>\n",
              "      <td>NaN</td>\n",
              "      <td>NaN</td>\n",
              "      <td>NaN</td>\n",
              "      <td>NaN</td>\n",
              "      <td>NaN</td>\n",
              "      <td>...</td>\n",
              "      <td>NaN</td>\n",
              "      <td>NaN</td>\n",
              "      <td>NaN</td>\n",
              "      <td>None</td>\n",
              "      <td>NaN</td>\n",
              "      <td>NaN</td>\n",
              "      <td>NaN</td>\n",
              "      <td>NaN</td>\n",
              "      <td>NaN</td>\n",
              "      <td>NaN</td>\n",
              "      <td>NaN</td>\n",
              "      <td>NaN</td>\n",
              "      <td>NaN</td>\n",
              "      <td>NaN</td>\n",
              "      <td>NaN</td>\n",
              "      <td>NaN</td>\n",
              "      <td>NaN</td>\n",
              "      <td>NaN</td>\n",
              "      <td>NaN</td>\n",
              "      <td>NaN</td>\n",
              "      <td>None</td>\n",
              "      <td>NaN</td>\n",
              "      <td>NaN</td>\n",
              "      <td>NaN</td>\n",
              "      <td>NaN</td>\n",
              "      <td>NaN</td>\n",
              "      <td>NaN</td>\n",
              "      <td>NaN</td>\n",
              "      <td>None</td>\n",
              "      <td>NaN</td>\n",
              "      <td>NaN</td>\n",
              "      <td>NaN</td>\n",
              "      <td>NaN</td>\n",
              "      <td>NaN</td>\n",
              "      <td>NaN</td>\n",
              "      <td>NaN</td>\n",
              "      <td>NaN</td>\n",
              "      <td>NaN</td>\n",
              "      <td>NaN</td>\n",
              "      <td>NaN</td>\n",
              "      <td>NaN</td>\n",
              "      <td>NaN</td>\n",
              "      <td>NaN</td>\n",
              "      <td>NaN</td>\n",
              "      <td>NaN</td>\n",
              "      <td>NaN</td>\n",
              "      <td>NaN</td>\n",
              "      <td>NaN</td>\n",
              "      <td>None</td>\n",
              "      <td>NaN</td>\n",
              "    </tr>\n",
              "  </tbody>\n",
              "</table>\n",
              "<p>5 rows × 369 columns</p>\n",
              "</div>"
            ],
            "text/plain": [
              "  Time from Start to Finish (seconds)                           Q1  \\\n",
              "0               Duration (in seconds)  What is your age (# years)?   \n",
              "1                                 910                        50-54   \n",
              "2                                 784                        50-54   \n",
              "3                                 924                        22-24   \n",
              "4                                 575                        45-49   \n",
              "\n",
              "                                       Q2  \\\n",
              "0  What is your gender? - Selected Choice   \n",
              "1                                     Man   \n",
              "2                                     Man   \n",
              "3                                     Man   \n",
              "4                                     Man   \n",
              "\n",
              "                                          Q3  \\\n",
              "0  In which country do you currently reside?   \n",
              "1                                      India   \n",
              "2                                  Indonesia   \n",
              "3                                   Pakistan   \n",
              "4                                     Mexico   \n",
              "\n",
              "                                                  Q4  \\\n",
              "0  What is the highest level of formal education ...   \n",
              "1                                  Bachelor’s degree   \n",
              "2                                    Master’s degree   \n",
              "3                                    Master’s degree   \n",
              "4                                    Doctoral degree   \n",
              "\n",
              "                                                  Q5  \\\n",
              "0  Select the title most similar to your current ...   \n",
              "1                                              Other   \n",
              "2                            Program/Project Manager   \n",
              "3                                  Software Engineer   \n",
              "4                                 Research Scientist   \n",
              "\n",
              "                                                  Q6  \\\n",
              "0  For how many years have you been writing code ...   \n",
              "1                                         5-10 years   \n",
              "2                                          20+ years   \n",
              "3                                          1-3 years   \n",
              "4                                          20+ years   \n",
              "\n",
              "                                           Q7_Part_1  \\\n",
              "0  What programming languages do you use on a reg...   \n",
              "1                                             Python   \n",
              "2                                                NaN   \n",
              "3                                             Python   \n",
              "4                                             Python   \n",
              "\n",
              "                                           Q7_Part_2  \\\n",
              "0  What programming languages do you use on a reg...   \n",
              "1                                                  R   \n",
              "2                                                NaN   \n",
              "3                                                NaN   \n",
              "4                                                NaN   \n",
              "\n",
              "                                           Q7_Part_3  \\\n",
              "0  What programming languages do you use on a reg...   \n",
              "1                                                NaN   \n",
              "2                                                SQL   \n",
              "3                                                NaN   \n",
              "4                                                NaN   \n",
              "\n",
              "                                           Q7_Part_4  \\\n",
              "0  What programming languages do you use on a reg...   \n",
              "1                                                NaN   \n",
              "2                                                  C   \n",
              "3                                                NaN   \n",
              "4                                                NaN   \n",
              "\n",
              "                                           Q7_Part_5  \\\n",
              "0  What programming languages do you use on a reg...   \n",
              "1                                                NaN   \n",
              "2                                                C++   \n",
              "3                                                C++   \n",
              "4                                                NaN   \n",
              "\n",
              "                                           Q7_Part_6  \\\n",
              "0  What programming languages do you use on a reg...   \n",
              "1                                                NaN   \n",
              "2                                               Java   \n",
              "3                                               Java   \n",
              "4                                                NaN   \n",
              "\n",
              "                                           Q7_Part_7  \\\n",
              "0  What programming languages do you use on a reg...   \n",
              "1                                                NaN   \n",
              "2                                                NaN   \n",
              "3                                                NaN   \n",
              "4                                                NaN   \n",
              "\n",
              "                                           Q7_Part_8  \\\n",
              "0  What programming languages do you use on a reg...   \n",
              "1                                                NaN   \n",
              "2                                                NaN   \n",
              "3                                                NaN   \n",
              "4                                                NaN   \n",
              "\n",
              "                                           Q7_Part_9  \\\n",
              "0  What programming languages do you use on a reg...   \n",
              "1                                                NaN   \n",
              "2                                                NaN   \n",
              "3                                                NaN   \n",
              "4                                                NaN   \n",
              "\n",
              "                                          Q7_Part_10  \\\n",
              "0  What programming languages do you use on a reg...   \n",
              "1                                                NaN   \n",
              "2                                                NaN   \n",
              "3                                                NaN   \n",
              "4                                                NaN   \n",
              "\n",
              "                                          Q7_Part_11  \\\n",
              "0  What programming languages do you use on a reg...   \n",
              "1                                                NaN   \n",
              "2                                                NaN   \n",
              "3                                                NaN   \n",
              "4                                                NaN   \n",
              "\n",
              "                                          Q7_Part_12  \\\n",
              "0  What programming languages do you use on a reg...   \n",
              "1                                                NaN   \n",
              "2                                                NaN   \n",
              "3                                                NaN   \n",
              "4                                                NaN   \n",
              "\n",
              "                                            Q7_OTHER  \\\n",
              "0  What programming languages do you use on a reg...   \n",
              "1                                                NaN   \n",
              "2                                                NaN   \n",
              "3                                                NaN   \n",
              "4                                                NaN   \n",
              "\n",
              "                                                  Q8  \\\n",
              "0  What programming language would you recommend ...   \n",
              "1                                             Python   \n",
              "2                                             Python   \n",
              "3                                             Python   \n",
              "4                                             Python   \n",
              "\n",
              "                                           Q9_Part_1  \\\n",
              "0  Which of the following integrated development ...   \n",
              "1                                                NaN   \n",
              "2                                                NaN   \n",
              "3                                                NaN   \n",
              "4                                                NaN   \n",
              "\n",
              "                                           Q9_Part_2  \\\n",
              "0  Which of the following integrated development ...   \n",
              "1                                                NaN   \n",
              "2                                                NaN   \n",
              "3                                                NaN   \n",
              "4                                                NaN   \n",
              "\n",
              "                                           Q9_Part_3  \\\n",
              "0  Which of the following integrated development ...   \n",
              "1                                                NaN   \n",
              "2                                                NaN   \n",
              "3                                                NaN   \n",
              "4                                                NaN   \n",
              "\n",
              "                                           Q9_Part_4  \\\n",
              "0  Which of the following integrated development ...   \n",
              "1                                                NaN   \n",
              "2                                                NaN   \n",
              "3                                                NaN   \n",
              "4                                                NaN   \n",
              "\n",
              "                                           Q9_Part_5  \\\n",
              "0  Which of the following integrated development ...   \n",
              "1                                                NaN   \n",
              "2                                                NaN   \n",
              "3                                           PyCharm    \n",
              "4                                                NaN   \n",
              "\n",
              "                                           Q9_Part_6  \\\n",
              "0  Which of the following integrated development ...   \n",
              "1                                                NaN   \n",
              "2                                                NaN   \n",
              "3                                                NaN   \n",
              "4                                           Spyder     \n",
              "\n",
              "                                           Q9_Part_7  \\\n",
              "0  Which of the following integrated development ...   \n",
              "1                                                NaN   \n",
              "2                                        Notepad++     \n",
              "3                                                NaN   \n",
              "4                                                NaN   \n",
              "\n",
              "                                           Q9_Part_8  \\\n",
              "0  Which of the following integrated development ...   \n",
              "1                                                NaN   \n",
              "2                                                NaN   \n",
              "3                                                NaN   \n",
              "4                                                NaN   \n",
              "\n",
              "                                           Q9_Part_9  \\\n",
              "0  Which of the following integrated development ...   \n",
              "1                                      Vim / Emacs     \n",
              "2                                                NaN   \n",
              "3                                                NaN   \n",
              "4                                                NaN   \n",
              "\n",
              "                                          Q9_Part_10  \\\n",
              "0  Which of the following integrated development ...   \n",
              "1                                                NaN   \n",
              "2                                                NaN   \n",
              "3                                                NaN   \n",
              "4                                                NaN   \n",
              "\n",
              "                                          Q9_Part_11  \\\n",
              "0  Which of the following integrated development ...   \n",
              "1                                                NaN   \n",
              "2                                   Jupyter Notebook   \n",
              "3                                   Jupyter Notebook   \n",
              "4                                   Jupyter Notebook   \n",
              "\n",
              "                                          Q9_Part_12  \\\n",
              "0  Which of the following integrated development ...   \n",
              "1                                                NaN   \n",
              "2                                                NaN   \n",
              "3                                                NaN   \n",
              "4                                                NaN   \n",
              "\n",
              "                                            Q9_OTHER  \\\n",
              "0  Which of the following integrated development ...   \n",
              "1                                                NaN   \n",
              "2                                                NaN   \n",
              "3                                              Other   \n",
              "4                                                NaN   \n",
              "\n",
              "                                          Q10_Part_1  \\\n",
              "0  Which of the following hosted notebook product...   \n",
              "1                                                NaN   \n",
              "2                                   Kaggle Notebooks   \n",
              "3                                   Kaggle Notebooks   \n",
              "4                                                NaN   \n",
              "\n",
              "                                          Q10_Part_2  \\\n",
              "0  Which of the following hosted notebook product...   \n",
              "1                                    Colab Notebooks   \n",
              "2                                    Colab Notebooks   \n",
              "3                                                NaN   \n",
              "4                                    Colab Notebooks   \n",
              "\n",
              "                                          Q10_Part_3  \\\n",
              "0  Which of the following hosted notebook product...   \n",
              "1                                                NaN   \n",
              "2                                                NaN   \n",
              "3                                                NaN   \n",
              "4                                                NaN   \n",
              "\n",
              "                                          Q10_Part_4  \\\n",
              "0  Which of the following hosted notebook product...   \n",
              "1                                                NaN   \n",
              "2                                                NaN   \n",
              "3                                                NaN   \n",
              "4                                                NaN   \n",
              "\n",
              "                                          Q10_Part_5  \\\n",
              "0  Which of the following hosted notebook product...   \n",
              "1                                                NaN   \n",
              "2                                                NaN   \n",
              "3                                                NaN   \n",
              "4                                                NaN   \n",
              "\n",
              "                                          Q10_Part_6  \\\n",
              "0  Which of the following hosted notebook product...   \n",
              "1                                                NaN   \n",
              "2                                                NaN   \n",
              "3                                                NaN   \n",
              "4                                                NaN   \n",
              "\n",
              "                                          Q10_Part_7  \\\n",
              "0  Which of the following hosted notebook product...   \n",
              "1                                                NaN   \n",
              "2                                                NaN   \n",
              "3                                                NaN   \n",
              "4                                                NaN   \n",
              "\n",
              "                                          Q10_Part_8  \\\n",
              "0  Which of the following hosted notebook product...   \n",
              "1                                                NaN   \n",
              "2                                                NaN   \n",
              "3                                                NaN   \n",
              "4                                                NaN   \n",
              "\n",
              "                                          Q10_Part_9  \\\n",
              "0  Which of the following hosted notebook product...   \n",
              "1                                                NaN   \n",
              "2                                                NaN   \n",
              "3                                                NaN   \n",
              "4                                                NaN   \n",
              "\n",
              "                                         Q10_Part_10  \\\n",
              "0  Which of the following hosted notebook product...   \n",
              "1                                                NaN   \n",
              "2                                                NaN   \n",
              "3                                                NaN   \n",
              "4                                                NaN   \n",
              "\n",
              "                                         Q10_Part_11  \\\n",
              "0  Which of the following hosted notebook product...   \n",
              "1                                                NaN   \n",
              "2                                                NaN   \n",
              "3                                                NaN   \n",
              "4                                                NaN   \n",
              "\n",
              "                                         Q10_Part_12  \\\n",
              "0  Which of the following hosted notebook product...   \n",
              "1                                                NaN   \n",
              "2                                                NaN   \n",
              "3                                                NaN   \n",
              "4                                                NaN   \n",
              "\n",
              "                                         Q10_Part_13  \\\n",
              "0  Which of the following hosted notebook product...   \n",
              "1                                                NaN   \n",
              "2                                                NaN   \n",
              "3                                                NaN   \n",
              "4                                                NaN   \n",
              "\n",
              "                                         Q10_Part_14  \\\n",
              "0  Which of the following hosted notebook product...   \n",
              "1                                                NaN   \n",
              "2                                                NaN   \n",
              "3                                                NaN   \n",
              "4                                                NaN   \n",
              "\n",
              "                                         Q10_Part_15  \\\n",
              "0  Which of the following hosted notebook product...   \n",
              "1                                                NaN   \n",
              "2                                                NaN   \n",
              "3                                                NaN   \n",
              "4                                                NaN   \n",
              "\n",
              "                                         Q10_Part_16  ...  \\\n",
              "0  Which of the following hosted notebook product...  ...   \n",
              "1                                                NaN  ...   \n",
              "2                                                NaN  ...   \n",
              "3                                                NaN  ...   \n",
              "4                                                NaN  ...   \n",
              "\n",
              "                                       Q32_B_Part_17  \\\n",
              "0  Which of the following big data products (rela...   \n",
              "1                                                NaN   \n",
              "2                                                NaN   \n",
              "3                                                NaN   \n",
              "4                                                NaN   \n",
              "\n",
              "                                       Q32_B_Part_18  \\\n",
              "0  Which of the following big data products (rela...   \n",
              "1                                                NaN   \n",
              "2                                                NaN   \n",
              "3                                                NaN   \n",
              "4                                                NaN   \n",
              "\n",
              "                                       Q32_B_Part_19  \\\n",
              "0  Which of the following big data products (rela...   \n",
              "1                                                NaN   \n",
              "2                                                NaN   \n",
              "3                                                NaN   \n",
              "4                                                NaN   \n",
              "\n",
              "                                       Q32_B_Part_20  \\\n",
              "0  Which of the following big data products (rela...   \n",
              "1                                                NaN   \n",
              "2                                                NaN   \n",
              "3                                                NaN   \n",
              "4                                               None   \n",
              "\n",
              "                                         Q32_B_OTHER  \\\n",
              "0  Which of the following big data products (rela...   \n",
              "1                                                NaN   \n",
              "2                                                NaN   \n",
              "3                                                NaN   \n",
              "4                                                NaN   \n",
              "\n",
              "                                        Q34_B_Part_1  \\\n",
              "0  Which of the following business intelligence t...   \n",
              "1                                                NaN   \n",
              "2                                                NaN   \n",
              "3                                 Microsoft Power BI   \n",
              "4                                                NaN   \n",
              "\n",
              "                                        Q34_B_Part_2  \\\n",
              "0  Which of the following business intelligence t...   \n",
              "1                                                NaN   \n",
              "2                                                NaN   \n",
              "3                                                NaN   \n",
              "4                                                NaN   \n",
              "\n",
              "                                        Q34_B_Part_3  \\\n",
              "0  Which of the following business intelligence t...   \n",
              "1                                                NaN   \n",
              "2                                 Google Data Studio   \n",
              "3                                                NaN   \n",
              "4                                                NaN   \n",
              "\n",
              "                                        Q34_B_Part_4  \\\n",
              "0  Which of the following business intelligence t...   \n",
              "1                                                NaN   \n",
              "2                                                NaN   \n",
              "3                                                NaN   \n",
              "4                                                NaN   \n",
              "\n",
              "                                        Q34_B_Part_5  \\\n",
              "0  Which of the following business intelligence t...   \n",
              "1                                                NaN   \n",
              "2                                                NaN   \n",
              "3                                            Tableau   \n",
              "4                                                NaN   \n",
              "\n",
              "                                        Q34_B_Part_6  \\\n",
              "0  Which of the following business intelligence t...   \n",
              "1                                                NaN   \n",
              "2                                                NaN   \n",
              "3                                                NaN   \n",
              "4                                                NaN   \n",
              "\n",
              "                                        Q34_B_Part_7  \\\n",
              "0  Which of the following business intelligence t...   \n",
              "1                                                NaN   \n",
              "2                                                NaN   \n",
              "3                                                NaN   \n",
              "4                                                NaN   \n",
              "\n",
              "                                        Q34_B_Part_8  \\\n",
              "0  Which of the following business intelligence t...   \n",
              "1                                                NaN   \n",
              "2                                               Qlik   \n",
              "3                                                NaN   \n",
              "4                                                NaN   \n",
              "\n",
              "                                        Q34_B_Part_9  \\\n",
              "0  Which of the following business intelligence t...   \n",
              "1                                                NaN   \n",
              "2                                                NaN   \n",
              "3                                                NaN   \n",
              "4                                                NaN   \n",
              "\n",
              "                                       Q34_B_Part_10  \\\n",
              "0  Which of the following business intelligence t...   \n",
              "1                                                NaN   \n",
              "2                                                NaN   \n",
              "3                                                NaN   \n",
              "4                                                NaN   \n",
              "\n",
              "                                       Q34_B_Part_11  \\\n",
              "0  Which of the following business intelligence t...   \n",
              "1                                                NaN   \n",
              "2                                                NaN   \n",
              "3                                                NaN   \n",
              "4                                                NaN   \n",
              "\n",
              "                                       Q34_B_Part_12  \\\n",
              "0  Which of the following business intelligence t...   \n",
              "1                                                NaN   \n",
              "2                                                NaN   \n",
              "3                                                NaN   \n",
              "4                                                NaN   \n",
              "\n",
              "                                       Q34_B_Part_13  \\\n",
              "0  Which of the following business intelligence t...   \n",
              "1                                                NaN   \n",
              "2                                                NaN   \n",
              "3                                                NaN   \n",
              "4                                                NaN   \n",
              "\n",
              "                                       Q34_B_Part_14  \\\n",
              "0  Which of the following business intelligence t...   \n",
              "1                                                NaN   \n",
              "2                                                NaN   \n",
              "3                                                NaN   \n",
              "4                                                NaN   \n",
              "\n",
              "                                       Q34_B_Part_15  \\\n",
              "0  Which of the following business intelligence t...   \n",
              "1                                                NaN   \n",
              "2                                                NaN   \n",
              "3                                                NaN   \n",
              "4                                                NaN   \n",
              "\n",
              "                                       Q34_B_Part_16  \\\n",
              "0  Which of the following business intelligence t...   \n",
              "1                                                NaN   \n",
              "2                                                NaN   \n",
              "3                                                NaN   \n",
              "4                                               None   \n",
              "\n",
              "                                         Q34_B_OTHER  \\\n",
              "0  Which of the following business intelligence t...   \n",
              "1                                                NaN   \n",
              "2                                                NaN   \n",
              "3                                                NaN   \n",
              "4                                                NaN   \n",
              "\n",
              "                                        Q36_B_Part_1  \\\n",
              "0  Which categories of automated machine learning...   \n",
              "1                                                NaN   \n",
              "2                                                NaN   \n",
              "3                                                NaN   \n",
              "4                                                NaN   \n",
              "\n",
              "                                        Q36_B_Part_2  \\\n",
              "0  Which categories of automated machine learning...   \n",
              "1                                                NaN   \n",
              "2                                                NaN   \n",
              "3                                                NaN   \n",
              "4                                                NaN   \n",
              "\n",
              "                                        Q36_B_Part_3  \\\n",
              "0  Which categories of automated machine learning...   \n",
              "1                                                NaN   \n",
              "2  Automated model selection (e.g. auto-sklearn, ...   \n",
              "3  Automated model selection (e.g. auto-sklearn, ...   \n",
              "4                                                NaN   \n",
              "\n",
              "                                        Q36_B_Part_4  \\\n",
              "0  Which categories of automated machine learning...   \n",
              "1                                                NaN   \n",
              "2                                                NaN   \n",
              "3                                                NaN   \n",
              "4                                                NaN   \n",
              "\n",
              "                                        Q36_B_Part_5  \\\n",
              "0  Which categories of automated machine learning...   \n",
              "1                                                NaN   \n",
              "2                                                NaN   \n",
              "3                                                NaN   \n",
              "4                                                NaN   \n",
              "\n",
              "                                        Q36_B_Part_6  \\\n",
              "0  Which categories of automated machine learning...   \n",
              "1                                                NaN   \n",
              "2                                                NaN   \n",
              "3                                                NaN   \n",
              "4                                                NaN   \n",
              "\n",
              "                                        Q36_B_Part_7  \\\n",
              "0  Which categories of automated machine learning...   \n",
              "1                                                NaN   \n",
              "2                                                NaN   \n",
              "3                                                NaN   \n",
              "4                                               None   \n",
              "\n",
              "                                         Q36_B_OTHER  \\\n",
              "0  Which categories of automated machine learning...   \n",
              "1                                                NaN   \n",
              "2                                                NaN   \n",
              "3                                                NaN   \n",
              "4                                                NaN   \n",
              "\n",
              "                                        Q37_B_Part_1  \\\n",
              "0  Which specific automated machine learning tool...   \n",
              "1                                                NaN   \n",
              "2                               Google Cloud AutoML    \n",
              "3                                                NaN   \n",
              "4                                                NaN   \n",
              "\n",
              "                                        Q37_B_Part_2  \\\n",
              "0  Which specific automated machine learning tool...   \n",
              "1                                                NaN   \n",
              "2                                                NaN   \n",
              "3                                                NaN   \n",
              "4                                                NaN   \n",
              "\n",
              "                                        Q37_B_Part_3  \\\n",
              "0  Which specific automated machine learning tool...   \n",
              "1                                                NaN   \n",
              "2                                                NaN   \n",
              "3                                                NaN   \n",
              "4                                                NaN   \n",
              "\n",
              "                                        Q37_B_Part_4  \\\n",
              "0  Which specific automated machine learning tool...   \n",
              "1                                                NaN   \n",
              "2                                                NaN   \n",
              "3                                  DataRobot AutoML    \n",
              "4                                                NaN   \n",
              "\n",
              "                                        Q37_B_Part_5  \\\n",
              "0  Which specific automated machine learning tool...   \n",
              "1                                                NaN   \n",
              "2                                                NaN   \n",
              "3                                                NaN   \n",
              "4                                                NaN   \n",
              "\n",
              "                                        Q37_B_Part_6  \\\n",
              "0  Which specific automated machine learning tool...   \n",
              "1                                                NaN   \n",
              "2                                                NaN   \n",
              "3                                                NaN   \n",
              "4                                                NaN   \n",
              "\n",
              "                                        Q37_B_Part_7  \\\n",
              "0  Which specific automated machine learning tool...   \n",
              "1                                                NaN   \n",
              "2                                                NaN   \n",
              "3                                                NaN   \n",
              "4                                                NaN   \n",
              "\n",
              "                                         Q37_B_OTHER  \\\n",
              "0  Which specific automated machine learning tool...   \n",
              "1                                                NaN   \n",
              "2                                                NaN   \n",
              "3                                                NaN   \n",
              "4                                                NaN   \n",
              "\n",
              "                                        Q38_B_Part_1  \\\n",
              "0  In the next 2 years, do you hope to become mor...   \n",
              "1                                                NaN   \n",
              "2                                                NaN   \n",
              "3                                                NaN   \n",
              "4                                                NaN   \n",
              "\n",
              "                                        Q38_B_Part_2  \\\n",
              "0  In the next 2 years, do you hope to become mor...   \n",
              "1                                                NaN   \n",
              "2                                                NaN   \n",
              "3                                                NaN   \n",
              "4                                                NaN   \n",
              "\n",
              "                                        Q38_B_Part_3  \\\n",
              "0  In the next 2 years, do you hope to become mor...   \n",
              "1                                                NaN   \n",
              "2                                                NaN   \n",
              "3                                                NaN   \n",
              "4                                                NaN   \n",
              "\n",
              "                                        Q38_B_Part_4  \\\n",
              "0  In the next 2 years, do you hope to become mor...   \n",
              "1                                                NaN   \n",
              "2                                                NaN   \n",
              "3                                                NaN   \n",
              "4                                                NaN   \n",
              "\n",
              "                                        Q38_B_Part_5  \\\n",
              "0  In the next 2 years, do you hope to become mor...   \n",
              "1                                                NaN   \n",
              "2                                                NaN   \n",
              "3                                       TensorBoard    \n",
              "4                                                NaN   \n",
              "\n",
              "                                        Q38_B_Part_6  \\\n",
              "0  In the next 2 years, do you hope to become mor...   \n",
              "1                                                NaN   \n",
              "2                                                NaN   \n",
              "3                                                NaN   \n",
              "4                                                NaN   \n",
              "\n",
              "                                        Q38_B_Part_7  \\\n",
              "0  In the next 2 years, do you hope to become mor...   \n",
              "1                                                NaN   \n",
              "2                                                NaN   \n",
              "3                                                NaN   \n",
              "4                                                NaN   \n",
              "\n",
              "                                        Q38_B_Part_8  \\\n",
              "0  In the next 2 years, do you hope to become mor...   \n",
              "1                                                NaN   \n",
              "2                                                NaN   \n",
              "3                                                NaN   \n",
              "4                                                NaN   \n",
              "\n",
              "                                        Q38_B_Part_9  \\\n",
              "0  In the next 2 years, do you hope to become mor...   \n",
              "1                                                NaN   \n",
              "2                                                NaN   \n",
              "3                                                NaN   \n",
              "4                                                NaN   \n",
              "\n",
              "                                       Q38_B_Part_10  \\\n",
              "0  In the next 2 years, do you hope to become mor...   \n",
              "1                                                NaN   \n",
              "2                                                NaN   \n",
              "3                                                NaN   \n",
              "4                                                NaN   \n",
              "\n",
              "                                       Q38_B_Part_11  \\\n",
              "0  In the next 2 years, do you hope to become mor...   \n",
              "1                                                NaN   \n",
              "2                                               None   \n",
              "3                                                NaN   \n",
              "4                                               None   \n",
              "\n",
              "                                         Q38_B_OTHER  \n",
              "0  In the next 2 years, do you hope to become mor...  \n",
              "1                                                NaN  \n",
              "2                                                NaN  \n",
              "3                                                NaN  \n",
              "4                                                NaN  \n",
              "\n",
              "[5 rows x 369 columns]"
            ]
          },
          "metadata": {},
          "execution_count": 6
        }
      ]
    },
    {
      "cell_type": "code",
      "metadata": {
        "colab": {
          "base_uri": "https://localhost:8080/"
        },
        "id": "IjnwMQw6RYJl",
        "outputId": "4f7bec89-0449-4dbe-8c85-62740e414786"
      },
      "source": [
        "question = survey.iloc[0]\n",
        "question"
      ],
      "execution_count": 7,
      "outputs": [
        {
          "output_type": "execute_result",
          "data": {
            "text/plain": [
              "Time from Start to Finish (seconds)                                Duration (in seconds)\n",
              "Q1                                                           What is your age (# years)?\n",
              "Q2                                                What is your gender? - Selected Choice\n",
              "Q3                                             In which country do you currently reside?\n",
              "Q4                                     What is the highest level of formal education ...\n",
              "                                                             ...                        \n",
              "Q38_B_Part_8                           In the next 2 years, do you hope to become mor...\n",
              "Q38_B_Part_9                           In the next 2 years, do you hope to become mor...\n",
              "Q38_B_Part_10                          In the next 2 years, do you hope to become mor...\n",
              "Q38_B_Part_11                          In the next 2 years, do you hope to become mor...\n",
              "Q38_B_OTHER                            In the next 2 years, do you hope to become mor...\n",
              "Name: 0, Length: 369, dtype: object"
            ]
          },
          "metadata": {},
          "execution_count": 7
        }
      ]
    },
    {
      "cell_type": "code",
      "metadata": {
        "colab": {
          "base_uri": "https://localhost:8080/",
          "height": 458
        },
        "id": "4Md4XWwxVpH-",
        "outputId": "8540b847-e919-4440-a0a3-b96363d5a807"
      },
      "source": [
        "answer = survey.drop([0])\n",
        "answer.head()"
      ],
      "execution_count": 8,
      "outputs": [
        {
          "output_type": "execute_result",
          "data": {
            "text/html": [
              "<div>\n",
              "<style scoped>\n",
              "    .dataframe tbody tr th:only-of-type {\n",
              "        vertical-align: middle;\n",
              "    }\n",
              "\n",
              "    .dataframe tbody tr th {\n",
              "        vertical-align: top;\n",
              "    }\n",
              "\n",
              "    .dataframe thead th {\n",
              "        text-align: right;\n",
              "    }\n",
              "</style>\n",
              "<table border=\"1\" class=\"dataframe\">\n",
              "  <thead>\n",
              "    <tr style=\"text-align: right;\">\n",
              "      <th></th>\n",
              "      <th>Time from Start to Finish (seconds)</th>\n",
              "      <th>Q1</th>\n",
              "      <th>Q2</th>\n",
              "      <th>Q3</th>\n",
              "      <th>Q4</th>\n",
              "      <th>Q5</th>\n",
              "      <th>Q6</th>\n",
              "      <th>Q7_Part_1</th>\n",
              "      <th>Q7_Part_2</th>\n",
              "      <th>Q7_Part_3</th>\n",
              "      <th>Q7_Part_4</th>\n",
              "      <th>Q7_Part_5</th>\n",
              "      <th>Q7_Part_6</th>\n",
              "      <th>Q7_Part_7</th>\n",
              "      <th>Q7_Part_8</th>\n",
              "      <th>Q7_Part_9</th>\n",
              "      <th>Q7_Part_10</th>\n",
              "      <th>Q7_Part_11</th>\n",
              "      <th>Q7_Part_12</th>\n",
              "      <th>Q7_OTHER</th>\n",
              "      <th>Q8</th>\n",
              "      <th>Q9_Part_1</th>\n",
              "      <th>Q9_Part_2</th>\n",
              "      <th>Q9_Part_3</th>\n",
              "      <th>Q9_Part_4</th>\n",
              "      <th>Q9_Part_5</th>\n",
              "      <th>Q9_Part_6</th>\n",
              "      <th>Q9_Part_7</th>\n",
              "      <th>Q9_Part_8</th>\n",
              "      <th>Q9_Part_9</th>\n",
              "      <th>Q9_Part_10</th>\n",
              "      <th>Q9_Part_11</th>\n",
              "      <th>Q9_Part_12</th>\n",
              "      <th>Q9_OTHER</th>\n",
              "      <th>Q10_Part_1</th>\n",
              "      <th>Q10_Part_2</th>\n",
              "      <th>Q10_Part_3</th>\n",
              "      <th>Q10_Part_4</th>\n",
              "      <th>Q10_Part_5</th>\n",
              "      <th>Q10_Part_6</th>\n",
              "      <th>Q10_Part_7</th>\n",
              "      <th>Q10_Part_8</th>\n",
              "      <th>Q10_Part_9</th>\n",
              "      <th>Q10_Part_10</th>\n",
              "      <th>Q10_Part_11</th>\n",
              "      <th>Q10_Part_12</th>\n",
              "      <th>Q10_Part_13</th>\n",
              "      <th>Q10_Part_14</th>\n",
              "      <th>Q10_Part_15</th>\n",
              "      <th>Q10_Part_16</th>\n",
              "      <th>...</th>\n",
              "      <th>Q32_B_Part_17</th>\n",
              "      <th>Q32_B_Part_18</th>\n",
              "      <th>Q32_B_Part_19</th>\n",
              "      <th>Q32_B_Part_20</th>\n",
              "      <th>Q32_B_OTHER</th>\n",
              "      <th>Q34_B_Part_1</th>\n",
              "      <th>Q34_B_Part_2</th>\n",
              "      <th>Q34_B_Part_3</th>\n",
              "      <th>Q34_B_Part_4</th>\n",
              "      <th>Q34_B_Part_5</th>\n",
              "      <th>Q34_B_Part_6</th>\n",
              "      <th>Q34_B_Part_7</th>\n",
              "      <th>Q34_B_Part_8</th>\n",
              "      <th>Q34_B_Part_9</th>\n",
              "      <th>Q34_B_Part_10</th>\n",
              "      <th>Q34_B_Part_11</th>\n",
              "      <th>Q34_B_Part_12</th>\n",
              "      <th>Q34_B_Part_13</th>\n",
              "      <th>Q34_B_Part_14</th>\n",
              "      <th>Q34_B_Part_15</th>\n",
              "      <th>Q34_B_Part_16</th>\n",
              "      <th>Q34_B_OTHER</th>\n",
              "      <th>Q36_B_Part_1</th>\n",
              "      <th>Q36_B_Part_2</th>\n",
              "      <th>Q36_B_Part_3</th>\n",
              "      <th>Q36_B_Part_4</th>\n",
              "      <th>Q36_B_Part_5</th>\n",
              "      <th>Q36_B_Part_6</th>\n",
              "      <th>Q36_B_Part_7</th>\n",
              "      <th>Q36_B_OTHER</th>\n",
              "      <th>Q37_B_Part_1</th>\n",
              "      <th>Q37_B_Part_2</th>\n",
              "      <th>Q37_B_Part_3</th>\n",
              "      <th>Q37_B_Part_4</th>\n",
              "      <th>Q37_B_Part_5</th>\n",
              "      <th>Q37_B_Part_6</th>\n",
              "      <th>Q37_B_Part_7</th>\n",
              "      <th>Q37_B_OTHER</th>\n",
              "      <th>Q38_B_Part_1</th>\n",
              "      <th>Q38_B_Part_2</th>\n",
              "      <th>Q38_B_Part_3</th>\n",
              "      <th>Q38_B_Part_4</th>\n",
              "      <th>Q38_B_Part_5</th>\n",
              "      <th>Q38_B_Part_6</th>\n",
              "      <th>Q38_B_Part_7</th>\n",
              "      <th>Q38_B_Part_8</th>\n",
              "      <th>Q38_B_Part_9</th>\n",
              "      <th>Q38_B_Part_10</th>\n",
              "      <th>Q38_B_Part_11</th>\n",
              "      <th>Q38_B_OTHER</th>\n",
              "    </tr>\n",
              "  </thead>\n",
              "  <tbody>\n",
              "    <tr>\n",
              "      <th>1</th>\n",
              "      <td>910</td>\n",
              "      <td>50-54</td>\n",
              "      <td>Man</td>\n",
              "      <td>India</td>\n",
              "      <td>Bachelor’s degree</td>\n",
              "      <td>Other</td>\n",
              "      <td>5-10 years</td>\n",
              "      <td>Python</td>\n",
              "      <td>R</td>\n",
              "      <td>NaN</td>\n",
              "      <td>NaN</td>\n",
              "      <td>NaN</td>\n",
              "      <td>NaN</td>\n",
              "      <td>NaN</td>\n",
              "      <td>NaN</td>\n",
              "      <td>NaN</td>\n",
              "      <td>NaN</td>\n",
              "      <td>NaN</td>\n",
              "      <td>NaN</td>\n",
              "      <td>NaN</td>\n",
              "      <td>Python</td>\n",
              "      <td>NaN</td>\n",
              "      <td>NaN</td>\n",
              "      <td>NaN</td>\n",
              "      <td>NaN</td>\n",
              "      <td>NaN</td>\n",
              "      <td>NaN</td>\n",
              "      <td>NaN</td>\n",
              "      <td>NaN</td>\n",
              "      <td>Vim / Emacs</td>\n",
              "      <td>NaN</td>\n",
              "      <td>NaN</td>\n",
              "      <td>NaN</td>\n",
              "      <td>NaN</td>\n",
              "      <td>NaN</td>\n",
              "      <td>Colab Notebooks</td>\n",
              "      <td>NaN</td>\n",
              "      <td>NaN</td>\n",
              "      <td>NaN</td>\n",
              "      <td>NaN</td>\n",
              "      <td>NaN</td>\n",
              "      <td>NaN</td>\n",
              "      <td>NaN</td>\n",
              "      <td>NaN</td>\n",
              "      <td>NaN</td>\n",
              "      <td>NaN</td>\n",
              "      <td>NaN</td>\n",
              "      <td>NaN</td>\n",
              "      <td>NaN</td>\n",
              "      <td>NaN</td>\n",
              "      <td>...</td>\n",
              "      <td>NaN</td>\n",
              "      <td>NaN</td>\n",
              "      <td>NaN</td>\n",
              "      <td>NaN</td>\n",
              "      <td>NaN</td>\n",
              "      <td>NaN</td>\n",
              "      <td>NaN</td>\n",
              "      <td>NaN</td>\n",
              "      <td>NaN</td>\n",
              "      <td>NaN</td>\n",
              "      <td>NaN</td>\n",
              "      <td>NaN</td>\n",
              "      <td>NaN</td>\n",
              "      <td>NaN</td>\n",
              "      <td>NaN</td>\n",
              "      <td>NaN</td>\n",
              "      <td>NaN</td>\n",
              "      <td>NaN</td>\n",
              "      <td>NaN</td>\n",
              "      <td>NaN</td>\n",
              "      <td>NaN</td>\n",
              "      <td>NaN</td>\n",
              "      <td>NaN</td>\n",
              "      <td>NaN</td>\n",
              "      <td>NaN</td>\n",
              "      <td>NaN</td>\n",
              "      <td>NaN</td>\n",
              "      <td>NaN</td>\n",
              "      <td>NaN</td>\n",
              "      <td>NaN</td>\n",
              "      <td>NaN</td>\n",
              "      <td>NaN</td>\n",
              "      <td>NaN</td>\n",
              "      <td>NaN</td>\n",
              "      <td>NaN</td>\n",
              "      <td>NaN</td>\n",
              "      <td>NaN</td>\n",
              "      <td>NaN</td>\n",
              "      <td>NaN</td>\n",
              "      <td>NaN</td>\n",
              "      <td>NaN</td>\n",
              "      <td>NaN</td>\n",
              "      <td>NaN</td>\n",
              "      <td>NaN</td>\n",
              "      <td>NaN</td>\n",
              "      <td>NaN</td>\n",
              "      <td>NaN</td>\n",
              "      <td>NaN</td>\n",
              "      <td>NaN</td>\n",
              "      <td>NaN</td>\n",
              "    </tr>\n",
              "    <tr>\n",
              "      <th>2</th>\n",
              "      <td>784</td>\n",
              "      <td>50-54</td>\n",
              "      <td>Man</td>\n",
              "      <td>Indonesia</td>\n",
              "      <td>Master’s degree</td>\n",
              "      <td>Program/Project Manager</td>\n",
              "      <td>20+ years</td>\n",
              "      <td>NaN</td>\n",
              "      <td>NaN</td>\n",
              "      <td>SQL</td>\n",
              "      <td>C</td>\n",
              "      <td>C++</td>\n",
              "      <td>Java</td>\n",
              "      <td>NaN</td>\n",
              "      <td>NaN</td>\n",
              "      <td>NaN</td>\n",
              "      <td>NaN</td>\n",
              "      <td>NaN</td>\n",
              "      <td>NaN</td>\n",
              "      <td>NaN</td>\n",
              "      <td>Python</td>\n",
              "      <td>NaN</td>\n",
              "      <td>NaN</td>\n",
              "      <td>NaN</td>\n",
              "      <td>NaN</td>\n",
              "      <td>NaN</td>\n",
              "      <td>NaN</td>\n",
              "      <td>Notepad++</td>\n",
              "      <td>NaN</td>\n",
              "      <td>NaN</td>\n",
              "      <td>NaN</td>\n",
              "      <td>Jupyter Notebook</td>\n",
              "      <td>NaN</td>\n",
              "      <td>NaN</td>\n",
              "      <td>Kaggle Notebooks</td>\n",
              "      <td>Colab Notebooks</td>\n",
              "      <td>NaN</td>\n",
              "      <td>NaN</td>\n",
              "      <td>NaN</td>\n",
              "      <td>NaN</td>\n",
              "      <td>NaN</td>\n",
              "      <td>NaN</td>\n",
              "      <td>NaN</td>\n",
              "      <td>NaN</td>\n",
              "      <td>NaN</td>\n",
              "      <td>NaN</td>\n",
              "      <td>NaN</td>\n",
              "      <td>NaN</td>\n",
              "      <td>NaN</td>\n",
              "      <td>NaN</td>\n",
              "      <td>...</td>\n",
              "      <td>NaN</td>\n",
              "      <td>NaN</td>\n",
              "      <td>NaN</td>\n",
              "      <td>NaN</td>\n",
              "      <td>NaN</td>\n",
              "      <td>NaN</td>\n",
              "      <td>NaN</td>\n",
              "      <td>Google Data Studio</td>\n",
              "      <td>NaN</td>\n",
              "      <td>NaN</td>\n",
              "      <td>NaN</td>\n",
              "      <td>NaN</td>\n",
              "      <td>Qlik</td>\n",
              "      <td>NaN</td>\n",
              "      <td>NaN</td>\n",
              "      <td>NaN</td>\n",
              "      <td>NaN</td>\n",
              "      <td>NaN</td>\n",
              "      <td>NaN</td>\n",
              "      <td>NaN</td>\n",
              "      <td>NaN</td>\n",
              "      <td>NaN</td>\n",
              "      <td>NaN</td>\n",
              "      <td>NaN</td>\n",
              "      <td>Automated model selection (e.g. auto-sklearn, ...</td>\n",
              "      <td>NaN</td>\n",
              "      <td>NaN</td>\n",
              "      <td>NaN</td>\n",
              "      <td>NaN</td>\n",
              "      <td>NaN</td>\n",
              "      <td>Google Cloud AutoML</td>\n",
              "      <td>NaN</td>\n",
              "      <td>NaN</td>\n",
              "      <td>NaN</td>\n",
              "      <td>NaN</td>\n",
              "      <td>NaN</td>\n",
              "      <td>NaN</td>\n",
              "      <td>NaN</td>\n",
              "      <td>NaN</td>\n",
              "      <td>NaN</td>\n",
              "      <td>NaN</td>\n",
              "      <td>NaN</td>\n",
              "      <td>NaN</td>\n",
              "      <td>NaN</td>\n",
              "      <td>NaN</td>\n",
              "      <td>NaN</td>\n",
              "      <td>NaN</td>\n",
              "      <td>NaN</td>\n",
              "      <td>None</td>\n",
              "      <td>NaN</td>\n",
              "    </tr>\n",
              "    <tr>\n",
              "      <th>3</th>\n",
              "      <td>924</td>\n",
              "      <td>22-24</td>\n",
              "      <td>Man</td>\n",
              "      <td>Pakistan</td>\n",
              "      <td>Master’s degree</td>\n",
              "      <td>Software Engineer</td>\n",
              "      <td>1-3 years</td>\n",
              "      <td>Python</td>\n",
              "      <td>NaN</td>\n",
              "      <td>NaN</td>\n",
              "      <td>NaN</td>\n",
              "      <td>C++</td>\n",
              "      <td>Java</td>\n",
              "      <td>NaN</td>\n",
              "      <td>NaN</td>\n",
              "      <td>NaN</td>\n",
              "      <td>NaN</td>\n",
              "      <td>NaN</td>\n",
              "      <td>NaN</td>\n",
              "      <td>NaN</td>\n",
              "      <td>Python</td>\n",
              "      <td>NaN</td>\n",
              "      <td>NaN</td>\n",
              "      <td>NaN</td>\n",
              "      <td>NaN</td>\n",
              "      <td>PyCharm</td>\n",
              "      <td>NaN</td>\n",
              "      <td>NaN</td>\n",
              "      <td>NaN</td>\n",
              "      <td>NaN</td>\n",
              "      <td>NaN</td>\n",
              "      <td>Jupyter Notebook</td>\n",
              "      <td>NaN</td>\n",
              "      <td>Other</td>\n",
              "      <td>Kaggle Notebooks</td>\n",
              "      <td>NaN</td>\n",
              "      <td>NaN</td>\n",
              "      <td>NaN</td>\n",
              "      <td>NaN</td>\n",
              "      <td>NaN</td>\n",
              "      <td>NaN</td>\n",
              "      <td>NaN</td>\n",
              "      <td>NaN</td>\n",
              "      <td>NaN</td>\n",
              "      <td>NaN</td>\n",
              "      <td>NaN</td>\n",
              "      <td>NaN</td>\n",
              "      <td>NaN</td>\n",
              "      <td>NaN</td>\n",
              "      <td>NaN</td>\n",
              "      <td>...</td>\n",
              "      <td>NaN</td>\n",
              "      <td>NaN</td>\n",
              "      <td>NaN</td>\n",
              "      <td>NaN</td>\n",
              "      <td>NaN</td>\n",
              "      <td>Microsoft Power BI</td>\n",
              "      <td>NaN</td>\n",
              "      <td>NaN</td>\n",
              "      <td>NaN</td>\n",
              "      <td>Tableau</td>\n",
              "      <td>NaN</td>\n",
              "      <td>NaN</td>\n",
              "      <td>NaN</td>\n",
              "      <td>NaN</td>\n",
              "      <td>NaN</td>\n",
              "      <td>NaN</td>\n",
              "      <td>NaN</td>\n",
              "      <td>NaN</td>\n",
              "      <td>NaN</td>\n",
              "      <td>NaN</td>\n",
              "      <td>NaN</td>\n",
              "      <td>NaN</td>\n",
              "      <td>NaN</td>\n",
              "      <td>NaN</td>\n",
              "      <td>Automated model selection (e.g. auto-sklearn, ...</td>\n",
              "      <td>NaN</td>\n",
              "      <td>NaN</td>\n",
              "      <td>NaN</td>\n",
              "      <td>NaN</td>\n",
              "      <td>NaN</td>\n",
              "      <td>NaN</td>\n",
              "      <td>NaN</td>\n",
              "      <td>NaN</td>\n",
              "      <td>DataRobot AutoML</td>\n",
              "      <td>NaN</td>\n",
              "      <td>NaN</td>\n",
              "      <td>NaN</td>\n",
              "      <td>NaN</td>\n",
              "      <td>NaN</td>\n",
              "      <td>NaN</td>\n",
              "      <td>NaN</td>\n",
              "      <td>NaN</td>\n",
              "      <td>TensorBoard</td>\n",
              "      <td>NaN</td>\n",
              "      <td>NaN</td>\n",
              "      <td>NaN</td>\n",
              "      <td>NaN</td>\n",
              "      <td>NaN</td>\n",
              "      <td>NaN</td>\n",
              "      <td>NaN</td>\n",
              "    </tr>\n",
              "    <tr>\n",
              "      <th>4</th>\n",
              "      <td>575</td>\n",
              "      <td>45-49</td>\n",
              "      <td>Man</td>\n",
              "      <td>Mexico</td>\n",
              "      <td>Doctoral degree</td>\n",
              "      <td>Research Scientist</td>\n",
              "      <td>20+ years</td>\n",
              "      <td>Python</td>\n",
              "      <td>NaN</td>\n",
              "      <td>NaN</td>\n",
              "      <td>NaN</td>\n",
              "      <td>NaN</td>\n",
              "      <td>NaN</td>\n",
              "      <td>NaN</td>\n",
              "      <td>NaN</td>\n",
              "      <td>NaN</td>\n",
              "      <td>NaN</td>\n",
              "      <td>NaN</td>\n",
              "      <td>NaN</td>\n",
              "      <td>NaN</td>\n",
              "      <td>Python</td>\n",
              "      <td>NaN</td>\n",
              "      <td>NaN</td>\n",
              "      <td>NaN</td>\n",
              "      <td>NaN</td>\n",
              "      <td>NaN</td>\n",
              "      <td>Spyder</td>\n",
              "      <td>NaN</td>\n",
              "      <td>NaN</td>\n",
              "      <td>NaN</td>\n",
              "      <td>NaN</td>\n",
              "      <td>Jupyter Notebook</td>\n",
              "      <td>NaN</td>\n",
              "      <td>NaN</td>\n",
              "      <td>NaN</td>\n",
              "      <td>Colab Notebooks</td>\n",
              "      <td>NaN</td>\n",
              "      <td>NaN</td>\n",
              "      <td>NaN</td>\n",
              "      <td>NaN</td>\n",
              "      <td>NaN</td>\n",
              "      <td>NaN</td>\n",
              "      <td>NaN</td>\n",
              "      <td>NaN</td>\n",
              "      <td>NaN</td>\n",
              "      <td>NaN</td>\n",
              "      <td>NaN</td>\n",
              "      <td>NaN</td>\n",
              "      <td>NaN</td>\n",
              "      <td>NaN</td>\n",
              "      <td>...</td>\n",
              "      <td>NaN</td>\n",
              "      <td>NaN</td>\n",
              "      <td>NaN</td>\n",
              "      <td>None</td>\n",
              "      <td>NaN</td>\n",
              "      <td>NaN</td>\n",
              "      <td>NaN</td>\n",
              "      <td>NaN</td>\n",
              "      <td>NaN</td>\n",
              "      <td>NaN</td>\n",
              "      <td>NaN</td>\n",
              "      <td>NaN</td>\n",
              "      <td>NaN</td>\n",
              "      <td>NaN</td>\n",
              "      <td>NaN</td>\n",
              "      <td>NaN</td>\n",
              "      <td>NaN</td>\n",
              "      <td>NaN</td>\n",
              "      <td>NaN</td>\n",
              "      <td>NaN</td>\n",
              "      <td>None</td>\n",
              "      <td>NaN</td>\n",
              "      <td>NaN</td>\n",
              "      <td>NaN</td>\n",
              "      <td>NaN</td>\n",
              "      <td>NaN</td>\n",
              "      <td>NaN</td>\n",
              "      <td>NaN</td>\n",
              "      <td>None</td>\n",
              "      <td>NaN</td>\n",
              "      <td>NaN</td>\n",
              "      <td>NaN</td>\n",
              "      <td>NaN</td>\n",
              "      <td>NaN</td>\n",
              "      <td>NaN</td>\n",
              "      <td>NaN</td>\n",
              "      <td>NaN</td>\n",
              "      <td>NaN</td>\n",
              "      <td>NaN</td>\n",
              "      <td>NaN</td>\n",
              "      <td>NaN</td>\n",
              "      <td>NaN</td>\n",
              "      <td>NaN</td>\n",
              "      <td>NaN</td>\n",
              "      <td>NaN</td>\n",
              "      <td>NaN</td>\n",
              "      <td>NaN</td>\n",
              "      <td>NaN</td>\n",
              "      <td>None</td>\n",
              "      <td>NaN</td>\n",
              "    </tr>\n",
              "    <tr>\n",
              "      <th>5</th>\n",
              "      <td>781</td>\n",
              "      <td>45-49</td>\n",
              "      <td>Man</td>\n",
              "      <td>India</td>\n",
              "      <td>Doctoral degree</td>\n",
              "      <td>Other</td>\n",
              "      <td>&lt; 1 years</td>\n",
              "      <td>Python</td>\n",
              "      <td>NaN</td>\n",
              "      <td>NaN</td>\n",
              "      <td>C</td>\n",
              "      <td>NaN</td>\n",
              "      <td>NaN</td>\n",
              "      <td>NaN</td>\n",
              "      <td>NaN</td>\n",
              "      <td>NaN</td>\n",
              "      <td>NaN</td>\n",
              "      <td>MATLAB</td>\n",
              "      <td>NaN</td>\n",
              "      <td>NaN</td>\n",
              "      <td>Python</td>\n",
              "      <td>NaN</td>\n",
              "      <td>NaN</td>\n",
              "      <td>NaN</td>\n",
              "      <td>NaN</td>\n",
              "      <td>NaN</td>\n",
              "      <td>Spyder</td>\n",
              "      <td>NaN</td>\n",
              "      <td>NaN</td>\n",
              "      <td>NaN</td>\n",
              "      <td>MATLAB</td>\n",
              "      <td>Jupyter Notebook</td>\n",
              "      <td>NaN</td>\n",
              "      <td>NaN</td>\n",
              "      <td>NaN</td>\n",
              "      <td>NaN</td>\n",
              "      <td>NaN</td>\n",
              "      <td>NaN</td>\n",
              "      <td>NaN</td>\n",
              "      <td>NaN</td>\n",
              "      <td>NaN</td>\n",
              "      <td>NaN</td>\n",
              "      <td>NaN</td>\n",
              "      <td>NaN</td>\n",
              "      <td>Google Cloud Datalab</td>\n",
              "      <td>NaN</td>\n",
              "      <td>NaN</td>\n",
              "      <td>NaN</td>\n",
              "      <td>NaN</td>\n",
              "      <td>NaN</td>\n",
              "      <td>...</td>\n",
              "      <td>NaN</td>\n",
              "      <td>NaN</td>\n",
              "      <td>NaN</td>\n",
              "      <td>NaN</td>\n",
              "      <td>NaN</td>\n",
              "      <td>NaN</td>\n",
              "      <td>NaN</td>\n",
              "      <td>NaN</td>\n",
              "      <td>NaN</td>\n",
              "      <td>NaN</td>\n",
              "      <td>NaN</td>\n",
              "      <td>NaN</td>\n",
              "      <td>NaN</td>\n",
              "      <td>NaN</td>\n",
              "      <td>NaN</td>\n",
              "      <td>NaN</td>\n",
              "      <td>NaN</td>\n",
              "      <td>NaN</td>\n",
              "      <td>NaN</td>\n",
              "      <td>NaN</td>\n",
              "      <td>NaN</td>\n",
              "      <td>NaN</td>\n",
              "      <td>NaN</td>\n",
              "      <td>NaN</td>\n",
              "      <td>NaN</td>\n",
              "      <td>NaN</td>\n",
              "      <td>NaN</td>\n",
              "      <td>NaN</td>\n",
              "      <td>NaN</td>\n",
              "      <td>NaN</td>\n",
              "      <td>NaN</td>\n",
              "      <td>NaN</td>\n",
              "      <td>NaN</td>\n",
              "      <td>NaN</td>\n",
              "      <td>NaN</td>\n",
              "      <td>NaN</td>\n",
              "      <td>NaN</td>\n",
              "      <td>NaN</td>\n",
              "      <td>NaN</td>\n",
              "      <td>NaN</td>\n",
              "      <td>NaN</td>\n",
              "      <td>NaN</td>\n",
              "      <td>NaN</td>\n",
              "      <td>NaN</td>\n",
              "      <td>NaN</td>\n",
              "      <td>NaN</td>\n",
              "      <td>NaN</td>\n",
              "      <td>NaN</td>\n",
              "      <td>NaN</td>\n",
              "      <td>NaN</td>\n",
              "    </tr>\n",
              "  </tbody>\n",
              "</table>\n",
              "<p>5 rows × 369 columns</p>\n",
              "</div>"
            ],
            "text/plain": [
              "  Time from Start to Finish (seconds)     Q1   Q2         Q3  \\\n",
              "1                                 910  50-54  Man      India   \n",
              "2                                 784  50-54  Man  Indonesia   \n",
              "3                                 924  22-24  Man   Pakistan   \n",
              "4                                 575  45-49  Man     Mexico   \n",
              "5                                 781  45-49  Man      India   \n",
              "\n",
              "                  Q4                       Q5          Q6 Q7_Part_1 Q7_Part_2  \\\n",
              "1  Bachelor’s degree                    Other  5-10 years    Python         R   \n",
              "2    Master’s degree  Program/Project Manager   20+ years       NaN       NaN   \n",
              "3    Master’s degree        Software Engineer   1-3 years    Python       NaN   \n",
              "4    Doctoral degree       Research Scientist   20+ years    Python       NaN   \n",
              "5    Doctoral degree                    Other   < 1 years    Python       NaN   \n",
              "\n",
              "  Q7_Part_3 Q7_Part_4 Q7_Part_5 Q7_Part_6 Q7_Part_7 Q7_Part_8 Q7_Part_9  \\\n",
              "1       NaN       NaN       NaN       NaN       NaN       NaN       NaN   \n",
              "2       SQL         C       C++      Java       NaN       NaN       NaN   \n",
              "3       NaN       NaN       C++      Java       NaN       NaN       NaN   \n",
              "4       NaN       NaN       NaN       NaN       NaN       NaN       NaN   \n",
              "5       NaN         C       NaN       NaN       NaN       NaN       NaN   \n",
              "\n",
              "  Q7_Part_10 Q7_Part_11 Q7_Part_12 Q7_OTHER      Q8 Q9_Part_1 Q9_Part_2  \\\n",
              "1        NaN        NaN        NaN      NaN  Python       NaN       NaN   \n",
              "2        NaN        NaN        NaN      NaN  Python       NaN       NaN   \n",
              "3        NaN        NaN        NaN      NaN  Python       NaN       NaN   \n",
              "4        NaN        NaN        NaN      NaN  Python       NaN       NaN   \n",
              "5        NaN     MATLAB        NaN      NaN  Python       NaN       NaN   \n",
              "\n",
              "  Q9_Part_3 Q9_Part_4  Q9_Part_5   Q9_Part_6      Q9_Part_7 Q9_Part_8  \\\n",
              "1       NaN       NaN        NaN         NaN            NaN       NaN   \n",
              "2       NaN       NaN        NaN         NaN    Notepad++         NaN   \n",
              "3       NaN       NaN   PyCharm          NaN            NaN       NaN   \n",
              "4       NaN       NaN        NaN    Spyder              NaN       NaN   \n",
              "5       NaN       NaN        NaN    Spyder              NaN       NaN   \n",
              "\n",
              "         Q9_Part_9 Q9_Part_10         Q9_Part_11 Q9_Part_12 Q9_OTHER  \\\n",
              "1    Vim / Emacs          NaN                NaN        NaN      NaN   \n",
              "2              NaN        NaN   Jupyter Notebook        NaN      NaN   \n",
              "3              NaN        NaN   Jupyter Notebook        NaN    Other   \n",
              "4              NaN        NaN   Jupyter Notebook        NaN      NaN   \n",
              "5              NaN    MATLAB    Jupyter Notebook        NaN      NaN   \n",
              "\n",
              "          Q10_Part_1       Q10_Part_2 Q10_Part_3 Q10_Part_4 Q10_Part_5  \\\n",
              "1                NaN  Colab Notebooks        NaN        NaN        NaN   \n",
              "2   Kaggle Notebooks  Colab Notebooks        NaN        NaN        NaN   \n",
              "3   Kaggle Notebooks              NaN        NaN        NaN        NaN   \n",
              "4                NaN  Colab Notebooks        NaN        NaN        NaN   \n",
              "5                NaN              NaN        NaN        NaN        NaN   \n",
              "\n",
              "  Q10_Part_6 Q10_Part_7 Q10_Part_8 Q10_Part_9 Q10_Part_10  \\\n",
              "1        NaN        NaN        NaN        NaN         NaN   \n",
              "2        NaN        NaN        NaN        NaN         NaN   \n",
              "3        NaN        NaN        NaN        NaN         NaN   \n",
              "4        NaN        NaN        NaN        NaN         NaN   \n",
              "5        NaN        NaN        NaN        NaN         NaN   \n",
              "\n",
              "            Q10_Part_11 Q10_Part_12 Q10_Part_13 Q10_Part_14 Q10_Part_15  \\\n",
              "1                   NaN         NaN         NaN         NaN         NaN   \n",
              "2                   NaN         NaN         NaN         NaN         NaN   \n",
              "3                   NaN         NaN         NaN         NaN         NaN   \n",
              "4                   NaN         NaN         NaN         NaN         NaN   \n",
              "5  Google Cloud Datalab         NaN         NaN         NaN         NaN   \n",
              "\n",
              "  Q10_Part_16  ... Q32_B_Part_17 Q32_B_Part_18 Q32_B_Part_19 Q32_B_Part_20  \\\n",
              "1         NaN  ...           NaN           NaN           NaN           NaN   \n",
              "2         NaN  ...           NaN           NaN           NaN           NaN   \n",
              "3         NaN  ...           NaN           NaN           NaN           NaN   \n",
              "4         NaN  ...           NaN           NaN           NaN          None   \n",
              "5         NaN  ...           NaN           NaN           NaN           NaN   \n",
              "\n",
              "  Q32_B_OTHER        Q34_B_Part_1 Q34_B_Part_2        Q34_B_Part_3  \\\n",
              "1         NaN                 NaN          NaN                 NaN   \n",
              "2         NaN                 NaN          NaN  Google Data Studio   \n",
              "3         NaN  Microsoft Power BI          NaN                 NaN   \n",
              "4         NaN                 NaN          NaN                 NaN   \n",
              "5         NaN                 NaN          NaN                 NaN   \n",
              "\n",
              "  Q34_B_Part_4 Q34_B_Part_5 Q34_B_Part_6 Q34_B_Part_7 Q34_B_Part_8  \\\n",
              "1          NaN          NaN          NaN          NaN          NaN   \n",
              "2          NaN          NaN          NaN          NaN         Qlik   \n",
              "3          NaN      Tableau          NaN          NaN          NaN   \n",
              "4          NaN          NaN          NaN          NaN          NaN   \n",
              "5          NaN          NaN          NaN          NaN          NaN   \n",
              "\n",
              "  Q34_B_Part_9 Q34_B_Part_10 Q34_B_Part_11 Q34_B_Part_12 Q34_B_Part_13  \\\n",
              "1          NaN           NaN           NaN           NaN           NaN   \n",
              "2          NaN           NaN           NaN           NaN           NaN   \n",
              "3          NaN           NaN           NaN           NaN           NaN   \n",
              "4          NaN           NaN           NaN           NaN           NaN   \n",
              "5          NaN           NaN           NaN           NaN           NaN   \n",
              "\n",
              "  Q34_B_Part_14 Q34_B_Part_15 Q34_B_Part_16 Q34_B_OTHER Q36_B_Part_1  \\\n",
              "1           NaN           NaN           NaN         NaN          NaN   \n",
              "2           NaN           NaN           NaN         NaN          NaN   \n",
              "3           NaN           NaN           NaN         NaN          NaN   \n",
              "4           NaN           NaN          None         NaN          NaN   \n",
              "5           NaN           NaN           NaN         NaN          NaN   \n",
              "\n",
              "  Q36_B_Part_2                                       Q36_B_Part_3  \\\n",
              "1          NaN                                                NaN   \n",
              "2          NaN  Automated model selection (e.g. auto-sklearn, ...   \n",
              "3          NaN  Automated model selection (e.g. auto-sklearn, ...   \n",
              "4          NaN                                                NaN   \n",
              "5          NaN                                                NaN   \n",
              "\n",
              "  Q36_B_Part_4 Q36_B_Part_5 Q36_B_Part_6 Q36_B_Part_7 Q36_B_OTHER  \\\n",
              "1          NaN          NaN          NaN          NaN         NaN   \n",
              "2          NaN          NaN          NaN          NaN         NaN   \n",
              "3          NaN          NaN          NaN          NaN         NaN   \n",
              "4          NaN          NaN          NaN         None         NaN   \n",
              "5          NaN          NaN          NaN          NaN         NaN   \n",
              "\n",
              "            Q37_B_Part_1 Q37_B_Part_2 Q37_B_Part_3        Q37_B_Part_4  \\\n",
              "1                    NaN          NaN          NaN                 NaN   \n",
              "2   Google Cloud AutoML           NaN          NaN                 NaN   \n",
              "3                    NaN          NaN          NaN   DataRobot AutoML    \n",
              "4                    NaN          NaN          NaN                 NaN   \n",
              "5                    NaN          NaN          NaN                 NaN   \n",
              "\n",
              "  Q37_B_Part_5 Q37_B_Part_6 Q37_B_Part_7 Q37_B_OTHER Q38_B_Part_1  \\\n",
              "1          NaN          NaN          NaN         NaN          NaN   \n",
              "2          NaN          NaN          NaN         NaN          NaN   \n",
              "3          NaN          NaN          NaN         NaN          NaN   \n",
              "4          NaN          NaN          NaN         NaN          NaN   \n",
              "5          NaN          NaN          NaN         NaN          NaN   \n",
              "\n",
              "  Q38_B_Part_2 Q38_B_Part_3 Q38_B_Part_4   Q38_B_Part_5 Q38_B_Part_6  \\\n",
              "1          NaN          NaN          NaN            NaN          NaN   \n",
              "2          NaN          NaN          NaN            NaN          NaN   \n",
              "3          NaN          NaN          NaN   TensorBoard           NaN   \n",
              "4          NaN          NaN          NaN            NaN          NaN   \n",
              "5          NaN          NaN          NaN            NaN          NaN   \n",
              "\n",
              "  Q38_B_Part_7 Q38_B_Part_8 Q38_B_Part_9 Q38_B_Part_10 Q38_B_Part_11  \\\n",
              "1          NaN          NaN          NaN           NaN           NaN   \n",
              "2          NaN          NaN          NaN           NaN          None   \n",
              "3          NaN          NaN          NaN           NaN           NaN   \n",
              "4          NaN          NaN          NaN           NaN          None   \n",
              "5          NaN          NaN          NaN           NaN           NaN   \n",
              "\n",
              "  Q38_B_OTHER  \n",
              "1         NaN  \n",
              "2         NaN  \n",
              "3         NaN  \n",
              "4         NaN  \n",
              "5         NaN  \n",
              "\n",
              "[5 rows x 369 columns]"
            ]
          },
          "metadata": {},
          "execution_count": 8
        }
      ]
    },
    {
      "cell_type": "code",
      "metadata": {
        "colab": {
          "base_uri": "https://localhost:8080/"
        },
        "id": "0_Bbh5kYV30N",
        "outputId": "cb20ed42-8df3-4d53-915a-c4cc2f7f74b5"
      },
      "source": [
        "answer.info()"
      ],
      "execution_count": 9,
      "outputs": [
        {
          "output_type": "stream",
          "name": "stdout",
          "text": [
            "<class 'pandas.core.frame.DataFrame'>\n",
            "Int64Index: 25973 entries, 1 to 25973\n",
            "Columns: 369 entries, Time from Start to Finish (seconds) to Q38_B_OTHER\n",
            "dtypes: object(369)\n",
            "memory usage: 73.3+ MB\n"
          ]
        }
      ]
    },
    {
      "cell_type": "code",
      "metadata": {
        "id": "cZmFRxPubWwG"
      },
      "source": [
        "\"\"\"\n",
        "qno : question_no, ex) Q12\n",
        "fsize : figsize default (10, 6)\n",
        "order : optional order list, default value_counts().index\n",
        "\"\"\"\n",
        "\n",
        "## plot for quesitons\n",
        "def show_countplot_by_qno(qno, fsize=(10, 6), order=None):\n",
        "  if not order :\n",
        "    order = answer[qno].value_counts().index\n",
        "      \n",
        "  plt.figure(figsize=fsize)\n",
        "  sns.countplot(data=answer, \n",
        "                y=qno,\n",
        "                order=order,\n",
        "                palette=\"Blues_r\"\n",
        "              ).set_title(question[qno])\n",
        "\n",
        "\n",
        "## plot for select all questions\n",
        "def get_question_title_by_qno(qno):\n",
        "  if qno in question.index:\n",
        "      return question[qno]\n",
        "  else:\n",
        "      q_no = question.filter(regex=qno)[0].split(\"-\")[0]\n",
        "      return q_no\n",
        "\n",
        "def get_multiple_choice_answer_by_qno(qno):\n",
        "  df_answer = answer.filter(regex=qno)\n",
        "  answer_desc = df_answer.describe()\n",
        "  answer_count = answer_desc.loc[[\"top\", \"count\"]].T.set_index(\"top\")\n",
        "  answer_count = answer_count.sort_values(by=\"count\", ascending=False)\n",
        "  return answer_count\n",
        "  \n",
        "\n",
        "def show_multiple_choice_bar_plot_by_qno(qno):\n",
        "  multiple_choice_answer = get_multiple_choice_answer_by_qno(qno)\n",
        "    \n",
        "  plt.figure(figsize=(10, 6))\n",
        "  sns.barplot(data=multiple_choice_answer,\n",
        "              y=multiple_choice_answer.index, \n",
        "              x=\"count\", \n",
        "              palette=\"Blues_r\").set_title(get_question_title_by_qno(qno))\n"
      ],
      "execution_count": 10,
      "outputs": []
    },
    {
      "cell_type": "markdown",
      "metadata": {
        "id": "JpjHg13zWUGr"
      },
      "source": [
        "## Q1) What is your age (# years)?"
      ]
    },
    {
      "cell_type": "code",
      "metadata": {
        "colab": {
          "base_uri": "https://localhost:8080/",
          "height": 35
        },
        "id": "t8tuMatlWIiz",
        "outputId": "8ca5ca5d-128c-464d-a349-ede1c6afa9d7"
      },
      "source": [
        "question[\"Q1\"]"
      ],
      "execution_count": 11,
      "outputs": [
        {
          "output_type": "execute_result",
          "data": {
            "application/vnd.google.colaboratory.intrinsic+json": {
              "type": "string"
            },
            "text/plain": [
              "'What is your age (# years)?'"
            ]
          },
          "metadata": {},
          "execution_count": 11
        }
      ]
    },
    {
      "cell_type": "code",
      "metadata": {
        "colab": {
          "base_uri": "https://localhost:8080/"
        },
        "id": "nTv_r1wvhH8n",
        "outputId": "6ea16168-8325-44d9-c4cf-08c219606e55"
      },
      "source": [
        "answer['Q1'].value_counts().sort_index()"
      ],
      "execution_count": 12,
      "outputs": [
        {
          "output_type": "execute_result",
          "data": {
            "text/plain": [
              "18-21    4901\n",
              "22-24    4694\n",
              "25-29    4931\n",
              "30-34    3441\n",
              "35-39    2504\n",
              "40-44    1890\n",
              "45-49    1375\n",
              "50-54     964\n",
              "55-59     592\n",
              "60-69     553\n",
              "70+       128\n",
              "Name: Q1, dtype: int64"
            ]
          },
          "metadata": {},
          "execution_count": 12
        }
      ]
    },
    {
      "cell_type": "code",
      "metadata": {
        "id": "C6VLXktLgsiI"
      },
      "source": [
        "q1_cols = ['18-21', '22-24', '25-29', '30-34', '35-39', '40-44', '45-49', '50-54',\n",
        "       '55-59', '60-69', '70+']"
      ],
      "execution_count": 13,
      "outputs": []
    },
    {
      "cell_type": "code",
      "metadata": {
        "colab": {
          "base_uri": "https://localhost:8080/",
          "height": 404
        },
        "id": "KGBdPcnqg2GG",
        "outputId": "db0896aa-69f9-49cb-c956-8d69e3890e3e"
      },
      "source": [
        "show_countplot_by_qno('Q1', order = q1_cols)"
      ],
      "execution_count": 14,
      "outputs": [
        {
          "output_type": "display_data",
          "data": {
            "image/png": "[encoded data removed]",
            "text/plain": [
              "<Figure size 720x432 with 1 Axes>"
            ]
          },
          "metadata": {
            "needs_background": "light"
          }
        }
      ]
    },
    {
      "cell_type": "markdown",
      "metadata": {
        "id": "BsXQm2graITK"
      },
      "source": [
        "## Q2)What is your gender? - Selected Choice"
      ]
    },
    {
      "cell_type": "code",
      "metadata": {
        "colab": {
          "base_uri": "https://localhost:8080/"
        },
        "id": "voldohTpZBXg",
        "outputId": "f6b0d6b2-4a11-48f8-abda-a2ee825c42d9"
      },
      "source": [
        "question_no = \"Q2\"\n",
        "Q2 = answer[question_no].value_counts()\n",
        "Q2"
      ],
      "execution_count": 15,
      "outputs": [
        {
          "output_type": "execute_result",
          "data": {
            "text/plain": [
              "Man                        20598\n",
              "Woman                       4890\n",
              "Prefer not to say            355\n",
              "Nonbinary                     88\n",
              "Prefer to self-describe       42\n",
              "Name: Q2, dtype: int64"
            ]
          },
          "metadata": {},
          "execution_count": 15
        }
      ]
    },
    {
      "cell_type": "code",
      "metadata": {
        "colab": {
          "base_uri": "https://localhost:8080/",
          "height": 404
        },
        "id": "pDTnX2WahN1z",
        "outputId": "5403493f-8664-4088-851d-6913abbce690"
      },
      "source": [
        "show_countplot_by_qno('Q2')"
      ],
      "execution_count": 16,
      "outputs": [
        {
          "output_type": "display_data",
          "data": {
            "image/png": "[encoded data removed]",
            "text/plain": [
              "<Figure size 720x432 with 1 Axes>"
            ]
          },
          "metadata": {
            "needs_background": "light"
          }
        }
      ]
    },
    {
      "cell_type": "markdown",
      "metadata": {
        "id": "Iw5R4OgDahc9"
      },
      "source": [
        "#### Age & Gender"
      ]
    },
    {
      "cell_type": "code",
      "metadata": {
        "colab": {
          "base_uri": "https://localhost:8080/",
          "height": 313
        },
        "id": "gid0FKntaSdC",
        "outputId": "35e271f6-0e68-47a1-8ca8-abebb204efd3"
      },
      "source": [
        "q1q2 = pd.crosstab(answer[\"Q1\"], answer[\"Q2\"])\n",
        "q1q2[[\"Man\", \"Woman\"]].plot.bar(rot=0).set_title(\"Age & Gender\")"
      ],
      "execution_count": 17,
      "outputs": [
        {
          "output_type": "execute_result",
          "data": {
            "text/plain": [
              "Text(0.5, 1.0, 'Age & Gender')"
            ]
          },
          "metadata": {},
          "execution_count": 17
        },
        {
          "output_type": "display_data",
          "data": {
            "image/png": "[encoded data removed]",
            "text/plain": [
              "<Figure size 432x288 with 1 Axes>"
            ]
          },
          "metadata": {
            "needs_background": "light"
          }
        }
      ]
    },
    {
      "cell_type": "code",
      "metadata": {
        "colab": {
          "base_uri": "https://localhost:8080/",
          "height": 408
        },
        "id": "BTp9g_hqafrX",
        "outputId": "d46847f1-3df5-4a5e-e72d-a6f2e592b290"
      },
      "source": [
        "q1q2[[\"Man\", \"Woman\"]].sort_index(ascending=False).plot.barh(figsize=(10, 6), title=\"Age & Gender\")"
      ],
      "execution_count": 18,
      "outputs": [
        {
          "output_type": "execute_result",
          "data": {
            "text/plain": [
              "<matplotlib.axes._subplots.AxesSubplot at 0x7f9f99dc9090>"
            ]
          },
          "metadata": {},
          "execution_count": 18
        },
        {
          "output_type": "display_data",
          "data": {
            "image/png": "[encoded data removed]",
            "text/plain": [
              "<Figure size 720x432 with 1 Axes>"
            ]
          },
          "metadata": {
            "needs_background": "light"
          }
        }
      ]
    },
    {
      "cell_type": "code",
      "metadata": {
        "colab": {
          "base_uri": "https://localhost:8080/",
          "height": 422
        },
        "id": "OQqbNTcmaoVx",
        "outputId": "d7fa45b8-ba1d-45d0-e291-c7a4b10cecaa"
      },
      "source": [
        "plt.figure(figsize=(10, 6))\n",
        "sns.countplot(data=answer.sort_values(\"Q1\"), x=\"Q1\", hue=\"Q2\").set_title(\"Age & Gender\")"
      ],
      "execution_count": 19,
      "outputs": [
        {
          "output_type": "execute_result",
          "data": {
            "text/plain": [
              "Text(0.5, 1.0, 'Age & Gender')"
            ]
          },
          "metadata": {},
          "execution_count": 19
        },
        {
          "output_type": "display_data",
          "data": {
            "image/png": "[encoded data removed]",
            "text/plain": [
              "<Figure size 720x432 with 1 Axes>"
            ]
          },
          "metadata": {
            "needs_background": "light"
          }
        }
      ]
    },
    {
      "cell_type": "markdown",
      "metadata": {
        "id": "LeTx4JkjbDsR"
      },
      "source": [
        "## Q3) In which country do you currently reside?"
      ]
    },
    {
      "cell_type": "code",
      "metadata": {
        "colab": {
          "base_uri": "https://localhost:8080/",
          "height": 729
        },
        "id": "DR7z6IyIa8w3",
        "outputId": "e80762f5-575b-4094-b75f-013671803417"
      },
      "source": [
        "show_countplot_by_qno(\"Q3\", fsize=(12, 12))"
      ],
      "execution_count": 20,
      "outputs": [
        {
          "output_type": "display_data",
          "data": {
            "image/png": "[encoded data removed]",
            "text/plain": [
              "<Figure size 864x864 with 1 Axes>"
            ]
          },
          "metadata": {
            "needs_background": "light"
          }
        }
      ]
    },
    {
      "cell_type": "markdown",
      "metadata": {
        "id": "Bk4I-TveeY9d"
      },
      "source": [
        "## Q4) What is the highest level of formal education that you have attained or plan to attain within the next 2 years?"
      ]
    },
    {
      "cell_type": "code",
      "metadata": {
        "colab": {
          "base_uri": "https://localhost:8080/",
          "height": 404
        },
        "id": "GyhQFrn3eW0h",
        "outputId": "4a83f52c-13b5-400e-fc30-301c7a72516c"
      },
      "source": [
        "show_countplot_by_qno(\"Q4\")"
      ],
      "execution_count": 21,
      "outputs": [
        {
          "output_type": "display_data",
          "data": {
            "image/png": "[encoded data removed]",
            "text/plain": [
              "<Figure size 720x432 with 1 Axes>"
            ]
          },
          "metadata": {
            "needs_background": "light"
          }
        }
      ]
    },
    {
      "cell_type": "markdown",
      "metadata": {
        "id": "izR3lRNDeufY"
      },
      "source": [
        "## Q5) Select the title most similar to your current role (or most recent title if retired)"
      ]
    },
    {
      "cell_type": "code",
      "metadata": {
        "colab": {
          "base_uri": "https://localhost:8080/",
          "height": 404
        },
        "id": "oq4uIdZAetMb",
        "outputId": "dee4fb1a-0dd8-45c1-813b-3c971954c757"
      },
      "source": [
        "show_countplot_by_qno(\"Q5\")"
      ],
      "execution_count": 22,
      "outputs": [
        {
          "output_type": "display_data",
          "data": {
            "image/png": "[encoded data removed]",
            "text/plain": [
              "<Figure size 720x432 with 1 Axes>"
            ]
          },
          "metadata": {
            "needs_background": "light"
          }
        }
      ]
    },
    {
      "cell_type": "markdown",
      "metadata": {
        "id": "0sKHE0njf7_T"
      },
      "source": [
        "## Q6) For how many years have you been writing code and/or programming"
      ]
    },
    {
      "cell_type": "code",
      "metadata": {
        "colab": {
          "base_uri": "https://localhost:8080/",
          "height": 404
        },
        "id": "zGj-Pbysf-NZ",
        "outputId": "3d619a60-1ebe-460e-8677-03edd39184f3"
      },
      "source": [
        "q6_cols = ['I have never written code', '< 1 years', '1-2 years', '3-5 years', '5-10 years',  \n",
        "       '10-20 years', '20+ years']\n",
        "\n",
        "show_countplot_by_qno(\"Q6\", order = q6_cols)  ## no data?"
      ],
      "execution_count": 23,
      "outputs": [
        {
          "output_type": "display_data",
          "data": {
            "image/png": "[encoded data removed]",
            "text/plain": [
              "<Figure size 720x432 with 1 Axes>"
            ]
          },
          "metadata": {
            "needs_background": "light"
          }
        }
      ]
    },
    {
      "cell_type": "code",
      "metadata": {
        "colab": {
          "base_uri": "https://localhost:8080/"
        },
        "id": "aLqR4asMgG3w",
        "outputId": "762ecaa6-64d3-49c6-b9b2-c80ae332c2fb"
      },
      "source": [
        "answer['Q6'].value_counts()"
      ],
      "execution_count": 24,
      "outputs": [
        {
          "output_type": "execute_result",
          "data": {
            "text/plain": [
              "1-3 years                    7874\n",
              "< 1 years                    5881\n",
              "3-5 years                    4061\n",
              "5-10 years                   3099\n",
              "10-20 years                  2166\n",
              "20+ years                    1860\n",
              "I have never written code    1032\n",
              "Name: Q6, dtype: int64"
            ]
          },
          "metadata": {},
          "execution_count": 24
        }
      ]
    },
    {
      "cell_type": "markdown",
      "metadata": {
        "id": "PXOSLNd0jUYI"
      },
      "source": [
        "## Q7) What programming languages do you use on a regular basis? (Select all that apply)"
      ]
    },
    {
      "cell_type": "code",
      "metadata": {
        "colab": {
          "base_uri": "https://localhost:8080/",
          "height": 35
        },
        "id": "arnzNgCfi7my",
        "outputId": "e88e1a3d-9495-4929-af43-82980aea747f"
      },
      "source": [
        "question.filter(regex=\"Q7\")[0].split(\"-\")[0]"
      ],
      "execution_count": 25,
      "outputs": [
        {
          "output_type": "execute_result",
          "data": {
            "application/vnd.google.colaboratory.intrinsic+json": {
              "type": "string"
            },
            "text/plain": [
              "'What programming languages do you use on a regular basis? (Select all that apply) '"
            ]
          },
          "metadata": {},
          "execution_count": 25
        }
      ]
    },
    {
      "cell_type": "code",
      "metadata": {
        "colab": {
          "base_uri": "https://localhost:8080/",
          "height": 204
        },
        "id": "Arx7hN9sjcQh",
        "outputId": "bdd9cac7-5b1d-4f29-a1a2-c88267e072d7"
      },
      "source": [
        "answer_Q7 = answer.filter(regex=\"Q7\")\n",
        "answer_Q7.head()"
      ],
      "execution_count": 26,
      "outputs": [
        {
          "output_type": "execute_result",
          "data": {
            "text/html": [
              "<div>\n",
              "<style scoped>\n",
              "    .dataframe tbody tr th:only-of-type {\n",
              "        vertical-align: middle;\n",
              "    }\n",
              "\n",
              "    .dataframe tbody tr th {\n",
              "        vertical-align: top;\n",
              "    }\n",
              "\n",
              "    .dataframe thead th {\n",
              "        text-align: right;\n",
              "    }\n",
              "</style>\n",
              "<table border=\"1\" class=\"dataframe\">\n",
              "  <thead>\n",
              "    <tr style=\"text-align: right;\">\n",
              "      <th></th>\n",
              "      <th>Q7_Part_1</th>\n",
              "      <th>Q7_Part_2</th>\n",
              "      <th>Q7_Part_3</th>\n",
              "      <th>Q7_Part_4</th>\n",
              "      <th>Q7_Part_5</th>\n",
              "      <th>Q7_Part_6</th>\n",
              "      <th>Q7_Part_7</th>\n",
              "      <th>Q7_Part_8</th>\n",
              "      <th>Q7_Part_9</th>\n",
              "      <th>Q7_Part_10</th>\n",
              "      <th>Q7_Part_11</th>\n",
              "      <th>Q7_Part_12</th>\n",
              "      <th>Q7_OTHER</th>\n",
              "    </tr>\n",
              "  </thead>\n",
              "  <tbody>\n",
              "    <tr>\n",
              "      <th>1</th>\n",
              "      <td>Python</td>\n",
              "      <td>R</td>\n",
              "      <td>NaN</td>\n",
              "      <td>NaN</td>\n",
              "      <td>NaN</td>\n",
              "      <td>NaN</td>\n",
              "      <td>NaN</td>\n",
              "      <td>NaN</td>\n",
              "      <td>NaN</td>\n",
              "      <td>NaN</td>\n",
              "      <td>NaN</td>\n",
              "      <td>NaN</td>\n",
              "      <td>NaN</td>\n",
              "    </tr>\n",
              "    <tr>\n",
              "      <th>2</th>\n",
              "      <td>NaN</td>\n",
              "      <td>NaN</td>\n",
              "      <td>SQL</td>\n",
              "      <td>C</td>\n",
              "      <td>C++</td>\n",
              "      <td>Java</td>\n",
              "      <td>NaN</td>\n",
              "      <td>NaN</td>\n",
              "      <td>NaN</td>\n",
              "      <td>NaN</td>\n",
              "      <td>NaN</td>\n",
              "      <td>NaN</td>\n",
              "      <td>NaN</td>\n",
              "    </tr>\n",
              "    <tr>\n",
              "      <th>3</th>\n",
              "      <td>Python</td>\n",
              "      <td>NaN</td>\n",
              "      <td>NaN</td>\n",
              "      <td>NaN</td>\n",
              "      <td>C++</td>\n",
              "      <td>Java</td>\n",
              "      <td>NaN</td>\n",
              "      <td>NaN</td>\n",
              "      <td>NaN</td>\n",
              "      <td>NaN</td>\n",
              "      <td>NaN</td>\n",
              "      <td>NaN</td>\n",
              "      <td>NaN</td>\n",
              "    </tr>\n",
              "    <tr>\n",
              "      <th>4</th>\n",
              "      <td>Python</td>\n",
              "      <td>NaN</td>\n",
              "      <td>NaN</td>\n",
              "      <td>NaN</td>\n",
              "      <td>NaN</td>\n",
              "      <td>NaN</td>\n",
              "      <td>NaN</td>\n",
              "      <td>NaN</td>\n",
              "      <td>NaN</td>\n",
              "      <td>NaN</td>\n",
              "      <td>NaN</td>\n",
              "      <td>NaN</td>\n",
              "      <td>NaN</td>\n",
              "    </tr>\n",
              "    <tr>\n",
              "      <th>5</th>\n",
              "      <td>Python</td>\n",
              "      <td>NaN</td>\n",
              "      <td>NaN</td>\n",
              "      <td>C</td>\n",
              "      <td>NaN</td>\n",
              "      <td>NaN</td>\n",
              "      <td>NaN</td>\n",
              "      <td>NaN</td>\n",
              "      <td>NaN</td>\n",
              "      <td>NaN</td>\n",
              "      <td>MATLAB</td>\n",
              "      <td>NaN</td>\n",
              "      <td>NaN</td>\n",
              "    </tr>\n",
              "  </tbody>\n",
              "</table>\n",
              "</div>"
            ],
            "text/plain": [
              "  Q7_Part_1 Q7_Part_2 Q7_Part_3 Q7_Part_4 Q7_Part_5 Q7_Part_6 Q7_Part_7  \\\n",
              "1    Python         R       NaN       NaN       NaN       NaN       NaN   \n",
              "2       NaN       NaN       SQL         C       C++      Java       NaN   \n",
              "3    Python       NaN       NaN       NaN       C++      Java       NaN   \n",
              "4    Python       NaN       NaN       NaN       NaN       NaN       NaN   \n",
              "5    Python       NaN       NaN         C       NaN       NaN       NaN   \n",
              "\n",
              "  Q7_Part_8 Q7_Part_9 Q7_Part_10 Q7_Part_11 Q7_Part_12 Q7_OTHER  \n",
              "1       NaN       NaN        NaN        NaN        NaN      NaN  \n",
              "2       NaN       NaN        NaN        NaN        NaN      NaN  \n",
              "3       NaN       NaN        NaN        NaN        NaN      NaN  \n",
              "4       NaN       NaN        NaN        NaN        NaN      NaN  \n",
              "5       NaN       NaN        NaN     MATLAB        NaN      NaN  "
            ]
          },
          "metadata": {},
          "execution_count": 26
        }
      ]
    },
    {
      "cell_type": "markdown",
      "metadata": {
        "id": "dy8dlcJjj5qf"
      },
      "source": [
        "it seems like if you dont check then it returns NaN"
      ]
    },
    {
      "cell_type": "code",
      "metadata": {
        "colab": {
          "base_uri": "https://localhost:8080/",
          "height": 173
        },
        "id": "Aab_4PNUjkcX",
        "outputId": "07da2ef5-1135-4e4b-e59d-750cd1f1aa16"
      },
      "source": [
        "answer_Q7_desc = answer_Q7.describe()\n",
        "answer_Q7_desc"
      ],
      "execution_count": 27,
      "outputs": [
        {
          "output_type": "execute_result",
          "data": {
            "text/html": [
              "<div>\n",
              "<style scoped>\n",
              "    .dataframe tbody tr th:only-of-type {\n",
              "        vertical-align: middle;\n",
              "    }\n",
              "\n",
              "    .dataframe tbody tr th {\n",
              "        vertical-align: top;\n",
              "    }\n",
              "\n",
              "    .dataframe thead th {\n",
              "        text-align: right;\n",
              "    }\n",
              "</style>\n",
              "<table border=\"1\" class=\"dataframe\">\n",
              "  <thead>\n",
              "    <tr style=\"text-align: right;\">\n",
              "      <th></th>\n",
              "      <th>Q7_Part_1</th>\n",
              "      <th>Q7_Part_2</th>\n",
              "      <th>Q7_Part_3</th>\n",
              "      <th>Q7_Part_4</th>\n",
              "      <th>Q7_Part_5</th>\n",
              "      <th>Q7_Part_6</th>\n",
              "      <th>Q7_Part_7</th>\n",
              "      <th>Q7_Part_8</th>\n",
              "      <th>Q7_Part_9</th>\n",
              "      <th>Q7_Part_10</th>\n",
              "      <th>Q7_Part_11</th>\n",
              "      <th>Q7_Part_12</th>\n",
              "      <th>Q7_OTHER</th>\n",
              "    </tr>\n",
              "  </thead>\n",
              "  <tbody>\n",
              "    <tr>\n",
              "      <th>count</th>\n",
              "      <td>21860</td>\n",
              "      <td>5334</td>\n",
              "      <td>10756</td>\n",
              "      <td>4709</td>\n",
              "      <td>5535</td>\n",
              "      <td>4769</td>\n",
              "      <td>4332</td>\n",
              "      <td>305</td>\n",
              "      <td>242</td>\n",
              "      <td>2216</td>\n",
              "      <td>2935</td>\n",
              "      <td>319</td>\n",
              "      <td>2575</td>\n",
              "    </tr>\n",
              "    <tr>\n",
              "      <th>unique</th>\n",
              "      <td>1</td>\n",
              "      <td>1</td>\n",
              "      <td>1</td>\n",
              "      <td>1</td>\n",
              "      <td>1</td>\n",
              "      <td>1</td>\n",
              "      <td>1</td>\n",
              "      <td>1</td>\n",
              "      <td>1</td>\n",
              "      <td>1</td>\n",
              "      <td>1</td>\n",
              "      <td>1</td>\n",
              "      <td>1</td>\n",
              "    </tr>\n",
              "    <tr>\n",
              "      <th>top</th>\n",
              "      <td>Python</td>\n",
              "      <td>R</td>\n",
              "      <td>SQL</td>\n",
              "      <td>C</td>\n",
              "      <td>C++</td>\n",
              "      <td>Java</td>\n",
              "      <td>Javascript</td>\n",
              "      <td>Julia</td>\n",
              "      <td>Swift</td>\n",
              "      <td>Bash</td>\n",
              "      <td>MATLAB</td>\n",
              "      <td>None</td>\n",
              "      <td>Other</td>\n",
              "    </tr>\n",
              "    <tr>\n",
              "      <th>freq</th>\n",
              "      <td>21860</td>\n",
              "      <td>5334</td>\n",
              "      <td>10756</td>\n",
              "      <td>4709</td>\n",
              "      <td>5535</td>\n",
              "      <td>4769</td>\n",
              "      <td>4332</td>\n",
              "      <td>305</td>\n",
              "      <td>242</td>\n",
              "      <td>2216</td>\n",
              "      <td>2935</td>\n",
              "      <td>319</td>\n",
              "      <td>2575</td>\n",
              "    </tr>\n",
              "  </tbody>\n",
              "</table>\n",
              "</div>"
            ],
            "text/plain": [
              "       Q7_Part_1 Q7_Part_2 Q7_Part_3 Q7_Part_4 Q7_Part_5 Q7_Part_6  \\\n",
              "count      21860      5334     10756      4709      5535      4769   \n",
              "unique         1         1         1         1         1         1   \n",
              "top       Python         R       SQL         C       C++      Java   \n",
              "freq       21860      5334     10756      4709      5535      4769   \n",
              "\n",
              "         Q7_Part_7 Q7_Part_8 Q7_Part_9 Q7_Part_10 Q7_Part_11 Q7_Part_12  \\\n",
              "count         4332       305       242       2216       2935        319   \n",
              "unique           1         1         1          1          1          1   \n",
              "top     Javascript     Julia     Swift       Bash     MATLAB       None   \n",
              "freq          4332       305       242       2216       2935        319   \n",
              "\n",
              "       Q7_OTHER  \n",
              "count      2575  \n",
              "unique        1  \n",
              "top       Other  \n",
              "freq       2575  "
            ]
          },
          "metadata": {},
          "execution_count": 27
        }
      ]
    },
    {
      "cell_type": "code",
      "metadata": {
        "colab": {
          "base_uri": "https://localhost:8080/",
          "height": 484
        },
        "id": "5Lu-nn-VjwJi",
        "outputId": "76d59325-0c35-4b67-c88d-3ac7b18317f4"
      },
      "source": [
        "answer_Q7_count = answer_Q7_desc.loc[[\"top\", \"count\"]].T\n",
        "answer_Q7_count = answer_Q7_count.set_index(\"top\")\n",
        "answer_Q7_count = answer_Q7_count.sort_values(\"count\", ascending=False)\n",
        "answer_Q7_count"
      ],
      "execution_count": 28,
      "outputs": [
        {
          "output_type": "execute_result",
          "data": {
            "text/html": [
              "<div>\n",
              "<style scoped>\n",
              "    .dataframe tbody tr th:only-of-type {\n",
              "        vertical-align: middle;\n",
              "    }\n",
              "\n",
              "    .dataframe tbody tr th {\n",
              "        vertical-align: top;\n",
              "    }\n",
              "\n",
              "    .dataframe thead th {\n",
              "        text-align: right;\n",
              "    }\n",
              "</style>\n",
              "<table border=\"1\" class=\"dataframe\">\n",
              "  <thead>\n",
              "    <tr style=\"text-align: right;\">\n",
              "      <th></th>\n",
              "      <th>count</th>\n",
              "    </tr>\n",
              "    <tr>\n",
              "      <th>top</th>\n",
              "      <th></th>\n",
              "    </tr>\n",
              "  </thead>\n",
              "  <tbody>\n",
              "    <tr>\n",
              "      <th>Python</th>\n",
              "      <td>21860</td>\n",
              "    </tr>\n",
              "    <tr>\n",
              "      <th>SQL</th>\n",
              "      <td>10756</td>\n",
              "    </tr>\n",
              "    <tr>\n",
              "      <th>C++</th>\n",
              "      <td>5535</td>\n",
              "    </tr>\n",
              "    <tr>\n",
              "      <th>R</th>\n",
              "      <td>5334</td>\n",
              "    </tr>\n",
              "    <tr>\n",
              "      <th>Java</th>\n",
              "      <td>4769</td>\n",
              "    </tr>\n",
              "    <tr>\n",
              "      <th>C</th>\n",
              "      <td>4709</td>\n",
              "    </tr>\n",
              "    <tr>\n",
              "      <th>Javascript</th>\n",
              "      <td>4332</td>\n",
              "    </tr>\n",
              "    <tr>\n",
              "      <th>MATLAB</th>\n",
              "      <td>2935</td>\n",
              "    </tr>\n",
              "    <tr>\n",
              "      <th>Other</th>\n",
              "      <td>2575</td>\n",
              "    </tr>\n",
              "    <tr>\n",
              "      <th>Bash</th>\n",
              "      <td>2216</td>\n",
              "    </tr>\n",
              "    <tr>\n",
              "      <th>None</th>\n",
              "      <td>319</td>\n",
              "    </tr>\n",
              "    <tr>\n",
              "      <th>Julia</th>\n",
              "      <td>305</td>\n",
              "    </tr>\n",
              "    <tr>\n",
              "      <th>Swift</th>\n",
              "      <td>242</td>\n",
              "    </tr>\n",
              "  </tbody>\n",
              "</table>\n",
              "</div>"
            ],
            "text/plain": [
              "            count\n",
              "top              \n",
              "Python      21860\n",
              "SQL         10756\n",
              "C++          5535\n",
              "R            5334\n",
              "Java         4769\n",
              "C            4709\n",
              "Javascript   4332\n",
              "MATLAB       2935\n",
              "Other        2575\n",
              "Bash         2216\n",
              "None          319\n",
              "Julia         305\n",
              "Swift         242"
            ]
          },
          "metadata": {},
          "execution_count": 28
        }
      ]
    },
    {
      "cell_type": "code",
      "metadata": {
        "colab": {
          "base_uri": "https://localhost:8080/",
          "height": 422
        },
        "id": "HUkpWQ3LkKDg",
        "outputId": "5af0e128-82f1-4499-bf54-532c35b52316"
      },
      "source": [
        "plt.figure(figsize=(12,6))\n",
        "sns.barplot(data=answer_Q7_count, \n",
        "            y=answer_Q7_count.index, x=\"count\", palette=\"Blues_r\").set_title(question.filter(regex=\"Q7\")[0].split(\"-\")[0])"
      ],
      "execution_count": 29,
      "outputs": [
        {
          "output_type": "execute_result",
          "data": {
            "text/plain": [
              "Text(0.5, 1.0, 'What programming languages do you use on a regular basis? (Select all that apply) ')"
            ]
          },
          "metadata": {},
          "execution_count": 29
        },
        {
          "output_type": "display_data",
          "data": {
            "image/png": "[encoded data removed]",
            "text/plain": [
              "<Figure size 864x432 with 1 Axes>"
            ]
          },
          "metadata": {
            "needs_background": "light"
          }
        }
      ]
    },
    {
      "cell_type": "markdown",
      "metadata": {
        "id": "bSzK70pOnTPf"
      },
      "source": [
        "#### Make class for multiple choice questions"
      ]
    },
    {
      "cell_type": "code",
      "metadata": {
        "colab": {
          "base_uri": "https://localhost:8080/",
          "height": 484
        },
        "id": "nspabhUUnXuM",
        "outputId": "5cbec43c-7acc-41ef-87d1-cb09bb5d1eb1"
      },
      "source": [
        "get_multiple_choice_answer_by_qno(\"Q7\")"
      ],
      "execution_count": 30,
      "outputs": [
        {
          "output_type": "execute_result",
          "data": {
            "text/html": [
              "<div>\n",
              "<style scoped>\n",
              "    .dataframe tbody tr th:only-of-type {\n",
              "        vertical-align: middle;\n",
              "    }\n",
              "\n",
              "    .dataframe tbody tr th {\n",
              "        vertical-align: top;\n",
              "    }\n",
              "\n",
              "    .dataframe thead th {\n",
              "        text-align: right;\n",
              "    }\n",
              "</style>\n",
              "<table border=\"1\" class=\"dataframe\">\n",
              "  <thead>\n",
              "    <tr style=\"text-align: right;\">\n",
              "      <th></th>\n",
              "      <th>count</th>\n",
              "    </tr>\n",
              "    <tr>\n",
              "      <th>top</th>\n",
              "      <th></th>\n",
              "    </tr>\n",
              "  </thead>\n",
              "  <tbody>\n",
              "    <tr>\n",
              "      <th>Python</th>\n",
              "      <td>21860</td>\n",
              "    </tr>\n",
              "    <tr>\n",
              "      <th>SQL</th>\n",
              "      <td>10756</td>\n",
              "    </tr>\n",
              "    <tr>\n",
              "      <th>C++</th>\n",
              "      <td>5535</td>\n",
              "    </tr>\n",
              "    <tr>\n",
              "      <th>R</th>\n",
              "      <td>5334</td>\n",
              "    </tr>\n",
              "    <tr>\n",
              "      <th>Java</th>\n",
              "      <td>4769</td>\n",
              "    </tr>\n",
              "    <tr>\n",
              "      <th>C</th>\n",
              "      <td>4709</td>\n",
              "    </tr>\n",
              "    <tr>\n",
              "      <th>Javascript</th>\n",
              "      <td>4332</td>\n",
              "    </tr>\n",
              "    <tr>\n",
              "      <th>MATLAB</th>\n",
              "      <td>2935</td>\n",
              "    </tr>\n",
              "    <tr>\n",
              "      <th>Other</th>\n",
              "      <td>2575</td>\n",
              "    </tr>\n",
              "    <tr>\n",
              "      <th>Bash</th>\n",
              "      <td>2216</td>\n",
              "    </tr>\n",
              "    <tr>\n",
              "      <th>None</th>\n",
              "      <td>319</td>\n",
              "    </tr>\n",
              "    <tr>\n",
              "      <th>Julia</th>\n",
              "      <td>305</td>\n",
              "    </tr>\n",
              "    <tr>\n",
              "      <th>Swift</th>\n",
              "      <td>242</td>\n",
              "    </tr>\n",
              "  </tbody>\n",
              "</table>\n",
              "</div>"
            ],
            "text/plain": [
              "            count\n",
              "top              \n",
              "Python      21860\n",
              "SQL         10756\n",
              "C++          5535\n",
              "R            5334\n",
              "Java         4769\n",
              "C            4709\n",
              "Javascript   4332\n",
              "MATLAB       2935\n",
              "Other        2575\n",
              "Bash         2216\n",
              "None          319\n",
              "Julia         305\n",
              "Swift         242"
            ]
          },
          "metadata": {},
          "execution_count": 30
        }
      ]
    },
    {
      "cell_type": "code",
      "metadata": {
        "colab": {
          "base_uri": "https://localhost:8080/",
          "height": 404
        },
        "id": "hTstomJJmmc0",
        "outputId": "8de69d8b-0317-4bcb-f0b4-3e7a697a3c0b"
      },
      "source": [
        "show_multiple_choice_bar_plot_by_qno(\"Q7\")"
      ],
      "execution_count": 31,
      "outputs": [
        {
          "output_type": "display_data",
          "data": {
            "image/png": "[encoded data removed]",
            "text/plain": [
              "<Figure size 720x432 with 1 Axes>"
            ]
          },
          "metadata": {
            "needs_background": "light"
          }
        }
      ]
    },
    {
      "cell_type": "markdown",
      "metadata": {
        "id": "b_sjmqghoot9"
      },
      "source": [
        "#### Gender & Program Language\n",
        "\n",
        "Does each gender prefer different program language?"
      ]
    },
    {
      "cell_type": "code",
      "metadata": {
        "colab": {
          "base_uri": "https://localhost:8080/"
        },
        "id": "Gbue4aRKmuyU",
        "outputId": "2db24af4-1afc-4454-ff10-015a281e213e"
      },
      "source": [
        "q7_cols = answer.filter(regex=\"Q7\").describe().loc[\"top\"].tolist()\n",
        "q7_cols"
      ],
      "execution_count": 32,
      "outputs": [
        {
          "output_type": "execute_result",
          "data": {
            "text/plain": [
              "['Python',\n",
              " 'R',\n",
              " 'SQL',\n",
              " 'C',\n",
              " 'C++',\n",
              " 'Java',\n",
              " 'Javascript',\n",
              " 'Julia',\n",
              " 'Swift',\n",
              " 'Bash',\n",
              " 'MATLAB',\n",
              " 'None',\n",
              " 'Other']"
            ]
          },
          "metadata": {},
          "execution_count": 32
        }
      ]
    },
    {
      "cell_type": "code",
      "metadata": {
        "colab": {
          "base_uri": "https://localhost:8080/",
          "height": 235
        },
        "id": "zqU0eMeEn6Hw",
        "outputId": "074376f4-ad30-41dd-fd3e-a2bc89f2d917"
      },
      "source": [
        "q2q7 = answer.filter(regex=\"Q7|Q2$\")\n",
        "q2q7_count = q2q7.groupby(\"Q2\").count()\n",
        "q2q7_count.columns = q7_cols\n",
        "q2q7_count"
      ],
      "execution_count": 33,
      "outputs": [
        {
          "output_type": "execute_result",
          "data": {
            "text/html": [
              "<div>\n",
              "<style scoped>\n",
              "    .dataframe tbody tr th:only-of-type {\n",
              "        vertical-align: middle;\n",
              "    }\n",
              "\n",
              "    .dataframe tbody tr th {\n",
              "        vertical-align: top;\n",
              "    }\n",
              "\n",
              "    .dataframe thead th {\n",
              "        text-align: right;\n",
              "    }\n",
              "</style>\n",
              "<table border=\"1\" class=\"dataframe\">\n",
              "  <thead>\n",
              "    <tr style=\"text-align: right;\">\n",
              "      <th></th>\n",
              "      <th>Python</th>\n",
              "      <th>R</th>\n",
              "      <th>SQL</th>\n",
              "      <th>C</th>\n",
              "      <th>C++</th>\n",
              "      <th>Java</th>\n",
              "      <th>Javascript</th>\n",
              "      <th>Julia</th>\n",
              "      <th>Swift</th>\n",
              "      <th>Bash</th>\n",
              "      <th>MATLAB</th>\n",
              "      <th>None</th>\n",
              "      <th>Other</th>\n",
              "    </tr>\n",
              "    <tr>\n",
              "      <th>Q2</th>\n",
              "      <th></th>\n",
              "      <th></th>\n",
              "      <th></th>\n",
              "      <th></th>\n",
              "      <th></th>\n",
              "      <th></th>\n",
              "      <th></th>\n",
              "      <th></th>\n",
              "      <th></th>\n",
              "      <th></th>\n",
              "      <th></th>\n",
              "      <th></th>\n",
              "      <th></th>\n",
              "    </tr>\n",
              "  </thead>\n",
              "  <tbody>\n",
              "    <tr>\n",
              "      <th>Man</th>\n",
              "      <td>17582</td>\n",
              "      <td>4072</td>\n",
              "      <td>8449</td>\n",
              "      <td>3633</td>\n",
              "      <td>4465</td>\n",
              "      <td>3691</td>\n",
              "      <td>3563</td>\n",
              "      <td>268</td>\n",
              "      <td>204</td>\n",
              "      <td>1909</td>\n",
              "      <td>2278</td>\n",
              "      <td>212</td>\n",
              "      <td>2172</td>\n",
              "    </tr>\n",
              "    <tr>\n",
              "      <th>Nonbinary</th>\n",
              "      <td>66</td>\n",
              "      <td>28</td>\n",
              "      <td>32</td>\n",
              "      <td>14</td>\n",
              "      <td>13</td>\n",
              "      <td>18</td>\n",
              "      <td>18</td>\n",
              "      <td>3</td>\n",
              "      <td>3</td>\n",
              "      <td>13</td>\n",
              "      <td>8</td>\n",
              "      <td>2</td>\n",
              "      <td>18</td>\n",
              "    </tr>\n",
              "    <tr>\n",
              "      <th>Prefer not to say</th>\n",
              "      <td>298</td>\n",
              "      <td>84</td>\n",
              "      <td>159</td>\n",
              "      <td>62</td>\n",
              "      <td>76</td>\n",
              "      <td>79</td>\n",
              "      <td>69</td>\n",
              "      <td>10</td>\n",
              "      <td>9</td>\n",
              "      <td>65</td>\n",
              "      <td>42</td>\n",
              "      <td>8</td>\n",
              "      <td>41</td>\n",
              "    </tr>\n",
              "    <tr>\n",
              "      <th>Prefer to self-describe</th>\n",
              "      <td>37</td>\n",
              "      <td>5</td>\n",
              "      <td>15</td>\n",
              "      <td>9</td>\n",
              "      <td>9</td>\n",
              "      <td>6</td>\n",
              "      <td>5</td>\n",
              "      <td>0</td>\n",
              "      <td>0</td>\n",
              "      <td>9</td>\n",
              "      <td>5</td>\n",
              "      <td>1</td>\n",
              "      <td>8</td>\n",
              "    </tr>\n",
              "    <tr>\n",
              "      <th>Woman</th>\n",
              "      <td>3877</td>\n",
              "      <td>1145</td>\n",
              "      <td>2101</td>\n",
              "      <td>991</td>\n",
              "      <td>972</td>\n",
              "      <td>975</td>\n",
              "      <td>677</td>\n",
              "      <td>24</td>\n",
              "      <td>26</td>\n",
              "      <td>220</td>\n",
              "      <td>602</td>\n",
              "      <td>96</td>\n",
              "      <td>336</td>\n",
              "    </tr>\n",
              "  </tbody>\n",
              "</table>\n",
              "</div>"
            ],
            "text/plain": [
              "                         Python     R   SQL     C   C++  Java  Javascript  \\\n",
              "Q2                                                                          \n",
              "Man                       17582  4072  8449  3633  4465  3691        3563   \n",
              "Nonbinary                    66    28    32    14    13    18          18   \n",
              "Prefer not to say           298    84   159    62    76    79          69   \n",
              "Prefer to self-describe      37     5    15     9     9     6           5   \n",
              "Woman                      3877  1145  2101   991   972   975         677   \n",
              "\n",
              "                         Julia  Swift  Bash  MATLAB  None  Other  \n",
              "Q2                                                                \n",
              "Man                        268    204  1909    2278   212   2172  \n",
              "Nonbinary                    3      3    13       8     2     18  \n",
              "Prefer not to say           10      9    65      42     8     41  \n",
              "Prefer to self-describe      0      0     9       5     1      8  \n",
              "Woman                       24     26   220     602    96    336  "
            ]
          },
          "metadata": {},
          "execution_count": 33
        }
      ]
    },
    {
      "cell_type": "code",
      "metadata": {
        "colab": {
          "base_uri": "https://localhost:8080/",
          "height": 298
        },
        "id": "j0c_F936n7yl",
        "outputId": "504bfdf1-e22e-42aa-b7cb-15f3d1dc8f67"
      },
      "source": [
        "q2q7_count.loc[[\"Man\", \"Woman\"]].T.sort_values(\"Woman\").plot.barh(title=\"Gender & Programming Language\")"
      ],
      "execution_count": 34,
      "outputs": [
        {
          "output_type": "execute_result",
          "data": {
            "text/plain": [
              "<matplotlib.axes._subplots.AxesSubplot at 0x7f9f99ba4b90>"
            ]
          },
          "metadata": {},
          "execution_count": 34
        },
        {
          "output_type": "display_data",
          "data": {
            "image/png": "[encoded data removed]",
            "text/plain": [
              "<Figure size 432x288 with 1 Axes>"
            ]
          },
          "metadata": {
            "needs_background": "light"
          }
        }
      ]
    },
    {
      "cell_type": "markdown",
      "metadata": {
        "id": "S_whLChM0j8w"
      },
      "source": [
        "## Q8) What programming language would you recommend an aspiring data scientist to learn first? - Selected Choice"
      ]
    },
    {
      "cell_type": "code",
      "metadata": {
        "id": "64jKG1JvofU-",
        "colab": {
          "base_uri": "https://localhost:8080/",
          "height": 404
        },
        "outputId": "dfbce281-b623-40a4-d376-01f991043589"
      },
      "source": [
        "show_countplot_by_qno('Q8')"
      ],
      "execution_count": 37,
      "outputs": [
        {
          "output_type": "display_data",
          "data": {
            "image/png": "[encoded data removed]",
            "text/plain": [
              "<Figure size 720x432 with 1 Axes>"
            ]
          },
          "metadata": {
            "needs_background": "light"
          }
        }
      ]
    },
    {
      "cell_type": "markdown",
      "metadata": {
        "id": "yA1buN-v1NlV"
      },
      "source": [
        "## Q9) Which of the following integrated development environments (IDE's) do you use on a regular basis?  (Select all that apply) "
      ]
    },
    {
      "cell_type": "code",
      "metadata": {
        "colab": {
          "base_uri": "https://localhost:8080/",
          "height": 35
        },
        "id": "9Jl8yOm70xbh",
        "outputId": "a62b1adb-2d4e-4e2a-beed-89345966174d"
      },
      "source": [
        "question.filter(regex=\"Q9\")[0].split(\"-\")[0]"
      ],
      "execution_count": 43,
      "outputs": [
        {
          "output_type": "execute_result",
          "data": {
            "application/vnd.google.colaboratory.intrinsic+json": {
              "type": "string"
            },
            "text/plain": [
              "\"Which of the following integrated development environments (IDE's) do you use on a regular basis?  (Select all that apply) \""
            ]
          },
          "metadata": {},
          "execution_count": 43
        }
      ]
    },
    {
      "cell_type": "code",
      "metadata": {
        "colab": {
          "base_uri": "https://localhost:8080/",
          "height": 404
        },
        "id": "aVwC4m7X00i6",
        "outputId": "44c9253f-1bdd-47fa-8662-d2a4444053d3"
      },
      "source": [
        "show_multiple_choice_bar_plot_by_qno('Q9')"
      ],
      "execution_count": 45,
      "outputs": [
        {
          "output_type": "display_data",
          "data": {
            "image/png": "[encoded data removed]",
            "text/plain": [
              "<Figure size 720x432 with 1 Axes>"
            ]
          },
          "metadata": {
            "needs_background": "light"
          }
        }
      ]
    },
    {
      "cell_type": "markdown",
      "metadata": {
        "id": "6d7sPHTx1jhf"
      },
      "source": [
        "## Q10) Which of the following hosted notebook products do you use on a regular basis?  (Select all that apply) "
      ]
    },
    {
      "cell_type": "code",
      "metadata": {
        "colab": {
          "base_uri": "https://localhost:8080/",
          "height": 35
        },
        "id": "YMgS2MpY1WMv",
        "outputId": "afdecc6f-079b-4de1-9dc4-809f6f3785d5"
      },
      "source": [
        "question.filter(regex=\"Q10\")[0].split(\"-\")[0]"
      ],
      "execution_count": 46,
      "outputs": [
        {
          "output_type": "execute_result",
          "data": {
            "application/vnd.google.colaboratory.intrinsic+json": {
              "type": "string"
            },
            "text/plain": [
              "'Which of the following hosted notebook products do you use on a regular basis?  (Select all that apply) '"
            ]
          },
          "metadata": {},
          "execution_count": 46
        }
      ]
    },
    {
      "cell_type": "code",
      "metadata": {
        "colab": {
          "base_uri": "https://localhost:8080/",
          "height": 404
        },
        "id": "KNMUHYRz1h_W",
        "outputId": "3c510acd-0e31-4169-ff5f-a1ac8fa703c8"
      },
      "source": [
        "show_multiple_choice_bar_plot_by_qno('Q10')"
      ],
      "execution_count": 47,
      "outputs": [
        {
          "output_type": "display_data",
          "data": {
            "image/png": "[encoded data removed]",
            "text/plain": [
              "<Figure size 720x432 with 1 Axes>"
            ]
          },
          "metadata": {
            "needs_background": "light"
          }
        }
      ]
    },
    {
      "cell_type": "markdown",
      "metadata": {
        "id": "f5uVYYok2Ps8"
      },
      "source": [
        "## Q11) What type of computing platform do you use most often for your data science projects? "
      ]
    },
    {
      "cell_type": "code",
      "metadata": {
        "colab": {
          "base_uri": "https://localhost:8080/",
          "height": 35
        },
        "id": "MqxoNdwz19vW",
        "outputId": "4c9cc7b5-7707-4f7d-b475-2cccfb48656c"
      },
      "source": [
        "question.filter(regex=\"Q11\")[0].split(\"-\")[0]"
      ],
      "execution_count": 49,
      "outputs": [
        {
          "output_type": "execute_result",
          "data": {
            "application/vnd.google.colaboratory.intrinsic+json": {
              "type": "string"
            },
            "text/plain": [
              "'What type of computing platform do you use most often for your data science projects? '"
            ]
          },
          "metadata": {},
          "execution_count": 49
        }
      ]
    },
    {
      "cell_type": "code",
      "metadata": {
        "colab": {
          "base_uri": "https://localhost:8080/",
          "height": 404
        },
        "id": "WXqDP8kb2IvQ",
        "outputId": "03e4aac1-e617-4b03-dc8e-9d93bb2e1d2f"
      },
      "source": [
        "show_countplot_by_qno('Q11')"
      ],
      "execution_count": 50,
      "outputs": [
        {
          "output_type": "display_data",
          "data": {
            "image/png": "[encoded data removed]",
            "text/plain": [
              "<Figure size 720x432 with 1 Axes>"
            ]
          },
          "metadata": {
            "needs_background": "light"
          }
        }
      ]
    },
    {
      "cell_type": "markdown",
      "metadata": {
        "id": "lHZIpIk22eRG"
      },
      "source": [
        "## Q12) Which types of specialized hardware do you use on a regular basis?  (Select all that apply) "
      ]
    },
    {
      "cell_type": "code",
      "metadata": {
        "colab": {
          "base_uri": "https://localhost:8080/",
          "height": 35
        },
        "id": "VqQMToa_2YSo",
        "outputId": "8f50e1c1-533c-491b-8cc8-577e5234154b"
      },
      "source": [
        "question.filter(regex=\"Q12\")[0].split(\"-\")[0]"
      ],
      "execution_count": 52,
      "outputs": [
        {
          "output_type": "execute_result",
          "data": {
            "application/vnd.google.colaboratory.intrinsic+json": {
              "type": "string"
            },
            "text/plain": [
              "'Which types of specialized hardware do you use on a regular basis?  (Select all that apply) '"
            ]
          },
          "metadata": {},
          "execution_count": 52
        }
      ]
    },
    {
      "cell_type": "code",
      "metadata": {
        "colab": {
          "base_uri": "https://localhost:8080/",
          "height": 404
        },
        "id": "JUhYLURI2be-",
        "outputId": "00ddb8f5-743a-41d2-9538-5707c9f0b741"
      },
      "source": [
        "show_multiple_choice_bar_plot_by_qno('Q12')"
      ],
      "execution_count": 54,
      "outputs": [
        {
          "output_type": "display_data",
          "data": {
            "image/png": "[encoded data removed]",
            "text/plain": [
              "<Figure size 720x432 with 1 Axes>"
            ]
          },
          "metadata": {
            "needs_background": "light"
          }
        }
      ]
    },
    {
      "cell_type": "markdown",
      "metadata": {
        "id": "J4jD3Olq2vOa"
      },
      "source": [
        "## Q13) Approximately how many times have you used a TPU (tensor processing unit)?"
      ]
    },
    {
      "cell_type": "code",
      "metadata": {
        "colab": {
          "base_uri": "https://localhost:8080/",
          "height": 35
        },
        "id": "QXXVzmXb2kfQ",
        "outputId": "cc8133b5-53f0-4b5d-ee19-2c4f1d2f6619"
      },
      "source": [
        "question.filter(regex=\"Q13\")[0].split(\"-\")[0]"
      ],
      "execution_count": 55,
      "outputs": [
        {
          "output_type": "execute_result",
          "data": {
            "application/vnd.google.colaboratory.intrinsic+json": {
              "type": "string"
            },
            "text/plain": [
              "'Approximately how many times have you used a TPU (tensor processing unit)?'"
            ]
          },
          "metadata": {},
          "execution_count": 55
        }
      ]
    },
    {
      "cell_type": "code",
      "metadata": {
        "colab": {
          "base_uri": "https://localhost:8080/",
          "height": 404
        },
        "id": "9S9wKIRj2s73",
        "outputId": "2e021671-62a2-40de-e2b7-b43ca1d0624f"
      },
      "source": [
        "show_countplot_by_qno('Q13')"
      ],
      "execution_count": 56,
      "outputs": [
        {
          "output_type": "display_data",
          "data": {
            "image/png": "[encoded data removed]",
            "text/plain": [
              "<Figure size 720x432 with 1 Axes>"
            ]
          },
          "metadata": {
            "needs_background": "light"
          }
        }
      ]
    },
    {
      "cell_type": "markdown",
      "metadata": {
        "id": "vHTrm78b2-Em"
      },
      "source": [
        "## Q14) What data visualization libraries or tools do you use on a regular basis?  (Select all that apply) "
      ]
    },
    {
      "cell_type": "code",
      "metadata": {
        "colab": {
          "base_uri": "https://localhost:8080/",
          "height": 35
        },
        "id": "VgwnmwpV21px",
        "outputId": "c7503bf5-ed7a-4548-8c8e-ba04ea493e13"
      },
      "source": [
        "question.filter(regex=\"Q14\")[0].split(\"-\")[0]"
      ],
      "execution_count": 58,
      "outputs": [
        {
          "output_type": "execute_result",
          "data": {
            "application/vnd.google.colaboratory.intrinsic+json": {
              "type": "string"
            },
            "text/plain": [
              "'What data visualization libraries or tools do you use on a regular basis?  (Select all that apply) '"
            ]
          },
          "metadata": {},
          "execution_count": 58
        }
      ]
    },
    {
      "cell_type": "code",
      "metadata": {
        "colab": {
          "base_uri": "https://localhost:8080/",
          "height": 404
        },
        "id": "DNhNdpC4271X",
        "outputId": "89df567d-f456-496c-8f3a-6a341ffea165"
      },
      "source": [
        "show_multiple_choice_bar_plot_by_qno('Q14')"
      ],
      "execution_count": 59,
      "outputs": [
        {
          "output_type": "display_data",
          "data": {
            "image/png": "[encoded data removed]",
            "text/plain": [
              "<Figure size 720x432 with 1 Axes>"
            ]
          },
          "metadata": {
            "needs_background": "light"
          }
        }
      ]
    },
    {
      "cell_type": "markdown",
      "metadata": {
        "id": "YJGVT4eK6vu0"
      },
      "source": [
        "## Q15) For how many years have you used machine learning methods?"
      ]
    },
    {
      "cell_type": "code",
      "metadata": {
        "colab": {
          "base_uri": "https://localhost:8080/",
          "height": 35
        },
        "id": "8zN6pJz23MVC",
        "outputId": "eb9bef7b-c02b-4cab-9464-426dae883edf"
      },
      "source": [
        "question.filter(regex=\"Q15\")[0].split(\"-\")[0]"
      ],
      "execution_count": 60,
      "outputs": [
        {
          "output_type": "execute_result",
          "data": {
            "application/vnd.google.colaboratory.intrinsic+json": {
              "type": "string"
            },
            "text/plain": [
              "'For how many years have you used machine learning methods?'"
            ]
          },
          "metadata": {},
          "execution_count": 60
        }
      ]
    },
    {
      "cell_type": "code",
      "metadata": {
        "colab": {
          "base_uri": "https://localhost:8080/",
          "height": 404
        },
        "id": "4ffOYvOF6Ze1",
        "outputId": "9e890bbc-d407-4d02-990a-d7381fe15b7e"
      },
      "source": [
        "show_countplot_by_qno('Q15')"
      ],
      "execution_count": 61,
      "outputs": [
        {
          "output_type": "display_data",
          "data": {
            "image/png": "[encoded data removed]",
            "text/plain": [
              "<Figure size 720x432 with 1 Axes>"
            ]
          },
          "metadata": {
            "needs_background": "light"
          }
        }
      ]
    },
    {
      "cell_type": "markdown",
      "metadata": {
        "id": "N9UbrlU47GnI"
      },
      "source": [
        "## Q16) Which of the following machine learning frameworks do you use on a regular basis? (Select all that apply) "
      ]
    },
    {
      "cell_type": "code",
      "metadata": {
        "colab": {
          "base_uri": "https://localhost:8080/",
          "height": 35
        },
        "id": "MDayIKCY7C7V",
        "outputId": "25d549cf-3f6e-4af0-e020-1c0404131b78"
      },
      "source": [
        "question.filter(regex=\"Q16\")[0].split(\"-\")[0]"
      ],
      "execution_count": 75,
      "outputs": [
        {
          "output_type": "execute_result",
          "data": {
            "application/vnd.google.colaboratory.intrinsic+json": {
              "type": "string"
            },
            "text/plain": [
              "'Which of the following machine learning frameworks do you use on a regular basis? (Select all that apply) '"
            ]
          },
          "metadata": {},
          "execution_count": 75
        }
      ]
    },
    {
      "cell_type": "code",
      "metadata": {
        "colab": {
          "base_uri": "https://localhost:8080/",
          "height": 404
        },
        "id": "c1oyex8J7Fss",
        "outputId": "456d7c61-ba4c-4c72-fc20-8bd146a3e3b2"
      },
      "source": [
        "show_multiple_choice_bar_plot_by_qno('Q16')"
      ],
      "execution_count": 63,
      "outputs": [
        {
          "output_type": "display_data",
          "data": {
            "image/png": "[encoded data removed]",
            "text/plain": [
              "<Figure size 720x432 with 1 Axes>"
            ]
          },
          "metadata": {
            "needs_background": "light"
          }
        }
      ]
    },
    {
      "cell_type": "markdown",
      "metadata": {
        "id": "CRwWPt0m_UAX"
      },
      "source": [
        "## Q17) Which of the following ML algorithms do you use on a regular basis? (Select all that apply): "
      ]
    },
    {
      "cell_type": "code",
      "metadata": {
        "colab": {
          "base_uri": "https://localhost:8080/",
          "height": 35
        },
        "id": "e2ORmFHs8HKB",
        "outputId": "df829d8f-c971-40bf-c3ec-10b5172ddfb9"
      },
      "source": [
        "question.filter(regex=\"Q17\")[0].split(\"-\")[0]"
      ],
      "execution_count": 85,
      "outputs": [
        {
          "output_type": "execute_result",
          "data": {
            "application/vnd.google.colaboratory.intrinsic+json": {
              "type": "string"
            },
            "text/plain": [
              "'Which of the following ML algorithms do you use on a regular basis? (Select all that apply): '"
            ]
          },
          "metadata": {},
          "execution_count": 85
        }
      ]
    },
    {
      "cell_type": "code",
      "metadata": {
        "colab": {
          "base_uri": "https://localhost:8080/",
          "height": 404
        },
        "id": "CEKWvgoq_TGZ",
        "outputId": "9cde60f5-b623-47b0-d870-b8da271cd2e2"
      },
      "source": [
        "show_multiple_choice_bar_plot_by_qno('Q17')"
      ],
      "execution_count": 87,
      "outputs": [
        {
          "output_type": "display_data",
          "data": {
            "image/png": "[encoded data removed]",
            "text/plain": [
              "<Figure size 720x432 with 1 Axes>"
            ]
          },
          "metadata": {
            "needs_background": "light"
          }
        }
      ]
    },
    {
      "cell_type": "markdown",
      "metadata": {
        "id": "a9mtWC2Q_z4v"
      },
      "source": [
        "## Q18) Which categories of computer vision methods do you use on a regular basis?  (Select all that apply) "
      ]
    },
    {
      "cell_type": "code",
      "metadata": {
        "colab": {
          "base_uri": "https://localhost:8080/",
          "height": 35
        },
        "id": "23mNPeFD_anU",
        "outputId": "2e33fbc2-5c23-459b-d20d-874143196c9e"
      },
      "source": [
        "question.filter(regex=\"Q18\")[0].split(\"-\")[0]"
      ],
      "execution_count": 88,
      "outputs": [
        {
          "output_type": "execute_result",
          "data": {
            "application/vnd.google.colaboratory.intrinsic+json": {
              "type": "string"
            },
            "text/plain": [
              "'Which categories of computer vision methods do you use on a regular basis?  (Select all that apply) '"
            ]
          },
          "metadata": {},
          "execution_count": 88
        }
      ]
    },
    {
      "cell_type": "code",
      "metadata": {
        "colab": {
          "base_uri": "https://localhost:8080/",
          "height": 404
        },
        "id": "sxwvW50X_yjG",
        "outputId": "51960ddd-e010-46c7-e809-08108a3e367c"
      },
      "source": [
        "show_multiple_choice_bar_plot_by_qno('Q18')"
      ],
      "execution_count": 90,
      "outputs": [
        {
          "output_type": "display_data",
          "data": {
            "image/png": "[encoded data removed]",
            "text/plain": [
              "<Figure size 720x432 with 1 Axes>"
            ]
          },
          "metadata": {
            "needs_background": "light"
          }
        }
      ]
    },
    {
      "cell_type": "markdown",
      "metadata": {
        "id": "a8cL-p_kAGvw"
      },
      "source": [
        "## Q19) Which of the following natural language processing (NLP) methods do you use on a regular basis?  (Select all that apply) "
      ]
    },
    {
      "cell_type": "code",
      "metadata": {
        "colab": {
          "base_uri": "https://localhost:8080/",
          "height": 35
        },
        "id": "oKeDT_cf_76p",
        "outputId": "6ab234dc-e0ac-4bbc-b4db-422b9c164227"
      },
      "source": [
        "question.filter(regex=\"Q19\")[0].split(\"-\")[0]"
      ],
      "execution_count": 91,
      "outputs": [
        {
          "output_type": "execute_result",
          "data": {
            "application/vnd.google.colaboratory.intrinsic+json": {
              "type": "string"
            },
            "text/plain": [
              "'Which of the following natural language processing (NLP) methods do you use on a regular basis?  (Select all that apply) '"
            ]
          },
          "metadata": {},
          "execution_count": 91
        }
      ]
    },
    {
      "cell_type": "code",
      "metadata": {
        "colab": {
          "base_uri": "https://localhost:8080/",
          "height": 404
        },
        "id": "TOTfElY3AFbn",
        "outputId": "9fef77a7-60ae-47b1-f337-4c1560c07390"
      },
      "source": [
        "show_multiple_choice_bar_plot_by_qno('Q19')"
      ],
      "execution_count": 92,
      "outputs": [
        {
          "output_type": "display_data",
          "data": {
            "image/png": "[encoded data removed]",
            "text/plain": [
              "<Figure size 720x432 with 1 Axes>"
            ]
          },
          "metadata": {
            "needs_background": "light"
          }
        }
      ]
    },
    {
      "cell_type": "markdown",
      "metadata": {
        "id": "-ZW10-aAAUca"
      },
      "source": [
        "## Q20) In what industry is your current employer/contract (or your most recent employer if retired)? "
      ]
    },
    {
      "cell_type": "code",
      "metadata": {
        "colab": {
          "base_uri": "https://localhost:8080/",
          "height": 35
        },
        "id": "R1wuucCRAOQ1",
        "outputId": "2fba7525-461b-4439-9904-e7e46939830f"
      },
      "source": [
        "question.filter(regex=\"Q20\")[0].split(\"-\")[0]"
      ],
      "execution_count": 93,
      "outputs": [
        {
          "output_type": "execute_result",
          "data": {
            "application/vnd.google.colaboratory.intrinsic+json": {
              "type": "string"
            },
            "text/plain": [
              "'In what industry is your current employer/contract (or your most recent employer if retired)? '"
            ]
          },
          "metadata": {},
          "execution_count": 93
        }
      ]
    },
    {
      "cell_type": "code",
      "metadata": {
        "colab": {
          "base_uri": "https://localhost:8080/",
          "height": 404
        },
        "id": "_0aWEgOgATsM",
        "outputId": "6208bf0d-519a-43b1-f681-d71a51ba06c1"
      },
      "source": [
        "show_countplot_by_qno(\"Q20\")"
      ],
      "execution_count": 94,
      "outputs": [
        {
          "output_type": "display_data",
          "data": {
            "image/png": "[encoded data removed]",
            "text/plain": [
              "<Figure size 720x432 with 1 Axes>"
            ]
          },
          "metadata": {
            "needs_background": "light"
          }
        }
      ]
    },
    {
      "cell_type": "code",
      "metadata": {
        "id": "MnfVHtqWAb3M"
      },
      "source": [
        ""
      ],
      "execution_count": null,
      "outputs": []
    }
  ]
}