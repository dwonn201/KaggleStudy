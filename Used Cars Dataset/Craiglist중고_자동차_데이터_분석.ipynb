{
  "nbformat": 4,
  "nbformat_minor": 0,
  "metadata": {
    "colab": {
      "name": "Craiglist중고 자동차 데이터 분석.ipynb",
      "provenance": [],
      "collapsed_sections": [],
      "authorship_tag": "ABX9TyOFtuINXZe7kZHqmQhzstyY",
      "include_colab_link": true
    },
    "kernelspec": {
      "name": "python3",
      "display_name": "Python 3"
    },
    "language_info": {
      "name": "python"
    }
  },
  "cells": [
    {
      "cell_type": "markdown",
      "metadata": {
        "id": "view-in-github",
        "colab_type": "text"
      },
      "source": [
        "<a href=\"https://colab.research.google.com/github/dwonn201/KaggleStudy/blob/master/Used%20Cars%20Dataset/Craiglist%EC%A4%91%EA%B3%A0_%EC%9E%90%EB%8F%99%EC%B0%A8_%EB%8D%B0%EC%9D%B4%ED%84%B0_%EB%B6%84%EC%84%9D.ipynb\" target=\"_parent\"><img src=\"https://colab.research.google.com/assets/colab-badge.svg\" alt=\"Open In Colab\"/></a>"
      ]
    },
    {
      "cell_type": "markdown",
      "source": [
        "# Craiglist중고 자동차 데이터 분석\n",
        "    \n",
        "- 데이터 출처: https://www.kaggle.com/austinreese/craigslist-carstrucks-data\n",
        "\n",
        "\n",
        "----------\n",
        "\n",
        "## 데이터 소개\n",
        "    - Kaggle 내 Used Cars Dataset을 사용합니다.\n",
        "    - Craigslist라는 세계 최대 중고차 거래 사이트에서 자동으로 scrapping되어 정기적으로 적재되어 있습니다.\n",
        "    - 각 컬럼 정보는 아래와 같습니다.\n",
        "\n",
        "---------\n",
        "\n",
        "    - vehicles.csv\n",
        "    id : 중고차 거래의 아이디 (entry ID)\n",
        "    url : 중고차 거래 페이지 (listing URL)\n",
        "    region : 해당 거래의 관리 지점 (craigslist region)\n",
        "    region_url : 거래 관리 지점의 홈페이지 (region URL)\n",
        "    price : 자동차 거래가 (entry price)\n",
        "    year : 자동차 생산년도 (entry year)\n",
        "    manufacturer : 자동차 제조사 (manufacturer of vehicle)\n",
        "    model : 자동차 모델명 (model of vehicle)\n",
        "    condition : 자동차 상태 (condition of vehicle)\n",
        "    cylinders : 자동차 기통 수 (number of cylinders)\n",
        "    fuel : 자동차 연료 타입 (fuel type)\n",
        "    odometer : 자동차 운행 마일 수 (miles traveled by vehicle)\n",
        "    title_status : 자동차 타이틀 상태 (소유주 등록 상태) (title status of vehicle)\n",
        "    transmission : 자동차 트랜스미션 종류 (transmission of vehicle)\n",
        "    vin : 자동차 식별 번호 (vehicle identification number)\n",
        "    drive : 자동차 구동 타입 (type of drive)\n",
        "    size : 자동차 크기 (size of vehicle)\n",
        "    type : 자동차 일반 타입 ex. 세단, suv, ... (generic type of vehicle) \n",
        "    paint_color : 자동차 색상 (color of vehicle)\n",
        "    image_url : 자동차 이미지 url (image URL)\n",
        "    description : 세부 설명 (listed description of vehicle)\n",
        "    county : 실수로 생성된 미사용 컬럼 (useless column left in by mistake)\n",
        "    state : 거래가 등록된 미 주 (state of listing)\n",
        "    lat : 거래가 등록된 곳의 위도 (latitude of listing)\n",
        "    long : 거래가 등록된 곳의 경도 (longitude of listing)\n",
        "    posting_date : 거래가 포스팅된 일자 (posting_date)\n",
        "    \n"
      ],
      "metadata": {
        "id": "_cxmPm2KZAXo"
      }
    },
    {
      "cell_type": "markdown",
      "source": [
        "## Step 1. 데이터셋 준비하기\n",
        "\n",
        "### 1. Colab Notebook에 Kaggle API 세팅\n"
      ],
      "metadata": {
        "id": "ppBcEKTHZ1YR"
      }
    },
    {
      "cell_type": "code",
      "execution_count": 1,
      "metadata": {
        "id": "5W21wGbzY_0f"
      },
      "outputs": [],
      "source": [
        "import os\n",
        "\n",
        "# os.environ을 이용하여 Kaggle API Username, Key 세팅\n",
        "os.environ['KAGGLE_USERNAME'] = ''\n",
        "os.environ['KAGGLE_KEY'] = ''\n"
      ]
    },
    {
      "cell_type": "markdown",
      "source": [
        "### 2. 데이터 다운로드 및 압축 해제"
      ],
      "metadata": {
        "id": "yQXJvMkPaHKa"
      }
    },
    {
      "cell_type": "code",
      "source": [
        "# Linux 명령어로 Kaggle API를 이용하여 데이터셋 다운로드 및 압축 해제\n",
        "!rm *.*\n",
        "!kaggle datasets download -d austinreese/craigslist-carstrucks-data\n",
        "!unzip '*.zip'"
      ],
      "metadata": {
        "colab": {
          "base_uri": "https://localhost:8080/"
        },
        "id": "FUQeREyjaCsc",
        "outputId": "95cc1235-03e3-4023-da87-f6623a83950a"
      },
      "execution_count": 2,
      "outputs": [
        {
          "output_type": "stream",
          "name": "stdout",
          "text": [
            "Downloading craigslist-carstrucks-data.zip to /content\n",
            "100% 262M/262M [00:01<00:00, 121MB/s]\n",
            "100% 262M/262M [00:01<00:00, 139MB/s]\n",
            "Archive:  craigslist-carstrucks-data.zip\n",
            "  inflating: vehicles.csv            \n"
          ]
        }
      ]
    },
    {
      "cell_type": "markdown",
      "source": [
        "### 3. Pandas 라이브러리로 csv파일 읽어들이기\n"
      ],
      "metadata": {
        "id": "dzRJT2ZhaJ70"
      }
    },
    {
      "cell_type": "code",
      "source": [
        "import pandas as pd\n",
        "import numpy as np"
      ],
      "metadata": {
        "id": "ux7vm5Spa72F"
      },
      "execution_count": 3,
      "outputs": []
    },
    {
      "cell_type": "code",
      "source": [
        " df = pd.read_csv('vehicles.csv')"
      ],
      "metadata": {
        "id": "W5qH-p2caOAw"
      },
      "execution_count": 4,
      "outputs": []
    },
    {
      "cell_type": "markdown",
      "source": [
        "## Step 2. EDA 및 데이터 기초 통계 분석\n"
      ],
      "metadata": {
        "id": "fXEucmhAaQS8"
      }
    },
    {
      "cell_type": "markdown",
      "source": [
        "### 4. 불필요한 데이터 데이터프레임에서 제거하기\n"
      ],
      "metadata": {
        "id": "nQ60W0woaT8A"
      }
    },
    {
      "cell_type": "code",
      "source": [
        "# 데이터 확인\n",
        "print(df.shape)\n",
        "df.head()"
      ],
      "metadata": {
        "colab": {
          "base_uri": "https://localhost:8080/",
          "height": 323
        },
        "id": "QH1kxS1-aQ3I",
        "outputId": "7cd37a92-cd60-4430-b978-57f40eb77778"
      },
      "execution_count": 5,
      "outputs": [
        {
          "output_type": "stream",
          "name": "stdout",
          "text": [
            "(426880, 26)\n"
          ]
        },
        {
          "output_type": "execute_result",
          "data": {
            "text/html": [
              "\n",
              "  <div id=\"df-20b13e3a-5f7c-4e1e-9d0a-2d26f4da1215\">\n",
              "    <div class=\"colab-df-container\">\n",
              "      <div>\n",
              "<style scoped>\n",
              "    .dataframe tbody tr th:only-of-type {\n",
              "        vertical-align: middle;\n",
              "    }\n",
              "\n",
              "    .dataframe tbody tr th {\n",
              "        vertical-align: top;\n",
              "    }\n",
              "\n",
              "    .dataframe thead th {\n",
              "        text-align: right;\n",
              "    }\n",
              "</style>\n",
              "<table border=\"1\" class=\"dataframe\">\n",
              "  <thead>\n",
              "    <tr style=\"text-align: right;\">\n",
              "      <th></th>\n",
              "      <th>id</th>\n",
              "      <th>url</th>\n",
              "      <th>region</th>\n",
              "      <th>region_url</th>\n",
              "      <th>price</th>\n",
              "      <th>year</th>\n",
              "      <th>manufacturer</th>\n",
              "      <th>model</th>\n",
              "      <th>condition</th>\n",
              "      <th>cylinders</th>\n",
              "      <th>fuel</th>\n",
              "      <th>odometer</th>\n",
              "      <th>title_status</th>\n",
              "      <th>transmission</th>\n",
              "      <th>VIN</th>\n",
              "      <th>drive</th>\n",
              "      <th>size</th>\n",
              "      <th>type</th>\n",
              "      <th>paint_color</th>\n",
              "      <th>image_url</th>\n",
              "      <th>description</th>\n",
              "      <th>county</th>\n",
              "      <th>state</th>\n",
              "      <th>lat</th>\n",
              "      <th>long</th>\n",
              "      <th>posting_date</th>\n",
              "    </tr>\n",
              "  </thead>\n",
              "  <tbody>\n",
              "    <tr>\n",
              "      <th>0</th>\n",
              "      <td>7222695916</td>\n",
              "      <td>https://prescott.craigslist.org/cto/d/prescott...</td>\n",
              "      <td>prescott</td>\n",
              "      <td>https://prescott.craigslist.org</td>\n",
              "      <td>6000</td>\n",
              "      <td>NaN</td>\n",
              "      <td>NaN</td>\n",
              "      <td>NaN</td>\n",
              "      <td>NaN</td>\n",
              "      <td>NaN</td>\n",
              "      <td>NaN</td>\n",
              "      <td>NaN</td>\n",
              "      <td>NaN</td>\n",
              "      <td>NaN</td>\n",
              "      <td>NaN</td>\n",
              "      <td>NaN</td>\n",
              "      <td>NaN</td>\n",
              "      <td>NaN</td>\n",
              "      <td>NaN</td>\n",
              "      <td>NaN</td>\n",
              "      <td>NaN</td>\n",
              "      <td>NaN</td>\n",
              "      <td>az</td>\n",
              "      <td>NaN</td>\n",
              "      <td>NaN</td>\n",
              "      <td>NaN</td>\n",
              "    </tr>\n",
              "    <tr>\n",
              "      <th>1</th>\n",
              "      <td>7218891961</td>\n",
              "      <td>https://fayar.craigslist.org/ctd/d/bentonville...</td>\n",
              "      <td>fayetteville</td>\n",
              "      <td>https://fayar.craigslist.org</td>\n",
              "      <td>11900</td>\n",
              "      <td>NaN</td>\n",
              "      <td>NaN</td>\n",
              "      <td>NaN</td>\n",
              "      <td>NaN</td>\n",
              "      <td>NaN</td>\n",
              "      <td>NaN</td>\n",
              "      <td>NaN</td>\n",
              "      <td>NaN</td>\n",
              "      <td>NaN</td>\n",
              "      <td>NaN</td>\n",
              "      <td>NaN</td>\n",
              "      <td>NaN</td>\n",
              "      <td>NaN</td>\n",
              "      <td>NaN</td>\n",
              "      <td>NaN</td>\n",
              "      <td>NaN</td>\n",
              "      <td>NaN</td>\n",
              "      <td>ar</td>\n",
              "      <td>NaN</td>\n",
              "      <td>NaN</td>\n",
              "      <td>NaN</td>\n",
              "    </tr>\n",
              "    <tr>\n",
              "      <th>2</th>\n",
              "      <td>7221797935</td>\n",
              "      <td>https://keys.craigslist.org/cto/d/summerland-k...</td>\n",
              "      <td>florida keys</td>\n",
              "      <td>https://keys.craigslist.org</td>\n",
              "      <td>21000</td>\n",
              "      <td>NaN</td>\n",
              "      <td>NaN</td>\n",
              "      <td>NaN</td>\n",
              "      <td>NaN</td>\n",
              "      <td>NaN</td>\n",
              "      <td>NaN</td>\n",
              "      <td>NaN</td>\n",
              "      <td>NaN</td>\n",
              "      <td>NaN</td>\n",
              "      <td>NaN</td>\n",
              "      <td>NaN</td>\n",
              "      <td>NaN</td>\n",
              "      <td>NaN</td>\n",
              "      <td>NaN</td>\n",
              "      <td>NaN</td>\n",
              "      <td>NaN</td>\n",
              "      <td>NaN</td>\n",
              "      <td>fl</td>\n",
              "      <td>NaN</td>\n",
              "      <td>NaN</td>\n",
              "      <td>NaN</td>\n",
              "    </tr>\n",
              "    <tr>\n",
              "      <th>3</th>\n",
              "      <td>7222270760</td>\n",
              "      <td>https://worcester.craigslist.org/cto/d/west-br...</td>\n",
              "      <td>worcester / central MA</td>\n",
              "      <td>https://worcester.craigslist.org</td>\n",
              "      <td>1500</td>\n",
              "      <td>NaN</td>\n",
              "      <td>NaN</td>\n",
              "      <td>NaN</td>\n",
              "      <td>NaN</td>\n",
              "      <td>NaN</td>\n",
              "      <td>NaN</td>\n",
              "      <td>NaN</td>\n",
              "      <td>NaN</td>\n",
              "      <td>NaN</td>\n",
              "      <td>NaN</td>\n",
              "      <td>NaN</td>\n",
              "      <td>NaN</td>\n",
              "      <td>NaN</td>\n",
              "      <td>NaN</td>\n",
              "      <td>NaN</td>\n",
              "      <td>NaN</td>\n",
              "      <td>NaN</td>\n",
              "      <td>ma</td>\n",
              "      <td>NaN</td>\n",
              "      <td>NaN</td>\n",
              "      <td>NaN</td>\n",
              "    </tr>\n",
              "    <tr>\n",
              "      <th>4</th>\n",
              "      <td>7210384030</td>\n",
              "      <td>https://greensboro.craigslist.org/cto/d/trinit...</td>\n",
              "      <td>greensboro</td>\n",
              "      <td>https://greensboro.craigslist.org</td>\n",
              "      <td>4900</td>\n",
              "      <td>NaN</td>\n",
              "      <td>NaN</td>\n",
              "      <td>NaN</td>\n",
              "      <td>NaN</td>\n",
              "      <td>NaN</td>\n",
              "      <td>NaN</td>\n",
              "      <td>NaN</td>\n",
              "      <td>NaN</td>\n",
              "      <td>NaN</td>\n",
              "      <td>NaN</td>\n",
              "      <td>NaN</td>\n",
              "      <td>NaN</td>\n",
              "      <td>NaN</td>\n",
              "      <td>NaN</td>\n",
              "      <td>NaN</td>\n",
              "      <td>NaN</td>\n",
              "      <td>NaN</td>\n",
              "      <td>nc</td>\n",
              "      <td>NaN</td>\n",
              "      <td>NaN</td>\n",
              "      <td>NaN</td>\n",
              "    </tr>\n",
              "  </tbody>\n",
              "</table>\n",
              "</div>\n",
              "      <button class=\"colab-df-convert\" onclick=\"convertToInteractive('df-20b13e3a-5f7c-4e1e-9d0a-2d26f4da1215')\"\n",
              "              title=\"Convert this dataframe to an interactive table.\"\n",
              "              style=\"display:none;\">\n",
              "        \n",
              "  <svg xmlns=\"http://www.w3.org/2000/svg\" height=\"24px\"viewBox=\"0 0 24 24\"\n",
              "       width=\"24px\">\n",
              "    <path d=\"M0 0h24v24H0V0z\" fill=\"none\"/>\n",
              "    <path d=\"M18.56 5.44l.94 2.06.94-2.06 2.06-.94-2.06-.94-.94-2.06-.94 2.06-2.06.94zm-11 1L8.5 8.5l.94-2.06 2.06-.94-2.06-.94L8.5 2.5l-.94 2.06-2.06.94zm10 10l.94 2.06.94-2.06 2.06-.94-2.06-.94-.94-2.06-.94 2.06-2.06.94z\"/><path d=\"M17.41 7.96l-1.37-1.37c-.4-.4-.92-.59-1.43-.59-.52 0-1.04.2-1.43.59L10.3 9.45l-7.72 7.72c-.78.78-.78 2.05 0 2.83L4 21.41c.39.39.9.59 1.41.59.51 0 1.02-.2 1.41-.59l7.78-7.78 2.81-2.81c.8-.78.8-2.07 0-2.86zM5.41 20L4 18.59l7.72-7.72 1.47 1.35L5.41 20z\"/>\n",
              "  </svg>\n",
              "      </button>\n",
              "      \n",
              "  <style>\n",
              "    .colab-df-container {\n",
              "      display:flex;\n",
              "      flex-wrap:wrap;\n",
              "      gap: 12px;\n",
              "    }\n",
              "\n",
              "    .colab-df-convert {\n",
              "      background-color: #E8F0FE;\n",
              "      border: none;\n",
              "      border-radius: 50%;\n",
              "      cursor: pointer;\n",
              "      display: none;\n",
              "      fill: #1967D2;\n",
              "      height: 32px;\n",
              "      padding: 0 0 0 0;\n",
              "      width: 32px;\n",
              "    }\n",
              "\n",
              "    .colab-df-convert:hover {\n",
              "      background-color: #E2EBFA;\n",
              "      box-shadow: 0px 1px 2px rgba(60, 64, 67, 0.3), 0px 1px 3px 1px rgba(60, 64, 67, 0.15);\n",
              "      fill: #174EA6;\n",
              "    }\n",
              "\n",
              "    [theme=dark] .colab-df-convert {\n",
              "      background-color: #3B4455;\n",
              "      fill: #D2E3FC;\n",
              "    }\n",
              "\n",
              "    [theme=dark] .colab-df-convert:hover {\n",
              "      background-color: #434B5C;\n",
              "      box-shadow: 0px 1px 3px 1px rgba(0, 0, 0, 0.15);\n",
              "      filter: drop-shadow(0px 1px 2px rgba(0, 0, 0, 0.3));\n",
              "      fill: #FFFFFF;\n",
              "    }\n",
              "  </style>\n",
              "\n",
              "      <script>\n",
              "        const buttonEl =\n",
              "          document.querySelector('#df-20b13e3a-5f7c-4e1e-9d0a-2d26f4da1215 button.colab-df-convert');\n",
              "        buttonEl.style.display =\n",
              "          google.colab.kernel.accessAllowed ? 'block' : 'none';\n",
              "\n",
              "        async function convertToInteractive(key) {\n",
              "          const element = document.querySelector('#df-20b13e3a-5f7c-4e1e-9d0a-2d26f4da1215');\n",
              "          const dataTable =\n",
              "            await google.colab.kernel.invokeFunction('convertToInteractive',\n",
              "                                                     [key], {});\n",
              "          if (!dataTable) return;\n",
              "\n",
              "          const docLinkHtml = 'Like what you see? Visit the ' +\n",
              "            '<a target=\"_blank\" href=https://colab.research.google.com/notebooks/data_table.ipynb>data table notebook</a>'\n",
              "            + ' to learn more about interactive tables.';\n",
              "          element.innerHTML = '';\n",
              "          dataTable['output_type'] = 'display_data';\n",
              "          await google.colab.output.renderOutput(dataTable, element);\n",
              "          const docLink = document.createElement('div');\n",
              "          docLink.innerHTML = docLinkHtml;\n",
              "          element.appendChild(docLink);\n",
              "        }\n",
              "      </script>\n",
              "    </div>\n",
              "  </div>\n",
              "  "
            ],
            "text/plain": [
              "           id  ... posting_date\n",
              "0  7222695916  ...          NaN\n",
              "1  7218891961  ...          NaN\n",
              "2  7221797935  ...          NaN\n",
              "3  7222270760  ...          NaN\n",
              "4  7210384030  ...          NaN\n",
              "\n",
              "[5 rows x 26 columns]"
            ]
          },
          "metadata": {},
          "execution_count": 5
        }
      ]
    },
    {
      "cell_type": "code",
      "source": [
        "df.info()"
      ],
      "metadata": {
        "colab": {
          "base_uri": "https://localhost:8080/"
        },
        "id": "SIWVsFh_poV0",
        "outputId": "c96d0581-13af-4564-cfe5-acd07e3037fb"
      },
      "execution_count": 6,
      "outputs": [
        {
          "output_type": "stream",
          "name": "stdout",
          "text": [
            "<class 'pandas.core.frame.DataFrame'>\n",
            "RangeIndex: 426880 entries, 0 to 426879\n",
            "Data columns (total 26 columns):\n",
            " #   Column        Non-Null Count   Dtype  \n",
            "---  ------        --------------   -----  \n",
            " 0   id            426880 non-null  int64  \n",
            " 1   url           426880 non-null  object \n",
            " 2   region        426880 non-null  object \n",
            " 3   region_url    426880 non-null  object \n",
            " 4   price         426880 non-null  int64  \n",
            " 5   year          425675 non-null  float64\n",
            " 6   manufacturer  409234 non-null  object \n",
            " 7   model         421603 non-null  object \n",
            " 8   condition     252776 non-null  object \n",
            " 9   cylinders     249202 non-null  object \n",
            " 10  fuel          423867 non-null  object \n",
            " 11  odometer      422480 non-null  float64\n",
            " 12  title_status  418638 non-null  object \n",
            " 13  transmission  424324 non-null  object \n",
            " 14  VIN           265838 non-null  object \n",
            " 15  drive         296313 non-null  object \n",
            " 16  size          120519 non-null  object \n",
            " 17  type          334022 non-null  object \n",
            " 18  paint_color   296677 non-null  object \n",
            " 19  image_url     426812 non-null  object \n",
            " 20  description   426810 non-null  object \n",
            " 21  county        0 non-null       float64\n",
            " 22  state         426880 non-null  object \n",
            " 23  lat           420331 non-null  float64\n",
            " 24  long          420331 non-null  float64\n",
            " 25  posting_date  426812 non-null  object \n",
            "dtypes: float64(5), int64(2), object(19)\n",
            "memory usage: 84.7+ MB\n"
          ]
        }
      ]
    },
    {
      "cell_type": "code",
      "source": [
        "df.isna().sum()"
      ],
      "metadata": {
        "colab": {
          "base_uri": "https://localhost:8080/"
        },
        "id": "5tpHLpXlqtle",
        "outputId": "7b7385d1-2714-4dd0-e0cb-4120165d006e"
      },
      "execution_count": 7,
      "outputs": [
        {
          "output_type": "execute_result",
          "data": {
            "text/plain": [
              "id                   0\n",
              "url                  0\n",
              "region               0\n",
              "region_url           0\n",
              "price                0\n",
              "year              1205\n",
              "manufacturer     17646\n",
              "model             5277\n",
              "condition       174104\n",
              "cylinders       177678\n",
              "fuel              3013\n",
              "odometer          4400\n",
              "title_status      8242\n",
              "transmission      2556\n",
              "VIN             161042\n",
              "drive           130567\n",
              "size            306361\n",
              "type             92858\n",
              "paint_color     130203\n",
              "image_url           68\n",
              "description         70\n",
              "county          426880\n",
              "state                0\n",
              "lat               6549\n",
              "long              6549\n",
              "posting_date        68\n",
              "dtype: int64"
            ]
          },
          "metadata": {},
          "execution_count": 7
        }
      ]
    },
    {
      "cell_type": "code",
      "source": [
        "# Price의 경우 null값이 0으로 들어갔을 수 있음. outlier확인 필요가 있음\n",
        "# year가 1900인경우 이상치\n",
        "# odometer 역시 null값이 0으로 들어간것으로 추정.\n",
        "df.describe()"
      ],
      "metadata": {
        "colab": {
          "base_uri": "https://localhost:8080/",
          "height": 300
        },
        "id": "fZHxmCvZrSJB",
        "outputId": "fcb3f4c6-d07d-4e97-815d-4a3fd9d8a066"
      },
      "execution_count": 8,
      "outputs": [
        {
          "output_type": "execute_result",
          "data": {
            "text/html": [
              "\n",
              "  <div id=\"df-ab2fd094-4603-4944-9382-e50ba63dbb24\">\n",
              "    <div class=\"colab-df-container\">\n",
              "      <div>\n",
              "<style scoped>\n",
              "    .dataframe tbody tr th:only-of-type {\n",
              "        vertical-align: middle;\n",
              "    }\n",
              "\n",
              "    .dataframe tbody tr th {\n",
              "        vertical-align: top;\n",
              "    }\n",
              "\n",
              "    .dataframe thead th {\n",
              "        text-align: right;\n",
              "    }\n",
              "</style>\n",
              "<table border=\"1\" class=\"dataframe\">\n",
              "  <thead>\n",
              "    <tr style=\"text-align: right;\">\n",
              "      <th></th>\n",
              "      <th>id</th>\n",
              "      <th>price</th>\n",
              "      <th>year</th>\n",
              "      <th>odometer</th>\n",
              "      <th>county</th>\n",
              "      <th>lat</th>\n",
              "      <th>long</th>\n",
              "    </tr>\n",
              "  </thead>\n",
              "  <tbody>\n",
              "    <tr>\n",
              "      <th>count</th>\n",
              "      <td>4.268800e+05</td>\n",
              "      <td>4.268800e+05</td>\n",
              "      <td>425675.000000</td>\n",
              "      <td>4.224800e+05</td>\n",
              "      <td>0.0</td>\n",
              "      <td>420331.000000</td>\n",
              "      <td>420331.000000</td>\n",
              "    </tr>\n",
              "    <tr>\n",
              "      <th>mean</th>\n",
              "      <td>7.311487e+09</td>\n",
              "      <td>7.519903e+04</td>\n",
              "      <td>2011.235191</td>\n",
              "      <td>9.804333e+04</td>\n",
              "      <td>NaN</td>\n",
              "      <td>38.493940</td>\n",
              "      <td>-94.748599</td>\n",
              "    </tr>\n",
              "    <tr>\n",
              "      <th>std</th>\n",
              "      <td>4.473170e+06</td>\n",
              "      <td>1.218228e+07</td>\n",
              "      <td>9.452120</td>\n",
              "      <td>2.138815e+05</td>\n",
              "      <td>NaN</td>\n",
              "      <td>5.841533</td>\n",
              "      <td>18.365462</td>\n",
              "    </tr>\n",
              "    <tr>\n",
              "      <th>min</th>\n",
              "      <td>7.207408e+09</td>\n",
              "      <td>0.000000e+00</td>\n",
              "      <td>1900.000000</td>\n",
              "      <td>0.000000e+00</td>\n",
              "      <td>NaN</td>\n",
              "      <td>-84.122245</td>\n",
              "      <td>-159.827728</td>\n",
              "    </tr>\n",
              "    <tr>\n",
              "      <th>25%</th>\n",
              "      <td>7.308143e+09</td>\n",
              "      <td>5.900000e+03</td>\n",
              "      <td>2008.000000</td>\n",
              "      <td>3.770400e+04</td>\n",
              "      <td>NaN</td>\n",
              "      <td>34.601900</td>\n",
              "      <td>-111.939847</td>\n",
              "    </tr>\n",
              "    <tr>\n",
              "      <th>50%</th>\n",
              "      <td>7.312621e+09</td>\n",
              "      <td>1.395000e+04</td>\n",
              "      <td>2013.000000</td>\n",
              "      <td>8.554800e+04</td>\n",
              "      <td>NaN</td>\n",
              "      <td>39.150100</td>\n",
              "      <td>-88.432600</td>\n",
              "    </tr>\n",
              "    <tr>\n",
              "      <th>75%</th>\n",
              "      <td>7.315254e+09</td>\n",
              "      <td>2.648575e+04</td>\n",
              "      <td>2017.000000</td>\n",
              "      <td>1.335425e+05</td>\n",
              "      <td>NaN</td>\n",
              "      <td>42.398900</td>\n",
              "      <td>-80.832039</td>\n",
              "    </tr>\n",
              "    <tr>\n",
              "      <th>max</th>\n",
              "      <td>7.317101e+09</td>\n",
              "      <td>3.736929e+09</td>\n",
              "      <td>2022.000000</td>\n",
              "      <td>1.000000e+07</td>\n",
              "      <td>NaN</td>\n",
              "      <td>82.390818</td>\n",
              "      <td>173.885502</td>\n",
              "    </tr>\n",
              "  </tbody>\n",
              "</table>\n",
              "</div>\n",
              "      <button class=\"colab-df-convert\" onclick=\"convertToInteractive('df-ab2fd094-4603-4944-9382-e50ba63dbb24')\"\n",
              "              title=\"Convert this dataframe to an interactive table.\"\n",
              "              style=\"display:none;\">\n",
              "        \n",
              "  <svg xmlns=\"http://www.w3.org/2000/svg\" height=\"24px\"viewBox=\"0 0 24 24\"\n",
              "       width=\"24px\">\n",
              "    <path d=\"M0 0h24v24H0V0z\" fill=\"none\"/>\n",
              "    <path d=\"M18.56 5.44l.94 2.06.94-2.06 2.06-.94-2.06-.94-.94-2.06-.94 2.06-2.06.94zm-11 1L8.5 8.5l.94-2.06 2.06-.94-2.06-.94L8.5 2.5l-.94 2.06-2.06.94zm10 10l.94 2.06.94-2.06 2.06-.94-2.06-.94-.94-2.06-.94 2.06-2.06.94z\"/><path d=\"M17.41 7.96l-1.37-1.37c-.4-.4-.92-.59-1.43-.59-.52 0-1.04.2-1.43.59L10.3 9.45l-7.72 7.72c-.78.78-.78 2.05 0 2.83L4 21.41c.39.39.9.59 1.41.59.51 0 1.02-.2 1.41-.59l7.78-7.78 2.81-2.81c.8-.78.8-2.07 0-2.86zM5.41 20L4 18.59l7.72-7.72 1.47 1.35L5.41 20z\"/>\n",
              "  </svg>\n",
              "      </button>\n",
              "      \n",
              "  <style>\n",
              "    .colab-df-container {\n",
              "      display:flex;\n",
              "      flex-wrap:wrap;\n",
              "      gap: 12px;\n",
              "    }\n",
              "\n",
              "    .colab-df-convert {\n",
              "      background-color: #E8F0FE;\n",
              "      border: none;\n",
              "      border-radius: 50%;\n",
              "      cursor: pointer;\n",
              "      display: none;\n",
              "      fill: #1967D2;\n",
              "      height: 32px;\n",
              "      padding: 0 0 0 0;\n",
              "      width: 32px;\n",
              "    }\n",
              "\n",
              "    .colab-df-convert:hover {\n",
              "      background-color: #E2EBFA;\n",
              "      box-shadow: 0px 1px 2px rgba(60, 64, 67, 0.3), 0px 1px 3px 1px rgba(60, 64, 67, 0.15);\n",
              "      fill: #174EA6;\n",
              "    }\n",
              "\n",
              "    [theme=dark] .colab-df-convert {\n",
              "      background-color: #3B4455;\n",
              "      fill: #D2E3FC;\n",
              "    }\n",
              "\n",
              "    [theme=dark] .colab-df-convert:hover {\n",
              "      background-color: #434B5C;\n",
              "      box-shadow: 0px 1px 3px 1px rgba(0, 0, 0, 0.15);\n",
              "      filter: drop-shadow(0px 1px 2px rgba(0, 0, 0, 0.3));\n",
              "      fill: #FFFFFF;\n",
              "    }\n",
              "  </style>\n",
              "\n",
              "      <script>\n",
              "        const buttonEl =\n",
              "          document.querySelector('#df-ab2fd094-4603-4944-9382-e50ba63dbb24 button.colab-df-convert');\n",
              "        buttonEl.style.display =\n",
              "          google.colab.kernel.accessAllowed ? 'block' : 'none';\n",
              "\n",
              "        async function convertToInteractive(key) {\n",
              "          const element = document.querySelector('#df-ab2fd094-4603-4944-9382-e50ba63dbb24');\n",
              "          const dataTable =\n",
              "            await google.colab.kernel.invokeFunction('convertToInteractive',\n",
              "                                                     [key], {});\n",
              "          if (!dataTable) return;\n",
              "\n",
              "          const docLinkHtml = 'Like what you see? Visit the ' +\n",
              "            '<a target=\"_blank\" href=https://colab.research.google.com/notebooks/data_table.ipynb>data table notebook</a>'\n",
              "            + ' to learn more about interactive tables.';\n",
              "          element.innerHTML = '';\n",
              "          dataTable['output_type'] = 'display_data';\n",
              "          await google.colab.output.renderOutput(dataTable, element);\n",
              "          const docLink = document.createElement('div');\n",
              "          docLink.innerHTML = docLinkHtml;\n",
              "          element.appendChild(docLink);\n",
              "        }\n",
              "      </script>\n",
              "    </div>\n",
              "  </div>\n",
              "  "
            ],
            "text/plain": [
              "                 id         price  ...            lat           long\n",
              "count  4.268800e+05  4.268800e+05  ...  420331.000000  420331.000000\n",
              "mean   7.311487e+09  7.519903e+04  ...      38.493940     -94.748599\n",
              "std    4.473170e+06  1.218228e+07  ...       5.841533      18.365462\n",
              "min    7.207408e+09  0.000000e+00  ...     -84.122245    -159.827728\n",
              "25%    7.308143e+09  5.900000e+03  ...      34.601900    -111.939847\n",
              "50%    7.312621e+09  1.395000e+04  ...      39.150100     -88.432600\n",
              "75%    7.315254e+09  2.648575e+04  ...      42.398900     -80.832039\n",
              "max    7.317101e+09  3.736929e+09  ...      82.390818     173.885502\n",
              "\n",
              "[8 rows x 7 columns]"
            ]
          },
          "metadata": {},
          "execution_count": 8
        }
      ]
    },
    {
      "cell_type": "code",
      "source": [
        "data = df.copy()"
      ],
      "metadata": {
        "id": "7v1BhSzYucDW"
      },
      "execution_count": 9,
      "outputs": []
    },
    {
      "cell_type": "code",
      "source": [
        "print(data.shape)\n",
        "data.head()"
      ],
      "metadata": {
        "colab": {
          "base_uri": "https://localhost:8080/",
          "height": 323
        },
        "id": "eDQfaDvPueyD",
        "outputId": "3d0e8931-01d2-4cc2-87ed-3e265b9dbe9e"
      },
      "execution_count": 10,
      "outputs": [
        {
          "output_type": "stream",
          "name": "stdout",
          "text": [
            "(426880, 26)\n"
          ]
        },
        {
          "output_type": "execute_result",
          "data": {
            "text/html": [
              "\n",
              "  <div id=\"df-bbcc35da-b1fe-4baf-83b7-7b112e255db3\">\n",
              "    <div class=\"colab-df-container\">\n",
              "      <div>\n",
              "<style scoped>\n",
              "    .dataframe tbody tr th:only-of-type {\n",
              "        vertical-align: middle;\n",
              "    }\n",
              "\n",
              "    .dataframe tbody tr th {\n",
              "        vertical-align: top;\n",
              "    }\n",
              "\n",
              "    .dataframe thead th {\n",
              "        text-align: right;\n",
              "    }\n",
              "</style>\n",
              "<table border=\"1\" class=\"dataframe\">\n",
              "  <thead>\n",
              "    <tr style=\"text-align: right;\">\n",
              "      <th></th>\n",
              "      <th>id</th>\n",
              "      <th>url</th>\n",
              "      <th>region</th>\n",
              "      <th>region_url</th>\n",
              "      <th>price</th>\n",
              "      <th>year</th>\n",
              "      <th>manufacturer</th>\n",
              "      <th>model</th>\n",
              "      <th>condition</th>\n",
              "      <th>cylinders</th>\n",
              "      <th>fuel</th>\n",
              "      <th>odometer</th>\n",
              "      <th>title_status</th>\n",
              "      <th>transmission</th>\n",
              "      <th>VIN</th>\n",
              "      <th>drive</th>\n",
              "      <th>size</th>\n",
              "      <th>type</th>\n",
              "      <th>paint_color</th>\n",
              "      <th>image_url</th>\n",
              "      <th>description</th>\n",
              "      <th>county</th>\n",
              "      <th>state</th>\n",
              "      <th>lat</th>\n",
              "      <th>long</th>\n",
              "      <th>posting_date</th>\n",
              "    </tr>\n",
              "  </thead>\n",
              "  <tbody>\n",
              "    <tr>\n",
              "      <th>0</th>\n",
              "      <td>7222695916</td>\n",
              "      <td>https://prescott.craigslist.org/cto/d/prescott...</td>\n",
              "      <td>prescott</td>\n",
              "      <td>https://prescott.craigslist.org</td>\n",
              "      <td>6000</td>\n",
              "      <td>NaN</td>\n",
              "      <td>NaN</td>\n",
              "      <td>NaN</td>\n",
              "      <td>NaN</td>\n",
              "      <td>NaN</td>\n",
              "      <td>NaN</td>\n",
              "      <td>NaN</td>\n",
              "      <td>NaN</td>\n",
              "      <td>NaN</td>\n",
              "      <td>NaN</td>\n",
              "      <td>NaN</td>\n",
              "      <td>NaN</td>\n",
              "      <td>NaN</td>\n",
              "      <td>NaN</td>\n",
              "      <td>NaN</td>\n",
              "      <td>NaN</td>\n",
              "      <td>NaN</td>\n",
              "      <td>az</td>\n",
              "      <td>NaN</td>\n",
              "      <td>NaN</td>\n",
              "      <td>NaN</td>\n",
              "    </tr>\n",
              "    <tr>\n",
              "      <th>1</th>\n",
              "      <td>7218891961</td>\n",
              "      <td>https://fayar.craigslist.org/ctd/d/bentonville...</td>\n",
              "      <td>fayetteville</td>\n",
              "      <td>https://fayar.craigslist.org</td>\n",
              "      <td>11900</td>\n",
              "      <td>NaN</td>\n",
              "      <td>NaN</td>\n",
              "      <td>NaN</td>\n",
              "      <td>NaN</td>\n",
              "      <td>NaN</td>\n",
              "      <td>NaN</td>\n",
              "      <td>NaN</td>\n",
              "      <td>NaN</td>\n",
              "      <td>NaN</td>\n",
              "      <td>NaN</td>\n",
              "      <td>NaN</td>\n",
              "      <td>NaN</td>\n",
              "      <td>NaN</td>\n",
              "      <td>NaN</td>\n",
              "      <td>NaN</td>\n",
              "      <td>NaN</td>\n",
              "      <td>NaN</td>\n",
              "      <td>ar</td>\n",
              "      <td>NaN</td>\n",
              "      <td>NaN</td>\n",
              "      <td>NaN</td>\n",
              "    </tr>\n",
              "    <tr>\n",
              "      <th>2</th>\n",
              "      <td>7221797935</td>\n",
              "      <td>https://keys.craigslist.org/cto/d/summerland-k...</td>\n",
              "      <td>florida keys</td>\n",
              "      <td>https://keys.craigslist.org</td>\n",
              "      <td>21000</td>\n",
              "      <td>NaN</td>\n",
              "      <td>NaN</td>\n",
              "      <td>NaN</td>\n",
              "      <td>NaN</td>\n",
              "      <td>NaN</td>\n",
              "      <td>NaN</td>\n",
              "      <td>NaN</td>\n",
              "      <td>NaN</td>\n",
              "      <td>NaN</td>\n",
              "      <td>NaN</td>\n",
              "      <td>NaN</td>\n",
              "      <td>NaN</td>\n",
              "      <td>NaN</td>\n",
              "      <td>NaN</td>\n",
              "      <td>NaN</td>\n",
              "      <td>NaN</td>\n",
              "      <td>NaN</td>\n",
              "      <td>fl</td>\n",
              "      <td>NaN</td>\n",
              "      <td>NaN</td>\n",
              "      <td>NaN</td>\n",
              "    </tr>\n",
              "    <tr>\n",
              "      <th>3</th>\n",
              "      <td>7222270760</td>\n",
              "      <td>https://worcester.craigslist.org/cto/d/west-br...</td>\n",
              "      <td>worcester / central MA</td>\n",
              "      <td>https://worcester.craigslist.org</td>\n",
              "      <td>1500</td>\n",
              "      <td>NaN</td>\n",
              "      <td>NaN</td>\n",
              "      <td>NaN</td>\n",
              "      <td>NaN</td>\n",
              "      <td>NaN</td>\n",
              "      <td>NaN</td>\n",
              "      <td>NaN</td>\n",
              "      <td>NaN</td>\n",
              "      <td>NaN</td>\n",
              "      <td>NaN</td>\n",
              "      <td>NaN</td>\n",
              "      <td>NaN</td>\n",
              "      <td>NaN</td>\n",
              "      <td>NaN</td>\n",
              "      <td>NaN</td>\n",
              "      <td>NaN</td>\n",
              "      <td>NaN</td>\n",
              "      <td>ma</td>\n",
              "      <td>NaN</td>\n",
              "      <td>NaN</td>\n",
              "      <td>NaN</td>\n",
              "    </tr>\n",
              "    <tr>\n",
              "      <th>4</th>\n",
              "      <td>7210384030</td>\n",
              "      <td>https://greensboro.craigslist.org/cto/d/trinit...</td>\n",
              "      <td>greensboro</td>\n",
              "      <td>https://greensboro.craigslist.org</td>\n",
              "      <td>4900</td>\n",
              "      <td>NaN</td>\n",
              "      <td>NaN</td>\n",
              "      <td>NaN</td>\n",
              "      <td>NaN</td>\n",
              "      <td>NaN</td>\n",
              "      <td>NaN</td>\n",
              "      <td>NaN</td>\n",
              "      <td>NaN</td>\n",
              "      <td>NaN</td>\n",
              "      <td>NaN</td>\n",
              "      <td>NaN</td>\n",
              "      <td>NaN</td>\n",
              "      <td>NaN</td>\n",
              "      <td>NaN</td>\n",
              "      <td>NaN</td>\n",
              "      <td>NaN</td>\n",
              "      <td>NaN</td>\n",
              "      <td>nc</td>\n",
              "      <td>NaN</td>\n",
              "      <td>NaN</td>\n",
              "      <td>NaN</td>\n",
              "    </tr>\n",
              "  </tbody>\n",
              "</table>\n",
              "</div>\n",
              "      <button class=\"colab-df-convert\" onclick=\"convertToInteractive('df-bbcc35da-b1fe-4baf-83b7-7b112e255db3')\"\n",
              "              title=\"Convert this dataframe to an interactive table.\"\n",
              "              style=\"display:none;\">\n",
              "        \n",
              "  <svg xmlns=\"http://www.w3.org/2000/svg\" height=\"24px\"viewBox=\"0 0 24 24\"\n",
              "       width=\"24px\">\n",
              "    <path d=\"M0 0h24v24H0V0z\" fill=\"none\"/>\n",
              "    <path d=\"M18.56 5.44l.94 2.06.94-2.06 2.06-.94-2.06-.94-.94-2.06-.94 2.06-2.06.94zm-11 1L8.5 8.5l.94-2.06 2.06-.94-2.06-.94L8.5 2.5l-.94 2.06-2.06.94zm10 10l.94 2.06.94-2.06 2.06-.94-2.06-.94-.94-2.06-.94 2.06-2.06.94z\"/><path d=\"M17.41 7.96l-1.37-1.37c-.4-.4-.92-.59-1.43-.59-.52 0-1.04.2-1.43.59L10.3 9.45l-7.72 7.72c-.78.78-.78 2.05 0 2.83L4 21.41c.39.39.9.59 1.41.59.51 0 1.02-.2 1.41-.59l7.78-7.78 2.81-2.81c.8-.78.8-2.07 0-2.86zM5.41 20L4 18.59l7.72-7.72 1.47 1.35L5.41 20z\"/>\n",
              "  </svg>\n",
              "      </button>\n",
              "      \n",
              "  <style>\n",
              "    .colab-df-container {\n",
              "      display:flex;\n",
              "      flex-wrap:wrap;\n",
              "      gap: 12px;\n",
              "    }\n",
              "\n",
              "    .colab-df-convert {\n",
              "      background-color: #E8F0FE;\n",
              "      border: none;\n",
              "      border-radius: 50%;\n",
              "      cursor: pointer;\n",
              "      display: none;\n",
              "      fill: #1967D2;\n",
              "      height: 32px;\n",
              "      padding: 0 0 0 0;\n",
              "      width: 32px;\n",
              "    }\n",
              "\n",
              "    .colab-df-convert:hover {\n",
              "      background-color: #E2EBFA;\n",
              "      box-shadow: 0px 1px 2px rgba(60, 64, 67, 0.3), 0px 1px 3px 1px rgba(60, 64, 67, 0.15);\n",
              "      fill: #174EA6;\n",
              "    }\n",
              "\n",
              "    [theme=dark] .colab-df-convert {\n",
              "      background-color: #3B4455;\n",
              "      fill: #D2E3FC;\n",
              "    }\n",
              "\n",
              "    [theme=dark] .colab-df-convert:hover {\n",
              "      background-color: #434B5C;\n",
              "      box-shadow: 0px 1px 3px 1px rgba(0, 0, 0, 0.15);\n",
              "      filter: drop-shadow(0px 1px 2px rgba(0, 0, 0, 0.3));\n",
              "      fill: #FFFFFF;\n",
              "    }\n",
              "  </style>\n",
              "\n",
              "      <script>\n",
              "        const buttonEl =\n",
              "          document.querySelector('#df-bbcc35da-b1fe-4baf-83b7-7b112e255db3 button.colab-df-convert');\n",
              "        buttonEl.style.display =\n",
              "          google.colab.kernel.accessAllowed ? 'block' : 'none';\n",
              "\n",
              "        async function convertToInteractive(key) {\n",
              "          const element = document.querySelector('#df-bbcc35da-b1fe-4baf-83b7-7b112e255db3');\n",
              "          const dataTable =\n",
              "            await google.colab.kernel.invokeFunction('convertToInteractive',\n",
              "                                                     [key], {});\n",
              "          if (!dataTable) return;\n",
              "\n",
              "          const docLinkHtml = 'Like what you see? Visit the ' +\n",
              "            '<a target=\"_blank\" href=https://colab.research.google.com/notebooks/data_table.ipynb>data table notebook</a>'\n",
              "            + ' to learn more about interactive tables.';\n",
              "          element.innerHTML = '';\n",
              "          dataTable['output_type'] = 'display_data';\n",
              "          await google.colab.output.renderOutput(dataTable, element);\n",
              "          const docLink = document.createElement('div');\n",
              "          docLink.innerHTML = docLinkHtml;\n",
              "          element.appendChild(docLink);\n",
              "        }\n",
              "      </script>\n",
              "    </div>\n",
              "  </div>\n",
              "  "
            ],
            "text/plain": [
              "           id  ... posting_date\n",
              "0  7222695916  ...          NaN\n",
              "1  7218891961  ...          NaN\n",
              "2  7221797935  ...          NaN\n",
              "3  7222270760  ...          NaN\n",
              "4  7210384030  ...          NaN\n",
              "\n",
              "[5 rows x 26 columns]"
            ]
          },
          "metadata": {},
          "execution_count": 10
        }
      ]
    },
    {
      "cell_type": "code",
      "source": [
        "data.columns"
      ],
      "metadata": {
        "colab": {
          "base_uri": "https://localhost:8080/"
        },
        "id": "uR0DsEUxuEbJ",
        "outputId": "d8c69df1-0a9c-4ade-e7cc-e2857f62f690"
      },
      "execution_count": 11,
      "outputs": [
        {
          "output_type": "execute_result",
          "data": {
            "text/plain": [
              "Index(['id', 'url', 'region', 'region_url', 'price', 'year', 'manufacturer',\n",
              "       'model', 'condition', 'cylinders', 'fuel', 'odometer', 'title_status',\n",
              "       'transmission', 'VIN', 'drive', 'size', 'type', 'paint_color',\n",
              "       'image_url', 'description', 'county', 'state', 'lat', 'long',\n",
              "       'posting_date'],\n",
              "      dtype='object')"
            ]
          },
          "metadata": {},
          "execution_count": 11
        }
      ]
    },
    {
      "cell_type": "code",
      "source": [
        "# 불필요컬럼 제거\n",
        "unneccessary_columns = ['id',             # 중고차 거래의 아이디 (entry ID)\n",
        "                        'url',            # 중고차 거래 페이지 (listing URL)\n",
        "                        #'region',        # 해당 거래의 관리 지점 (craigslist region)\n",
        "                        'region_url',     # 거래 관리 지점의 홈페이지 (region URL)\n",
        "                        #'price',         # 자동차 가격 (entry price)\n",
        "                        #'year',          # 자동차 생산년도 (entry year)\n",
        "                        #'manufacturer',  # 자동차 제조사 (manufacturer of vehicle)\n",
        "                        #'model',         # 자동차 모델명 (model of vehicle)\n",
        "                        #'condition',     # 자동차 상태 (condition of vehicle)\n",
        "                        #'cylinders',     # 자동차 기통 수 (number of cylinders)\n",
        "                        #'fuel',          # 자동차 연료 타입 (fuel type)\n",
        "                        #'odometer',      # 자동차 운행 마일 수 (miles traveled by vehicle)\n",
        "                        #'title_status',  # 자동차 타이틀 상태 (소유주 등록 상태) (title status of vehicle)\n",
        "                        #'transmission',  # 자동차 트랜스미션 종류 (transmission of vehicle)\n",
        "                        'VIN',            # 자동차 식별 번호 (vehicle identification number)\n",
        "                        #'drive',         # 자동차 구동 타입 (type of drive)\n",
        "                        #'size',          # 자동차 크기 (size of vehicle)\n",
        "                        #'type',          # 자동차 일반 타입 ex. 세단, suv, pickup, 등 ... (generic type of vehicle) \n",
        "                        #'paint_color',   # 자동차 색상 (color of vehicle)\n",
        "                        'image_url',      # 자동차 이미지 url (image URL)\n",
        "                        'description',    # 자동차 세부 설명 (listed description of vehicle)  -> 추후 자연어 처리를 통해 변수로 사용할 수 있을것 같음\n",
        "                        'county',         # 실수로 생성된 미사용 컬럼 (useless column left in by mistake)\n",
        "                        #'state',          # 거래가 등록된 주 (state of listing)              -> EDA 후 region과 state 중 하나 선택 \n",
        "                        'lat',            # 거래가 등록된 위치의 위도 (latitude of listing)   -> region을 살리므로 제거\n",
        "                        'long',           # 거래가 등록된 위치의 경도 (longitude of listing)  -> region을 살리므로 제거\n",
        "                        'posting_date'    # 거래가 포스팅된 일자 (posting_date)\n",
        "                        ]"
      ],
      "metadata": {
        "id": "Ow-9-Y3iuGVS"
      },
      "execution_count": 12,
      "outputs": []
    },
    {
      "cell_type": "code",
      "source": [
        "data.drop(unneccessary_columns, axis = 1, inplace = True)"
      ],
      "metadata": {
        "id": "C3F7pQQ8x07d"
      },
      "execution_count": 13,
      "outputs": []
    },
    {
      "cell_type": "code",
      "source": [
        "import datetime\n",
        "date = datetime.date.today()\n",
        "print(f\"Current Year -> {date.year}\")"
      ],
      "metadata": {
        "colab": {
          "base_uri": "https://localhost:8080/"
        },
        "id": "4tVlCtzOliK5",
        "outputId": "f682e27c-ecb1-4411-f91c-388bbf889843"
      },
      "execution_count": 14,
      "outputs": [
        {
          "output_type": "stream",
          "name": "stdout",
          "text": [
            "Current Year -> 2022\n"
          ]
        }
      ]
    },
    {
      "cell_type": "code",
      "source": [
        "# 자동차 생산 후 기간 컬럼 생성\n",
        "# 자동차 생산년도 정도가 있으므로 현재년도 - 생산년도 = 자동차 생산 후 기간 생성\n",
        "data['age'] = date.year - data['year']\n",
        "data.drop(['year'], axis = 1, inplace = True)"
      ],
      "metadata": {
        "id": "4_l72jaJyz-s"
      },
      "execution_count": 15,
      "outputs": []
    },
    {
      "cell_type": "code",
      "source": [
        "print(data.shape)\n",
        "data.head()"
      ],
      "metadata": {
        "colab": {
          "base_uri": "https://localhost:8080/",
          "height": 224
        },
        "id": "lQQR7CEByASF",
        "outputId": "9d7bfa1c-8d70-46ef-9996-20d113bb63b7"
      },
      "execution_count": 16,
      "outputs": [
        {
          "output_type": "stream",
          "name": "stdout",
          "text": [
            "(426880, 16)\n"
          ]
        },
        {
          "output_type": "execute_result",
          "data": {
            "text/html": [
              "\n",
              "  <div id=\"df-3ce74e14-60e2-491a-89c0-0b6da58c31c3\">\n",
              "    <div class=\"colab-df-container\">\n",
              "      <div>\n",
              "<style scoped>\n",
              "    .dataframe tbody tr th:only-of-type {\n",
              "        vertical-align: middle;\n",
              "    }\n",
              "\n",
              "    .dataframe tbody tr th {\n",
              "        vertical-align: top;\n",
              "    }\n",
              "\n",
              "    .dataframe thead th {\n",
              "        text-align: right;\n",
              "    }\n",
              "</style>\n",
              "<table border=\"1\" class=\"dataframe\">\n",
              "  <thead>\n",
              "    <tr style=\"text-align: right;\">\n",
              "      <th></th>\n",
              "      <th>region</th>\n",
              "      <th>price</th>\n",
              "      <th>manufacturer</th>\n",
              "      <th>model</th>\n",
              "      <th>condition</th>\n",
              "      <th>cylinders</th>\n",
              "      <th>fuel</th>\n",
              "      <th>odometer</th>\n",
              "      <th>title_status</th>\n",
              "      <th>transmission</th>\n",
              "      <th>drive</th>\n",
              "      <th>size</th>\n",
              "      <th>type</th>\n",
              "      <th>paint_color</th>\n",
              "      <th>state</th>\n",
              "      <th>age</th>\n",
              "    </tr>\n",
              "  </thead>\n",
              "  <tbody>\n",
              "    <tr>\n",
              "      <th>0</th>\n",
              "      <td>prescott</td>\n",
              "      <td>6000</td>\n",
              "      <td>NaN</td>\n",
              "      <td>NaN</td>\n",
              "      <td>NaN</td>\n",
              "      <td>NaN</td>\n",
              "      <td>NaN</td>\n",
              "      <td>NaN</td>\n",
              "      <td>NaN</td>\n",
              "      <td>NaN</td>\n",
              "      <td>NaN</td>\n",
              "      <td>NaN</td>\n",
              "      <td>NaN</td>\n",
              "      <td>NaN</td>\n",
              "      <td>az</td>\n",
              "      <td>NaN</td>\n",
              "    </tr>\n",
              "    <tr>\n",
              "      <th>1</th>\n",
              "      <td>fayetteville</td>\n",
              "      <td>11900</td>\n",
              "      <td>NaN</td>\n",
              "      <td>NaN</td>\n",
              "      <td>NaN</td>\n",
              "      <td>NaN</td>\n",
              "      <td>NaN</td>\n",
              "      <td>NaN</td>\n",
              "      <td>NaN</td>\n",
              "      <td>NaN</td>\n",
              "      <td>NaN</td>\n",
              "      <td>NaN</td>\n",
              "      <td>NaN</td>\n",
              "      <td>NaN</td>\n",
              "      <td>ar</td>\n",
              "      <td>NaN</td>\n",
              "    </tr>\n",
              "    <tr>\n",
              "      <th>2</th>\n",
              "      <td>florida keys</td>\n",
              "      <td>21000</td>\n",
              "      <td>NaN</td>\n",
              "      <td>NaN</td>\n",
              "      <td>NaN</td>\n",
              "      <td>NaN</td>\n",
              "      <td>NaN</td>\n",
              "      <td>NaN</td>\n",
              "      <td>NaN</td>\n",
              "      <td>NaN</td>\n",
              "      <td>NaN</td>\n",
              "      <td>NaN</td>\n",
              "      <td>NaN</td>\n",
              "      <td>NaN</td>\n",
              "      <td>fl</td>\n",
              "      <td>NaN</td>\n",
              "    </tr>\n",
              "    <tr>\n",
              "      <th>3</th>\n",
              "      <td>worcester / central MA</td>\n",
              "      <td>1500</td>\n",
              "      <td>NaN</td>\n",
              "      <td>NaN</td>\n",
              "      <td>NaN</td>\n",
              "      <td>NaN</td>\n",
              "      <td>NaN</td>\n",
              "      <td>NaN</td>\n",
              "      <td>NaN</td>\n",
              "      <td>NaN</td>\n",
              "      <td>NaN</td>\n",
              "      <td>NaN</td>\n",
              "      <td>NaN</td>\n",
              "      <td>NaN</td>\n",
              "      <td>ma</td>\n",
              "      <td>NaN</td>\n",
              "    </tr>\n",
              "    <tr>\n",
              "      <th>4</th>\n",
              "      <td>greensboro</td>\n",
              "      <td>4900</td>\n",
              "      <td>NaN</td>\n",
              "      <td>NaN</td>\n",
              "      <td>NaN</td>\n",
              "      <td>NaN</td>\n",
              "      <td>NaN</td>\n",
              "      <td>NaN</td>\n",
              "      <td>NaN</td>\n",
              "      <td>NaN</td>\n",
              "      <td>NaN</td>\n",
              "      <td>NaN</td>\n",
              "      <td>NaN</td>\n",
              "      <td>NaN</td>\n",
              "      <td>nc</td>\n",
              "      <td>NaN</td>\n",
              "    </tr>\n",
              "  </tbody>\n",
              "</table>\n",
              "</div>\n",
              "      <button class=\"colab-df-convert\" onclick=\"convertToInteractive('df-3ce74e14-60e2-491a-89c0-0b6da58c31c3')\"\n",
              "              title=\"Convert this dataframe to an interactive table.\"\n",
              "              style=\"display:none;\">\n",
              "        \n",
              "  <svg xmlns=\"http://www.w3.org/2000/svg\" height=\"24px\"viewBox=\"0 0 24 24\"\n",
              "       width=\"24px\">\n",
              "    <path d=\"M0 0h24v24H0V0z\" fill=\"none\"/>\n",
              "    <path d=\"M18.56 5.44l.94 2.06.94-2.06 2.06-.94-2.06-.94-.94-2.06-.94 2.06-2.06.94zm-11 1L8.5 8.5l.94-2.06 2.06-.94-2.06-.94L8.5 2.5l-.94 2.06-2.06.94zm10 10l.94 2.06.94-2.06 2.06-.94-2.06-.94-.94-2.06-.94 2.06-2.06.94z\"/><path d=\"M17.41 7.96l-1.37-1.37c-.4-.4-.92-.59-1.43-.59-.52 0-1.04.2-1.43.59L10.3 9.45l-7.72 7.72c-.78.78-.78 2.05 0 2.83L4 21.41c.39.39.9.59 1.41.59.51 0 1.02-.2 1.41-.59l7.78-7.78 2.81-2.81c.8-.78.8-2.07 0-2.86zM5.41 20L4 18.59l7.72-7.72 1.47 1.35L5.41 20z\"/>\n",
              "  </svg>\n",
              "      </button>\n",
              "      \n",
              "  <style>\n",
              "    .colab-df-container {\n",
              "      display:flex;\n",
              "      flex-wrap:wrap;\n",
              "      gap: 12px;\n",
              "    }\n",
              "\n",
              "    .colab-df-convert {\n",
              "      background-color: #E8F0FE;\n",
              "      border: none;\n",
              "      border-radius: 50%;\n",
              "      cursor: pointer;\n",
              "      display: none;\n",
              "      fill: #1967D2;\n",
              "      height: 32px;\n",
              "      padding: 0 0 0 0;\n",
              "      width: 32px;\n",
              "    }\n",
              "\n",
              "    .colab-df-convert:hover {\n",
              "      background-color: #E2EBFA;\n",
              "      box-shadow: 0px 1px 2px rgba(60, 64, 67, 0.3), 0px 1px 3px 1px rgba(60, 64, 67, 0.15);\n",
              "      fill: #174EA6;\n",
              "    }\n",
              "\n",
              "    [theme=dark] .colab-df-convert {\n",
              "      background-color: #3B4455;\n",
              "      fill: #D2E3FC;\n",
              "    }\n",
              "\n",
              "    [theme=dark] .colab-df-convert:hover {\n",
              "      background-color: #434B5C;\n",
              "      box-shadow: 0px 1px 3px 1px rgba(0, 0, 0, 0.15);\n",
              "      filter: drop-shadow(0px 1px 2px rgba(0, 0, 0, 0.3));\n",
              "      fill: #FFFFFF;\n",
              "    }\n",
              "  </style>\n",
              "\n",
              "      <script>\n",
              "        const buttonEl =\n",
              "          document.querySelector('#df-3ce74e14-60e2-491a-89c0-0b6da58c31c3 button.colab-df-convert');\n",
              "        buttonEl.style.display =\n",
              "          google.colab.kernel.accessAllowed ? 'block' : 'none';\n",
              "\n",
              "        async function convertToInteractive(key) {\n",
              "          const element = document.querySelector('#df-3ce74e14-60e2-491a-89c0-0b6da58c31c3');\n",
              "          const dataTable =\n",
              "            await google.colab.kernel.invokeFunction('convertToInteractive',\n",
              "                                                     [key], {});\n",
              "          if (!dataTable) return;\n",
              "\n",
              "          const docLinkHtml = 'Like what you see? Visit the ' +\n",
              "            '<a target=\"_blank\" href=https://colab.research.google.com/notebooks/data_table.ipynb>data table notebook</a>'\n",
              "            + ' to learn more about interactive tables.';\n",
              "          element.innerHTML = '';\n",
              "          dataTable['output_type'] = 'display_data';\n",
              "          await google.colab.output.renderOutput(dataTable, element);\n",
              "          const docLink = document.createElement('div');\n",
              "          docLink.innerHTML = docLinkHtml;\n",
              "          element.appendChild(docLink);\n",
              "        }\n",
              "      </script>\n",
              "    </div>\n",
              "  </div>\n",
              "  "
            ],
            "text/plain": [
              "                   region  price manufacturer model  ... type paint_color state  age\n",
              "0                prescott   6000          NaN   NaN  ...  NaN         NaN    az  NaN\n",
              "1            fayetteville  11900          NaN   NaN  ...  NaN         NaN    ar  NaN\n",
              "2            florida keys  21000          NaN   NaN  ...  NaN         NaN    fl  NaN\n",
              "3  worcester / central MA   1500          NaN   NaN  ...  NaN         NaN    ma  NaN\n",
              "4              greensboro   4900          NaN   NaN  ...  NaN         NaN    nc  NaN\n",
              "\n",
              "[5 rows x 16 columns]"
            ]
          },
          "metadata": {},
          "execution_count": 16
        }
      ]
    },
    {
      "cell_type": "markdown",
      "source": [
        "### 5. 범주형 데이터 분석\n"
      ],
      "metadata": {
        "id": "zINxIH_aaZIY"
      }
    },
    {
      "cell_type": "code",
      "source": [
        "data.columns"
      ],
      "metadata": {
        "colab": {
          "base_uri": "https://localhost:8080/"
        },
        "id": "1CQ44sC92-ju",
        "outputId": "8651141b-0189-4e05-8c4b-bb590340bc9d"
      },
      "execution_count": 17,
      "outputs": [
        {
          "output_type": "execute_result",
          "data": {
            "text/plain": [
              "Index(['region', 'price', 'manufacturer', 'model', 'condition', 'cylinders',\n",
              "       'fuel', 'odometer', 'title_status', 'transmission', 'drive', 'size',\n",
              "       'type', 'paint_color', 'state', 'age'],\n",
              "      dtype='object')"
            ]
          },
          "metadata": {},
          "execution_count": 17
        }
      ]
    },
    {
      "cell_type": "code",
      "source": [
        "print(\"num of region :\", len(data['region'].value_counts()))\n",
        "data['region'].value_counts()"
      ],
      "metadata": {
        "colab": {
          "base_uri": "https://localhost:8080/"
        },
        "id": "BNO0bcaQoRZR",
        "outputId": "fd036ab6-4060-457b-8555-cd6b5574a682"
      },
      "execution_count": 18,
      "outputs": [
        {
          "output_type": "stream",
          "name": "stdout",
          "text": [
            "num of region : 404\n"
          ]
        },
        {
          "output_type": "execute_result",
          "data": {
            "text/plain": [
              "columbus                   3608\n",
              "jacksonville               3562\n",
              "spokane / coeur d'alene    2988\n",
              "eugene                     2985\n",
              "fresno / madera            2983\n",
              "                           ... \n",
              "meridian                     28\n",
              "southwest MS                 14\n",
              "kansas city                  11\n",
              "fort smith, AR                9\n",
              "west virginia (old)           8\n",
              "Name: region, Length: 404, dtype: int64"
            ]
          },
          "metadata": {},
          "execution_count": 18
        }
      ]
    },
    {
      "cell_type": "markdown",
      "source": [
        "지역으로 봤을때 400개가 넘는 지역이 존재함."
      ],
      "metadata": {
        "id": "zaglzFQepfhc"
      }
    },
    {
      "cell_type": "code",
      "source": [
        "print(\"num of state :\", len(data['state'].value_counts()))\n",
        "data['state'].value_counts()"
      ],
      "metadata": {
        "colab": {
          "base_uri": "https://localhost:8080/"
        },
        "id": "D7JqZcUQoXip",
        "outputId": "afab2b89-8ab3-4f8f-f37a-d28d70b967af"
      },
      "execution_count": 19,
      "outputs": [
        {
          "output_type": "stream",
          "name": "stdout",
          "text": [
            "num of state : 51\n"
          ]
        },
        {
          "output_type": "execute_result",
          "data": {
            "text/plain": [
              "ca    50614\n",
              "fl    28511\n",
              "tx    22945\n",
              "ny    19386\n",
              "oh    17696\n",
              "or    17104\n",
              "mi    16900\n",
              "nc    15277\n",
              "wa    13861\n",
              "pa    13753\n",
              "wi    11398\n",
              "co    11088\n",
              "tn    11066\n",
              "va    10732\n",
              "il    10387\n",
              "nj     9742\n",
              "id     8961\n",
              "az     8679\n",
              "ia     8632\n",
              "ma     8174\n",
              "mn     7716\n",
              "ga     7003\n",
              "ok     6792\n",
              "sc     6327\n",
              "mt     6294\n",
              "ks     6209\n",
              "in     5704\n",
              "ct     5188\n",
              "al     4955\n",
              "md     4778\n",
              "nm     4425\n",
              "mo     4293\n",
              "ky     4149\n",
              "ar     4038\n",
              "ak     3474\n",
              "la     3196\n",
              "nv     3194\n",
              "nh     2981\n",
              "dc     2970\n",
              "me     2966\n",
              "hi     2964\n",
              "vt     2513\n",
              "ri     2320\n",
              "sd     1302\n",
              "ut     1150\n",
              "wv     1052\n",
              "ne     1036\n",
              "ms     1016\n",
              "de      949\n",
              "wy      610\n",
              "nd      410\n",
              "Name: state, dtype: int64"
            ]
          },
          "metadata": {},
          "execution_count": 19
        }
      ]
    },
    {
      "cell_type": "code",
      "source": [
        "# 분포확인\n",
        "import matplotlib.pyplot as plt\n",
        "import seaborn as sns\n",
        "\n",
        "plt.figure(figsize = (10,12))\n",
        "sns.countplot(y = 'state', data = data.fillna('None'), order = data.fillna('None')['state'].value_counts().index)"
      ],
      "metadata": {
        "colab": {
          "base_uri": "https://localhost:8080/",
          "height": 732
        },
        "id": "Z7RITU76o7Lf",
        "outputId": "a58284a8-f241-4949-ca48-3d90f0db7cec"
      },
      "execution_count": 20,
      "outputs": [
        {
          "output_type": "execute_result",
          "data": {
            "text/plain": [
              "<matplotlib.axes._subplots.AxesSubplot at 0x7f43580d9e90>"
            ]
          },
          "metadata": {},
          "execution_count": 20
        },
        {
          "output_type": "display_data",
          "data": {
            "image/png": "[encoded data removed]",
            "text/plain": [
              "<Figure size 720x864 with 1 Axes>"
            ]
          },
          "metadata": {
            "needs_background": "light"
          }
        }
      ]
    },
    {
      "cell_type": "markdown",
      "source": [
        "캘리포니아주의 비중이 가장 높으며, 플로리다, 텍사스 주에서도 많이 발생함. "
      ],
      "metadata": {
        "id": "6KHXTvCHpG3f"
      }
    },
    {
      "cell_type": "code",
      "source": [
        "print(\"num of manufacturer :\", len(data['manufacturer'].value_counts()))\n",
        "data['manufacturer'].value_counts()"
      ],
      "metadata": {
        "colab": {
          "base_uri": "https://localhost:8080/"
        },
        "id": "LBSG2XIgaZ_2",
        "outputId": "acd4a451-678a-4b33-8a1d-d5e809ce2744"
      },
      "execution_count": 21,
      "outputs": [
        {
          "output_type": "stream",
          "name": "stdout",
          "text": [
            "num of manufacturer : 42\n"
          ]
        },
        {
          "output_type": "execute_result",
          "data": {
            "text/plain": [
              "ford               70985\n",
              "chevrolet          55064\n",
              "toyota             34202\n",
              "honda              21269\n",
              "nissan             19067\n",
              "jeep               19014\n",
              "ram                18342\n",
              "gmc                16785\n",
              "bmw                14699\n",
              "dodge              13707\n",
              "mercedes-benz      11817\n",
              "hyundai            10338\n",
              "subaru              9495\n",
              "volkswagen          9345\n",
              "kia                 8457\n",
              "lexus               8200\n",
              "audi                7573\n",
              "cadillac            6953\n",
              "chrysler            6031\n",
              "acura               5978\n",
              "buick               5501\n",
              "mazda               5427\n",
              "infiniti            4802\n",
              "lincoln             4220\n",
              "volvo               3374\n",
              "mitsubishi          3292\n",
              "mini                2376\n",
              "pontiac             2288\n",
              "rover               2113\n",
              "jaguar              1946\n",
              "porsche             1384\n",
              "mercury             1184\n",
              "saturn              1090\n",
              "alfa-romeo           897\n",
              "tesla                868\n",
              "fiat                 792\n",
              "harley-davidson      153\n",
              "ferrari               95\n",
              "datsun                63\n",
              "aston-martin          24\n",
              "land rover            21\n",
              "morgan                 3\n",
              "Name: manufacturer, dtype: int64"
            ]
          },
          "metadata": {},
          "execution_count": 21
        }
      ]
    },
    {
      "cell_type": "code",
      "source": [
        "\n",
        "plt.figure(figsize = (10,12))\n",
        "sns.countplot(y = 'manufacturer', data = data.fillna('None'), order = data.fillna('None')['manufacturer'].value_counts().index)"
      ],
      "metadata": {
        "colab": {
          "base_uri": "https://localhost:8080/",
          "height": 732
        },
        "id": "Tjp-ang13Kn-",
        "outputId": "1b942831-8855-4466-9ba4-e7545254ec22"
      },
      "execution_count": 22,
      "outputs": [
        {
          "output_type": "execute_result",
          "data": {
            "text/plain": [
              "<matplotlib.axes._subplots.AxesSubplot at 0x7f43533487d0>"
            ]
          },
          "metadata": {},
          "execution_count": 22
        },
        {
          "output_type": "display_data",
          "data": {
            "image/png": "[encoded data removed]",
            "text/plain": [
              "<Figure size 720x864 with 1 Axes>"
            ]
          },
          "metadata": {
            "needs_background": "light"
          }
        }
      ]
    },
    {
      "cell_type": "markdown",
      "source": [
        "n/a 와 수가 적은 소수 카테고리들은 기타로 묶어줄 필요가 있어보임"
      ],
      "metadata": {
        "id": "aelNpCXJ4TK3"
      }
    },
    {
      "cell_type": "code",
      "source": [
        "print(\"num of model :\", len(data['model'].value_counts()))\n",
        "data['model'].value_counts()"
      ],
      "metadata": {
        "colab": {
          "base_uri": "https://localhost:8080/"
        },
        "id": "CR3GiGfT66zp",
        "outputId": "aff78e26-cbb5-4da1-f023-523ab7ceba5f"
      },
      "execution_count": 23,
      "outputs": [
        {
          "output_type": "stream",
          "name": "stdout",
          "text": [
            "num of model : 29667\n"
          ]
        },
        {
          "output_type": "execute_result",
          "data": {
            "text/plain": [
              "f-150                       8009\n",
              "silverado 1500              5140\n",
              "1500                        4211\n",
              "camry                       3135\n",
              "silverado                   3023\n",
              "                            ... \n",
              "Huyndai Sante Fe Limited       1\n",
              "astro awd 4x4                  1\n",
              "escalade and                   1\n",
              "cx 3                           1\n",
              "Paige Glenbrook Touring        1\n",
              "Name: model, Length: 29667, dtype: int64"
            ]
          },
          "metadata": {},
          "execution_count": 23
        }
      ]
    },
    {
      "cell_type": "markdown",
      "source": [
        "차량 모델 수도 많고 개인이 임의로 작성했기 때문에 같은 모델이더라도 다르게 기입됐을 수 있음.  \n",
        "때문에 1건만 등록된 차량 모델도 다수 존재.\n",
        "정제 필요"
      ],
      "metadata": {
        "id": "ClwlMUjf7QPO"
      }
    },
    {
      "cell_type": "code",
      "source": [
        "print(\"num of condition :\", len(data.fillna('none')['condition'].value_counts()))\n",
        "data.fillna('none')['condition'].value_counts()"
      ],
      "metadata": {
        "colab": {
          "base_uri": "https://localhost:8080/"
        },
        "id": "1cTk1hJQ6_7V",
        "outputId": "ceb30de4-0635-4b02-c9d6-fabe19cc6b1c"
      },
      "execution_count": 24,
      "outputs": [
        {
          "output_type": "stream",
          "name": "stdout",
          "text": [
            "num of condition : 7\n"
          ]
        },
        {
          "output_type": "execute_result",
          "data": {
            "text/plain": [
              "none         174104\n",
              "good         121456\n",
              "excellent    101467\n",
              "like new      21178\n",
              "fair           6769\n",
              "new            1305\n",
              "salvage         601\n",
              "Name: condition, dtype: int64"
            ]
          },
          "metadata": {},
          "execution_count": 24
        }
      ]
    },
    {
      "cell_type": "code",
      "source": [
        "plt.figure(figsize = (6,8))\n",
        "sns.countplot(y = 'condition', data = data.fillna('none'), order = data.fillna('none')['condition'].value_counts().index)"
      ],
      "metadata": {
        "colab": {
          "base_uri": "https://localhost:8080/",
          "height": 515
        },
        "id": "7z7tM7Zp73dP",
        "outputId": "5f1d726f-2dc1-477a-ae78-6dbe7c5a260f"
      },
      "execution_count": 25,
      "outputs": [
        {
          "output_type": "execute_result",
          "data": {
            "text/plain": [
              "<matplotlib.axes._subplots.AxesSubplot at 0x7f43512b0550>"
            ]
          },
          "metadata": {},
          "execution_count": 25
        },
        {
          "output_type": "display_data",
          "data": {
            "image/png": "[encoded data removed]",
            "text/plain": [
              "<Figure size 432x576 with 1 Axes>"
            ]
          },
          "metadata": {
            "needs_background": "light"
          }
        }
      ]
    },
    {
      "cell_type": "markdown",
      "source": [
        "none 값이 다수 존재"
      ],
      "metadata": {
        "id": "LMvX1BnJ8FXQ"
      }
    },
    {
      "cell_type": "code",
      "source": [
        "print(\"num of cylinders :\", len(data.fillna('None')['cylinders'].value_counts()))\n",
        "data.fillna('None')['cylinders'].value_counts()"
      ],
      "metadata": {
        "colab": {
          "base_uri": "https://localhost:8080/"
        },
        "id": "DNaMAG188iXh",
        "outputId": "fbc35f42-0ba6-4659-cfc1-8e3720e9e114"
      },
      "execution_count": 26,
      "outputs": [
        {
          "output_type": "stream",
          "name": "stdout",
          "text": [
            "num of cylinders : 9\n"
          ]
        },
        {
          "output_type": "execute_result",
          "data": {
            "text/plain": [
              "None            177678\n",
              "6 cylinders      94169\n",
              "4 cylinders      77642\n",
              "8 cylinders      72062\n",
              "5 cylinders       1712\n",
              "10 cylinders      1455\n",
              "other             1298\n",
              "3 cylinders        655\n",
              "12 cylinders       209\n",
              "Name: cylinders, dtype: int64"
            ]
          },
          "metadata": {},
          "execution_count": 26
        }
      ]
    },
    {
      "cell_type": "code",
      "source": [
        "plt.figure(figsize = (6,8))\n",
        "sns.countplot(y = 'cylinders', data = data.fillna('None'), order = data.fillna('None')['cylinders'].value_counts().index)"
      ],
      "metadata": {
        "colab": {
          "base_uri": "https://localhost:8080/",
          "height": 515
        },
        "id": "BR8831rJ8zMH",
        "outputId": "ffc5b832-319d-4a35-8282-70b8035b4261"
      },
      "execution_count": 27,
      "outputs": [
        {
          "output_type": "execute_result",
          "data": {
            "text/plain": [
              "<matplotlib.axes._subplots.AxesSubplot at 0x7f43512697d0>"
            ]
          },
          "metadata": {},
          "execution_count": 27
        },
        {
          "output_type": "display_data",
          "data": {
            "image/png": "[encoded data removed]",
            "text/plain": [
              "<Figure size 432x576 with 1 Axes>"
            ]
          },
          "metadata": {
            "needs_background": "light"
          }
        }
      ]
    },
    {
      "cell_type": "code",
      "source": [
        "print(\"num of fuel :\", len(data.fillna('None')['fuel'].value_counts()))\n",
        "data.fillna('None')['fuel'].value_counts()"
      ],
      "metadata": {
        "colab": {
          "base_uri": "https://localhost:8080/"
        },
        "id": "edWp8Nyq89iW",
        "outputId": "0394060f-460e-4cbb-e95f-79c0fde2160a"
      },
      "execution_count": 28,
      "outputs": [
        {
          "output_type": "stream",
          "name": "stdout",
          "text": [
            "num of fuel : 6\n"
          ]
        },
        {
          "output_type": "execute_result",
          "data": {
            "text/plain": [
              "gas         356209\n",
              "other        30728\n",
              "diesel       30062\n",
              "hybrid        5170\n",
              "None          3013\n",
              "electric      1698\n",
              "Name: fuel, dtype: int64"
            ]
          },
          "metadata": {},
          "execution_count": 28
        }
      ]
    },
    {
      "cell_type": "code",
      "source": [
        "plt.figure(figsize = (6,8))\n",
        "sns.countplot(y = 'fuel', data = data.fillna('None'), order = data.fillna('None')['fuel'].value_counts().index)"
      ],
      "metadata": {
        "colab": {
          "base_uri": "https://localhost:8080/",
          "height": 515
        },
        "id": "UIJ1mZ3o9c3-",
        "outputId": "6b71b2a4-99d1-40ed-d880-dec9dbc1ece6"
      },
      "execution_count": 29,
      "outputs": [
        {
          "output_type": "execute_result",
          "data": {
            "text/plain": [
              "<matplotlib.axes._subplots.AxesSubplot at 0x7f4351918b10>"
            ]
          },
          "metadata": {},
          "execution_count": 29
        },
        {
          "output_type": "display_data",
          "data": {
            "image/png": "[encoded data removed]",
            "text/plain": [
              "<Figure size 432x576 with 1 Axes>"
            ]
          },
          "metadata": {
            "needs_background": "light"
          }
        }
      ]
    },
    {
      "cell_type": "markdown",
      "source": [
        "대부분 gas차"
      ],
      "metadata": {
        "id": "fWop0T-X-T-4"
      }
    },
    {
      "cell_type": "code",
      "source": [
        "print(\"num of transmission :\", len(data.fillna('None')['transmission'].value_counts()))\n",
        "data.fillna('None')['transmission'].value_counts()"
      ],
      "metadata": {
        "colab": {
          "base_uri": "https://localhost:8080/"
        },
        "id": "vPtGbALl-PSW",
        "outputId": "8a1af77b-5fd2-43a5-ed3f-de89cd60e161"
      },
      "execution_count": 30,
      "outputs": [
        {
          "output_type": "stream",
          "name": "stdout",
          "text": [
            "num of transmission : 4\n"
          ]
        },
        {
          "output_type": "execute_result",
          "data": {
            "text/plain": [
              "automatic    336524\n",
              "other         62682\n",
              "manual        25118\n",
              "None           2556\n",
              "Name: transmission, dtype: int64"
            ]
          },
          "metadata": {},
          "execution_count": 30
        }
      ]
    },
    {
      "cell_type": "code",
      "source": [
        "plt.figure(figsize = (6,8))\n",
        "sns.countplot(y = 'transmission', data = data.fillna('None'), order = data.fillna('None')['transmission'].value_counts().index)"
      ],
      "metadata": {
        "colab": {
          "base_uri": "https://localhost:8080/",
          "height": 515
        },
        "id": "VA0-djkn-Qvw",
        "outputId": "7bdb2307-94c0-46ce-8652-3d7181abef91"
      },
      "execution_count": 31,
      "outputs": [
        {
          "output_type": "execute_result",
          "data": {
            "text/plain": [
              "<matplotlib.axes._subplots.AxesSubplot at 0x7f43524c5f10>"
            ]
          },
          "metadata": {},
          "execution_count": 31
        },
        {
          "output_type": "display_data",
          "data": {
            "image/png": "[encoded data removed]",
            "text/plain": [
              "<Figure size 432x576 with 1 Axes>"
            ]
          },
          "metadata": {
            "needs_background": "light"
          }
        }
      ]
    },
    {
      "cell_type": "code",
      "source": [
        "print(\"num of drive :\", len(data.fillna('None')['drive'].value_counts()))\n",
        "data.fillna('None')['drive'].value_counts()"
      ],
      "metadata": {
        "colab": {
          "base_uri": "https://localhost:8080/"
        },
        "id": "30STJrs8_qFs",
        "outputId": "227c0449-2f21-4d5d-85b6-8c2659f81661"
      },
      "execution_count": 32,
      "outputs": [
        {
          "output_type": "stream",
          "name": "stdout",
          "text": [
            "num of drive : 4\n"
          ]
        },
        {
          "output_type": "execute_result",
          "data": {
            "text/plain": [
              "4wd     131904\n",
              "None    130567\n",
              "fwd     105517\n",
              "rwd      58892\n",
              "Name: drive, dtype: int64"
            ]
          },
          "metadata": {},
          "execution_count": 32
        }
      ]
    },
    {
      "cell_type": "code",
      "source": [
        "plt.figure(figsize = (6,8))\n",
        "sns.countplot(y = 'drive', data = data.fillna('None'), order = data.fillna('None')['drive'].value_counts().index)"
      ],
      "metadata": {
        "colab": {
          "base_uri": "https://localhost:8080/",
          "height": 515
        },
        "id": "IhxaVh58_p8k",
        "outputId": "f40dc0db-44ae-45c0-fc79-8f811b98243d"
      },
      "execution_count": 33,
      "outputs": [
        {
          "output_type": "execute_result",
          "data": {
            "text/plain": [
              "<matplotlib.axes._subplots.AxesSubplot at 0x7f435123b350>"
            ]
          },
          "metadata": {},
          "execution_count": 33
        },
        {
          "output_type": "display_data",
          "data": {
            "image/png": "[encoded data removed]",
            "text/plain": [
              "<Figure size 432x576 with 1 Axes>"
            ]
          },
          "metadata": {
            "needs_background": "light"
          }
        }
      ]
    },
    {
      "cell_type": "code",
      "source": [
        "print(\"num of size :\", len(data.fillna('None')['size'].value_counts()))\n",
        "data.fillna('None')['size'].value_counts()"
      ],
      "metadata": {
        "colab": {
          "base_uri": "https://localhost:8080/"
        },
        "id": "FDssCByz_12b",
        "outputId": "63c6f92e-bc4b-48b0-e747-e6ea2e15ddf0"
      },
      "execution_count": 34,
      "outputs": [
        {
          "output_type": "stream",
          "name": "stdout",
          "text": [
            "num of size : 5\n"
          ]
        },
        {
          "output_type": "execute_result",
          "data": {
            "text/plain": [
              "None           306361\n",
              "full-size       63465\n",
              "mid-size        34476\n",
              "compact         19384\n",
              "sub-compact      3194\n",
              "Name: size, dtype: int64"
            ]
          },
          "metadata": {},
          "execution_count": 34
        }
      ]
    },
    {
      "cell_type": "code",
      "source": [
        "plt.figure(figsize = (6,8))\n",
        "sns.countplot(y = 'size', data = data.fillna('None'), order = data.fillna('None')['size'].value_counts().index)"
      ],
      "metadata": {
        "colab": {
          "base_uri": "https://localhost:8080/",
          "height": 515
        },
        "id": "lQO6I4n1_1oa",
        "outputId": "2941cb6d-4fa7-42e0-ddb8-188b0caf8eed"
      },
      "execution_count": 35,
      "outputs": [
        {
          "output_type": "execute_result",
          "data": {
            "text/plain": [
              "<matplotlib.axes._subplots.AxesSubplot at 0x7f4351022a10>"
            ]
          },
          "metadata": {},
          "execution_count": 35
        },
        {
          "output_type": "display_data",
          "data": {
            "image/png": "[encoded data removed]",
            "text/plain": [
              "<Figure size 432x576 with 1 Axes>"
            ]
          },
          "metadata": {
            "needs_background": "light"
          }
        }
      ]
    },
    {
      "cell_type": "code",
      "source": [
        "print(\"num of type :\", len(data.fillna('None')['type'].value_counts()))\n",
        "data.fillna('None')['type'].value_counts()"
      ],
      "metadata": {
        "colab": {
          "base_uri": "https://localhost:8080/"
        },
        "id": "Unqd3aOkATFh",
        "outputId": "6ea5508a-a763-4546-d884-9fbf06f262ae"
      },
      "execution_count": 36,
      "outputs": [
        {
          "output_type": "stream",
          "name": "stdout",
          "text": [
            "num of type : 14\n"
          ]
        },
        {
          "output_type": "execute_result",
          "data": {
            "text/plain": [
              "None           92858\n",
              "sedan          87056\n",
              "SUV            77284\n",
              "pickup         43510\n",
              "truck          35279\n",
              "other          22110\n",
              "coupe          19204\n",
              "hatchback      16598\n",
              "wagon          10751\n",
              "van             8548\n",
              "convertible     7731\n",
              "mini-van        4825\n",
              "offroad          609\n",
              "bus              517\n",
              "Name: type, dtype: int64"
            ]
          },
          "metadata": {},
          "execution_count": 36
        }
      ]
    },
    {
      "cell_type": "code",
      "source": [
        "plt.figure(figsize = (6,8))\n",
        "sns.countplot(y = 'type', data = data.fillna('None'), order = data.fillna('None')['type'].value_counts().index)"
      ],
      "metadata": {
        "colab": {
          "base_uri": "https://localhost:8080/",
          "height": 515
        },
        "id": "btrOzsoBAS9n",
        "outputId": "93bab2ad-f2d1-4d65-8f06-c84139feddee"
      },
      "execution_count": 37,
      "outputs": [
        {
          "output_type": "execute_result",
          "data": {
            "text/plain": [
              "<matplotlib.axes._subplots.AxesSubplot at 0x7f4352ad54d0>"
            ]
          },
          "metadata": {},
          "execution_count": 37
        },
        {
          "output_type": "display_data",
          "data": {
            "image/png": "[encoded data removed]",
            "text/plain": [
              "<Figure size 432x576 with 1 Axes>"
            ]
          },
          "metadata": {
            "needs_background": "light"
          }
        }
      ]
    },
    {
      "cell_type": "code",
      "source": [
        "print(\"num of paint_color :\", len(data.fillna('None')['paint_color'].value_counts()))\n",
        "data.fillna('None')['paint_color'].value_counts()"
      ],
      "metadata": {
        "colab": {
          "base_uri": "https://localhost:8080/"
        },
        "id": "dEgncfeZB3OW",
        "outputId": "4bfce763-d1c4-46eb-98cf-45840c431a2a"
      },
      "execution_count": 38,
      "outputs": [
        {
          "output_type": "stream",
          "name": "stdout",
          "text": [
            "num of paint_color : 13\n"
          ]
        },
        {
          "output_type": "execute_result",
          "data": {
            "text/plain": [
              "None      130203\n",
              "white      79285\n",
              "black      62861\n",
              "silver     42970\n",
              "blue       31223\n",
              "red        30473\n",
              "grey       24416\n",
              "green       7343\n",
              "custom      6700\n",
              "brown       6593\n",
              "yellow      2142\n",
              "orange      1984\n",
              "purple       687\n",
              "Name: paint_color, dtype: int64"
            ]
          },
          "metadata": {},
          "execution_count": 38
        }
      ]
    },
    {
      "cell_type": "code",
      "source": [
        "plt.figure(figsize = (6,8))\n",
        "sns.countplot(y = 'paint_color', data = data.fillna('None'), order = data.fillna('None')['paint_color'].value_counts().index)"
      ],
      "metadata": {
        "colab": {
          "base_uri": "https://localhost:8080/",
          "height": 515
        },
        "id": "oRC3z069B2df",
        "outputId": "7b1ad86b-254d-4283-fa81-3d72e460d25d"
      },
      "execution_count": 39,
      "outputs": [
        {
          "output_type": "execute_result",
          "data": {
            "text/plain": [
              "<matplotlib.axes._subplots.AxesSubplot at 0x7f4350e70c90>"
            ]
          },
          "metadata": {},
          "execution_count": 39
        },
        {
          "output_type": "display_data",
          "data": {
            "image/png": "[encoded data removed]",
            "text/plain": [
              "<Figure size 432x576 with 1 Axes>"
            ]
          },
          "metadata": {
            "needs_background": "light"
          }
        }
      ]
    },
    {
      "cell_type": "markdown",
      "source": [
        "### 6. 수치형 데이터 분석"
      ],
      "metadata": {
        "id": "boWBKz1saa3Y"
      }
    },
    {
      "cell_type": "code",
      "source": [
        "data.columns"
      ],
      "metadata": {
        "colab": {
          "base_uri": "https://localhost:8080/"
        },
        "id": "fiHWDDXradjR",
        "outputId": "b17f59e5-1842-4b76-f540-0453d5c1deb5"
      },
      "execution_count": 40,
      "outputs": [
        {
          "output_type": "execute_result",
          "data": {
            "text/plain": [
              "Index(['region', 'price', 'manufacturer', 'model', 'condition', 'cylinders',\n",
              "       'fuel', 'odometer', 'title_status', 'transmission', 'drive', 'size',\n",
              "       'type', 'paint_color', 'state', 'age'],\n",
              "      dtype='object')"
            ]
          },
          "metadata": {},
          "execution_count": 40
        }
      ]
    },
    {
      "cell_type": "code",
      "source": [
        "# sns.histplot(x='price', data = data) \n",
        "plt.hist(data['price'],\n",
        "         bins = 100,\n",
        "         )\n",
        "plt.show()"
      ],
      "metadata": {
        "colab": {
          "base_uri": "https://localhost:8080/",
          "height": 277
        },
        "id": "HLr7yrAte2sy",
        "outputId": "d5a16bb0-aa44-4e5a-8930-5391365092ee"
      },
      "execution_count": 41,
      "outputs": [
        {
          "output_type": "display_data",
          "data": {
            "image/png": "[encoded data removed]",
            "text/plain": [
              "<Figure size 432x288 with 1 Axes>"
            ]
          },
          "metadata": {
            "needs_background": "light"
          }
        }
      ]
    },
    {
      "cell_type": "code",
      "source": [
        "plt.hist(data['odometer'],\n",
        "         bins = 100,\n",
        "         )\n",
        "plt.show()"
      ],
      "metadata": {
        "colab": {
          "base_uri": "https://localhost:8080/",
          "height": 277
        },
        "id": "k3n5hxY5h-2Q",
        "outputId": "869a0dde-6bba-4f87-90d1-6a891a7709c3"
      },
      "execution_count": 42,
      "outputs": [
        {
          "output_type": "display_data",
          "data": {
            "image/png": "[encoded data removed]",
            "text/plain": [
              "<Figure size 432x288 with 1 Axes>"
            ]
          },
          "metadata": {
            "needs_background": "light"
          }
        }
      ]
    },
    {
      "cell_type": "markdown",
      "source": [
        "price와 odometer 모두 outlier가 존재하며 한쪽에 몰려있음."
      ],
      "metadata": {
        "id": "bjMxkEgWiGJT"
      }
    },
    {
      "cell_type": "code",
      "source": [
        "sns.histplot(x='age', data = data)"
      ],
      "metadata": {
        "colab": {
          "base_uri": "https://localhost:8080/",
          "height": 297
        },
        "id": "D5Jxs7VSe-6u",
        "outputId": "fdb848f1-804d-455a-8eca-ca5e2ee8ebb7"
      },
      "execution_count": 43,
      "outputs": [
        {
          "output_type": "execute_result",
          "data": {
            "text/plain": [
              "<matplotlib.axes._subplots.AxesSubplot at 0x7f4352706e10>"
            ]
          },
          "metadata": {},
          "execution_count": 43
        },
        {
          "output_type": "display_data",
          "data": {
            "image/png": "[encoded data removed]",
            "text/plain": [
              "<Figure size 432x288 with 1 Axes>"
            ]
          },
          "metadata": {
            "needs_background": "light"
          }
        }
      ]
    },
    {
      "cell_type": "markdown",
      "source": [
        "## Step 3. 데이터 클리닝"
      ],
      "metadata": {
        "id": "o7LfavSwafrf"
      }
    },
    {
      "cell_type": "markdown",
      "source": [
        "### 7. 범주형 데이터 클리닝"
      ],
      "metadata": {
        "id": "3A4jtLtBMMCh"
      }
    },
    {
      "cell_type": "code",
      "source": [
        "data.columns"
      ],
      "metadata": {
        "id": "t95V9-fPaglO",
        "colab": {
          "base_uri": "https://localhost:8080/"
        },
        "outputId": "68679fd5-c2a1-4e5d-fa87-f6f96097b837"
      },
      "execution_count": 44,
      "outputs": [
        {
          "output_type": "execute_result",
          "data": {
            "text/plain": [
              "Index(['region', 'price', 'manufacturer', 'model', 'condition', 'cylinders',\n",
              "       'fuel', 'odometer', 'title_status', 'transmission', 'drive', 'size',\n",
              "       'type', 'paint_color', 'state', 'age'],\n",
              "      dtype='object')"
            ]
          },
          "metadata": {},
          "execution_count": 44
        }
      ]
    },
    {
      "cell_type": "code",
      "source": [
        "cat_columns = ['state', 'manufacturer', 'model',\n",
        "               'condition', 'cylinders', 'fuel', \n",
        "               'title_status', 'transmission', \n",
        "               'drive', 'size', 'type', 'paint_color']"
      ],
      "metadata": {
        "id": "Zcuok4nKSEB7"
      },
      "execution_count": 45,
      "outputs": []
    },
    {
      "cell_type": "code",
      "source": [
        "cnt = data['state'].fillna('None').value_counts()\n",
        "print(cnt)\n",
        "print(len(cnt))\n",
        "plt.grid()\n",
        "plt.plot(range(len(cnt)), cnt)"
      ],
      "metadata": {
        "colab": {
          "base_uri": "https://localhost:8080/",
          "height": 1000
        },
        "id": "Uv8-Knwfki2y",
        "outputId": "58ce4dc5-6ee5-4d29-a897-95689889bc52"
      },
      "execution_count": 46,
      "outputs": [
        {
          "output_type": "stream",
          "name": "stdout",
          "text": [
            "ca    50614\n",
            "fl    28511\n",
            "tx    22945\n",
            "ny    19386\n",
            "oh    17696\n",
            "or    17104\n",
            "mi    16900\n",
            "nc    15277\n",
            "wa    13861\n",
            "pa    13753\n",
            "wi    11398\n",
            "co    11088\n",
            "tn    11066\n",
            "va    10732\n",
            "il    10387\n",
            "nj     9742\n",
            "id     8961\n",
            "az     8679\n",
            "ia     8632\n",
            "ma     8174\n",
            "mn     7716\n",
            "ga     7003\n",
            "ok     6792\n",
            "sc     6327\n",
            "mt     6294\n",
            "ks     6209\n",
            "in     5704\n",
            "ct     5188\n",
            "al     4955\n",
            "md     4778\n",
            "nm     4425\n",
            "mo     4293\n",
            "ky     4149\n",
            "ar     4038\n",
            "ak     3474\n",
            "la     3196\n",
            "nv     3194\n",
            "nh     2981\n",
            "dc     2970\n",
            "me     2966\n",
            "hi     2964\n",
            "vt     2513\n",
            "ri     2320\n",
            "sd     1302\n",
            "ut     1150\n",
            "wv     1052\n",
            "ne     1036\n",
            "ms     1016\n",
            "de      949\n",
            "wy      610\n",
            "nd      410\n",
            "Name: state, dtype: int64\n",
            "51\n"
          ]
        },
        {
          "output_type": "execute_result",
          "data": {
            "text/plain": [
              "[<matplotlib.lines.Line2D at 0x7f435236c850>]"
            ]
          },
          "metadata": {},
          "execution_count": 46
        },
        {
          "output_type": "display_data",
          "data": {
            "image/png": "[encoded data removed]",
            "text/plain": [
              "<Figure size 432x288 with 1 Axes>"
            ]
          },
          "metadata": {
            "needs_background": "light"
          }
        }
      ]
    },
    {
      "cell_type": "code",
      "source": [
        "df_state = pd.DataFrame(cnt).reset_index().rename(columns = {'index' : 'state', 'state':'cnts'})\n",
        "cnts_total = sum(df_state['cnts'])\n",
        "df_state['ratio'] = df_state['cnts']/cnts_total * 100\n",
        "cum_ratio = []\n",
        "a = 0\n",
        "for i in range(0, len(df_state)):\n",
        "  a += df_state['ratio'][i]\n",
        "  cum_ratio.append(a)\n",
        "\n",
        "df_state['cum_ratio'] = cum_ratio\n",
        "df_state"
      ],
      "metadata": {
        "colab": {
          "base_uri": "https://localhost:8080/",
          "height": 1000
        },
        "id": "ij3-kspPkmou",
        "outputId": "d676d36b-08a2-45b8-8c7f-48679660b9b6"
      },
      "execution_count": 47,
      "outputs": [
        {
          "output_type": "execute_result",
          "data": {
            "text/html": [
              "\n",
              "  <div id=\"df-2acd1f51-8d84-4c11-b366-bfbcd4a1c7dc\">\n",
              "    <div class=\"colab-df-container\">\n",
              "      <div>\n",
              "<style scoped>\n",
              "    .dataframe tbody tr th:only-of-type {\n",
              "        vertical-align: middle;\n",
              "    }\n",
              "\n",
              "    .dataframe tbody tr th {\n",
              "        vertical-align: top;\n",
              "    }\n",
              "\n",
              "    .dataframe thead th {\n",
              "        text-align: right;\n",
              "    }\n",
              "</style>\n",
              "<table border=\"1\" class=\"dataframe\">\n",
              "  <thead>\n",
              "    <tr style=\"text-align: right;\">\n",
              "      <th></th>\n",
              "      <th>state</th>\n",
              "      <th>cnts</th>\n",
              "      <th>ratio</th>\n",
              "      <th>cum_ratio</th>\n",
              "    </tr>\n",
              "  </thead>\n",
              "  <tbody>\n",
              "    <tr>\n",
              "      <th>0</th>\n",
              "      <td>ca</td>\n",
              "      <td>50614</td>\n",
              "      <td>11.856728</td>\n",
              "      <td>11.856728</td>\n",
              "    </tr>\n",
              "    <tr>\n",
              "      <th>1</th>\n",
              "      <td>fl</td>\n",
              "      <td>28511</td>\n",
              "      <td>6.678926</td>\n",
              "      <td>18.535654</td>\n",
              "    </tr>\n",
              "    <tr>\n",
              "      <th>2</th>\n",
              "      <td>tx</td>\n",
              "      <td>22945</td>\n",
              "      <td>5.375047</td>\n",
              "      <td>23.910701</td>\n",
              "    </tr>\n",
              "    <tr>\n",
              "      <th>3</th>\n",
              "      <td>ny</td>\n",
              "      <td>19386</td>\n",
              "      <td>4.541323</td>\n",
              "      <td>28.452024</td>\n",
              "    </tr>\n",
              "    <tr>\n",
              "      <th>4</th>\n",
              "      <td>oh</td>\n",
              "      <td>17696</td>\n",
              "      <td>4.145427</td>\n",
              "      <td>32.597451</td>\n",
              "    </tr>\n",
              "    <tr>\n",
              "      <th>5</th>\n",
              "      <td>or</td>\n",
              "      <td>17104</td>\n",
              "      <td>4.006747</td>\n",
              "      <td>36.604198</td>\n",
              "    </tr>\n",
              "    <tr>\n",
              "      <th>6</th>\n",
              "      <td>mi</td>\n",
              "      <td>16900</td>\n",
              "      <td>3.958958</td>\n",
              "      <td>40.563156</td>\n",
              "    </tr>\n",
              "    <tr>\n",
              "      <th>7</th>\n",
              "      <td>nc</td>\n",
              "      <td>15277</td>\n",
              "      <td>3.578757</td>\n",
              "      <td>44.141913</td>\n",
              "    </tr>\n",
              "    <tr>\n",
              "      <th>8</th>\n",
              "      <td>wa</td>\n",
              "      <td>13861</td>\n",
              "      <td>3.247048</td>\n",
              "      <td>47.388962</td>\n",
              "    </tr>\n",
              "    <tr>\n",
              "      <th>9</th>\n",
              "      <td>pa</td>\n",
              "      <td>13753</td>\n",
              "      <td>3.221749</td>\n",
              "      <td>50.610710</td>\n",
              "    </tr>\n",
              "    <tr>\n",
              "      <th>10</th>\n",
              "      <td>wi</td>\n",
              "      <td>11398</td>\n",
              "      <td>2.670071</td>\n",
              "      <td>53.280781</td>\n",
              "    </tr>\n",
              "    <tr>\n",
              "      <th>11</th>\n",
              "      <td>co</td>\n",
              "      <td>11088</td>\n",
              "      <td>2.597451</td>\n",
              "      <td>55.878233</td>\n",
              "    </tr>\n",
              "    <tr>\n",
              "      <th>12</th>\n",
              "      <td>tn</td>\n",
              "      <td>11066</td>\n",
              "      <td>2.592298</td>\n",
              "      <td>58.470530</td>\n",
              "    </tr>\n",
              "    <tr>\n",
              "      <th>13</th>\n",
              "      <td>va</td>\n",
              "      <td>10732</td>\n",
              "      <td>2.514055</td>\n",
              "      <td>60.984586</td>\n",
              "    </tr>\n",
              "    <tr>\n",
              "      <th>14</th>\n",
              "      <td>il</td>\n",
              "      <td>10387</td>\n",
              "      <td>2.433237</td>\n",
              "      <td>63.417822</td>\n",
              "    </tr>\n",
              "    <tr>\n",
              "      <th>15</th>\n",
              "      <td>nj</td>\n",
              "      <td>9742</td>\n",
              "      <td>2.282140</td>\n",
              "      <td>65.699963</td>\n",
              "    </tr>\n",
              "    <tr>\n",
              "      <th>16</th>\n",
              "      <td>id</td>\n",
              "      <td>8961</td>\n",
              "      <td>2.099185</td>\n",
              "      <td>67.799147</td>\n",
              "    </tr>\n",
              "    <tr>\n",
              "      <th>17</th>\n",
              "      <td>az</td>\n",
              "      <td>8679</td>\n",
              "      <td>2.033124</td>\n",
              "      <td>69.832271</td>\n",
              "    </tr>\n",
              "    <tr>\n",
              "      <th>18</th>\n",
              "      <td>ia</td>\n",
              "      <td>8632</td>\n",
              "      <td>2.022114</td>\n",
              "      <td>71.854385</td>\n",
              "    </tr>\n",
              "    <tr>\n",
              "      <th>19</th>\n",
              "      <td>ma</td>\n",
              "      <td>8174</td>\n",
              "      <td>1.914824</td>\n",
              "      <td>73.769209</td>\n",
              "    </tr>\n",
              "    <tr>\n",
              "      <th>20</th>\n",
              "      <td>mn</td>\n",
              "      <td>7716</td>\n",
              "      <td>1.807534</td>\n",
              "      <td>75.576743</td>\n",
              "    </tr>\n",
              "    <tr>\n",
              "      <th>21</th>\n",
              "      <td>ga</td>\n",
              "      <td>7003</td>\n",
              "      <td>1.640508</td>\n",
              "      <td>77.217251</td>\n",
              "    </tr>\n",
              "    <tr>\n",
              "      <th>22</th>\n",
              "      <td>ok</td>\n",
              "      <td>6792</td>\n",
              "      <td>1.591079</td>\n",
              "      <td>78.808330</td>\n",
              "    </tr>\n",
              "    <tr>\n",
              "      <th>23</th>\n",
              "      <td>sc</td>\n",
              "      <td>6327</td>\n",
              "      <td>1.482150</td>\n",
              "      <td>80.290480</td>\n",
              "    </tr>\n",
              "    <tr>\n",
              "      <th>24</th>\n",
              "      <td>mt</td>\n",
              "      <td>6294</td>\n",
              "      <td>1.474419</td>\n",
              "      <td>81.764899</td>\n",
              "    </tr>\n",
              "    <tr>\n",
              "      <th>25</th>\n",
              "      <td>ks</td>\n",
              "      <td>6209</td>\n",
              "      <td>1.454507</td>\n",
              "      <td>83.219406</td>\n",
              "    </tr>\n",
              "    <tr>\n",
              "      <th>26</th>\n",
              "      <td>in</td>\n",
              "      <td>5704</td>\n",
              "      <td>1.336207</td>\n",
              "      <td>84.555613</td>\n",
              "    </tr>\n",
              "    <tr>\n",
              "      <th>27</th>\n",
              "      <td>ct</td>\n",
              "      <td>5188</td>\n",
              "      <td>1.215330</td>\n",
              "      <td>85.770943</td>\n",
              "    </tr>\n",
              "    <tr>\n",
              "      <th>28</th>\n",
              "      <td>al</td>\n",
              "      <td>4955</td>\n",
              "      <td>1.160748</td>\n",
              "      <td>86.931690</td>\n",
              "    </tr>\n",
              "    <tr>\n",
              "      <th>29</th>\n",
              "      <td>md</td>\n",
              "      <td>4778</td>\n",
              "      <td>1.119284</td>\n",
              "      <td>88.050975</td>\n",
              "    </tr>\n",
              "    <tr>\n",
              "      <th>30</th>\n",
              "      <td>nm</td>\n",
              "      <td>4425</td>\n",
              "      <td>1.036591</td>\n",
              "      <td>89.087566</td>\n",
              "    </tr>\n",
              "    <tr>\n",
              "      <th>31</th>\n",
              "      <td>mo</td>\n",
              "      <td>4293</td>\n",
              "      <td>1.005669</td>\n",
              "      <td>90.093235</td>\n",
              "    </tr>\n",
              "    <tr>\n",
              "      <th>32</th>\n",
              "      <td>ky</td>\n",
              "      <td>4149</td>\n",
              "      <td>0.971936</td>\n",
              "      <td>91.065171</td>\n",
              "    </tr>\n",
              "    <tr>\n",
              "      <th>33</th>\n",
              "      <td>ar</td>\n",
              "      <td>4038</td>\n",
              "      <td>0.945933</td>\n",
              "      <td>92.011104</td>\n",
              "    </tr>\n",
              "    <tr>\n",
              "      <th>34</th>\n",
              "      <td>ak</td>\n",
              "      <td>3474</td>\n",
              "      <td>0.813812</td>\n",
              "      <td>92.824916</td>\n",
              "    </tr>\n",
              "    <tr>\n",
              "      <th>35</th>\n",
              "      <td>la</td>\n",
              "      <td>3196</td>\n",
              "      <td>0.748688</td>\n",
              "      <td>93.573604</td>\n",
              "    </tr>\n",
              "    <tr>\n",
              "      <th>36</th>\n",
              "      <td>nv</td>\n",
              "      <td>3194</td>\n",
              "      <td>0.748220</td>\n",
              "      <td>94.321823</td>\n",
              "    </tr>\n",
              "    <tr>\n",
              "      <th>37</th>\n",
              "      <td>nh</td>\n",
              "      <td>2981</td>\n",
              "      <td>0.698323</td>\n",
              "      <td>95.020146</td>\n",
              "    </tr>\n",
              "    <tr>\n",
              "      <th>38</th>\n",
              "      <td>dc</td>\n",
              "      <td>2970</td>\n",
              "      <td>0.695746</td>\n",
              "      <td>95.715892</td>\n",
              "    </tr>\n",
              "    <tr>\n",
              "      <th>39</th>\n",
              "      <td>me</td>\n",
              "      <td>2966</td>\n",
              "      <td>0.694809</td>\n",
              "      <td>96.410701</td>\n",
              "    </tr>\n",
              "    <tr>\n",
              "      <th>40</th>\n",
              "      <td>hi</td>\n",
              "      <td>2964</td>\n",
              "      <td>0.694340</td>\n",
              "      <td>97.105041</td>\n",
              "    </tr>\n",
              "    <tr>\n",
              "      <th>41</th>\n",
              "      <td>vt</td>\n",
              "      <td>2513</td>\n",
              "      <td>0.588690</td>\n",
              "      <td>97.693731</td>\n",
              "    </tr>\n",
              "    <tr>\n",
              "      <th>42</th>\n",
              "      <td>ri</td>\n",
              "      <td>2320</td>\n",
              "      <td>0.543478</td>\n",
              "      <td>98.237210</td>\n",
              "    </tr>\n",
              "    <tr>\n",
              "      <th>43</th>\n",
              "      <td>sd</td>\n",
              "      <td>1302</td>\n",
              "      <td>0.305004</td>\n",
              "      <td>98.542213</td>\n",
              "    </tr>\n",
              "    <tr>\n",
              "      <th>44</th>\n",
              "      <td>ut</td>\n",
              "      <td>1150</td>\n",
              "      <td>0.269397</td>\n",
              "      <td>98.811610</td>\n",
              "    </tr>\n",
              "    <tr>\n",
              "      <th>45</th>\n",
              "      <td>wv</td>\n",
              "      <td>1052</td>\n",
              "      <td>0.246439</td>\n",
              "      <td>99.058049</td>\n",
              "    </tr>\n",
              "    <tr>\n",
              "      <th>46</th>\n",
              "      <td>ne</td>\n",
              "      <td>1036</td>\n",
              "      <td>0.242691</td>\n",
              "      <td>99.300740</td>\n",
              "    </tr>\n",
              "    <tr>\n",
              "      <th>47</th>\n",
              "      <td>ms</td>\n",
              "      <td>1016</td>\n",
              "      <td>0.238006</td>\n",
              "      <td>99.538746</td>\n",
              "    </tr>\n",
              "    <tr>\n",
              "      <th>48</th>\n",
              "      <td>de</td>\n",
              "      <td>949</td>\n",
              "      <td>0.222311</td>\n",
              "      <td>99.761057</td>\n",
              "    </tr>\n",
              "    <tr>\n",
              "      <th>49</th>\n",
              "      <td>wy</td>\n",
              "      <td>610</td>\n",
              "      <td>0.142897</td>\n",
              "      <td>99.903954</td>\n",
              "    </tr>\n",
              "    <tr>\n",
              "      <th>50</th>\n",
              "      <td>nd</td>\n",
              "      <td>410</td>\n",
              "      <td>0.096046</td>\n",
              "      <td>100.000000</td>\n",
              "    </tr>\n",
              "  </tbody>\n",
              "</table>\n",
              "</div>\n",
              "      <button class=\"colab-df-convert\" onclick=\"convertToInteractive('df-2acd1f51-8d84-4c11-b366-bfbcd4a1c7dc')\"\n",
              "              title=\"Convert this dataframe to an interactive table.\"\n",
              "              style=\"display:none;\">\n",
              "        \n",
              "  <svg xmlns=\"http://www.w3.org/2000/svg\" height=\"24px\"viewBox=\"0 0 24 24\"\n",
              "       width=\"24px\">\n",
              "    <path d=\"M0 0h24v24H0V0z\" fill=\"none\"/>\n",
              "    <path d=\"M18.56 5.44l.94 2.06.94-2.06 2.06-.94-2.06-.94-.94-2.06-.94 2.06-2.06.94zm-11 1L8.5 8.5l.94-2.06 2.06-.94-2.06-.94L8.5 2.5l-.94 2.06-2.06.94zm10 10l.94 2.06.94-2.06 2.06-.94-2.06-.94-.94-2.06-.94 2.06-2.06.94z\"/><path d=\"M17.41 7.96l-1.37-1.37c-.4-.4-.92-.59-1.43-.59-.52 0-1.04.2-1.43.59L10.3 9.45l-7.72 7.72c-.78.78-.78 2.05 0 2.83L4 21.41c.39.39.9.59 1.41.59.51 0 1.02-.2 1.41-.59l7.78-7.78 2.81-2.81c.8-.78.8-2.07 0-2.86zM5.41 20L4 18.59l7.72-7.72 1.47 1.35L5.41 20z\"/>\n",
              "  </svg>\n",
              "      </button>\n",
              "      \n",
              "  <style>\n",
              "    .colab-df-container {\n",
              "      display:flex;\n",
              "      flex-wrap:wrap;\n",
              "      gap: 12px;\n",
              "    }\n",
              "\n",
              "    .colab-df-convert {\n",
              "      background-color: #E8F0FE;\n",
              "      border: none;\n",
              "      border-radius: 50%;\n",
              "      cursor: pointer;\n",
              "      display: none;\n",
              "      fill: #1967D2;\n",
              "      height: 32px;\n",
              "      padding: 0 0 0 0;\n",
              "      width: 32px;\n",
              "    }\n",
              "\n",
              "    .colab-df-convert:hover {\n",
              "      background-color: #E2EBFA;\n",
              "      box-shadow: 0px 1px 2px rgba(60, 64, 67, 0.3), 0px 1px 3px 1px rgba(60, 64, 67, 0.15);\n",
              "      fill: #174EA6;\n",
              "    }\n",
              "\n",
              "    [theme=dark] .colab-df-convert {\n",
              "      background-color: #3B4455;\n",
              "      fill: #D2E3FC;\n",
              "    }\n",
              "\n",
              "    [theme=dark] .colab-df-convert:hover {\n",
              "      background-color: #434B5C;\n",
              "      box-shadow: 0px 1px 3px 1px rgba(0, 0, 0, 0.15);\n",
              "      filter: drop-shadow(0px 1px 2px rgba(0, 0, 0, 0.3));\n",
              "      fill: #FFFFFF;\n",
              "    }\n",
              "  </style>\n",
              "\n",
              "      <script>\n",
              "        const buttonEl =\n",
              "          document.querySelector('#df-2acd1f51-8d84-4c11-b366-bfbcd4a1c7dc button.colab-df-convert');\n",
              "        buttonEl.style.display =\n",
              "          google.colab.kernel.accessAllowed ? 'block' : 'none';\n",
              "\n",
              "        async function convertToInteractive(key) {\n",
              "          const element = document.querySelector('#df-2acd1f51-8d84-4c11-b366-bfbcd4a1c7dc');\n",
              "          const dataTable =\n",
              "            await google.colab.kernel.invokeFunction('convertToInteractive',\n",
              "                                                     [key], {});\n",
              "          if (!dataTable) return;\n",
              "\n",
              "          const docLinkHtml = 'Like what you see? Visit the ' +\n",
              "            '<a target=\"_blank\" href=https://colab.research.google.com/notebooks/data_table.ipynb>data table notebook</a>'\n",
              "            + ' to learn more about interactive tables.';\n",
              "          element.innerHTML = '';\n",
              "          dataTable['output_type'] = 'display_data';\n",
              "          await google.colab.output.renderOutput(dataTable, element);\n",
              "          const docLink = document.createElement('div');\n",
              "          docLink.innerHTML = docLinkHtml;\n",
              "          element.appendChild(docLink);\n",
              "        }\n",
              "      </script>\n",
              "    </div>\n",
              "  </div>\n",
              "  "
            ],
            "text/plain": [
              "   state   cnts      ratio   cum_ratio\n",
              "0     ca  50614  11.856728   11.856728\n",
              "1     fl  28511   6.678926   18.535654\n",
              "2     tx  22945   5.375047   23.910701\n",
              "3     ny  19386   4.541323   28.452024\n",
              "4     oh  17696   4.145427   32.597451\n",
              "5     or  17104   4.006747   36.604198\n",
              "6     mi  16900   3.958958   40.563156\n",
              "7     nc  15277   3.578757   44.141913\n",
              "8     wa  13861   3.247048   47.388962\n",
              "9     pa  13753   3.221749   50.610710\n",
              "10    wi  11398   2.670071   53.280781\n",
              "11    co  11088   2.597451   55.878233\n",
              "12    tn  11066   2.592298   58.470530\n",
              "13    va  10732   2.514055   60.984586\n",
              "14    il  10387   2.433237   63.417822\n",
              "15    nj   9742   2.282140   65.699963\n",
              "16    id   8961   2.099185   67.799147\n",
              "17    az   8679   2.033124   69.832271\n",
              "18    ia   8632   2.022114   71.854385\n",
              "19    ma   8174   1.914824   73.769209\n",
              "20    mn   7716   1.807534   75.576743\n",
              "21    ga   7003   1.640508   77.217251\n",
              "22    ok   6792   1.591079   78.808330\n",
              "23    sc   6327   1.482150   80.290480\n",
              "24    mt   6294   1.474419   81.764899\n",
              "25    ks   6209   1.454507   83.219406\n",
              "26    in   5704   1.336207   84.555613\n",
              "27    ct   5188   1.215330   85.770943\n",
              "28    al   4955   1.160748   86.931690\n",
              "29    md   4778   1.119284   88.050975\n",
              "30    nm   4425   1.036591   89.087566\n",
              "31    mo   4293   1.005669   90.093235\n",
              "32    ky   4149   0.971936   91.065171\n",
              "33    ar   4038   0.945933   92.011104\n",
              "34    ak   3474   0.813812   92.824916\n",
              "35    la   3196   0.748688   93.573604\n",
              "36    nv   3194   0.748220   94.321823\n",
              "37    nh   2981   0.698323   95.020146\n",
              "38    dc   2970   0.695746   95.715892\n",
              "39    me   2966   0.694809   96.410701\n",
              "40    hi   2964   0.694340   97.105041\n",
              "41    vt   2513   0.588690   97.693731\n",
              "42    ri   2320   0.543478   98.237210\n",
              "43    sd   1302   0.305004   98.542213\n",
              "44    ut   1150   0.269397   98.811610\n",
              "45    wv   1052   0.246439   99.058049\n",
              "46    ne   1036   0.242691   99.300740\n",
              "47    ms   1016   0.238006   99.538746\n",
              "48    de    949   0.222311   99.761057\n",
              "49    wy    610   0.142897   99.903954\n",
              "50    nd    410   0.096046  100.000000"
            ]
          },
          "metadata": {},
          "execution_count": 47
        }
      ]
    },
    {
      "cell_type": "markdown",
      "source": [
        "하위 10%(20개 주) grouping -> 보류"
      ],
      "metadata": {
        "id": "v3J3y5PWCbQn"
      }
    },
    {
      "cell_type": "code",
      "source": [
        "# grouping = cnt.index[31:]\n",
        "# grouping"
      ],
      "metadata": {
        "id": "KxC_AOmsk6UZ"
      },
      "execution_count": 48,
      "outputs": []
    },
    {
      "cell_type": "code",
      "source": [
        "# data['state_gr'] = data['state'].fillna('others').apply(lambda x: x if str(x) not in grouping else 'others')"
      ],
      "metadata": {
        "id": "OxbV36pZCi9I"
      },
      "execution_count": 49,
      "outputs": []
    },
    {
      "cell_type": "code",
      "source": [
        "# print(data['state_gr'].nunique(), data['state'].nunique())"
      ],
      "metadata": {
        "id": "wvUJK4qrCoNE"
      },
      "execution_count": 50,
      "outputs": []
    },
    {
      "cell_type": "code",
      "source": [
        "cnt = data['manufacturer'].fillna('NA').value_counts()\n",
        "print(cnt)\n",
        "print(len(cnt))\n",
        "plt.grid()\n",
        "plt.plot(range(len(cnt)), cnt)"
      ],
      "metadata": {
        "colab": {
          "base_uri": "https://localhost:8080/",
          "height": 1000
        },
        "id": "YdSbAB0cSrf6",
        "outputId": "48752721-a958-4a0d-c532-d240a1c2d116"
      },
      "execution_count": 51,
      "outputs": [
        {
          "output_type": "stream",
          "name": "stdout",
          "text": [
            "ford               70985\n",
            "chevrolet          55064\n",
            "toyota             34202\n",
            "honda              21269\n",
            "nissan             19067\n",
            "jeep               19014\n",
            "ram                18342\n",
            "NA                 17646\n",
            "gmc                16785\n",
            "bmw                14699\n",
            "dodge              13707\n",
            "mercedes-benz      11817\n",
            "hyundai            10338\n",
            "subaru              9495\n",
            "volkswagen          9345\n",
            "kia                 8457\n",
            "lexus               8200\n",
            "audi                7573\n",
            "cadillac            6953\n",
            "chrysler            6031\n",
            "acura               5978\n",
            "buick               5501\n",
            "mazda               5427\n",
            "infiniti            4802\n",
            "lincoln             4220\n",
            "volvo               3374\n",
            "mitsubishi          3292\n",
            "mini                2376\n",
            "pontiac             2288\n",
            "rover               2113\n",
            "jaguar              1946\n",
            "porsche             1384\n",
            "mercury             1184\n",
            "saturn              1090\n",
            "alfa-romeo           897\n",
            "tesla                868\n",
            "fiat                 792\n",
            "harley-davidson      153\n",
            "ferrari               95\n",
            "datsun                63\n",
            "aston-martin          24\n",
            "land rover            21\n",
            "morgan                 3\n",
            "Name: manufacturer, dtype: int64\n",
            "43\n"
          ]
        },
        {
          "output_type": "execute_result",
          "data": {
            "text/plain": [
              "[<matplotlib.lines.Line2D at 0x7f4351f3a250>]"
            ]
          },
          "metadata": {},
          "execution_count": 51
        },
        {
          "output_type": "display_data",
          "data": {
            "image/png": "[encoded data removed]",
            "text/plain": [
              "<Figure size 432x288 with 1 Axes>"
            ]
          },
          "metadata": {
            "needs_background": "light"
          }
        }
      ]
    },
    {
      "cell_type": "code",
      "source": [
        "df_manf = pd.DataFrame(cnt.drop('NA')).reset_index().rename(columns = {'index' : 'Manufacturer', 'manufacturer':'cnts'})\n",
        "cnts_total = sum(df_manf['cnts'])\n",
        "df_manf['ratio'] = df_manf['cnts']/cnts_total * 100\n",
        "cum_ratio = []\n",
        "a = 0\n",
        "for i in range(0, len(df_manf)):\n",
        "  a += df_manf['ratio'][i]\n",
        "  cum_ratio.append(a)\n",
        "\n",
        "df_manf['cum_ratio'] = cum_ratio\n",
        "df_manf"
      ],
      "metadata": {
        "colab": {
          "base_uri": "https://localhost:8080/",
          "height": 1000
        },
        "id": "DcHHsCaiTemg",
        "outputId": "3f96000a-f779-4a93-dd86-2c2c761bbbd0"
      },
      "execution_count": 52,
      "outputs": [
        {
          "output_type": "execute_result",
          "data": {
            "text/html": [
              "\n",
              "  <div id=\"df-5a19902d-9ee1-4d96-812b-95dc22b23b43\">\n",
              "    <div class=\"colab-df-container\">\n",
              "      <div>\n",
              "<style scoped>\n",
              "    .dataframe tbody tr th:only-of-type {\n",
              "        vertical-align: middle;\n",
              "    }\n",
              "\n",
              "    .dataframe tbody tr th {\n",
              "        vertical-align: top;\n",
              "    }\n",
              "\n",
              "    .dataframe thead th {\n",
              "        text-align: right;\n",
              "    }\n",
              "</style>\n",
              "<table border=\"1\" class=\"dataframe\">\n",
              "  <thead>\n",
              "    <tr style=\"text-align: right;\">\n",
              "      <th></th>\n",
              "      <th>Manufacturer</th>\n",
              "      <th>cnts</th>\n",
              "      <th>ratio</th>\n",
              "      <th>cum_ratio</th>\n",
              "    </tr>\n",
              "  </thead>\n",
              "  <tbody>\n",
              "    <tr>\n",
              "      <th>0</th>\n",
              "      <td>ford</td>\n",
              "      <td>70985</td>\n",
              "      <td>17.345822</td>\n",
              "      <td>17.345822</td>\n",
              "    </tr>\n",
              "    <tr>\n",
              "      <th>1</th>\n",
              "      <td>chevrolet</td>\n",
              "      <td>55064</td>\n",
              "      <td>13.455382</td>\n",
              "      <td>30.801204</td>\n",
              "    </tr>\n",
              "    <tr>\n",
              "      <th>2</th>\n",
              "      <td>toyota</td>\n",
              "      <td>34202</td>\n",
              "      <td>8.357566</td>\n",
              "      <td>39.158770</td>\n",
              "    </tr>\n",
              "    <tr>\n",
              "      <th>3</th>\n",
              "      <td>honda</td>\n",
              "      <td>21269</td>\n",
              "      <td>5.197271</td>\n",
              "      <td>44.356041</td>\n",
              "    </tr>\n",
              "    <tr>\n",
              "      <th>4</th>\n",
              "      <td>nissan</td>\n",
              "      <td>19067</td>\n",
              "      <td>4.659193</td>\n",
              "      <td>49.015233</td>\n",
              "    </tr>\n",
              "    <tr>\n",
              "      <th>5</th>\n",
              "      <td>jeep</td>\n",
              "      <td>19014</td>\n",
              "      <td>4.646242</td>\n",
              "      <td>53.661475</td>\n",
              "    </tr>\n",
              "    <tr>\n",
              "      <th>6</th>\n",
              "      <td>ram</td>\n",
              "      <td>18342</td>\n",
              "      <td>4.482032</td>\n",
              "      <td>58.143507</td>\n",
              "    </tr>\n",
              "    <tr>\n",
              "      <th>7</th>\n",
              "      <td>gmc</td>\n",
              "      <td>16785</td>\n",
              "      <td>4.101565</td>\n",
              "      <td>62.245073</td>\n",
              "    </tr>\n",
              "    <tr>\n",
              "      <th>8</th>\n",
              "      <td>bmw</td>\n",
              "      <td>14699</td>\n",
              "      <td>3.591833</td>\n",
              "      <td>65.836905</td>\n",
              "    </tr>\n",
              "    <tr>\n",
              "      <th>9</th>\n",
              "      <td>dodge</td>\n",
              "      <td>13707</td>\n",
              "      <td>3.349428</td>\n",
              "      <td>69.186333</td>\n",
              "    </tr>\n",
              "    <tr>\n",
              "      <th>10</th>\n",
              "      <td>mercedes-benz</td>\n",
              "      <td>11817</td>\n",
              "      <td>2.887590</td>\n",
              "      <td>72.073923</td>\n",
              "    </tr>\n",
              "    <tr>\n",
              "      <th>11</th>\n",
              "      <td>hyundai</td>\n",
              "      <td>10338</td>\n",
              "      <td>2.526183</td>\n",
              "      <td>74.600107</td>\n",
              "    </tr>\n",
              "    <tr>\n",
              "      <th>12</th>\n",
              "      <td>subaru</td>\n",
              "      <td>9495</td>\n",
              "      <td>2.320188</td>\n",
              "      <td>76.920295</td>\n",
              "    </tr>\n",
              "    <tr>\n",
              "      <th>13</th>\n",
              "      <td>volkswagen</td>\n",
              "      <td>9345</td>\n",
              "      <td>2.283535</td>\n",
              "      <td>79.203830</td>\n",
              "    </tr>\n",
              "    <tr>\n",
              "      <th>14</th>\n",
              "      <td>kia</td>\n",
              "      <td>8457</td>\n",
              "      <td>2.066544</td>\n",
              "      <td>81.270373</td>\n",
              "    </tr>\n",
              "    <tr>\n",
              "      <th>15</th>\n",
              "      <td>lexus</td>\n",
              "      <td>8200</td>\n",
              "      <td>2.003744</td>\n",
              "      <td>83.274117</td>\n",
              "    </tr>\n",
              "    <tr>\n",
              "      <th>16</th>\n",
              "      <td>audi</td>\n",
              "      <td>7573</td>\n",
              "      <td>1.850531</td>\n",
              "      <td>85.124648</td>\n",
              "    </tr>\n",
              "    <tr>\n",
              "      <th>17</th>\n",
              "      <td>cadillac</td>\n",
              "      <td>6953</td>\n",
              "      <td>1.699028</td>\n",
              "      <td>86.823675</td>\n",
              "    </tr>\n",
              "    <tr>\n",
              "      <th>18</th>\n",
              "      <td>chrysler</td>\n",
              "      <td>6031</td>\n",
              "      <td>1.473729</td>\n",
              "      <td>88.297404</td>\n",
              "    </tr>\n",
              "    <tr>\n",
              "      <th>19</th>\n",
              "      <td>acura</td>\n",
              "      <td>5978</td>\n",
              "      <td>1.460778</td>\n",
              "      <td>89.758182</td>\n",
              "    </tr>\n",
              "    <tr>\n",
              "      <th>20</th>\n",
              "      <td>buick</td>\n",
              "      <td>5501</td>\n",
              "      <td>1.344219</td>\n",
              "      <td>91.102401</td>\n",
              "    </tr>\n",
              "    <tr>\n",
              "      <th>21</th>\n",
              "      <td>mazda</td>\n",
              "      <td>5427</td>\n",
              "      <td>1.326136</td>\n",
              "      <td>92.428537</td>\n",
              "    </tr>\n",
              "    <tr>\n",
              "      <th>22</th>\n",
              "      <td>infiniti</td>\n",
              "      <td>4802</td>\n",
              "      <td>1.173412</td>\n",
              "      <td>93.601949</td>\n",
              "    </tr>\n",
              "    <tr>\n",
              "      <th>23</th>\n",
              "      <td>lincoln</td>\n",
              "      <td>4220</td>\n",
              "      <td>1.031195</td>\n",
              "      <td>94.633144</td>\n",
              "    </tr>\n",
              "    <tr>\n",
              "      <th>24</th>\n",
              "      <td>volvo</td>\n",
              "      <td>3374</td>\n",
              "      <td>0.824467</td>\n",
              "      <td>95.457611</td>\n",
              "    </tr>\n",
              "    <tr>\n",
              "      <th>25</th>\n",
              "      <td>mitsubishi</td>\n",
              "      <td>3292</td>\n",
              "      <td>0.804430</td>\n",
              "      <td>96.262041</td>\n",
              "    </tr>\n",
              "    <tr>\n",
              "      <th>26</th>\n",
              "      <td>mini</td>\n",
              "      <td>2376</td>\n",
              "      <td>0.580597</td>\n",
              "      <td>96.842638</td>\n",
              "    </tr>\n",
              "    <tr>\n",
              "      <th>27</th>\n",
              "      <td>pontiac</td>\n",
              "      <td>2288</td>\n",
              "      <td>0.559093</td>\n",
              "      <td>97.401731</td>\n",
              "    </tr>\n",
              "    <tr>\n",
              "      <th>28</th>\n",
              "      <td>rover</td>\n",
              "      <td>2113</td>\n",
              "      <td>0.516331</td>\n",
              "      <td>97.918062</td>\n",
              "    </tr>\n",
              "    <tr>\n",
              "      <th>29</th>\n",
              "      <td>jaguar</td>\n",
              "      <td>1946</td>\n",
              "      <td>0.475523</td>\n",
              "      <td>98.393584</td>\n",
              "    </tr>\n",
              "    <tr>\n",
              "      <th>30</th>\n",
              "      <td>porsche</td>\n",
              "      <td>1384</td>\n",
              "      <td>0.338193</td>\n",
              "      <td>98.731777</td>\n",
              "    </tr>\n",
              "    <tr>\n",
              "      <th>31</th>\n",
              "      <td>mercury</td>\n",
              "      <td>1184</td>\n",
              "      <td>0.289321</td>\n",
              "      <td>99.021098</td>\n",
              "    </tr>\n",
              "    <tr>\n",
              "      <th>32</th>\n",
              "      <td>saturn</td>\n",
              "      <td>1090</td>\n",
              "      <td>0.266351</td>\n",
              "      <td>99.287449</td>\n",
              "    </tr>\n",
              "    <tr>\n",
              "      <th>33</th>\n",
              "      <td>alfa-romeo</td>\n",
              "      <td>897</td>\n",
              "      <td>0.219190</td>\n",
              "      <td>99.506639</td>\n",
              "    </tr>\n",
              "    <tr>\n",
              "      <th>34</th>\n",
              "      <td>tesla</td>\n",
              "      <td>868</td>\n",
              "      <td>0.212104</td>\n",
              "      <td>99.718743</td>\n",
              "    </tr>\n",
              "    <tr>\n",
              "      <th>35</th>\n",
              "      <td>fiat</td>\n",
              "      <td>792</td>\n",
              "      <td>0.193532</td>\n",
              "      <td>99.912275</td>\n",
              "    </tr>\n",
              "    <tr>\n",
              "      <th>36</th>\n",
              "      <td>harley-davidson</td>\n",
              "      <td>153</td>\n",
              "      <td>0.037387</td>\n",
              "      <td>99.949662</td>\n",
              "    </tr>\n",
              "    <tr>\n",
              "      <th>37</th>\n",
              "      <td>ferrari</td>\n",
              "      <td>95</td>\n",
              "      <td>0.023214</td>\n",
              "      <td>99.972876</td>\n",
              "    </tr>\n",
              "    <tr>\n",
              "      <th>38</th>\n",
              "      <td>datsun</td>\n",
              "      <td>63</td>\n",
              "      <td>0.015395</td>\n",
              "      <td>99.988271</td>\n",
              "    </tr>\n",
              "    <tr>\n",
              "      <th>39</th>\n",
              "      <td>aston-martin</td>\n",
              "      <td>24</td>\n",
              "      <td>0.005865</td>\n",
              "      <td>99.994135</td>\n",
              "    </tr>\n",
              "    <tr>\n",
              "      <th>40</th>\n",
              "      <td>land rover</td>\n",
              "      <td>21</td>\n",
              "      <td>0.005132</td>\n",
              "      <td>99.999267</td>\n",
              "    </tr>\n",
              "    <tr>\n",
              "      <th>41</th>\n",
              "      <td>morgan</td>\n",
              "      <td>3</td>\n",
              "      <td>0.000733</td>\n",
              "      <td>100.000000</td>\n",
              "    </tr>\n",
              "  </tbody>\n",
              "</table>\n",
              "</div>\n",
              "      <button class=\"colab-df-convert\" onclick=\"convertToInteractive('df-5a19902d-9ee1-4d96-812b-95dc22b23b43')\"\n",
              "              title=\"Convert this dataframe to an interactive table.\"\n",
              "              style=\"display:none;\">\n",
              "        \n",
              "  <svg xmlns=\"http://www.w3.org/2000/svg\" height=\"24px\"viewBox=\"0 0 24 24\"\n",
              "       width=\"24px\">\n",
              "    <path d=\"M0 0h24v24H0V0z\" fill=\"none\"/>\n",
              "    <path d=\"M18.56 5.44l.94 2.06.94-2.06 2.06-.94-2.06-.94-.94-2.06-.94 2.06-2.06.94zm-11 1L8.5 8.5l.94-2.06 2.06-.94-2.06-.94L8.5 2.5l-.94 2.06-2.06.94zm10 10l.94 2.06.94-2.06 2.06-.94-2.06-.94-.94-2.06-.94 2.06-2.06.94z\"/><path d=\"M17.41 7.96l-1.37-1.37c-.4-.4-.92-.59-1.43-.59-.52 0-1.04.2-1.43.59L10.3 9.45l-7.72 7.72c-.78.78-.78 2.05 0 2.83L4 21.41c.39.39.9.59 1.41.59.51 0 1.02-.2 1.41-.59l7.78-7.78 2.81-2.81c.8-.78.8-2.07 0-2.86zM5.41 20L4 18.59l7.72-7.72 1.47 1.35L5.41 20z\"/>\n",
              "  </svg>\n",
              "      </button>\n",
              "      \n",
              "  <style>\n",
              "    .colab-df-container {\n",
              "      display:flex;\n",
              "      flex-wrap:wrap;\n",
              "      gap: 12px;\n",
              "    }\n",
              "\n",
              "    .colab-df-convert {\n",
              "      background-color: #E8F0FE;\n",
              "      border: none;\n",
              "      border-radius: 50%;\n",
              "      cursor: pointer;\n",
              "      display: none;\n",
              "      fill: #1967D2;\n",
              "      height: 32px;\n",
              "      padding: 0 0 0 0;\n",
              "      width: 32px;\n",
              "    }\n",
              "\n",
              "    .colab-df-convert:hover {\n",
              "      background-color: #E2EBFA;\n",
              "      box-shadow: 0px 1px 2px rgba(60, 64, 67, 0.3), 0px 1px 3px 1px rgba(60, 64, 67, 0.15);\n",
              "      fill: #174EA6;\n",
              "    }\n",
              "\n",
              "    [theme=dark] .colab-df-convert {\n",
              "      background-color: #3B4455;\n",
              "      fill: #D2E3FC;\n",
              "    }\n",
              "\n",
              "    [theme=dark] .colab-df-convert:hover {\n",
              "      background-color: #434B5C;\n",
              "      box-shadow: 0px 1px 3px 1px rgba(0, 0, 0, 0.15);\n",
              "      filter: drop-shadow(0px 1px 2px rgba(0, 0, 0, 0.3));\n",
              "      fill: #FFFFFF;\n",
              "    }\n",
              "  </style>\n",
              "\n",
              "      <script>\n",
              "        const buttonEl =\n",
              "          document.querySelector('#df-5a19902d-9ee1-4d96-812b-95dc22b23b43 button.colab-df-convert');\n",
              "        buttonEl.style.display =\n",
              "          google.colab.kernel.accessAllowed ? 'block' : 'none';\n",
              "\n",
              "        async function convertToInteractive(key) {\n",
              "          const element = document.querySelector('#df-5a19902d-9ee1-4d96-812b-95dc22b23b43');\n",
              "          const dataTable =\n",
              "            await google.colab.kernel.invokeFunction('convertToInteractive',\n",
              "                                                     [key], {});\n",
              "          if (!dataTable) return;\n",
              "\n",
              "          const docLinkHtml = 'Like what you see? Visit the ' +\n",
              "            '<a target=\"_blank\" href=https://colab.research.google.com/notebooks/data_table.ipynb>data table notebook</a>'\n",
              "            + ' to learn more about interactive tables.';\n",
              "          element.innerHTML = '';\n",
              "          dataTable['output_type'] = 'display_data';\n",
              "          await google.colab.output.renderOutput(dataTable, element);\n",
              "          const docLink = document.createElement('div');\n",
              "          docLink.innerHTML = docLinkHtml;\n",
              "          element.appendChild(docLink);\n",
              "        }\n",
              "      </script>\n",
              "    </div>\n",
              "  </div>\n",
              "  "
            ],
            "text/plain": [
              "       Manufacturer   cnts      ratio   cum_ratio\n",
              "0              ford  70985  17.345822   17.345822\n",
              "1         chevrolet  55064  13.455382   30.801204\n",
              "2            toyota  34202   8.357566   39.158770\n",
              "3             honda  21269   5.197271   44.356041\n",
              "4            nissan  19067   4.659193   49.015233\n",
              "5              jeep  19014   4.646242   53.661475\n",
              "6               ram  18342   4.482032   58.143507\n",
              "7               gmc  16785   4.101565   62.245073\n",
              "8               bmw  14699   3.591833   65.836905\n",
              "9             dodge  13707   3.349428   69.186333\n",
              "10    mercedes-benz  11817   2.887590   72.073923\n",
              "11          hyundai  10338   2.526183   74.600107\n",
              "12           subaru   9495   2.320188   76.920295\n",
              "13       volkswagen   9345   2.283535   79.203830\n",
              "14              kia   8457   2.066544   81.270373\n",
              "15            lexus   8200   2.003744   83.274117\n",
              "16             audi   7573   1.850531   85.124648\n",
              "17         cadillac   6953   1.699028   86.823675\n",
              "18         chrysler   6031   1.473729   88.297404\n",
              "19            acura   5978   1.460778   89.758182\n",
              "20            buick   5501   1.344219   91.102401\n",
              "21            mazda   5427   1.326136   92.428537\n",
              "22         infiniti   4802   1.173412   93.601949\n",
              "23          lincoln   4220   1.031195   94.633144\n",
              "24            volvo   3374   0.824467   95.457611\n",
              "25       mitsubishi   3292   0.804430   96.262041\n",
              "26             mini   2376   0.580597   96.842638\n",
              "27          pontiac   2288   0.559093   97.401731\n",
              "28            rover   2113   0.516331   97.918062\n",
              "29           jaguar   1946   0.475523   98.393584\n",
              "30          porsche   1384   0.338193   98.731777\n",
              "31          mercury   1184   0.289321   99.021098\n",
              "32           saturn   1090   0.266351   99.287449\n",
              "33       alfa-romeo    897   0.219190   99.506639\n",
              "34            tesla    868   0.212104   99.718743\n",
              "35             fiat    792   0.193532   99.912275\n",
              "36  harley-davidson    153   0.037387   99.949662\n",
              "37          ferrari     95   0.023214   99.972876\n",
              "38           datsun     63   0.015395   99.988271\n",
              "39     aston-martin     24   0.005865   99.994135\n",
              "40       land rover     21   0.005132   99.999267\n",
              "41           morgan      3   0.000733  100.000000"
            ]
          },
          "metadata": {},
          "execution_count": 52
        }
      ]
    },
    {
      "cell_type": "markdown",
      "source": [
        "null값을 제외한 제조사별 분포를 살펴봤을때 하위 10개가 전체 제조사 중 1%에 불과함. \n",
        "\n",
        "하위 10개의 경우 전체의 1%에 불과하며 수도 많지 않기 때문에 null과 함께 others 로 grouping"
      ],
      "metadata": {
        "id": "mi5YXmdDiXdE"
      }
    },
    {
      "cell_type": "code",
      "source": [
        "grouping = cnt.drop('NA').index[31:]\n",
        "grouping"
      ],
      "metadata": {
        "colab": {
          "base_uri": "https://localhost:8080/"
        },
        "id": "uvsVhPQ0VCUW",
        "outputId": "2dc82342-8df2-4a69-d5b4-754e9d0bf3eb"
      },
      "execution_count": 53,
      "outputs": [
        {
          "output_type": "execute_result",
          "data": {
            "text/plain": [
              "Index(['mercury', 'saturn', 'alfa-romeo', 'tesla', 'fiat', 'harley-davidson',\n",
              "       'ferrari', 'datsun', 'aston-martin', 'land rover', 'morgan'],\n",
              "      dtype='object')"
            ]
          },
          "metadata": {},
          "execution_count": 53
        }
      ]
    },
    {
      "cell_type": "code",
      "source": [
        "data['manufacturer_gr'] = data['manufacturer'].fillna('other').apply(lambda x: x if str(x) not in grouping else 'other')"
      ],
      "metadata": {
        "id": "vmDRcSiujfLV"
      },
      "execution_count": 54,
      "outputs": []
    },
    {
      "cell_type": "code",
      "source": [
        "data['manufacturer_gr'].value_counts()"
      ],
      "metadata": {
        "colab": {
          "base_uri": "https://localhost:8080/"
        },
        "id": "V5nvl4dGj-Ll",
        "outputId": "5a6dac62-b6c3-42a2-f21c-f62c8b87160d"
      },
      "execution_count": 55,
      "outputs": [
        {
          "output_type": "execute_result",
          "data": {
            "text/plain": [
              "ford             70985\n",
              "chevrolet        55064\n",
              "toyota           34202\n",
              "other            22836\n",
              "honda            21269\n",
              "nissan           19067\n",
              "jeep             19014\n",
              "ram              18342\n",
              "gmc              16785\n",
              "bmw              14699\n",
              "dodge            13707\n",
              "mercedes-benz    11817\n",
              "hyundai          10338\n",
              "subaru            9495\n",
              "volkswagen        9345\n",
              "kia               8457\n",
              "lexus             8200\n",
              "audi              7573\n",
              "cadillac          6953\n",
              "chrysler          6031\n",
              "acura             5978\n",
              "buick             5501\n",
              "mazda             5427\n",
              "infiniti          4802\n",
              "lincoln           4220\n",
              "volvo             3374\n",
              "mitsubishi        3292\n",
              "mini              2376\n",
              "pontiac           2288\n",
              "rover             2113\n",
              "jaguar            1946\n",
              "porsche           1384\n",
              "Name: manufacturer_gr, dtype: int64"
            ]
          },
          "metadata": {},
          "execution_count": 55
        }
      ]
    },
    {
      "cell_type": "code",
      "source": [
        "print(data['manufacturer_gr'].nunique(), data['manufacturer'].nunique())"
      ],
      "metadata": {
        "colab": {
          "base_uri": "https://localhost:8080/"
        },
        "id": "OoiqFe9ikCHK",
        "outputId": "4c9d5892-b09f-4c78-d3b1-aa60748ab66e"
      },
      "execution_count": 56,
      "outputs": [
        {
          "output_type": "stream",
          "name": "stdout",
          "text": [
            "32 42\n"
          ]
        }
      ]
    },
    {
      "cell_type": "code",
      "source": [
        "cnt = data['model'].fillna('NA').value_counts()\n",
        "print(cnt)\n",
        "print(len(cnt))\n",
        "plt.grid()\n",
        "plt.plot(range(len(cnt)), cnt)"
      ],
      "metadata": {
        "colab": {
          "base_uri": "https://localhost:8080/",
          "height": 523
        },
        "id": "XkxLXq8RkHT8",
        "outputId": "1e7c12df-33b6-47d5-de94-f73c8eba07b6"
      },
      "execution_count": 57,
      "outputs": [
        {
          "output_type": "stream",
          "name": "stdout",
          "text": [
            "f-150                       8009\n",
            "NA                          5277\n",
            "silverado 1500              5140\n",
            "1500                        4211\n",
            "camry                       3135\n",
            "                            ... \n",
            "Huyndai Sante Fe Limited       1\n",
            "astro awd 4x4                  1\n",
            "escalade and                   1\n",
            "cx 3                           1\n",
            "Paige Glenbrook Touring        1\n",
            "Name: model, Length: 29668, dtype: int64\n",
            "29668\n"
          ]
        },
        {
          "output_type": "execute_result",
          "data": {
            "text/plain": [
              "[<matplotlib.lines.Line2D at 0x7f435032a250>]"
            ]
          },
          "metadata": {},
          "execution_count": 57
        },
        {
          "output_type": "display_data",
          "data": {
            "image/png": "[encoded data removed]",
            "text/plain": [
              "<Figure size 432x288 with 1 Axes>"
            ]
          },
          "metadata": {
            "needs_background": "light"
          }
        }
      ]
    },
    {
      "cell_type": "code",
      "source": [
        "df_model = pd.DataFrame(cnt.drop('NA')).reset_index().rename(columns = {'index' : 'model', 'model':'cnts'})\n",
        "cnts_total = sum(df_model['cnts'])\n",
        "df_model['ratio'] = df_model['cnts']/cnts_total * 100\n",
        "cum_ratio = []\n",
        "a = 0\n",
        "for i in range(0, len(df_model)):\n",
        "  a += df_model['ratio'][i]\n",
        "  cum_ratio.append(a)\n",
        "\n",
        "df_model['cum_ratio'] = cum_ratio\n",
        "df_model"
      ],
      "metadata": {
        "colab": {
          "base_uri": "https://localhost:8080/",
          "height": 423
        },
        "id": "EpLA4JsHD_YH",
        "outputId": "11576cfe-34bb-4ddf-8ae5-4b6a770ac3a2"
      },
      "execution_count": 58,
      "outputs": [
        {
          "output_type": "execute_result",
          "data": {
            "text/html": [
              "\n",
              "  <div id=\"df-7386a8f2-1c1c-4a66-b067-a019c2990731\">\n",
              "    <div class=\"colab-df-container\">\n",
              "      <div>\n",
              "<style scoped>\n",
              "    .dataframe tbody tr th:only-of-type {\n",
              "        vertical-align: middle;\n",
              "    }\n",
              "\n",
              "    .dataframe tbody tr th {\n",
              "        vertical-align: top;\n",
              "    }\n",
              "\n",
              "    .dataframe thead th {\n",
              "        text-align: right;\n",
              "    }\n",
              "</style>\n",
              "<table border=\"1\" class=\"dataframe\">\n",
              "  <thead>\n",
              "    <tr style=\"text-align: right;\">\n",
              "      <th></th>\n",
              "      <th>model</th>\n",
              "      <th>cnts</th>\n",
              "      <th>ratio</th>\n",
              "      <th>cum_ratio</th>\n",
              "    </tr>\n",
              "  </thead>\n",
              "  <tbody>\n",
              "    <tr>\n",
              "      <th>0</th>\n",
              "      <td>f-150</td>\n",
              "      <td>8009</td>\n",
              "      <td>1.899654</td>\n",
              "      <td>1.899654</td>\n",
              "    </tr>\n",
              "    <tr>\n",
              "      <th>1</th>\n",
              "      <td>silverado 1500</td>\n",
              "      <td>5140</td>\n",
              "      <td>1.219156</td>\n",
              "      <td>3.118811</td>\n",
              "    </tr>\n",
              "    <tr>\n",
              "      <th>2</th>\n",
              "      <td>1500</td>\n",
              "      <td>4211</td>\n",
              "      <td>0.998807</td>\n",
              "      <td>4.117618</td>\n",
              "    </tr>\n",
              "    <tr>\n",
              "      <th>3</th>\n",
              "      <td>camry</td>\n",
              "      <td>3135</td>\n",
              "      <td>0.743591</td>\n",
              "      <td>4.861208</td>\n",
              "    </tr>\n",
              "    <tr>\n",
              "      <th>4</th>\n",
              "      <td>silverado</td>\n",
              "      <td>3023</td>\n",
              "      <td>0.717025</td>\n",
              "      <td>5.578234</td>\n",
              "    </tr>\n",
              "    <tr>\n",
              "      <th>...</th>\n",
              "      <td>...</td>\n",
              "      <td>...</td>\n",
              "      <td>...</td>\n",
              "      <td>...</td>\n",
              "    </tr>\n",
              "    <tr>\n",
              "      <th>29662</th>\n",
              "      <td>Huyndai Sante Fe Limited</td>\n",
              "      <td>1</td>\n",
              "      <td>0.000237</td>\n",
              "      <td>99.999051</td>\n",
              "    </tr>\n",
              "    <tr>\n",
              "      <th>29663</th>\n",
              "      <td>astro awd 4x4</td>\n",
              "      <td>1</td>\n",
              "      <td>0.000237</td>\n",
              "      <td>99.999288</td>\n",
              "    </tr>\n",
              "    <tr>\n",
              "      <th>29664</th>\n",
              "      <td>escalade and</td>\n",
              "      <td>1</td>\n",
              "      <td>0.000237</td>\n",
              "      <td>99.999526</td>\n",
              "    </tr>\n",
              "    <tr>\n",
              "      <th>29665</th>\n",
              "      <td>cx 3</td>\n",
              "      <td>1</td>\n",
              "      <td>0.000237</td>\n",
              "      <td>99.999763</td>\n",
              "    </tr>\n",
              "    <tr>\n",
              "      <th>29666</th>\n",
              "      <td>Paige Glenbrook Touring</td>\n",
              "      <td>1</td>\n",
              "      <td>0.000237</td>\n",
              "      <td>100.000000</td>\n",
              "    </tr>\n",
              "  </tbody>\n",
              "</table>\n",
              "<p>29667 rows × 4 columns</p>\n",
              "</div>\n",
              "      <button class=\"colab-df-convert\" onclick=\"convertToInteractive('df-7386a8f2-1c1c-4a66-b067-a019c2990731')\"\n",
              "              title=\"Convert this dataframe to an interactive table.\"\n",
              "              style=\"display:none;\">\n",
              "        \n",
              "  <svg xmlns=\"http://www.w3.org/2000/svg\" height=\"24px\"viewBox=\"0 0 24 24\"\n",
              "       width=\"24px\">\n",
              "    <path d=\"M0 0h24v24H0V0z\" fill=\"none\"/>\n",
              "    <path d=\"M18.56 5.44l.94 2.06.94-2.06 2.06-.94-2.06-.94-.94-2.06-.94 2.06-2.06.94zm-11 1L8.5 8.5l.94-2.06 2.06-.94-2.06-.94L8.5 2.5l-.94 2.06-2.06.94zm10 10l.94 2.06.94-2.06 2.06-.94-2.06-.94-.94-2.06-.94 2.06-2.06.94z\"/><path d=\"M17.41 7.96l-1.37-1.37c-.4-.4-.92-.59-1.43-.59-.52 0-1.04.2-1.43.59L10.3 9.45l-7.72 7.72c-.78.78-.78 2.05 0 2.83L4 21.41c.39.39.9.59 1.41.59.51 0 1.02-.2 1.41-.59l7.78-7.78 2.81-2.81c.8-.78.8-2.07 0-2.86zM5.41 20L4 18.59l7.72-7.72 1.47 1.35L5.41 20z\"/>\n",
              "  </svg>\n",
              "      </button>\n",
              "      \n",
              "  <style>\n",
              "    .colab-df-container {\n",
              "      display:flex;\n",
              "      flex-wrap:wrap;\n",
              "      gap: 12px;\n",
              "    }\n",
              "\n",
              "    .colab-df-convert {\n",
              "      background-color: #E8F0FE;\n",
              "      border: none;\n",
              "      border-radius: 50%;\n",
              "      cursor: pointer;\n",
              "      display: none;\n",
              "      fill: #1967D2;\n",
              "      height: 32px;\n",
              "      padding: 0 0 0 0;\n",
              "      width: 32px;\n",
              "    }\n",
              "\n",
              "    .colab-df-convert:hover {\n",
              "      background-color: #E2EBFA;\n",
              "      box-shadow: 0px 1px 2px rgba(60, 64, 67, 0.3), 0px 1px 3px 1px rgba(60, 64, 67, 0.15);\n",
              "      fill: #174EA6;\n",
              "    }\n",
              "\n",
              "    [theme=dark] .colab-df-convert {\n",
              "      background-color: #3B4455;\n",
              "      fill: #D2E3FC;\n",
              "    }\n",
              "\n",
              "    [theme=dark] .colab-df-convert:hover {\n",
              "      background-color: #434B5C;\n",
              "      box-shadow: 0px 1px 3px 1px rgba(0, 0, 0, 0.15);\n",
              "      filter: drop-shadow(0px 1px 2px rgba(0, 0, 0, 0.3));\n",
              "      fill: #FFFFFF;\n",
              "    }\n",
              "  </style>\n",
              "\n",
              "      <script>\n",
              "        const buttonEl =\n",
              "          document.querySelector('#df-7386a8f2-1c1c-4a66-b067-a019c2990731 button.colab-df-convert');\n",
              "        buttonEl.style.display =\n",
              "          google.colab.kernel.accessAllowed ? 'block' : 'none';\n",
              "\n",
              "        async function convertToInteractive(key) {\n",
              "          const element = document.querySelector('#df-7386a8f2-1c1c-4a66-b067-a019c2990731');\n",
              "          const dataTable =\n",
              "            await google.colab.kernel.invokeFunction('convertToInteractive',\n",
              "                                                     [key], {});\n",
              "          if (!dataTable) return;\n",
              "\n",
              "          const docLinkHtml = 'Like what you see? Visit the ' +\n",
              "            '<a target=\"_blank\" href=https://colab.research.google.com/notebooks/data_table.ipynb>data table notebook</a>'\n",
              "            + ' to learn more about interactive tables.';\n",
              "          element.innerHTML = '';\n",
              "          dataTable['output_type'] = 'display_data';\n",
              "          await google.colab.output.renderOutput(dataTable, element);\n",
              "          const docLink = document.createElement('div');\n",
              "          docLink.innerHTML = docLinkHtml;\n",
              "          element.appendChild(docLink);\n",
              "        }\n",
              "      </script>\n",
              "    </div>\n",
              "  </div>\n",
              "  "
            ],
            "text/plain": [
              "                          model  cnts     ratio   cum_ratio\n",
              "0                         f-150  8009  1.899654    1.899654\n",
              "1                silverado 1500  5140  1.219156    3.118811\n",
              "2                          1500  4211  0.998807    4.117618\n",
              "3                         camry  3135  0.743591    4.861208\n",
              "4                     silverado  3023  0.717025    5.578234\n",
              "...                         ...   ...       ...         ...\n",
              "29662  Huyndai Sante Fe Limited     1  0.000237   99.999051\n",
              "29663             astro awd 4x4     1  0.000237   99.999288\n",
              "29664              escalade and     1  0.000237   99.999526\n",
              "29665                      cx 3     1  0.000237   99.999763\n",
              "29666   Paige Glenbrook Touring     1  0.000237  100.000000\n",
              "\n",
              "[29667 rows x 4 columns]"
            ]
          },
          "metadata": {},
          "execution_count": 58
        }
      ]
    },
    {
      "cell_type": "code",
      "source": [
        "df_model.head(20)"
      ],
      "metadata": {
        "colab": {
          "base_uri": "https://localhost:8080/",
          "height": 676
        },
        "id": "TMUAtyxYEN4t",
        "outputId": "72660dbc-e99b-4f87-93fc-e1b6a30bc08e"
      },
      "execution_count": 59,
      "outputs": [
        {
          "output_type": "execute_result",
          "data": {
            "text/html": [
              "\n",
              "  <div id=\"df-8fb74d98-2af3-47e7-99b3-ac7a04effca8\">\n",
              "    <div class=\"colab-df-container\">\n",
              "      <div>\n",
              "<style scoped>\n",
              "    .dataframe tbody tr th:only-of-type {\n",
              "        vertical-align: middle;\n",
              "    }\n",
              "\n",
              "    .dataframe tbody tr th {\n",
              "        vertical-align: top;\n",
              "    }\n",
              "\n",
              "    .dataframe thead th {\n",
              "        text-align: right;\n",
              "    }\n",
              "</style>\n",
              "<table border=\"1\" class=\"dataframe\">\n",
              "  <thead>\n",
              "    <tr style=\"text-align: right;\">\n",
              "      <th></th>\n",
              "      <th>model</th>\n",
              "      <th>cnts</th>\n",
              "      <th>ratio</th>\n",
              "      <th>cum_ratio</th>\n",
              "    </tr>\n",
              "  </thead>\n",
              "  <tbody>\n",
              "    <tr>\n",
              "      <th>0</th>\n",
              "      <td>f-150</td>\n",
              "      <td>8009</td>\n",
              "      <td>1.899654</td>\n",
              "      <td>1.899654</td>\n",
              "    </tr>\n",
              "    <tr>\n",
              "      <th>1</th>\n",
              "      <td>silverado 1500</td>\n",
              "      <td>5140</td>\n",
              "      <td>1.219156</td>\n",
              "      <td>3.118811</td>\n",
              "    </tr>\n",
              "    <tr>\n",
              "      <th>2</th>\n",
              "      <td>1500</td>\n",
              "      <td>4211</td>\n",
              "      <td>0.998807</td>\n",
              "      <td>4.117618</td>\n",
              "    </tr>\n",
              "    <tr>\n",
              "      <th>3</th>\n",
              "      <td>camry</td>\n",
              "      <td>3135</td>\n",
              "      <td>0.743591</td>\n",
              "      <td>4.861208</td>\n",
              "    </tr>\n",
              "    <tr>\n",
              "      <th>4</th>\n",
              "      <td>silverado</td>\n",
              "      <td>3023</td>\n",
              "      <td>0.717025</td>\n",
              "      <td>5.578234</td>\n",
              "    </tr>\n",
              "    <tr>\n",
              "      <th>5</th>\n",
              "      <td>accord</td>\n",
              "      <td>2969</td>\n",
              "      <td>0.704217</td>\n",
              "      <td>6.282451</td>\n",
              "    </tr>\n",
              "    <tr>\n",
              "      <th>6</th>\n",
              "      <td>wrangler</td>\n",
              "      <td>2848</td>\n",
              "      <td>0.675517</td>\n",
              "      <td>6.957968</td>\n",
              "    </tr>\n",
              "    <tr>\n",
              "      <th>7</th>\n",
              "      <td>civic</td>\n",
              "      <td>2799</td>\n",
              "      <td>0.663895</td>\n",
              "      <td>7.621862</td>\n",
              "    </tr>\n",
              "    <tr>\n",
              "      <th>8</th>\n",
              "      <td>altima</td>\n",
              "      <td>2779</td>\n",
              "      <td>0.659151</td>\n",
              "      <td>8.281013</td>\n",
              "    </tr>\n",
              "    <tr>\n",
              "      <th>9</th>\n",
              "      <td>escape</td>\n",
              "      <td>2746</td>\n",
              "      <td>0.651324</td>\n",
              "      <td>8.932337</td>\n",
              "    </tr>\n",
              "    <tr>\n",
              "      <th>10</th>\n",
              "      <td>2500</td>\n",
              "      <td>2687</td>\n",
              "      <td>0.637329</td>\n",
              "      <td>9.569666</td>\n",
              "    </tr>\n",
              "    <tr>\n",
              "      <th>11</th>\n",
              "      <td>tacoma</td>\n",
              "      <td>2582</td>\n",
              "      <td>0.612424</td>\n",
              "      <td>10.182091</td>\n",
              "    </tr>\n",
              "    <tr>\n",
              "      <th>12</th>\n",
              "      <td>explorer</td>\n",
              "      <td>2499</td>\n",
              "      <td>0.592738</td>\n",
              "      <td>10.774828</td>\n",
              "    </tr>\n",
              "    <tr>\n",
              "      <th>13</th>\n",
              "      <td>grand cherokee</td>\n",
              "      <td>2489</td>\n",
              "      <td>0.590366</td>\n",
              "      <td>11.365194</td>\n",
              "    </tr>\n",
              "    <tr>\n",
              "      <th>14</th>\n",
              "      <td>corolla</td>\n",
              "      <td>2241</td>\n",
              "      <td>0.531543</td>\n",
              "      <td>11.896737</td>\n",
              "    </tr>\n",
              "    <tr>\n",
              "      <th>15</th>\n",
              "      <td>mustang</td>\n",
              "      <td>2225</td>\n",
              "      <td>0.527748</td>\n",
              "      <td>12.424485</td>\n",
              "    </tr>\n",
              "    <tr>\n",
              "      <th>16</th>\n",
              "      <td>fusion</td>\n",
              "      <td>1979</td>\n",
              "      <td>0.469399</td>\n",
              "      <td>12.893884</td>\n",
              "    </tr>\n",
              "    <tr>\n",
              "      <th>17</th>\n",
              "      <td>equinox</td>\n",
              "      <td>1972</td>\n",
              "      <td>0.467739</td>\n",
              "      <td>13.361622</td>\n",
              "    </tr>\n",
              "    <tr>\n",
              "      <th>18</th>\n",
              "      <td>cr-v</td>\n",
              "      <td>1930</td>\n",
              "      <td>0.457777</td>\n",
              "      <td>13.819399</td>\n",
              "    </tr>\n",
              "    <tr>\n",
              "      <th>19</th>\n",
              "      <td>focus</td>\n",
              "      <td>1832</td>\n",
              "      <td>0.434532</td>\n",
              "      <td>14.253931</td>\n",
              "    </tr>\n",
              "  </tbody>\n",
              "</table>\n",
              "</div>\n",
              "      <button class=\"colab-df-convert\" onclick=\"convertToInteractive('df-8fb74d98-2af3-47e7-99b3-ac7a04effca8')\"\n",
              "              title=\"Convert this dataframe to an interactive table.\"\n",
              "              style=\"display:none;\">\n",
              "        \n",
              "  <svg xmlns=\"http://www.w3.org/2000/svg\" height=\"24px\"viewBox=\"0 0 24 24\"\n",
              "       width=\"24px\">\n",
              "    <path d=\"M0 0h24v24H0V0z\" fill=\"none\"/>\n",
              "    <path d=\"M18.56 5.44l.94 2.06.94-2.06 2.06-.94-2.06-.94-.94-2.06-.94 2.06-2.06.94zm-11 1L8.5 8.5l.94-2.06 2.06-.94-2.06-.94L8.5 2.5l-.94 2.06-2.06.94zm10 10l.94 2.06.94-2.06 2.06-.94-2.06-.94-.94-2.06-.94 2.06-2.06.94z\"/><path d=\"M17.41 7.96l-1.37-1.37c-.4-.4-.92-.59-1.43-.59-.52 0-1.04.2-1.43.59L10.3 9.45l-7.72 7.72c-.78.78-.78 2.05 0 2.83L4 21.41c.39.39.9.59 1.41.59.51 0 1.02-.2 1.41-.59l7.78-7.78 2.81-2.81c.8-.78.8-2.07 0-2.86zM5.41 20L4 18.59l7.72-7.72 1.47 1.35L5.41 20z\"/>\n",
              "  </svg>\n",
              "      </button>\n",
              "      \n",
              "  <style>\n",
              "    .colab-df-container {\n",
              "      display:flex;\n",
              "      flex-wrap:wrap;\n",
              "      gap: 12px;\n",
              "    }\n",
              "\n",
              "    .colab-df-convert {\n",
              "      background-color: #E8F0FE;\n",
              "      border: none;\n",
              "      border-radius: 50%;\n",
              "      cursor: pointer;\n",
              "      display: none;\n",
              "      fill: #1967D2;\n",
              "      height: 32px;\n",
              "      padding: 0 0 0 0;\n",
              "      width: 32px;\n",
              "    }\n",
              "\n",
              "    .colab-df-convert:hover {\n",
              "      background-color: #E2EBFA;\n",
              "      box-shadow: 0px 1px 2px rgba(60, 64, 67, 0.3), 0px 1px 3px 1px rgba(60, 64, 67, 0.15);\n",
              "      fill: #174EA6;\n",
              "    }\n",
              "\n",
              "    [theme=dark] .colab-df-convert {\n",
              "      background-color: #3B4455;\n",
              "      fill: #D2E3FC;\n",
              "    }\n",
              "\n",
              "    [theme=dark] .colab-df-convert:hover {\n",
              "      background-color: #434B5C;\n",
              "      box-shadow: 0px 1px 3px 1px rgba(0, 0, 0, 0.15);\n",
              "      filter: drop-shadow(0px 1px 2px rgba(0, 0, 0, 0.3));\n",
              "      fill: #FFFFFF;\n",
              "    }\n",
              "  </style>\n",
              "\n",
              "      <script>\n",
              "        const buttonEl =\n",
              "          document.querySelector('#df-8fb74d98-2af3-47e7-99b3-ac7a04effca8 button.colab-df-convert');\n",
              "        buttonEl.style.display =\n",
              "          google.colab.kernel.accessAllowed ? 'block' : 'none';\n",
              "\n",
              "        async function convertToInteractive(key) {\n",
              "          const element = document.querySelector('#df-8fb74d98-2af3-47e7-99b3-ac7a04effca8');\n",
              "          const dataTable =\n",
              "            await google.colab.kernel.invokeFunction('convertToInteractive',\n",
              "                                                     [key], {});\n",
              "          if (!dataTable) return;\n",
              "\n",
              "          const docLinkHtml = 'Like what you see? Visit the ' +\n",
              "            '<a target=\"_blank\" href=https://colab.research.google.com/notebooks/data_table.ipynb>data table notebook</a>'\n",
              "            + ' to learn more about interactive tables.';\n",
              "          element.innerHTML = '';\n",
              "          dataTable['output_type'] = 'display_data';\n",
              "          await google.colab.output.renderOutput(dataTable, element);\n",
              "          const docLink = document.createElement('div');\n",
              "          docLink.innerHTML = docLinkHtml;\n",
              "          element.appendChild(docLink);\n",
              "        }\n",
              "      </script>\n",
              "    </div>\n",
              "  </div>\n",
              "  "
            ],
            "text/plain": [
              "             model  cnts     ratio  cum_ratio\n",
              "0            f-150  8009  1.899654   1.899654\n",
              "1   silverado 1500  5140  1.219156   3.118811\n",
              "2             1500  4211  0.998807   4.117618\n",
              "3            camry  3135  0.743591   4.861208\n",
              "4        silverado  3023  0.717025   5.578234\n",
              "5           accord  2969  0.704217   6.282451\n",
              "6         wrangler  2848  0.675517   6.957968\n",
              "7            civic  2799  0.663895   7.621862\n",
              "8           altima  2779  0.659151   8.281013\n",
              "9           escape  2746  0.651324   8.932337\n",
              "10            2500  2687  0.637329   9.569666\n",
              "11          tacoma  2582  0.612424  10.182091\n",
              "12        explorer  2499  0.592738  10.774828\n",
              "13  grand cherokee  2489  0.590366  11.365194\n",
              "14         corolla  2241  0.531543  11.896737\n",
              "15         mustang  2225  0.527748  12.424485\n",
              "16          fusion  1979  0.469399  12.893884\n",
              "17         equinox  1972  0.467739  13.361622\n",
              "18            cr-v  1930  0.457777  13.819399\n",
              "19           focus  1832  0.434532  14.253931"
            ]
          },
          "metadata": {},
          "execution_count": 59
        }
      ]
    },
    {
      "cell_type": "code",
      "source": [
        "df_model[df_model['ratio'] <0.1]"
      ],
      "metadata": {
        "colab": {
          "base_uri": "https://localhost:8080/",
          "height": 423
        },
        "id": "g4oUab95ESla",
        "outputId": "0d5810ef-d5a9-474d-b060-7f70da54acec"
      },
      "execution_count": 60,
      "outputs": [
        {
          "output_type": "execute_result",
          "data": {
            "text/html": [
              "\n",
              "  <div id=\"df-3ed71d1f-ef4a-4985-9874-c3249fed3dca\">\n",
              "    <div class=\"colab-df-container\">\n",
              "      <div>\n",
              "<style scoped>\n",
              "    .dataframe tbody tr th:only-of-type {\n",
              "        vertical-align: middle;\n",
              "    }\n",
              "\n",
              "    .dataframe tbody tr th {\n",
              "        vertical-align: top;\n",
              "    }\n",
              "\n",
              "    .dataframe thead th {\n",
              "        text-align: right;\n",
              "    }\n",
              "</style>\n",
              "<table border=\"1\" class=\"dataframe\">\n",
              "  <thead>\n",
              "    <tr style=\"text-align: right;\">\n",
              "      <th></th>\n",
              "      <th>model</th>\n",
              "      <th>cnts</th>\n",
              "      <th>ratio</th>\n",
              "      <th>cum_ratio</th>\n",
              "    </tr>\n",
              "  </thead>\n",
              "  <tbody>\n",
              "    <tr>\n",
              "      <th>151</th>\n",
              "      <td>f350 super duty</td>\n",
              "      <td>419</td>\n",
              "      <td>0.099383</td>\n",
              "      <td>40.367123</td>\n",
              "    </tr>\n",
              "    <tr>\n",
              "      <th>152</th>\n",
              "      <td>beetle</td>\n",
              "      <td>416</td>\n",
              "      <td>0.098671</td>\n",
              "      <td>40.465794</td>\n",
              "    </tr>\n",
              "    <tr>\n",
              "      <th>153</th>\n",
              "      <td>g6</td>\n",
              "      <td>409</td>\n",
              "      <td>0.097011</td>\n",
              "      <td>40.562804</td>\n",
              "    </tr>\n",
              "    <tr>\n",
              "      <th>154</th>\n",
              "      <td>town and country</td>\n",
              "      <td>403</td>\n",
              "      <td>0.095588</td>\n",
              "      <td>40.658392</td>\n",
              "    </tr>\n",
              "    <tr>\n",
              "      <th>155</th>\n",
              "      <td>wrx</td>\n",
              "      <td>402</td>\n",
              "      <td>0.095350</td>\n",
              "      <td>40.753742</td>\n",
              "    </tr>\n",
              "    <tr>\n",
              "      <th>...</th>\n",
              "      <td>...</td>\n",
              "      <td>...</td>\n",
              "      <td>...</td>\n",
              "      <td>...</td>\n",
              "    </tr>\n",
              "    <tr>\n",
              "      <th>29662</th>\n",
              "      <td>Huyndai Sante Fe Limited</td>\n",
              "      <td>1</td>\n",
              "      <td>0.000237</td>\n",
              "      <td>99.999051</td>\n",
              "    </tr>\n",
              "    <tr>\n",
              "      <th>29663</th>\n",
              "      <td>astro awd 4x4</td>\n",
              "      <td>1</td>\n",
              "      <td>0.000237</td>\n",
              "      <td>99.999288</td>\n",
              "    </tr>\n",
              "    <tr>\n",
              "      <th>29664</th>\n",
              "      <td>escalade and</td>\n",
              "      <td>1</td>\n",
              "      <td>0.000237</td>\n",
              "      <td>99.999526</td>\n",
              "    </tr>\n",
              "    <tr>\n",
              "      <th>29665</th>\n",
              "      <td>cx 3</td>\n",
              "      <td>1</td>\n",
              "      <td>0.000237</td>\n",
              "      <td>99.999763</td>\n",
              "    </tr>\n",
              "    <tr>\n",
              "      <th>29666</th>\n",
              "      <td>Paige Glenbrook Touring</td>\n",
              "      <td>1</td>\n",
              "      <td>0.000237</td>\n",
              "      <td>100.000000</td>\n",
              "    </tr>\n",
              "  </tbody>\n",
              "</table>\n",
              "<p>29516 rows × 4 columns</p>\n",
              "</div>\n",
              "      <button class=\"colab-df-convert\" onclick=\"convertToInteractive('df-3ed71d1f-ef4a-4985-9874-c3249fed3dca')\"\n",
              "              title=\"Convert this dataframe to an interactive table.\"\n",
              "              style=\"display:none;\">\n",
              "        \n",
              "  <svg xmlns=\"http://www.w3.org/2000/svg\" height=\"24px\"viewBox=\"0 0 24 24\"\n",
              "       width=\"24px\">\n",
              "    <path d=\"M0 0h24v24H0V0z\" fill=\"none\"/>\n",
              "    <path d=\"M18.56 5.44l.94 2.06.94-2.06 2.06-.94-2.06-.94-.94-2.06-.94 2.06-2.06.94zm-11 1L8.5 8.5l.94-2.06 2.06-.94-2.06-.94L8.5 2.5l-.94 2.06-2.06.94zm10 10l.94 2.06.94-2.06 2.06-.94-2.06-.94-.94-2.06-.94 2.06-2.06.94z\"/><path d=\"M17.41 7.96l-1.37-1.37c-.4-.4-.92-.59-1.43-.59-.52 0-1.04.2-1.43.59L10.3 9.45l-7.72 7.72c-.78.78-.78 2.05 0 2.83L4 21.41c.39.39.9.59 1.41.59.51 0 1.02-.2 1.41-.59l7.78-7.78 2.81-2.81c.8-.78.8-2.07 0-2.86zM5.41 20L4 18.59l7.72-7.72 1.47 1.35L5.41 20z\"/>\n",
              "  </svg>\n",
              "      </button>\n",
              "      \n",
              "  <style>\n",
              "    .colab-df-container {\n",
              "      display:flex;\n",
              "      flex-wrap:wrap;\n",
              "      gap: 12px;\n",
              "    }\n",
              "\n",
              "    .colab-df-convert {\n",
              "      background-color: #E8F0FE;\n",
              "      border: none;\n",
              "      border-radius: 50%;\n",
              "      cursor: pointer;\n",
              "      display: none;\n",
              "      fill: #1967D2;\n",
              "      height: 32px;\n",
              "      padding: 0 0 0 0;\n",
              "      width: 32px;\n",
              "    }\n",
              "\n",
              "    .colab-df-convert:hover {\n",
              "      background-color: #E2EBFA;\n",
              "      box-shadow: 0px 1px 2px rgba(60, 64, 67, 0.3), 0px 1px 3px 1px rgba(60, 64, 67, 0.15);\n",
              "      fill: #174EA6;\n",
              "    }\n",
              "\n",
              "    [theme=dark] .colab-df-convert {\n",
              "      background-color: #3B4455;\n",
              "      fill: #D2E3FC;\n",
              "    }\n",
              "\n",
              "    [theme=dark] .colab-df-convert:hover {\n",
              "      background-color: #434B5C;\n",
              "      box-shadow: 0px 1px 3px 1px rgba(0, 0, 0, 0.15);\n",
              "      filter: drop-shadow(0px 1px 2px rgba(0, 0, 0, 0.3));\n",
              "      fill: #FFFFFF;\n",
              "    }\n",
              "  </style>\n",
              "\n",
              "      <script>\n",
              "        const buttonEl =\n",
              "          document.querySelector('#df-3ed71d1f-ef4a-4985-9874-c3249fed3dca button.colab-df-convert');\n",
              "        buttonEl.style.display =\n",
              "          google.colab.kernel.accessAllowed ? 'block' : 'none';\n",
              "\n",
              "        async function convertToInteractive(key) {\n",
              "          const element = document.querySelector('#df-3ed71d1f-ef4a-4985-9874-c3249fed3dca');\n",
              "          const dataTable =\n",
              "            await google.colab.kernel.invokeFunction('convertToInteractive',\n",
              "                                                     [key], {});\n",
              "          if (!dataTable) return;\n",
              "\n",
              "          const docLinkHtml = 'Like what you see? Visit the ' +\n",
              "            '<a target=\"_blank\" href=https://colab.research.google.com/notebooks/data_table.ipynb>data table notebook</a>'\n",
              "            + ' to learn more about interactive tables.';\n",
              "          element.innerHTML = '';\n",
              "          dataTable['output_type'] = 'display_data';\n",
              "          await google.colab.output.renderOutput(dataTable, element);\n",
              "          const docLink = document.createElement('div');\n",
              "          docLink.innerHTML = docLinkHtml;\n",
              "          element.appendChild(docLink);\n",
              "        }\n",
              "      </script>\n",
              "    </div>\n",
              "  </div>\n",
              "  "
            ],
            "text/plain": [
              "                          model  cnts     ratio   cum_ratio\n",
              "151             f350 super duty   419  0.099383   40.367123\n",
              "152                      beetle   416  0.098671   40.465794\n",
              "153                          g6   409  0.097011   40.562804\n",
              "154            town and country   403  0.095588   40.658392\n",
              "155                         wrx   402  0.095350   40.753742\n",
              "...                         ...   ...       ...         ...\n",
              "29662  Huyndai Sante Fe Limited     1  0.000237   99.999051\n",
              "29663             astro awd 4x4     1  0.000237   99.999288\n",
              "29664              escalade and     1  0.000237   99.999526\n",
              "29665                      cx 3     1  0.000237   99.999763\n",
              "29666   Paige Glenbrook Touring     1  0.000237  100.000000\n",
              "\n",
              "[29516 rows x 4 columns]"
            ]
          },
          "metadata": {},
          "execution_count": 60
        }
      ]
    },
    {
      "cell_type": "markdown",
      "source": [
        "차량 모델의 경우 종류가 매우 많고 신뢰성이 떨어져 보임.  \n",
        "ex) silverado 1500\t모델의 경우 silverado와 1500 로도 각각 입력되어 있는것으로 보임.  \n",
        "유사한 모델을 모두 합쳐줘야 하지만 약 3만개의 모델을 정제하기 어려움. -> 제외"
      ],
      "metadata": {
        "id": "V8IEdsnLFHCO"
      }
    },
    {
      "cell_type": "code",
      "source": [
        "\n",
        "cnt = data['condition'].fillna('NA').value_counts()\n",
        "print(\"num of values :\", len(cnt))\n",
        "print(\"Value_Counts\")\n",
        "print(cnt)\n",
        "\n",
        "plt.grid()\n",
        "plt.title('condition')\n",
        "plt.plot(range(len(cnt)), cnt)\n",
        "\n",
        "df_ratio_check_with_na = pd.DataFrame(cnt).reset_index().rename(columns = {'index' : 'condition', 'condition' :'cnts'})\n",
        "cnts_total = sum(df_ratio_check_with_na['cnts'])\n",
        "df_ratio_check_with_na['ratio'] = df_ratio_check_with_na['cnts']/cnts_total * 100\n",
        "\n",
        "cum_ratio = []\n",
        "a = 0\n",
        "\n",
        "for i in range(0, len(df_ratio_check_with_na)):\n",
        "  a += df_ratio_check_with_na['ratio'][i]\n",
        "  cum_ratio.append(a)\n",
        "\n",
        "df_ratio_check_with_na['cum_ratio'] = cum_ratio\n",
        "print(\" \")\n",
        "print(\"cars' condition ratio with na\")\n",
        "print(df_ratio_check_with_na)\n",
        "\n",
        "df_ratio_check = pd.DataFrame(cnt.drop('NA')).reset_index().rename(columns = {'index' : 'condition', 'condition' :'cnts'})\n",
        "cnts_total = sum(df_ratio_check['cnts'])\n",
        "df_ratio_check['ratio'] = df_ratio_check['cnts']/cnts_total * 100\n",
        "\n",
        "cum_ratio = []\n",
        "a = 0\n",
        "\n",
        "for i in range(0, len(df_ratio_check)):\n",
        "  a += df_ratio_check['ratio'][i]\n",
        "  cum_ratio.append(a)\n",
        "\n",
        "df_ratio_check['cum_ratio'] = cum_ratio\n",
        "print(\" \")\n",
        "print(\"cars' condition ratio\")\n",
        "print(df_ratio_check)"
      ],
      "metadata": {
        "colab": {
          "base_uri": "https://localhost:8080/",
          "height": 816
        },
        "id": "-lDz4zs3GN_Z",
        "outputId": "0b2decb6-801b-4f9b-e1f6-1d13904c03b2"
      },
      "execution_count": 61,
      "outputs": [
        {
          "output_type": "stream",
          "name": "stdout",
          "text": [
            "num of values : 7\n",
            "Value_Counts\n",
            "NA           174104\n",
            "good         121456\n",
            "excellent    101467\n",
            "like new      21178\n",
            "fair           6769\n",
            "new            1305\n",
            "salvage         601\n",
            "Name: condition, dtype: int64\n",
            " \n",
            "cars' condition ratio with na\n",
            "   condition    cnts      ratio   cum_ratio\n",
            "0         NA  174104  40.785232   40.785232\n",
            "1       good  121456  28.452024   69.237256\n",
            "2  excellent  101467  23.769443   93.006700\n",
            "3   like new   21178   4.961113   97.967813\n",
            "4       fair    6769   1.585692   99.553504\n",
            "5        new    1305   0.305707   99.859211\n",
            "6    salvage     601   0.140789  100.000000\n",
            " \n",
            "cars' condition ratio\n",
            "   condition    cnts      ratio   cum_ratio\n",
            "0       good  121456  48.048865   48.048865\n",
            "1  excellent  101467  40.141074   88.189939\n",
            "2   like new   21178   8.378169   96.568108\n",
            "3       fair    6769   2.677865   99.245973\n",
            "4        new    1305   0.516267   99.762240\n",
            "5    salvage     601   0.237760  100.000000\n"
          ]
        },
        {
          "output_type": "display_data",
          "data": {
            "image/png": "[encoded data removed]",
            "text/plain": [
              "<Figure size 432x288 with 1 Axes>"
            ]
          },
          "metadata": {
            "needs_background": "light"
          }
        }
      ]
    },
    {
      "cell_type": "markdown",
      "source": [
        "차량 상태는 대부분 good, excellent, like new이다.  \n",
        "차량을 판매하려면 대부분 상태가 좋다고 해야하기 때문으로 추정된다.  \n",
        "결측값이 전체의 약 40% 를 차지하며, 결측값을 제외한 누적 비율의 경우 상위 4개 카테고리로 99%를 cover하기 때문에 결측값과 나머지 2개 카테고리(new, salvage)는 others 로 grouping"
      ],
      "metadata": {
        "id": "M_OJAE0GIwfO"
      }
    },
    {
      "cell_type": "code",
      "source": [
        "grouping =  cnt.drop('NA').index[4:]\n",
        "print(grouping)\n",
        "\n",
        "data['condition_gr'] = data['condition'].fillna('other').apply(lambda x: x if str(x) not in grouping else 'other')\n",
        "print(data['condition_gr'].nunique(), data['condition'].nunique())\n",
        "data['condition_gr'].value_counts()"
      ],
      "metadata": {
        "colab": {
          "base_uri": "https://localhost:8080/"
        },
        "id": "35aRYtHUHCqY",
        "outputId": "e1774b7f-1165-4b18-cd68-642f0656092b"
      },
      "execution_count": 62,
      "outputs": [
        {
          "output_type": "stream",
          "name": "stdout",
          "text": [
            "Index(['new', 'salvage'], dtype='object')\n",
            "5 6\n"
          ]
        },
        {
          "output_type": "execute_result",
          "data": {
            "text/plain": [
              "other        176010\n",
              "good         121456\n",
              "excellent    101467\n",
              "like new      21178\n",
              "fair           6769\n",
              "Name: condition_gr, dtype: int64"
            ]
          },
          "metadata": {},
          "execution_count": 62
        }
      ]
    },
    {
      "cell_type": "code",
      "source": [
        "\n",
        "cnt = data['cylinders'].fillna('NA').value_counts()\n",
        "print(\"num of values :\", len(cnt))\n",
        "print(\"Value_Counts\")\n",
        "print(cnt)\n",
        "\n",
        "plt.grid()\n",
        "plt.title('cylinders')\n",
        "plt.plot(range(len(cnt)), cnt)\n",
        "\n",
        "df_ratio_check_with_na = pd.DataFrame(cnt).reset_index().rename(columns = {'index' : 'cylinders', 'cylinders' :'cnts'})\n",
        "cnts_total = sum(df_ratio_check_with_na['cnts'])\n",
        "df_ratio_check_with_na['ratio'] = df_ratio_check_with_na['cnts']/cnts_total * 100\n",
        "\n",
        "cum_ratio = []\n",
        "a = 0\n",
        "\n",
        "for i in range(0, len(df_ratio_check_with_na)):\n",
        "  a += df_ratio_check_with_na['ratio'][i]\n",
        "  cum_ratio.append(a)\n",
        "\n",
        "df_ratio_check_with_na['cum_ratio'] = cum_ratio\n",
        "print(\" \")\n",
        "print(\"cars' cylinders ratio with na\")\n",
        "print(df_ratio_check_with_na)\n",
        "\n",
        "df_ratio_check = pd.DataFrame(cnt.drop('NA')).reset_index().rename(columns = {'index' : 'cylinders', 'cylinders' :'cnts'})\n",
        "cnts_total = sum(df_ratio_check['cnts'])\n",
        "df_ratio_check['ratio'] = df_ratio_check['cnts']/cnts_total * 100\n",
        "\n",
        "cum_ratio = []\n",
        "a = 0\n",
        "\n",
        "for i in range(0, len(df_ratio_check)):\n",
        "  a += df_ratio_check['ratio'][i]\n",
        "  cum_ratio.append(a)\n",
        "\n",
        "df_ratio_check['cum_ratio'] = cum_ratio\n",
        "print(\" \")\n",
        "print(\"cars' cylinders ratio\")\n",
        "print(df_ratio_check)"
      ],
      "metadata": {
        "colab": {
          "base_uri": "https://localhost:8080/",
          "height": 926
        },
        "id": "KJ7TpeRdLiwy",
        "outputId": "707cbf10-dc13-4f16-f48d-37a2f31659ca"
      },
      "execution_count": 63,
      "outputs": [
        {
          "output_type": "stream",
          "name": "stdout",
          "text": [
            "num of values : 9\n",
            "Value_Counts\n",
            "NA              177678\n",
            "6 cylinders      94169\n",
            "4 cylinders      77642\n",
            "8 cylinders      72062\n",
            "5 cylinders       1712\n",
            "10 cylinders      1455\n",
            "other             1298\n",
            "3 cylinders        655\n",
            "12 cylinders       209\n",
            "Name: cylinders, dtype: int64\n",
            " \n",
            "cars' cylinders ratio with na\n",
            "      cylinders    cnts      ratio   cum_ratio\n",
            "0            NA  177678  41.622470   41.622470\n",
            "1   6 cylinders   94169  22.059829   63.682299\n",
            "2   4 cylinders   77642  18.188250   81.870549\n",
            "3   8 cylinders   72062  16.881091   98.751640\n",
            "4   5 cylinders    1712   0.401049   99.152689\n",
            "5  10 cylinders    1455   0.340845   99.493534\n",
            "6         other    1298   0.304067   99.797601\n",
            "7   3 cylinders     655   0.153439   99.951040\n",
            "8  12 cylinders     209   0.048960  100.000000\n",
            " \n",
            "cars' cylinders ratio\n",
            "      cylinders   cnts      ratio   cum_ratio\n",
            "0   6 cylinders  94169  37.788220   37.788220\n",
            "1   4 cylinders  77642  31.156251   68.944471\n",
            "2   8 cylinders  72062  28.917103   97.861574\n",
            "3   5 cylinders   1712   0.686993   98.548567\n",
            "4  10 cylinders   1455   0.583864   99.132431\n",
            "5         other   1298   0.520863   99.653293\n",
            "6   3 cylinders    655   0.262839   99.916132\n",
            "7  12 cylinders    209   0.083868  100.000000\n"
          ]
        },
        {
          "output_type": "display_data",
          "data": {
            "image/png": "[encoded data removed]",
            "text/plain": [
              "<Figure size 432x288 with 1 Axes>"
            ]
          },
          "metadata": {
            "needs_background": "light"
          }
        }
      ]
    },
    {
      "cell_type": "markdown",
      "source": [
        "4,6,8 cylinders 가 대부분을 차지하므로 4, 6,8, 기타로 grouping"
      ],
      "metadata": {
        "id": "kMuT5AT8MWTr"
      }
    },
    {
      "cell_type": "code",
      "source": [
        "grouping =  cnt.drop('NA').index[3:]\n",
        "print(grouping)\n",
        "\n",
        "data['cylinders_gr'] = data['cylinders'].fillna('other').apply(lambda x: x if str(x) not in grouping else 'other')\n",
        "print(data['cylinders_gr'].nunique(), data['cylinders'].nunique())\n",
        "data['cylinders_gr'].value_counts()"
      ],
      "metadata": {
        "colab": {
          "base_uri": "https://localhost:8080/"
        },
        "id": "wH1-YCOdLx2F",
        "outputId": "050aa178-7f36-464a-a5e6-46a83fed55e1"
      },
      "execution_count": 64,
      "outputs": [
        {
          "output_type": "stream",
          "name": "stdout",
          "text": [
            "Index(['5 cylinders', '10 cylinders', 'other', '3 cylinders', '12 cylinders'], dtype='object')\n",
            "4 8\n"
          ]
        },
        {
          "output_type": "execute_result",
          "data": {
            "text/plain": [
              "other          183007\n",
              "6 cylinders     94169\n",
              "4 cylinders     77642\n",
              "8 cylinders     72062\n",
              "Name: cylinders_gr, dtype: int64"
            ]
          },
          "metadata": {},
          "execution_count": 64
        }
      ]
    },
    {
      "cell_type": "code",
      "source": [
        "\n",
        "cnt = data['fuel'].fillna('NA').value_counts()\n",
        "print(\"num of values :\", len(cnt))\n",
        "print(\"Value_Counts\")\n",
        "print(cnt)\n",
        "\n",
        "plt.grid()\n",
        "plt.title('fuel')\n",
        "plt.plot(range(len(cnt)), cnt)\n",
        "\n",
        "df_ratio_check_with_na = pd.DataFrame(cnt).reset_index().rename(columns = {'index' : 'fuel', 'fuel' :'cnts'})\n",
        "cnts_total = sum(df_ratio_check_with_na['cnts'])\n",
        "df_ratio_check_with_na['ratio'] = df_ratio_check_with_na['cnts']/cnts_total * 100\n",
        "\n",
        "cum_ratio = []\n",
        "a = 0\n",
        "\n",
        "for i in range(0, len(df_ratio_check_with_na)):\n",
        "  a += df_ratio_check_with_na['ratio'][i]\n",
        "  cum_ratio.append(a)\n",
        "\n",
        "df_ratio_check_with_na['cum_ratio'] = cum_ratio\n",
        "print(\" \")\n",
        "print(\"cars' fuel ratio with na\")\n",
        "print(df_ratio_check_with_na)\n",
        "\n",
        "df_ratio_check = pd.DataFrame(cnt.drop('NA')).reset_index().rename(columns = {'index' : 'fuel', 'fuel' :'cnts'})\n",
        "cnts_total = sum(df_ratio_check['cnts'])\n",
        "df_ratio_check['ratio'] = df_ratio_check['cnts']/cnts_total * 100\n",
        "\n",
        "cum_ratio = []\n",
        "a = 0\n",
        "\n",
        "for i in range(0, len(df_ratio_check)):\n",
        "  a += df_ratio_check['ratio'][i]\n",
        "  cum_ratio.append(a)\n",
        "\n",
        "df_ratio_check['cum_ratio'] = cum_ratio\n",
        "print(\" \")\n",
        "print(\"cars' fuel ratio\")\n",
        "print(df_ratio_check)"
      ],
      "metadata": {
        "colab": {
          "base_uri": "https://localhost:8080/",
          "height": 761
        },
        "id": "hs4ssfn1NNqo",
        "outputId": "6aa9e428-6432-45c4-940c-e5551f4f7a17"
      },
      "execution_count": 65,
      "outputs": [
        {
          "output_type": "stream",
          "name": "stdout",
          "text": [
            "num of values : 6\n",
            "Value_Counts\n",
            "gas         356209\n",
            "other        30728\n",
            "diesel       30062\n",
            "hybrid        5170\n",
            "NA            3013\n",
            "electric      1698\n",
            "Name: fuel, dtype: int64\n",
            " \n",
            "cars' fuel ratio with na\n",
            "       fuel    cnts      ratio   cum_ratio\n",
            "0       gas  356209  83.444762   83.444762\n",
            "1     other   30728   7.198276   90.643038\n",
            "2    diesel   30062   7.042260   97.685298\n",
            "3    hybrid    5170   1.211113   98.896411\n",
            "4        NA    3013   0.705819   99.602230\n",
            "5  electric    1698   0.397770  100.000000\n",
            " \n",
            "cars' fuel ratio\n",
            "       fuel    cnts      ratio   cum_ratio\n",
            "0       gas  356209  84.037918   84.037918\n",
            "1     other   30728   7.249444   91.287361\n",
            "2    diesel   30062   7.092319   98.379680\n",
            "3    hybrid    5170   1.219722   99.599403\n",
            "4  electric    1698   0.400597  100.000000\n"
          ]
        },
        {
          "output_type": "display_data",
          "data": {
            "image/png": "[encoded data removed]",
            "text/plain": [
              "<Figure size 432x288 with 1 Axes>"
            ]
          },
          "metadata": {
            "needs_background": "light"
          }
        }
      ]
    },
    {
      "cell_type": "markdown",
      "source": [
        "fuel의 경우 대부분 gas차이며 결측값이 매우 작기때문에 결측값을 other로 포함"
      ],
      "metadata": {
        "id": "RKD70WBPNfIc"
      }
    },
    {
      "cell_type": "code",
      "source": [
        "# grouping =  cnt.drop('NA').index[3:]\n",
        "# print(grouping)\n",
        "\n",
        "data['fuel_gr'] = data['fuel'].fillna('other')\n",
        "print(data['fuel_gr'].nunique(), data['fuel'].fillna('NA').nunique())\n",
        "data['fuel_gr'].value_counts()"
      ],
      "metadata": {
        "colab": {
          "base_uri": "https://localhost:8080/"
        },
        "id": "GdDzv2jCNedG",
        "outputId": "03372f42-9e6d-4e9f-ac10-bd9d627bd5f6"
      },
      "execution_count": 66,
      "outputs": [
        {
          "output_type": "stream",
          "name": "stdout",
          "text": [
            "5 6\n"
          ]
        },
        {
          "output_type": "execute_result",
          "data": {
            "text/plain": [
              "gas         356209\n",
              "other        33741\n",
              "diesel       30062\n",
              "hybrid        5170\n",
              "electric      1698\n",
              "Name: fuel_gr, dtype: int64"
            ]
          },
          "metadata": {},
          "execution_count": 66
        }
      ]
    },
    {
      "cell_type": "code",
      "source": [
        "\n",
        "cnt = data['title_status'].fillna('NA').value_counts()\n",
        "print(\"num of values :\", len(cnt))\n",
        "print(\"Value_Counts\")\n",
        "print(cnt)\n",
        "\n",
        "plt.grid()\n",
        "plt.title('title_status')\n",
        "plt.plot(range(len(cnt)), cnt)\n",
        "\n",
        "df_ratio_check_with_na = pd.DataFrame(cnt).reset_index().rename(columns = {'index' : 'title_status', 'title_status' :'cnts'})\n",
        "cnts_total = sum(df_ratio_check_with_na['cnts'])\n",
        "df_ratio_check_with_na['ratio'] = df_ratio_check_with_na['cnts']/cnts_total * 100\n",
        "\n",
        "cum_ratio = []\n",
        "a = 0\n",
        "\n",
        "for i in range(0, len(df_ratio_check_with_na)):\n",
        "  a += df_ratio_check_with_na['ratio'][i]\n",
        "  cum_ratio.append(a)\n",
        "\n",
        "df_ratio_check_with_na['cum_ratio'] = cum_ratio\n",
        "print(\" \")\n",
        "print(\"cars' title_status ratio with na\")\n",
        "print(df_ratio_check_with_na)\n",
        "\n",
        "df_ratio_check = pd.DataFrame(cnt.drop('NA')).reset_index().rename(columns = {'index' : 'title_status', 'title_status' :'cnts'})\n",
        "cnts_total = sum(df_ratio_check['cnts'])\n",
        "df_ratio_check['ratio'] = df_ratio_check['cnts']/cnts_total * 100\n",
        "\n",
        "cum_ratio = []\n",
        "a = 0\n",
        "\n",
        "for i in range(0, len(df_ratio_check)):\n",
        "  a += df_ratio_check['ratio'][i]\n",
        "  cum_ratio.append(a)\n",
        "\n",
        "df_ratio_check['cum_ratio'] = cum_ratio\n",
        "print(\" \")\n",
        "print(\"cars' title_status ratio\")\n",
        "print(df_ratio_check)"
      ],
      "metadata": {
        "colab": {
          "base_uri": "https://localhost:8080/",
          "height": 816
        },
        "id": "XJrdFZGDNUE1",
        "outputId": "a2f9a730-b879-4a22-c3d2-978fdb4c31ce"
      },
      "execution_count": 67,
      "outputs": [
        {
          "output_type": "stream",
          "name": "stdout",
          "text": [
            "num of values : 7\n",
            "Value_Counts\n",
            "clean         405117\n",
            "NA              8242\n",
            "rebuilt         7219\n",
            "salvage         3868\n",
            "lien            1422\n",
            "missing          814\n",
            "parts only       198\n",
            "Name: title_status, dtype: int64\n",
            " \n",
            "cars' title_status ratio with na\n",
            "  title_status    cnts      ratio   cum_ratio\n",
            "0        clean  405117  94.901846   94.901846\n",
            "1           NA    8242   1.930753   96.832599\n",
            "2      rebuilt    7219   1.691108   98.523707\n",
            "3      salvage    3868   0.906109   99.429816\n",
            "4         lien    1422   0.333115   99.762931\n",
            "5      missing     814   0.190686   99.953617\n",
            "6   parts only     198   0.046383  100.000000\n",
            " \n",
            "cars' title_status ratio\n",
            "  title_status    cnts      ratio   cum_ratio\n",
            "0        clean  405117  96.770241   96.770241\n",
            "1      rebuilt    7219   1.724402   98.494642\n",
            "2      salvage    3868   0.923949   99.418591\n",
            "3         lien    1422   0.339673   99.758264\n",
            "4      missing     814   0.194440   99.952704\n",
            "5   parts only     198   0.047296  100.000000\n"
          ]
        },
        {
          "output_type": "display_data",
          "data": {
            "image/png": "[encoded data removed]",
            "text/plain": [
              "<Figure size 432x288 with 1 Axes>"
            ]
          },
          "metadata": {
            "needs_background": "light"
          }
        }
      ]
    },
    {
      "cell_type": "markdown",
      "source": [
        "차량 소유자 등록 상태(title status of vehicle)는 대부분 비어있으며(clean) 약 5%만이 다른 상태이다.\n",
        "\n",
        "따라서 Clean과 Not_Clean 2개 그룹으로 grouping "
      ],
      "metadata": {
        "id": "VFchgP6-Okqn"
      }
    },
    {
      "cell_type": "code",
      "source": [
        "grouping =  cnt.index[1:]\n",
        "print(grouping)\n",
        "\n",
        "data['title_status_gr'] = data['title_status'].fillna('NA').apply(lambda x: x if str(x) not in grouping else 'Not_Clean')\n",
        "print(data['title_status_gr'].nunique(), data['title_status'].nunique())\n",
        "data['title_status_gr'].value_counts()"
      ],
      "metadata": {
        "colab": {
          "base_uri": "https://localhost:8080/"
        },
        "id": "8cwyq1InOHg0",
        "outputId": "2e1cff5c-9d19-44df-957d-c5c6cbae7399"
      },
      "execution_count": 68,
      "outputs": [
        {
          "output_type": "stream",
          "name": "stdout",
          "text": [
            "Index(['NA', 'rebuilt', 'salvage', 'lien', 'missing', 'parts only'], dtype='object')\n",
            "2 6\n"
          ]
        },
        {
          "output_type": "execute_result",
          "data": {
            "text/plain": [
              "clean        405117\n",
              "Not_Clean     21763\n",
              "Name: title_status_gr, dtype: int64"
            ]
          },
          "metadata": {},
          "execution_count": 68
        }
      ]
    },
    {
      "cell_type": "code",
      "source": [
        "\n",
        "cnt = data['transmission'].fillna('NA').value_counts()\n",
        "print(\"num of values :\", len(cnt))\n",
        "print(\"Value_Counts\")\n",
        "print(cnt)\n",
        "\n",
        "plt.grid()\n",
        "plt.title('transmission')\n",
        "plt.plot(range(len(cnt)), cnt)\n",
        "\n",
        "df_ratio_check_with_na = pd.DataFrame(cnt).reset_index().rename(columns = {'index' : 'transmission', 'transmission' :'cnts'})\n",
        "cnts_total = sum(df_ratio_check_with_na['cnts'])\n",
        "df_ratio_check_with_na['ratio'] = df_ratio_check_with_na['cnts']/cnts_total * 100\n",
        "\n",
        "cum_ratio = []\n",
        "a = 0\n",
        "\n",
        "for i in range(0, len(df_ratio_check_with_na)):\n",
        "  a += df_ratio_check_with_na['ratio'][i]\n",
        "  cum_ratio.append(a)\n",
        "\n",
        "df_ratio_check_with_na['cum_ratio'] = cum_ratio\n",
        "print(\" \")\n",
        "print(\"cars' transmission ratio with na\")\n",
        "print(df_ratio_check_with_na)\n",
        "\n",
        "df_ratio_check = pd.DataFrame(cnt.drop('NA')).reset_index().rename(columns = {'index' : 'transmission', 'transmission' :'cnts'})\n",
        "cnts_total = sum(df_ratio_check['cnts'])\n",
        "df_ratio_check['ratio'] = df_ratio_check['cnts']/cnts_total * 100\n",
        "\n",
        "cum_ratio = []\n",
        "a = 0\n",
        "\n",
        "for i in range(0, len(df_ratio_check)):\n",
        "  a += df_ratio_check['ratio'][i]\n",
        "  cum_ratio.append(a)\n",
        "\n",
        "df_ratio_check['cum_ratio'] = cum_ratio\n",
        "print(\" \")\n",
        "print(\"cars' transmission ratio\")\n",
        "print(df_ratio_check)"
      ],
      "metadata": {
        "colab": {
          "base_uri": "https://localhost:8080/",
          "height": 650
        },
        "id": "96plOSnDPS3x",
        "outputId": "7ec0e61a-9984-40d8-f745-0825eb7343ff"
      },
      "execution_count": 69,
      "outputs": [
        {
          "output_type": "stream",
          "name": "stdout",
          "text": [
            "num of values : 4\n",
            "Value_Counts\n",
            "automatic    336524\n",
            "other         62682\n",
            "manual        25118\n",
            "NA             2556\n",
            "Name: transmission, dtype: int64\n",
            " \n",
            "cars' transmission ratio with na\n",
            "  transmission    cnts      ratio   cum_ratio\n",
            "0    automatic  336524  78.833396   78.833396\n",
            "1        other   62682  14.683752   93.517148\n",
            "2       manual   25118   5.884089   99.401237\n",
            "3           NA    2556   0.598763  100.000000\n",
            " \n",
            "cars' transmission ratio\n",
            "  transmission    cnts      ratio   cum_ratio\n",
            "0    automatic  336524  79.308264   79.308264\n",
            "1        other   62682  14.772202   94.080467\n",
            "2       manual   25118   5.919533  100.000000\n"
          ]
        },
        {
          "output_type": "display_data",
          "data": {
            "image/png": "[encoded data removed]",
            "text/plain": [
              "<Figure size 432x288 with 1 Axes>"
            ]
          },
          "metadata": {
            "needs_background": "light"
          }
        }
      ]
    },
    {
      "cell_type": "markdown",
      "source": [
        "transmission은 대부분 auto이며 결측값이 0.5%존재\n",
        "other 값이 있으므로, 결측값도 other로 포함"
      ],
      "metadata": {
        "id": "Wi1qXICuPeuS"
      }
    },
    {
      "cell_type": "code",
      "source": [
        "# grouping =  cnt.index[1:]\n",
        "grouping = ['automatic', 'manual']\n",
        "print(grouping)\n",
        "\n",
        "data['transmission_gr'] = data['transmission'].fillna('NA').apply(lambda x: x if str(x) in grouping else 'other')\n",
        "print(data['transmission_gr'].nunique(), data['transmission'].fillna('NA').nunique())\n",
        "data['transmission_gr'].value_counts()"
      ],
      "metadata": {
        "colab": {
          "base_uri": "https://localhost:8080/"
        },
        "id": "WU2RK7WVPxsn",
        "outputId": "eebc7191-ef22-4abc-e887-f0a720f2c35f"
      },
      "execution_count": 70,
      "outputs": [
        {
          "output_type": "stream",
          "name": "stdout",
          "text": [
            "['automatic', 'manual']\n",
            "3 4\n"
          ]
        },
        {
          "output_type": "execute_result",
          "data": {
            "text/plain": [
              "automatic    336524\n",
              "other         65238\n",
              "manual        25118\n",
              "Name: transmission_gr, dtype: int64"
            ]
          },
          "metadata": {},
          "execution_count": 70
        }
      ]
    },
    {
      "cell_type": "code",
      "source": [
        "\n",
        "cnt = data['drive'].fillna('NA').value_counts()\n",
        "print(\"num of values :\", len(cnt))\n",
        "print(\"Value_Counts\")\n",
        "print(cnt)\n",
        "\n",
        "plt.grid()\n",
        "plt.title('drive')\n",
        "plt.plot(range(len(cnt)), cnt)\n",
        "\n",
        "df_ratio_check_with_na = pd.DataFrame(cnt).reset_index().rename(columns = {'index' : 'drive', 'drive' :'cnts'})\n",
        "cnts_total = sum(df_ratio_check_with_na['cnts'])\n",
        "df_ratio_check_with_na['ratio'] = df_ratio_check_with_na['cnts']/cnts_total * 100\n",
        "\n",
        "cum_ratio = []\n",
        "a = 0\n",
        "\n",
        "for i in range(0, len(df_ratio_check_with_na)):\n",
        "  a += df_ratio_check_with_na['ratio'][i]\n",
        "  cum_ratio.append(a)\n",
        "\n",
        "df_ratio_check_with_na['cum_ratio'] = cum_ratio\n",
        "print(\" \")\n",
        "print(\"cars' drive ratio with na\")\n",
        "print(df_ratio_check_with_na)\n",
        "\n",
        "df_ratio_check = pd.DataFrame(cnt.drop('NA')).reset_index().rename(columns = {'index' : 'drive', 'drive' :'cnts'})\n",
        "cnts_total = sum(df_ratio_check['cnts'])\n",
        "df_ratio_check['ratio'] = df_ratio_check['cnts']/cnts_total * 100\n",
        "\n",
        "cum_ratio = []\n",
        "a = 0\n",
        "\n",
        "for i in range(0, len(df_ratio_check)):\n",
        "  a += df_ratio_check['ratio'][i]\n",
        "  cum_ratio.append(a)\n",
        "\n",
        "df_ratio_check['cum_ratio'] = cum_ratio\n",
        "print(\" \")\n",
        "print(\"cars' drive ratio\")\n",
        "print(df_ratio_check)"
      ],
      "metadata": {
        "colab": {
          "base_uri": "https://localhost:8080/",
          "height": 650
        },
        "id": "P4OZy1VGPZCe",
        "outputId": "9ccbb014-18cb-4543-95c0-b62042aa5256"
      },
      "execution_count": 71,
      "outputs": [
        {
          "output_type": "stream",
          "name": "stdout",
          "text": [
            "num of values : 4\n",
            "Value_Counts\n",
            "4wd    131904\n",
            "NA     130567\n",
            "fwd    105517\n",
            "rwd     58892\n",
            "Name: drive, dtype: int64\n",
            " \n",
            "cars' drive ratio with na\n",
            "  drive    cnts      ratio   cum_ratio\n",
            "0   4wd  131904  30.899550   30.899550\n",
            "1    NA  130567  30.586347   61.485898\n",
            "2   fwd  105517  24.718188   86.204085\n",
            "3   rwd   58892  13.795915  100.000000\n",
            " \n",
            "cars' drive ratio\n",
            "  drive    cnts     ratio  cum_ratio\n",
            "0   4wd  131904  44.51509   44.51509\n",
            "1   fwd  105517  35.60998   80.12507\n",
            "2   rwd   58892  19.87493  100.00000\n"
          ]
        },
        {
          "output_type": "display_data",
          "data": {
            "image/png": "[encoded data removed]",
            "text/plain": [
              "<Figure size 432x288 with 1 Axes>"
            ]
          },
          "metadata": {
            "needs_background": "light"
          }
        }
      ]
    },
    {
      "cell_type": "markdown",
      "source": [
        "결측값이 전체의 30%가 되기 때문에 other로 만들어줌"
      ],
      "metadata": {
        "id": "fs3k3JS6QlwH"
      }
    },
    {
      "cell_type": "code",
      "source": [
        "data['drive_gr'] = data['drive'].fillna('other')"
      ],
      "metadata": {
        "id": "kKumepdjQcEM"
      },
      "execution_count": 72,
      "outputs": []
    },
    {
      "cell_type": "code",
      "source": [
        "data['drive_gr'].fillna('NA').value_counts()"
      ],
      "metadata": {
        "colab": {
          "base_uri": "https://localhost:8080/"
        },
        "id": "H9vHqUnVSEzU",
        "outputId": "846e088d-7598-4443-9f65-33d81e18aba9"
      },
      "execution_count": 73,
      "outputs": [
        {
          "output_type": "execute_result",
          "data": {
            "text/plain": [
              "4wd      131904\n",
              "other    130567\n",
              "fwd      105517\n",
              "rwd       58892\n",
              "Name: drive_gr, dtype: int64"
            ]
          },
          "metadata": {},
          "execution_count": 73
        }
      ]
    },
    {
      "cell_type": "code",
      "source": [
        "\n",
        "cnt = data['size'].fillna('NA').value_counts()\n",
        "print(\"num of values :\", len(cnt))\n",
        "print(\"Value_Counts\")\n",
        "print(cnt)\n",
        "\n",
        "plt.grid()\n",
        "plt.title('size')\n",
        "plt.plot(range(len(cnt)), cnt)\n",
        "\n",
        "df_ratio_check_with_na = pd.DataFrame(cnt).reset_index().rename(columns = {'index' : 'size', 'size' :'cnts'})\n",
        "cnts_total = sum(df_ratio_check_with_na['cnts'])\n",
        "df_ratio_check_with_na['ratio'] = df_ratio_check_with_na['cnts']/cnts_total * 100\n",
        "\n",
        "cum_ratio = []\n",
        "a = 0\n",
        "\n",
        "for i in range(0, len(df_ratio_check_with_na)):\n",
        "  a += df_ratio_check_with_na['ratio'][i]\n",
        "  cum_ratio.append(a)\n",
        "\n",
        "df_ratio_check_with_na['cum_ratio'] = cum_ratio\n",
        "print(\" \")\n",
        "print(\"cars' size ratio with na\")\n",
        "print(df_ratio_check_with_na)\n",
        "\n",
        "df_ratio_check = pd.DataFrame(cnt.drop('NA')).reset_index().rename(columns = {'index' : 'size', 'size' :'cnts'})\n",
        "cnts_total = sum(df_ratio_check['cnts'])\n",
        "df_ratio_check['ratio'] = df_ratio_check['cnts']/cnts_total * 100\n",
        "\n",
        "cum_ratio = []\n",
        "a = 0\n",
        "\n",
        "for i in range(0, len(df_ratio_check)):\n",
        "  a += df_ratio_check['ratio'][i]\n",
        "  cum_ratio.append(a)\n",
        "\n",
        "df_ratio_check['cum_ratio'] = cum_ratio\n",
        "print(\" \")\n",
        "print(\"cars' size ratio\")\n",
        "print(df_ratio_check)"
      ],
      "metadata": {
        "colab": {
          "base_uri": "https://localhost:8080/",
          "height": 705
        },
        "id": "1t2mA6z6SJA1",
        "outputId": "f71edf5f-321b-4167-9927-92ba2f0dd556"
      },
      "execution_count": 74,
      "outputs": [
        {
          "output_type": "stream",
          "name": "stdout",
          "text": [
            "num of values : 5\n",
            "Value_Counts\n",
            "NA             306361\n",
            "full-size       63465\n",
            "mid-size        34476\n",
            "compact         19384\n",
            "sub-compact      3194\n",
            "Name: size, dtype: int64\n",
            " \n",
            "cars' size ratio with na\n",
            "          size    cnts      ratio   cum_ratio\n",
            "0           NA  306361  71.767476   71.767476\n",
            "1    full-size   63465  14.867176   86.634651\n",
            "2     mid-size   34476   8.076274   94.710926\n",
            "3      compact   19384   4.540855   99.251780\n",
            "4  sub-compact    3194   0.748220  100.000000\n",
            " \n",
            "cars' size ratio\n",
            "          size   cnts      ratio   cum_ratio\n",
            "0    full-size  63465  52.659747   52.659747\n",
            "1     mid-size  34476  28.606278   81.266024\n",
            "2      compact  19384  16.083771   97.349795\n",
            "3  sub-compact   3194   2.650205  100.000000\n"
          ]
        },
        {
          "output_type": "display_data",
          "data": {
            "image/png": "[encoded data removed]",
            "text/plain": [
              "<Figure size 432x288 with 1 Axes>"
            ]
          },
          "metadata": {
            "needs_background": "light"
          }
        }
      ]
    },
    {
      "cell_type": "markdown",
      "source": [
        "Null값이 전체의 70%나 차지하여 변수로 사용하지 않음"
      ],
      "metadata": {
        "id": "qOtVjFWOScEy"
      }
    },
    {
      "cell_type": "code",
      "source": [
        "\n",
        "cnt = data['type'].fillna('NA').value_counts()\n",
        "print(\"num of values :\", len(cnt))\n",
        "print(\"Value_Counts\")\n",
        "print(cnt)\n",
        "\n",
        "plt.grid()\n",
        "plt.title('type')\n",
        "plt.plot(range(len(cnt)), cnt)\n",
        "\n",
        "df_ratio_check_with_na = pd.DataFrame(cnt).reset_index().rename(columns = {'index' : 'type', 'type' :'cnts'})\n",
        "cnts_total = sum(df_ratio_check_with_na['cnts'])\n",
        "df_ratio_check_with_na['ratio'] = df_ratio_check_with_na['cnts']/cnts_total * 100\n",
        "\n",
        "cum_ratio = []\n",
        "a = 0\n",
        "\n",
        "for i in range(0, len(df_ratio_check_with_na)):\n",
        "  a += df_ratio_check_with_na['ratio'][i]\n",
        "  cum_ratio.append(a)\n",
        "\n",
        "df_ratio_check_with_na['cum_ratio'] = cum_ratio\n",
        "print(\" \")\n",
        "print(\"cars' type ratio with na\")\n",
        "print(df_ratio_check_with_na)\n",
        "\n",
        "df_ratio_check = pd.DataFrame(cnt.drop('NA')).reset_index().rename(columns = {'index' : 'type', 'type' :'cnts'})\n",
        "cnts_total = sum(df_ratio_check['cnts'])\n",
        "df_ratio_check['ratio'] = df_ratio_check['cnts']/cnts_total * 100\n",
        "\n",
        "cum_ratio = []\n",
        "a = 0\n",
        "\n",
        "for i in range(0, len(df_ratio_check)):\n",
        "  a += df_ratio_check['ratio'][i]\n",
        "  cum_ratio.append(a)\n",
        "\n",
        "df_ratio_check['cum_ratio'] = cum_ratio\n",
        "print(\" \")\n",
        "print(\"cars' type ratio\")\n",
        "print(df_ratio_check)"
      ],
      "metadata": {
        "colab": {
          "base_uri": "https://localhost:8080/",
          "height": 1000
        },
        "id": "jOv0l-WqSZF2",
        "outputId": "13b5acc7-7685-47f4-907c-081a78d79e87"
      },
      "execution_count": 75,
      "outputs": [
        {
          "output_type": "stream",
          "name": "stdout",
          "text": [
            "num of values : 14\n",
            "Value_Counts\n",
            "NA             92858\n",
            "sedan          87056\n",
            "SUV            77284\n",
            "pickup         43510\n",
            "truck          35279\n",
            "other          22110\n",
            "coupe          19204\n",
            "hatchback      16598\n",
            "wagon          10751\n",
            "van             8548\n",
            "convertible     7731\n",
            "mini-van        4825\n",
            "offroad          609\n",
            "bus              517\n",
            "Name: type, dtype: int64\n",
            " \n",
            "cars' type ratio with na\n",
            "           type   cnts      ratio   cum_ratio\n",
            "0            NA  92858  21.752717   21.752717\n",
            "1         sedan  87056  20.393553   42.146271\n",
            "2           SUV  77284  18.104385   60.250656\n",
            "3        pickup  43510  10.192560   70.443216\n",
            "4         truck  35279   8.264383   78.707599\n",
            "5         other  22110   5.179442   83.887041\n",
            "6         coupe  19204   4.498688   88.385729\n",
            "7     hatchback  16598   3.888212   92.273941\n",
            "8         wagon  10751   2.518506   94.792448\n",
            "9           van   8548   2.002436   96.794884\n",
            "10  convertible   7731   1.811048   98.605931\n",
            "11     mini-van   4825   1.130294   99.736226\n",
            "12      offroad    609   0.142663   99.878889\n",
            "13          bus    517   0.121111  100.000000\n",
            " \n",
            "cars' type ratio\n",
            "           type   cnts      ratio   cum_ratio\n",
            "0         sedan  87056  26.062954   26.062954\n",
            "1           SUV  77284  23.137398   49.200352\n",
            "2        pickup  43510  13.026088   62.226440\n",
            "3         truck  35279  10.561879   72.788319\n",
            "4         other  22110   6.619324   79.407644\n",
            "5         coupe  19204   5.749322   85.156966\n",
            "6     hatchback  16598   4.969134   90.126099\n",
            "7         wagon  10751   3.218650   93.344750\n",
            "8           van   8548   2.559113   95.903863\n",
            "9   convertible   7731   2.314518   98.218381\n",
            "10     mini-van   4825   1.444516   99.662896\n",
            "11      offroad    609   0.182323   99.845220\n",
            "12          bus    517   0.154780  100.000000\n"
          ]
        },
        {
          "output_type": "display_data",
          "data": {
            "image/png": "[encoded data removed]",
            "text/plain": [
              "<Figure size 432x288 with 1 Axes>"
            ]
          },
          "metadata": {
            "needs_background": "light"
          }
        }
      ]
    },
    {
      "cell_type": "markdown",
      "source": [
        "결측값 및 하위 2%는 other 값으로 통합"
      ],
      "metadata": {
        "id": "V5_iD-2FTBGm"
      }
    },
    {
      "cell_type": "code",
      "source": [
        "grouping =  cnt.index[:11]\n",
        "#grouping = ['automatic', 'manual']\n",
        "print(grouping)\n",
        "\n",
        "data['type_gr'] = data['type'].fillna('other').apply(lambda x: x if str(x) in grouping else 'other')\n",
        "print(data['type_gr'].nunique(), data['type'].fillna('NA').nunique())\n",
        "data['type_gr'].value_counts()"
      ],
      "metadata": {
        "colab": {
          "base_uri": "https://localhost:8080/"
        },
        "id": "13iU-alxTA-w",
        "outputId": "f25bb753-a437-493a-b8d4-524cb5739c1b"
      },
      "execution_count": 76,
      "outputs": [
        {
          "output_type": "stream",
          "name": "stdout",
          "text": [
            "Index(['NA', 'sedan', 'SUV', 'pickup', 'truck', 'other', 'coupe', 'hatchback',\n",
            "       'wagon', 'van', 'convertible'],\n",
            "      dtype='object')\n",
            "10 14\n"
          ]
        },
        {
          "output_type": "execute_result",
          "data": {
            "text/plain": [
              "other          120919\n",
              "sedan           87056\n",
              "SUV             77284\n",
              "pickup          43510\n",
              "truck           35279\n",
              "coupe           19204\n",
              "hatchback       16598\n",
              "wagon           10751\n",
              "van              8548\n",
              "convertible      7731\n",
              "Name: type_gr, dtype: int64"
            ]
          },
          "metadata": {},
          "execution_count": 76
        }
      ]
    },
    {
      "cell_type": "code",
      "source": [
        "\n",
        "cnt = data['paint_color'].fillna('NA').value_counts()\n",
        "print(\"num of values :\", len(cnt))\n",
        "print(\"Value_Counts\")\n",
        "print(cnt)\n",
        "\n",
        "plt.grid()\n",
        "plt.title('paint_color')\n",
        "plt.plot(range(len(cnt)), cnt)\n",
        "\n",
        "df_ratio_check_with_na = pd.DataFrame(cnt).reset_index().rename(columns = {'index' : 'paint_color', 'paint_color' :'cnts'})\n",
        "cnts_total = sum(df_ratio_check_with_na['cnts'])\n",
        "df_ratio_check_with_na['ratio'] = df_ratio_check_with_na['cnts']/cnts_total * 100\n",
        "\n",
        "cum_ratio = []\n",
        "a = 0\n",
        "\n",
        "for i in range(0, len(df_ratio_check_with_na)):\n",
        "  a += df_ratio_check_with_na['ratio'][i]\n",
        "  cum_ratio.append(a)\n",
        "\n",
        "df_ratio_check_with_na['cum_ratio'] = cum_ratio\n",
        "print(\" \")\n",
        "print(\"cars' paint_color ratio with na\")\n",
        "print(df_ratio_check_with_na)\n",
        "\n",
        "df_ratio_check = pd.DataFrame(cnt.drop('NA')).reset_index().rename(columns = {'index' : 'paint_color', 'paint_color' :'cnts'})\n",
        "cnts_total = sum(df_ratio_check['cnts'])\n",
        "df_ratio_check['ratio'] = df_ratio_check['cnts']/cnts_total * 100\n",
        "\n",
        "cum_ratio = []\n",
        "a = 0\n",
        "\n",
        "for i in range(0, len(df_ratio_check)):\n",
        "  a += df_ratio_check['ratio'][i]\n",
        "  cum_ratio.append(a)\n",
        "\n",
        "df_ratio_check['cum_ratio'] = cum_ratio\n",
        "print(\" \")\n",
        "print(\"cars' paint_color ratio\")\n",
        "print(df_ratio_check)"
      ],
      "metadata": {
        "colab": {
          "base_uri": "https://localhost:8080/",
          "height": 1000
        },
        "id": "jqCcOO5TT-JW",
        "outputId": "716e4138-ac05-49bc-c5d9-f608439b8dc2"
      },
      "execution_count": 77,
      "outputs": [
        {
          "output_type": "stream",
          "name": "stdout",
          "text": [
            "num of values : 13\n",
            "Value_Counts\n",
            "NA        130203\n",
            "white      79285\n",
            "black      62861\n",
            "silver     42970\n",
            "blue       31223\n",
            "red        30473\n",
            "grey       24416\n",
            "green       7343\n",
            "custom      6700\n",
            "brown       6593\n",
            "yellow      2142\n",
            "orange      1984\n",
            "purple       687\n",
            "Name: paint_color, dtype: int64\n",
            " \n",
            "cars' paint_color ratio with na\n",
            "   paint_color    cnts      ratio   cum_ratio\n",
            "0           NA  130203  30.501078   30.501078\n",
            "1        white   79285  18.573135   49.074213\n",
            "2        black   62861  14.725684   63.799897\n",
            "3       silver   42970  10.066061   73.865958\n",
            "4         blue   31223   7.314234   81.180191\n",
            "5          red   30473   7.138540   88.318731\n",
            "6         grey   24416   5.719640   94.038371\n",
            "7        green    7343   1.720156   95.758527\n",
            "8       custom    6700   1.569528   97.328055\n",
            "9        brown    6593   1.544462   98.872517\n",
            "10      yellow    2142   0.501780   99.374297\n",
            "11      orange    1984   0.464768   99.839065\n",
            "12      purple     687   0.160935  100.000000\n",
            " \n",
            "cars' paint_color ratio\n",
            "   paint_color   cnts      ratio   cum_ratio\n",
            "0        white  79285  26.724350   26.724350\n",
            "1        black  62861  21.188363   47.912713\n",
            "2       silver  42970  14.483765   62.396478\n",
            "3         blue  31223  10.524240   72.920718\n",
            "4          red  30473  10.271440   83.192158\n",
            "5         grey  24416   8.229826   91.421984\n",
            "6        green   7343   2.475082   93.897067\n",
            "7       custom   6700   2.258348   96.155415\n",
            "8        brown   6593   2.222282   98.377697\n",
            "9       yellow   2142   0.721997   99.099694\n",
            "10      orange   1984   0.668741   99.768435\n",
            "11      purple    687   0.231565  100.000000\n"
          ]
        },
        {
          "output_type": "display_data",
          "data": {
            "image/png": "[encoded data removed]",
            "text/plain": [
              "<Figure size 432x288 with 1 Axes>"
            ]
          },
          "metadata": {
            "needs_background": "light"
          }
        }
      ]
    },
    {
      "cell_type": "markdown",
      "source": [
        "결측값 제외 하위 1%는 결측값과 함께 other로 group"
      ],
      "metadata": {
        "id": "36cpoWwqUNJE"
      }
    },
    {
      "cell_type": "code",
      "source": [
        "grouping =  cnt.drop('NA').index[:9]\n",
        "#grouping = ['automatic', 'manual']\n",
        "print(grouping)\n",
        "\n",
        "data['paint_color_gr'] = data['paint_color'].fillna('other').apply(lambda x: x if str(x) in grouping else 'other')\n",
        "print(data['paint_color_gr'].nunique(), data['paint_color'].fillna('NA').nunique())\n",
        "data['paint_color_gr'].value_counts()"
      ],
      "metadata": {
        "colab": {
          "base_uri": "https://localhost:8080/"
        },
        "id": "KOFoywb4T9vD",
        "outputId": "4df1fd85-1c32-485b-f4ed-a980e2bfa32b"
      },
      "execution_count": 78,
      "outputs": [
        {
          "output_type": "stream",
          "name": "stdout",
          "text": [
            "Index(['white', 'black', 'silver', 'blue', 'red', 'grey', 'green', 'custom',\n",
            "       'brown'],\n",
            "      dtype='object')\n",
            "10 13\n"
          ]
        },
        {
          "output_type": "execute_result",
          "data": {
            "text/plain": [
              "other     135016\n",
              "white      79285\n",
              "black      62861\n",
              "silver     42970\n",
              "blue       31223\n",
              "red        30473\n",
              "grey       24416\n",
              "green       7343\n",
              "custom      6700\n",
              "brown       6593\n",
              "Name: paint_color_gr, dtype: int64"
            ]
          },
          "metadata": {},
          "execution_count": 78
        }
      ]
    },
    {
      "cell_type": "markdown",
      "source": [
        "### 8. 수치형 데이터 클리닝"
      ],
      "metadata": {
        "id": "IdPGCVm5YrKm"
      }
    },
    {
      "cell_type": "code",
      "source": [
        ""
      ],
      "metadata": {
        "id": "I0J3M77xVeVU"
      },
      "execution_count": 78,
      "outputs": []
    }
  ]
}